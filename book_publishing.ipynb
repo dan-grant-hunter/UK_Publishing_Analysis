{
 "cells": [
  {
   "cell_type": "markdown",
   "metadata": {},
   "source": [
    "<a id=\"top\"></a>\n",
    "# UK Book Publishing Analysis\n",
    "---"
   ]
  },
  {
   "cell_type": "markdown",
   "metadata": {},
   "source": [
    "Working in publishing is a tough profession and many people who want to work in the industry do not know what salary they can expect when starting out. In this analysis, we will analyse the self-reported salaries of people who work at different levels within the publishing industry in the UK. We will explore patterns in the data and also try to develop a model that we can use to predict salary based on a selected set of features."
   ]
  },
  {
   "cell_type": "markdown",
   "metadata": {},
   "source": [
    "## Contents\n",
    "---\n",
    "\n",
    "**1.  [Summary of Findings](#summary_of_findings)** <br>\n",
    "**2.  [Statistical Summary](#statistical_summary)** <br>\n",
    "**3.  [About the Data](#about_the_data)** <br>\n",
    "**4.  [Imports & Data Reading](#imports_and_data_reading)** <br>\n",
    "**5.  [Data Checking](#data_checking)** <br>\n",
    "**6.  [Data Cleaning](#data_cleaning)** <br>\n",
    "**7.  [EDA](#eda)** <br>\n",
    "**8.  [Model Building](#model_building)** <br>\n",
    "**9.  [Conclusion](#conclusion)** <br>\n",
    "**10.  [Future Recommendations](#future_recommendations)** <br>"
   ]
  },
  {
   "cell_type": "markdown",
   "metadata": {},
   "source": [
    "<a id=\"summary_of_findings\"></a>\n",
    "## 1. Summary of Findings\n",
    "---"
   ]
  },
  {
   "cell_type": "markdown",
   "metadata": {},
   "source": [
    "Some of the main findings from the analysis were:\n",
    "\n",
    "* On average, the majority of individuals who work in publishing in the UK appear to be straight, white women who occupy full-time positions.\n",
    "\n",
    "\n",
    "* Those who had not disclosed their race and ethnicity appeared to have earned the highest salary and worked the longest in publishing.\n",
    "\n",
    "\n",
    "* Salary appears to gradually increase as years in publishing increases. However, at around the 13 year mark, salaries vary quite strongly with some individuals receiving a substantially higher salary while the salary of others seems to decrease."
   ]
  },
  {
   "cell_type": "markdown",
   "metadata": {},
   "source": [
    "<a id=\"statistical_summary\"></a>\n",
    "## 2. Statistical Summary\n",
    "---"
   ]
  },
  {
   "cell_type": "markdown",
   "metadata": {},
   "source": [
    "| <br><br>Models | <br><br>Best R² | <br>Best<br>RMSE | Average RMSE<br>After 5-Fold<br>Cross-Validation |\n",
    "| :- | :-: | :-: | :-: |\n",
    "| Simple Linear Regression | 38.3% | 6462 | - |\n",
    "| Multiple Linear Regression | 39.2% | 6165 | 5901 |\n"
   ]
  },
  {
   "cell_type": "markdown",
   "metadata": {},
   "source": [
    "<a id=\"about_the_data\"></a>\n",
    "## 3. About the Data\n",
    "---"
   ]
  },
  {
   "cell_type": "markdown",
   "metadata": {},
   "source": [
    "In 2017, a campaign was started in order to increase transparency in the UK publishing industry. A survey was conducted of 48 editorial job roles advertised on the Bookseller’s Jobs in Books platform. Just two of the 48 editorial job ads indicated salary or salary bands. In one email listing sent to job-seekers in the Spring of 2020 across all departments and levels, not a single job advert showed salary transparency.\n",
    "\n",
    "Transparency, especially at entry level, is a crucial part of the wedge, the bigger end result being a more diverse and exciting range of applicants able to weigh up their options about work in the book trade sector, and better able to consider where they might best fit and work well.\n",
    "\n",
    "To read more about the campaign, visit: https://www.bookjobtransparency.co.uk/\n",
    "\n",
    "The data consists of the self-reported salaries of individuals who work in the UK publishing industry. It also includes information about each of the individuals such as race/ethnicity, gender and years that they have been in publishing.\n",
    "\n",
    "**Source Data:** https://sourceful.co.uk/doc/350/book-publishing-salary-transparency-uk"
   ]
  },
  {
   "cell_type": "markdown",
   "metadata": {},
   "source": [
    "<a id=\"imports_and_data_reading\"></a>\n",
    "## 4. Imports & Data Reading\n",
    "---"
   ]
  },
  {
   "cell_type": "code",
   "execution_count": 1,
   "metadata": {},
   "outputs": [],
   "source": [
    "# Imports\n",
    "import re\n",
    "import pandas as pd\n",
    "import numpy as np\n",
    "import seaborn as sns\n",
    "import matplotlib.pyplot as plt\n",
    "%matplotlib inline"
   ]
  },
  {
   "cell_type": "code",
   "execution_count": 2,
   "metadata": {},
   "outputs": [],
   "source": [
    "# Read data\n",
    "ukpub = pd.read_csv(\"data/Book Publishing Salary Transparency (UK) - Form responses 1.csv\")"
   ]
  },
  {
   "cell_type": "markdown",
   "metadata": {},
   "source": [
    "<a id=\"data_checking\"></a>\n",
    "## 5. Data Checking\n",
    "---"
   ]
  },
  {
   "cell_type": "code",
   "execution_count": 3,
   "metadata": {},
   "outputs": [
    {
     "data": {
      "text/html": [
       "<div>\n",
       "<style scoped>\n",
       "    .dataframe tbody tr th:only-of-type {\n",
       "        vertical-align: middle;\n",
       "    }\n",
       "\n",
       "    .dataframe tbody tr th {\n",
       "        vertical-align: top;\n",
       "    }\n",
       "\n",
       "    .dataframe thead th {\n",
       "        text-align: right;\n",
       "    }\n",
       "</style>\n",
       "<table border=\"1\" class=\"dataframe\">\n",
       "  <thead>\n",
       "    <tr style=\"text-align: right;\">\n",
       "      <th></th>\n",
       "      <th>Timestamp</th>\n",
       "      <th>Job Title</th>\n",
       "      <th>Employer</th>\n",
       "      <th>Location</th>\n",
       "      <th>Salary</th>\n",
       "      <th>Employment Status</th>\n",
       "      <th>Race / Ethnicity</th>\n",
       "      <th>Gender Identity</th>\n",
       "      <th>Sexual Orientation</th>\n",
       "      <th>Years in Pubishing</th>\n",
       "      <th>Years of Overall Experience</th>\n",
       "      <th>Additional Compensation</th>\n",
       "      <th>Additional Information</th>\n",
       "      <th>Unnamed: 13</th>\n",
       "      <th>Unnamed: 14</th>\n",
       "    </tr>\n",
       "  </thead>\n",
       "  <tbody>\n",
       "    <tr>\n",
       "      <th>0</th>\n",
       "      <td>17/06/2020 10:42:08</td>\n",
       "      <td>Marketing manager</td>\n",
       "      <td>Penguin Random House</td>\n",
       "      <td>London</td>\n",
       "      <td>£36k</td>\n",
       "      <td>Full-time</td>\n",
       "      <td>White</td>\n",
       "      <td>Woman (cisgender)</td>\n",
       "      <td>Straight</td>\n",
       "      <td>3</td>\n",
       "      <td>9</td>\n",
       "      <td>Annual bonus</td>\n",
       "      <td>NaN</td>\n",
       "      <td>NaN</td>\n",
       "      <td>NaN</td>\n",
       "    </tr>\n",
       "    <tr>\n",
       "      <th>1</th>\n",
       "      <td>17/06/2020 10:45:51</td>\n",
       "      <td>Early careere coordinator</td>\n",
       "      <td>Penguin random house</td>\n",
       "      <td>London</td>\n",
       "      <td>23,000 per annum</td>\n",
       "      <td>Full-time</td>\n",
       "      <td>Black african</td>\n",
       "      <td>Woman (cisgender)</td>\n",
       "      <td>Bisexual</td>\n",
       "      <td>2</td>\n",
       "      <td>2</td>\n",
       "      <td>Can't remember</td>\n",
       "      <td>NaN</td>\n",
       "      <td>NaN</td>\n",
       "      <td>NaN</td>\n",
       "    </tr>\n",
       "    <tr>\n",
       "      <th>2</th>\n",
       "      <td>17/06/2020 10:51:09</td>\n",
       "      <td>Audience and Digital Development Assistant</td>\n",
       "      <td>Penguin random house</td>\n",
       "      <td>London</td>\n",
       "      <td>£23,000</td>\n",
       "      <td>Full-time</td>\n",
       "      <td>British Indian</td>\n",
       "      <td>Woman (cisgender)</td>\n",
       "      <td>Straight</td>\n",
       "      <td>1</td>\n",
       "      <td>4</td>\n",
       "      <td>1% increase after 7 months in line with the re...</td>\n",
       "      <td>I worked in publishing 2016-17. After leaving ...</td>\n",
       "      <td>NaN</td>\n",
       "      <td>NaN</td>\n",
       "    </tr>\n",
       "    <tr>\n",
       "      <th>3</th>\n",
       "      <td>17/06/2020 10:58:25</td>\n",
       "      <td>Publicity Officer</td>\n",
       "      <td>Penguin Random House</td>\n",
       "      <td>80 Strand</td>\n",
       "      <td>£28,000</td>\n",
       "      <td>Full-time</td>\n",
       "      <td>White British</td>\n",
       "      <td>Woman (cisgender)</td>\n",
       "      <td>Pansexual</td>\n",
       "      <td>3</td>\n",
       "      <td>6</td>\n",
       "      <td>Annual bonus of approx £500, all expenses paid...</td>\n",
       "      <td>This role was my first and only role in publis...</td>\n",
       "      <td>NaN</td>\n",
       "      <td>NaN</td>\n",
       "    </tr>\n",
       "    <tr>\n",
       "      <th>4</th>\n",
       "      <td>17/06/2020 11:03:40</td>\n",
       "      <td>Creative art worker</td>\n",
       "      <td>Pan Macmillan Publishing</td>\n",
       "      <td>London</td>\n",
       "      <td>£115 per day</td>\n",
       "      <td>Contract</td>\n",
       "      <td>British Indian</td>\n",
       "      <td>Woman (cisgender)</td>\n",
       "      <td>Straight</td>\n",
       "      <td>7</td>\n",
       "      <td>10</td>\n",
       "      <td>0</td>\n",
       "      <td>I was pregnant</td>\n",
       "      <td>NaN</td>\n",
       "      <td>NaN</td>\n",
       "    </tr>\n",
       "  </tbody>\n",
       "</table>\n",
       "</div>"
      ],
      "text/plain": [
       "             Timestamp                                    Job Title  \\\n",
       "0  17/06/2020 10:42:08                            Marketing manager   \n",
       "1  17/06/2020 10:45:51                   Early careere coordinator    \n",
       "2  17/06/2020 10:51:09  Audience and Digital Development Assistant    \n",
       "3  17/06/2020 10:58:25                            Publicity Officer   \n",
       "4  17/06/2020 11:03:40                          Creative art worker   \n",
       "\n",
       "                    Employer   Location            Salary Employment Status  \\\n",
       "0       Penguin Random House     London              £36k         Full-time   \n",
       "1       Penguin random house     London  23,000 per annum         Full-time   \n",
       "2      Penguin random house      London           £23,000         Full-time   \n",
       "3       Penguin Random House  80 Strand           £28,000         Full-time   \n",
       "4  Pan Macmillan Publishing     London      £115 per day           Contract   \n",
       "\n",
       "  Race / Ethnicity    Gender Identity Sexual Orientation Years in Pubishing  \\\n",
       "0            White  Woman (cisgender)           Straight                  3   \n",
       "1   Black african   Woman (cisgender)           Bisexual                  2   \n",
       "2   British Indian  Woman (cisgender)           Straight                  1   \n",
       "3    White British  Woman (cisgender)          Pansexual                  3   \n",
       "4  British Indian   Woman (cisgender)           Straight                  7   \n",
       "\n",
       "  Years of Overall Experience  \\\n",
       "0                           9   \n",
       "1                           2   \n",
       "2                           4   \n",
       "3                           6   \n",
       "4                          10   \n",
       "\n",
       "                             Additional Compensation  \\\n",
       "0                                       Annual bonus   \n",
       "1                                     Can't remember   \n",
       "2  1% increase after 7 months in line with the re...   \n",
       "3  Annual bonus of approx £500, all expenses paid...   \n",
       "4                                                  0   \n",
       "\n",
       "                              Additional Information Unnamed: 13 Unnamed: 14  \n",
       "0                                                NaN         NaN         NaN  \n",
       "1                                                NaN         NaN         NaN  \n",
       "2  I worked in publishing 2016-17. After leaving ...         NaN         NaN  \n",
       "3  This role was my first and only role in publis...         NaN         NaN  \n",
       "4                                    I was pregnant          NaN         NaN  "
      ]
     },
     "execution_count": 3,
     "metadata": {},
     "output_type": "execute_result"
    }
   ],
   "source": [
    "ukpub.head()"
   ]
  },
  {
   "cell_type": "code",
   "execution_count": 4,
   "metadata": {},
   "outputs": [
    {
     "name": "stdout",
     "output_type": "stream",
     "text": [
      "<class 'pandas.core.frame.DataFrame'>\n",
      "RangeIndex: 1021 entries, 0 to 1020\n",
      "Data columns (total 15 columns):\n",
      " #   Column                       Non-Null Count  Dtype \n",
      "---  ------                       --------------  ----- \n",
      " 0   Timestamp                    1018 non-null   object\n",
      " 1   Job Title                    1020 non-null   object\n",
      " 2   Employer                     1021 non-null   object\n",
      " 3   Location                     975 non-null    object\n",
      " 4   Salary                       1021 non-null   object\n",
      " 5   Employment Status            1021 non-null   object\n",
      " 6   Race / Ethnicity             1011 non-null   object\n",
      " 7   Gender Identity              1020 non-null   object\n",
      " 8   Sexual Orientation           1008 non-null   object\n",
      " 9   Years in Pubishing           1008 non-null   object\n",
      " 10  Years of Overall Experience  986 non-null    object\n",
      " 11  Additional Compensation      900 non-null    object\n",
      " 12  Additional Information       420 non-null    object\n",
      " 13  Unnamed: 13                  7 non-null      object\n",
      " 14  Unnamed: 14                  1 non-null      object\n",
      "dtypes: object(15)\n",
      "memory usage: 119.8+ KB\n"
     ]
    }
   ],
   "source": [
    "ukpub.info()"
   ]
  },
  {
   "cell_type": "markdown",
   "metadata": {},
   "source": [
    "We can see here that the type of all columns is object, including our dependent variable (Salary). We will deal with those during data cleaning."
   ]
  },
  {
   "cell_type": "code",
   "execution_count": 5,
   "metadata": {
    "scrolled": true
   },
   "outputs": [
    {
     "data": {
      "text/plain": [
       "(1021, 15)"
      ]
     },
     "execution_count": 5,
     "metadata": {},
     "output_type": "execute_result"
    }
   ],
   "source": [
    "ukpub.shape"
   ]
  },
  {
   "cell_type": "code",
   "execution_count": 6,
   "metadata": {},
   "outputs": [
    {
     "data": {
      "text/plain": [
       "Index(['Timestamp', 'Job Title', 'Employer', 'Location', 'Salary',\n",
       "       'Employment Status', 'Race / Ethnicity', 'Gender Identity',\n",
       "       'Sexual Orientation', 'Years in Pubishing',\n",
       "       'Years of Overall Experience', 'Additional Compensation',\n",
       "       'Additional Information', 'Unnamed: 13', 'Unnamed: 14'],\n",
       "      dtype='object')"
      ]
     },
     "execution_count": 6,
     "metadata": {},
     "output_type": "execute_result"
    }
   ],
   "source": [
    "ukpub.columns"
   ]
  },
  {
   "cell_type": "markdown",
   "metadata": {},
   "source": [
    "<a id=\"data_cleaning\"></a>\n",
    "## 6. Data Cleaning\n",
    "---"
   ]
  },
  {
   "cell_type": "code",
   "execution_count": 7,
   "metadata": {},
   "outputs": [],
   "source": [
    "# Fix misspelling in column name\n",
    "ukpub.rename(columns={'Years in Pubishing':'Years in Publishing'}, inplace=True)"
   ]
  },
  {
   "cell_type": "code",
   "execution_count": 8,
   "metadata": {},
   "outputs": [],
   "source": [
    "# Extract columns that we will be working with\n",
    "cols = ['Job Title', 'Salary', 'Employment Status','Race / Ethnicity', 'Gender Identity',\n",
    "       'Sexual Orientation', 'Years in Publishing']\n",
    "ukpub = ukpub.loc[:, cols]"
   ]
  },
  {
   "cell_type": "code",
   "execution_count": 9,
   "metadata": {
    "scrolled": true
   },
   "outputs": [
    {
     "data": {
      "text/plain": [
       "Job Title               1\n",
       "Salary                  0\n",
       "Employment Status       0\n",
       "Race / Ethnicity       10\n",
       "Gender Identity         1\n",
       "Sexual Orientation     13\n",
       "Years in Publishing    13\n",
       "dtype: int64"
      ]
     },
     "execution_count": 9,
     "metadata": {},
     "output_type": "execute_result"
    }
   ],
   "source": [
    "# Check missing values\n",
    "ukpub.isnull().sum()"
   ]
  },
  {
   "cell_type": "code",
   "execution_count": 10,
   "metadata": {},
   "outputs": [
    {
     "data": {
      "text/plain": [
       "Job Title              0.10\n",
       "Salary                 0.00\n",
       "Employment Status      0.00\n",
       "Race / Ethnicity       0.98\n",
       "Gender Identity        0.10\n",
       "Sexual Orientation     1.27\n",
       "Years in Publishing    1.27\n",
       "dtype: float64"
      ]
     },
     "execution_count": 10,
     "metadata": {},
     "output_type": "execute_result"
    }
   ],
   "source": [
    "# Missing values as a percentage of total data\n",
    "round(ukpub.isnull().sum()/ukpub.shape[0]*100,2)"
   ]
  },
  {
   "cell_type": "code",
   "execution_count": 11,
   "metadata": {
    "scrolled": false
   },
   "outputs": [
    {
     "data": {
      "image/png": "[encoded data removed]",
      "text/plain": [
       "<Figure size 720x288 with 1 Axes>"
      ]
     },
     "metadata": {
      "needs_background": "light"
     },
     "output_type": "display_data"
    }
   ],
   "source": [
    "# Visualise missing data\n",
    "fig, ax = plt.subplots(figsize=(10,4))\n",
    "ax = sns.heatmap(ukpub.isnull(),yticklabels=False,cbar=False,cmap='plasma')"
   ]
  },
  {
   "cell_type": "markdown",
   "metadata": {},
   "source": [
    "That's good. It looks like we do not have much missing data in our dataset."
   ]
  },
  {
   "cell_type": "markdown",
   "metadata": {},
   "source": [
    "#### Years in Publishing"
   ]
  },
  {
   "cell_type": "code",
   "execution_count": 12,
   "metadata": {},
   "outputs": [
    {
     "data": {
      "text/plain": [
       "3              150\n",
       "4              141\n",
       "5              126\n",
       "2              118\n",
       "7               75\n",
       "6               67\n",
       "1               61\n",
       "Less than 1     53\n",
       "8               52\n",
       "10              34\n",
       "9               25\n",
       "12              22\n",
       "11              20\n",
       "15              13\n",
       "NaN             13\n",
       "14              12\n",
       "13              10\n",
       "20               8\n",
       "16               5\n",
       "18               4\n",
       "19               3\n",
       "21               2\n",
       "24               2\n",
       "25               1\n",
       "27               1\n",
       "Queer            1\n",
       "17               1\n",
       "26               1\n",
       "Name: Years in Publishing, dtype: int64"
      ]
     },
     "execution_count": 12,
     "metadata": {},
     "output_type": "execute_result"
    }
   ],
   "source": [
    "# Check value counts for years in publishing\n",
    "ukpub['Years in Publishing'].value_counts(dropna=False)"
   ]
  },
  {
   "cell_type": "code",
   "execution_count": 13,
   "metadata": {},
   "outputs": [],
   "source": [
    "# Replace all instances of 'Less than 1' to 0 in 'Years in Publishing' column\n",
    "ukpub.loc[ukpub['Years in Publishing'] == 'Less than 1', 'Years in Publishing'] = 0\n",
    "\n",
    "# Convert 'Years in Publishing' to numeric data type\n",
    "ukpub['Years in Publishing'] = pd.to_numeric(ukpub['Years in Publishing'], errors='coerce')"
   ]
  },
  {
   "cell_type": "code",
   "execution_count": 14,
   "metadata": {},
   "outputs": [
    {
     "data": {
      "image/png": "[encoded data removed]",
      "text/plain": [
       "<Figure size 432x288 with 1 Axes>"
      ]
     },
     "metadata": {
      "needs_background": "light"
     },
     "output_type": "display_data"
    }
   ],
   "source": [
    "# Visualise the distribution of years in publishing\n",
    "ukpub['Years in Publishing'].hist();"
   ]
  },
  {
   "cell_type": "markdown",
   "metadata": {},
   "source": [
    "Here we can see that the values for years in publishing follow a somewhat normal distribution although it appears to be heavily right-skewed."
   ]
  },
  {
   "cell_type": "code",
   "execution_count": 15,
   "metadata": {},
   "outputs": [
    {
     "data": {
      "image/png": "[encoded data removed]",
      "text/plain": [
       "<Figure size 432x288 with 1 Axes>"
      ]
     },
     "metadata": {
      "needs_background": "light"
     },
     "output_type": "display_data"
    }
   ],
   "source": [
    "# Boxplot for years in publishing\n",
    "ukpub.boxplot(column=['Years in Publishing'], vert=False);"
   ]
  },
  {
   "cell_type": "markdown",
   "metadata": {},
   "source": [
    "We can see that we have some outliers towards the top end of the scale. This is not surprising given that the data  for years in publishing is positively skewed, however, we may have to remove some of these outliers before training our model."
   ]
  },
  {
   "cell_type": "code",
   "execution_count": 16,
   "metadata": {},
   "outputs": [
    {
     "data": {
      "text/html": [
       "<div>\n",
       "<style scoped>\n",
       "    .dataframe tbody tr th:only-of-type {\n",
       "        vertical-align: middle;\n",
       "    }\n",
       "\n",
       "    .dataframe tbody tr th {\n",
       "        vertical-align: top;\n",
       "    }\n",
       "\n",
       "    .dataframe thead th {\n",
       "        text-align: right;\n",
       "    }\n",
       "</style>\n",
       "<table border=\"1\" class=\"dataframe\">\n",
       "  <thead>\n",
       "    <tr style=\"text-align: right;\">\n",
       "      <th></th>\n",
       "      <th>Years in Publishing</th>\n",
       "    </tr>\n",
       "  </thead>\n",
       "  <tbody>\n",
       "    <tr>\n",
       "      <th>count</th>\n",
       "      <td>1007.000000</td>\n",
       "    </tr>\n",
       "    <tr>\n",
       "      <th>mean</th>\n",
       "      <td>5.342602</td>\n",
       "    </tr>\n",
       "    <tr>\n",
       "      <th>std</th>\n",
       "      <td>4.129225</td>\n",
       "    </tr>\n",
       "    <tr>\n",
       "      <th>min</th>\n",
       "      <td>0.000000</td>\n",
       "    </tr>\n",
       "    <tr>\n",
       "      <th>25%</th>\n",
       "      <td>3.000000</td>\n",
       "    </tr>\n",
       "    <tr>\n",
       "      <th>50%</th>\n",
       "      <td>4.000000</td>\n",
       "    </tr>\n",
       "    <tr>\n",
       "      <th>75%</th>\n",
       "      <td>7.000000</td>\n",
       "    </tr>\n",
       "    <tr>\n",
       "      <th>max</th>\n",
       "      <td>27.000000</td>\n",
       "    </tr>\n",
       "  </tbody>\n",
       "</table>\n",
       "</div>"
      ],
      "text/plain": [
       "       Years in Publishing\n",
       "count          1007.000000\n",
       "mean              5.342602\n",
       "std               4.129225\n",
       "min               0.000000\n",
       "25%               3.000000\n",
       "50%               4.000000\n",
       "75%               7.000000\n",
       "max              27.000000"
      ]
     },
     "execution_count": 16,
     "metadata": {},
     "output_type": "execute_result"
    }
   ],
   "source": [
    "# Descriptive statistics for years in publishing\n",
    "ukpub[['Years in Publishing']].describe()"
   ]
  },
  {
   "cell_type": "code",
   "execution_count": 17,
   "metadata": {},
   "outputs": [],
   "source": [
    "# Due to the number of outliers we will fill the null values with median instad of mean\n",
    "ukpub['Years in Publishing'].fillna(ukpub['Years in Publishing'].median(), inplace=True)"
   ]
  },
  {
   "cell_type": "markdown",
   "metadata": {},
   "source": [
    "#### Gender Identity"
   ]
  },
  {
   "cell_type": "code",
   "execution_count": 18,
   "metadata": {},
   "outputs": [
    {
     "data": {
      "text/plain": [
       "Woman (cisgender)                                                           884\n",
       "Man (cisgender)                                                             110\n",
       "Prefer not to say                                                            14\n",
       "Non-binary                                                                    7\n",
       "Woman (non-binary)                                                            2\n",
       "https://unitetheunion.org/why-join/membership-types/unite-young-members/      1\n",
       "Prefer to self-describe                                                       1\n",
       "White (Scandinavian immigrant)                                                1\n",
       "Name: Gender Identity, dtype: int64"
      ]
     },
     "execution_count": 18,
     "metadata": {},
     "output_type": "execute_result"
    }
   ],
   "source": [
    "# Check value counts for gender identity\n",
    "ukpub['Gender Identity'].value_counts()"
   ]
  },
  {
   "cell_type": "markdown",
   "metadata": {},
   "source": [
    "Here we have a few strange values that we will need to deal with. From the 'Woman (non-binary)' down, it is unclear what these individuals' gender identity is so we will have to filter them out."
   ]
  },
  {
   "cell_type": "code",
   "execution_count": 19,
   "metadata": {},
   "outputs": [],
   "source": [
    "# Filter out those groups which have an unknown gender identity\n",
    "ukpub = ukpub.groupby('Gender Identity').filter(lambda x: len(x) > 5)\n",
    "\n",
    "# Remove '(cisgender)' from 'Woman' and 'Man' to make values easier to read\n",
    "ukpub.loc[ukpub['Gender Identity'] == 'Woman (cisgender)', 'Gender Identity'] = 'Woman'\n",
    "ukpub.loc[ukpub['Gender Identity'] == 'Man (cisgender)', 'Gender Identity'] = 'Man'"
   ]
  },
  {
   "cell_type": "markdown",
   "metadata": {},
   "source": [
    "#### Sexual Orientation"
   ]
  },
  {
   "cell_type": "code",
   "execution_count": 20,
   "metadata": {},
   "outputs": [
    {
     "data": {
      "text/plain": [
       "Straight                                          733\n",
       "Bisexual                                          109\n",
       "Prefer not to say                                  53\n",
       "Queer                                              32\n",
       "Gay                                                22\n",
       "Questioning                                        16\n",
       "Lesbian                                            14\n",
       "Pansexual                                          12\n",
       "NaN                                                12\n",
       "Asexual                                             9\n",
       "Demisexual                                          1\n",
       "Asexual/Queer                                       1\n",
       "no labels (not straight but sexuality is fake)      1\n",
       "Name: Sexual Orientation, dtype: int64"
      ]
     },
     "execution_count": 20,
     "metadata": {},
     "output_type": "execute_result"
    }
   ],
   "source": [
    "# Check values for sexual orientation\n",
    "ukpub['Sexual Orientation'].value_counts(dropna=False)"
   ]
  },
  {
   "cell_type": "code",
   "execution_count": 21,
   "metadata": {},
   "outputs": [],
   "source": [
    "# Because straight is by far the most common value, we will fill all null values with straight\n",
    "ukpub['Sexual Orientation'].fillna(ukpub['Sexual Orientation'].mode()[0], inplace=True)\n",
    "\n",
    "# Group all non-straight into a single category to simplify\n",
    "ukpub.loc[ukpub['Sexual Orientation'] != 'Straight', 'Sexual Orientation'] = 'LGBTQ'"
   ]
  },
  {
   "cell_type": "markdown",
   "metadata": {},
   "source": [
    "#### Race/Ethnicity"
   ]
  },
  {
   "cell_type": "code",
   "execution_count": 22,
   "metadata": {
    "scrolled": false
   },
   "outputs": [
    {
     "data": {
      "text/plain": [
       "array(['White', 'Black african ', 'British Indian', 'White British',\n",
       "       'British Indian ', 'White British ', 'White Australian',\n",
       "       'Black Caribbean ', 'Pakistani', 'Caucasian ', 'Black British ',\n",
       "       'Black', 'White/Irish', 'Caucasian', 'White ', 'Asian',\n",
       "       'Caucasian / Greek', 'Chinese', 'White, British',\n",
       "       'White (Not British)', 'White/irish', 'White/British',\n",
       "       'British Asian', 'Mixed (White British and British Indian)',\n",
       "       'Mixed', 'Black/African-British', 'White (other)',\n",
       "       'Mixed race - White and East Asian', 'white', 'White European',\n",
       "       'South Asian ', 'White/European', 'South Asian', 'white british',\n",
       "       'Mixed white and asian', 'White british', 'Black British',\n",
       "       'Mixed - White/Asian', 'South-Asian', 'white (other)',\n",
       "       'Mixed (White and Asian)', 'Mixed Afro/Indo Caribbean and White',\n",
       "       'White/Irish ', 'British Asian ', 'South Asian origin',\n",
       "       'British Asian - Indian ', 'Black African ',\n",
       "       'British Asian - Indian', 'White/Britsh',\n",
       "       'Mixed - white and brown', 'White, American', 'White, non-British',\n",
       "       'White (British)', 'Not white', 'Caucasian (Latinx)',\n",
       "       'White/Asian', 'Mixed white/south Asian ', 'White - Irish', nan,\n",
       "       'Mixed Race', 'White (not British)', 'British Asian (South Asian)',\n",
       "       'White, Not British', 'White (European)', 'Mixed - Indian/White',\n",
       "       'White Brit', 'Mixed (British and Asian) ', 'White Other',\n",
       "       'White European (mixed British/French) ',\n",
       "       'Mixed Black Caribbean / White', 'Mixed - Asian and White',\n",
       "       'White European ', 'white ', 'British Bangladeshi ', 'Asian ',\n",
       "       'White Irish', 'Black African', 'White non British',\n",
       "       'white dual nationality', 'Mixed race', 'White/Other', 'BAME',\n",
       "       'White and Black Caribbean', 'White european', 'Mixed/British',\n",
       "       'British-Bangladeshi', 'British (white)', 'Indian ',\n",
       "       'White/British ', 'British Chinese', 'Chinese/White',\n",
       "       'White European (Latvian)', 'Mixed - Black and White',\n",
       "       'White European (non-British)', 'Indian',\n",
       "       'Mixed (White & Black Caribbean)', 'Continental European',\n",
       "       'white European', 'Mixed (SE Asian/white)',\n",
       "       'Bi-racial Asian and white', 'SEA & White', 'Black Caribbean',\n",
       "       'White - British', 'White, not British  ', 'White American ',\n",
       "       'White other', 'White non-British', 'Mixed - White and Asian',\n",
       "       'white British', 'White Birtish', 'White – English/American',\n",
       "       'Mixed - White & Black Caribbean', 'White /Irish', 'White Irish ',\n",
       "       'Mixed white & asian', 'White / British', 'British Insian',\n",
       "       'Mixed - white and Romany ', 'White / Irish ', 'White/ Irish',\n",
       "       'White, other', 'White (Non-British)', 'British',\n",
       "       'White, not British', 'caucasian ', 'White/ British', 'Other',\n",
       "       'British, white', 'white (non-british)', 'white, british',\n",
       "       'Mixed: White/Asian',\n",
       "       'White (not British, from an Western European EU country)',\n",
       "       'White + Christian', 'White / European', 'Mixed white/Asian',\n",
       "       'White britsh', 'White and Asian ', 'Mixed, non-white',\n",
       "       'White (North American)', 'White british ', 'British Pakistani',\n",
       "       'White/Scottish', 'White (Jewish)', 'Pakistani ',\n",
       "       'White / Anglo-Irish', 'mixed - non-white', 'White/Caucasian ',\n",
       "       'White Caucasian', 'Whote', 'White / British ', 'British/Irish',\n",
       "       'Mixed - White and Black Caribbean', '0', 'English',\n",
       "       'black caribbean', 'white/british',\n",
       "       'Mixed race (Black Caribbean/White)', 'Mixed Jewish Heritage',\n",
       "       'South East Asian', 'White, European', 'White Other ',\n",
       "       'White / Other'], dtype=object)"
      ]
     },
     "execution_count": 22,
     "metadata": {},
     "output_type": "execute_result"
    }
   ],
   "source": [
    "# Check unique values for race and ethnicity\n",
    "ukpub['Race / Ethnicity'].unique()"
   ]
  },
  {
   "cell_type": "markdown",
   "metadata": {},
   "source": [
    "It seems like we have a lot of variation in the Race/Ethnicity column. We will have to reduce down the number of values by accurately grouping people into larger categories."
   ]
  },
  {
   "cell_type": "code",
   "execution_count": 23,
   "metadata": {},
   "outputs": [
    {
     "data": {
      "text/plain": [
       "White British     347\n",
       "White             273\n",
       "White              37\n",
       "White British      30\n",
       "White European     17\n",
       "Name: Race / Ethnicity, dtype: int64"
      ]
     },
     "execution_count": 23,
     "metadata": {},
     "output_type": "execute_result"
    }
   ],
   "source": [
    "# Look at most common entries for race/ethnicity\n",
    "ukpub['Race / Ethnicity'].value_counts().head()"
   ]
  },
  {
   "cell_type": "code",
   "execution_count": 24,
   "metadata": {},
   "outputs": [],
   "source": [
    "# With White British being the most common value here, we will fill all null values with White British\n",
    "ukpub['Race / Ethnicity'].fillna(ukpub['Race / Ethnicity'].mode()[0], inplace=True)\n",
    "\n",
    "# Correct specific values before applying function\n",
    "ukpub.loc[ukpub['Race / Ethnicity'] == 'Not white', 'Race / Ethnicity'] = 'Other'\n",
    "ukpub.loc[ukpub['Race / Ethnicity'] == 'Whote', 'Race / Ethnicity'] = 'White'\n",
    "ukpub.loc[ukpub['Race / Ethnicity'] == 'British Insian', 'Race / Ethnicity'] = 'British Indian'"
   ]
  },
  {
   "cell_type": "code",
   "execution_count": 25,
   "metadata": {},
   "outputs": [],
   "source": [
    "# Function for simplifying race/ethnicity\n",
    "def simplify_race(x):\n",
    "    if 'mixed' in x.lower():\n",
    "        return 'Mixed'\n",
    "    elif 'black' in x.lower() or 'bame' in x.lower():\n",
    "        return 'Black'\n",
    "    elif 'asian' in x.lower() or 'chinese' in x.lower() or 'indian' in x.lower() or \\\n",
    "                                 'pakistani' in x.lower() or 'bangladeshi' in x.lower():\n",
    "        return 'Asian'\n",
    "    elif 'white' in x.lower() or 'caucasian' in x.lower():\n",
    "        return 'White'\n",
    "    else:\n",
    "        return 'Unknown'\n",
    "    \n",
    "# Apply function to race/ethnicity column\n",
    "ukpub['Race / Ethnicity'] = ukpub['Race / Ethnicity'].apply(simplify_race)"
   ]
  },
  {
   "cell_type": "code",
   "execution_count": 26,
   "metadata": {
    "scrolled": true
   },
   "outputs": [
    {
     "data": {
      "text/plain": [
       "5"
      ]
     },
     "execution_count": 26,
     "metadata": {},
     "output_type": "execute_result"
    }
   ],
   "source": [
    "# Check number of unique values for race/ethnicity\n",
    "ukpub['Race / Ethnicity'].nunique()"
   ]
  },
  {
   "cell_type": "markdown",
   "metadata": {},
   "source": [
    "#### Employment Status"
   ]
  },
  {
   "cell_type": "code",
   "execution_count": 27,
   "metadata": {
    "scrolled": false
   },
   "outputs": [
    {
     "data": {
      "text/plain": [
       "array(['Full-time', 'Contract', 'Part-time', 'Parental leave cover',\n",
       "       'Part-Time (32 hours per week)',\n",
       "       'full-time but no contract, paid hourly',\n",
       "       \"I have just left this job but feel it's important for it to be logged\",\n",
       "       'Left position in 2019 due to low salary',\n",
       "       \"Full Time but wasn't permanent - they made anyone who wasn't permanent take unpaid six week breaks before you reached two years and then would hire you again \",\n",
       "       'Rolling temp contract', 'intern', 'Freelance'], dtype=object)"
      ]
     },
     "execution_count": 27,
     "metadata": {},
     "output_type": "execute_result"
    }
   ],
   "source": [
    "# Check unique values for employment status\n",
    "ukpub['Employment Status'].unique()"
   ]
  },
  {
   "cell_type": "markdown",
   "metadata": {},
   "source": [
    "For employment status, we can group indivduals into either part-time, full-time, contract or other."
   ]
  },
  {
   "cell_type": "code",
   "execution_count": 28,
   "metadata": {},
   "outputs": [],
   "source": [
    "# Function for simplifying employment status\n",
    "def simplify_employment_status(x):\n",
    "    if 'part-time' in x.lower():\n",
    "        return 'Part-time'\n",
    "    elif 'full-time' in x.lower():\n",
    "        return 'Full-time'\n",
    "    elif 'contract' in x.lower():\n",
    "        return 'Contract'\n",
    "    else:\n",
    "        return 'Other'\n",
    "    \n",
    "# Apply function to employment status column\n",
    "ukpub['Employment Status'] = ukpub['Employment Status'].apply(simplify_employment_status)"
   ]
  },
  {
   "cell_type": "markdown",
   "metadata": {},
   "source": [
    "#### Salary"
   ]
  },
  {
   "cell_type": "code",
   "execution_count": 29,
   "metadata": {
    "scrolled": false
   },
   "outputs": [
    {
     "data": {
      "text/html": [
       "<div>\n",
       "<style scoped>\n",
       "    .dataframe tbody tr th:only-of-type {\n",
       "        vertical-align: middle;\n",
       "    }\n",
       "\n",
       "    .dataframe tbody tr th {\n",
       "        vertical-align: top;\n",
       "    }\n",
       "\n",
       "    .dataframe thead th {\n",
       "        text-align: right;\n",
       "    }\n",
       "</style>\n",
       "<table border=\"1\" class=\"dataframe\">\n",
       "  <thead>\n",
       "    <tr style=\"text-align: right;\">\n",
       "      <th></th>\n",
       "      <th>Salary</th>\n",
       "    </tr>\n",
       "  </thead>\n",
       "  <tbody>\n",
       "    <tr>\n",
       "      <th>0</th>\n",
       "      <td>£36k</td>\n",
       "    </tr>\n",
       "    <tr>\n",
       "      <th>1</th>\n",
       "      <td>23,000 per annum</td>\n",
       "    </tr>\n",
       "    <tr>\n",
       "      <th>2</th>\n",
       "      <td>£23,000</td>\n",
       "    </tr>\n",
       "    <tr>\n",
       "      <th>3</th>\n",
       "      <td>£28,000</td>\n",
       "    </tr>\n",
       "    <tr>\n",
       "      <th>4</th>\n",
       "      <td>£115 per day</td>\n",
       "    </tr>\n",
       "    <tr>\n",
       "      <th>5</th>\n",
       "      <td>£21k starting, £27k 5 years later</td>\n",
       "    </tr>\n",
       "    <tr>\n",
       "      <th>6</th>\n",
       "      <td>31000</td>\n",
       "    </tr>\n",
       "    <tr>\n",
       "      <th>7</th>\n",
       "      <td>£25,000 entering in Sept 2016, £29,248.44 exit...</td>\n",
       "    </tr>\n",
       "    <tr>\n",
       "      <th>8</th>\n",
       "      <td>25.5k</td>\n",
       "    </tr>\n",
       "    <tr>\n",
       "      <th>9</th>\n",
       "      <td>£26,600</td>\n",
       "    </tr>\n",
       "  </tbody>\n",
       "</table>\n",
       "</div>"
      ],
      "text/plain": [
       "                                              Salary\n",
       "0                                               £36k\n",
       "1                                   23,000 per annum\n",
       "2                                            £23,000\n",
       "3                                            £28,000\n",
       "4                                      £115 per day \n",
       "5                 £21k starting, £27k 5 years later \n",
       "6                                              31000\n",
       "7  £25,000 entering in Sept 2016, £29,248.44 exit...\n",
       "8                                              25.5k\n",
       "9                                            £26,600"
      ]
     },
     "execution_count": 29,
     "metadata": {},
     "output_type": "execute_result"
    }
   ],
   "source": [
    "ukpub[['Salary']].head(10)"
   ]
  },
  {
   "cell_type": "markdown",
   "metadata": {},
   "source": [
    "For salary, we can see that there is a lot of variation in the types of entries that people have made. Some salary entries contain quite a bit of textual information whereas other entries are given in many different formats. We will have to standardise all of these values if we want to do any further analysis with them. Specifically, we want to extract just the numerical yearly salary for each individual. This will be important when training our model."
   ]
  },
  {
   "cell_type": "markdown",
   "metadata": {},
   "source": [
    "Due to the large number of variation in how people have stated their salaries, I have decided to use regular expressions to attempt to parse out as much of the relevant numerical salary data as possible."
   ]
  },
  {
   "cell_type": "code",
   "execution_count": 30,
   "metadata": {},
   "outputs": [],
   "source": [
    "# Use a variety of regular expressions to extract correct salary values\n",
    "def extract_salary(x):\n",
    "    if re.search(r\"^£\\d+,[0-9]{3}.{0,21}$\", x):\n",
    "        return x.replace(',', '')[1:6]\n",
    "    elif re.search(r\"^£?\\d\\d[kK]\\s?$\", x): \n",
    "        return x[-3:-1] + \"000\"\n",
    "    elif re.search(r\"^\\d+[,.\\s]\\s?0\", x):\n",
    "        return x[:2] + \"000\"\n",
    "    elif re.search(r\"^\\d+[,.\\s]\\s?0{3}\", x):\n",
    "        return x[0:2] + \"000\"\n",
    "    elif re.search(\"^£?\\d{5}0?\", x):\n",
    "        x = x.strip('£')\n",
    "        if '.' in x:\n",
    "            return x[:5]\n",
    "        else:\n",
    "            return x.split(' ')[0]\n",
    "    elif re.search(r\"[kK]$\", x):\n",
    "        if '.' in x:\n",
    "            return x.split('.')[0][-2:] + x.split('.')[1][0] + \"00\"\n",
    "        elif '-' in x:\n",
    "            return x.split('-')[1][:2] + \"000\"\n",
    "        else:\n",
    "            return x[-3:-1] + \"000\"\n",
    "    else:\n",
    "        return x"
   ]
  },
  {
   "cell_type": "code",
   "execution_count": 31,
   "metadata": {},
   "outputs": [],
   "source": [
    "# Map function to each salary element\n",
    "ukpub['Salary'] = ukpub['Salary'].map(extract_salary)"
   ]
  },
  {
   "cell_type": "code",
   "execution_count": 32,
   "metadata": {},
   "outputs": [
    {
     "data": {
      "text/html": [
       "<div>\n",
       "<style scoped>\n",
       "    .dataframe tbody tr th:only-of-type {\n",
       "        vertical-align: middle;\n",
       "    }\n",
       "\n",
       "    .dataframe tbody tr th {\n",
       "        vertical-align: top;\n",
       "    }\n",
       "\n",
       "    .dataframe thead th {\n",
       "        text-align: right;\n",
       "    }\n",
       "</style>\n",
       "<table border=\"1\" class=\"dataframe\">\n",
       "  <thead>\n",
       "    <tr style=\"text-align: right;\">\n",
       "      <th></th>\n",
       "      <th>Salary</th>\n",
       "    </tr>\n",
       "  </thead>\n",
       "  <tbody>\n",
       "    <tr>\n",
       "      <th>0</th>\n",
       "      <td>36000</td>\n",
       "    </tr>\n",
       "    <tr>\n",
       "      <th>1</th>\n",
       "      <td>23000</td>\n",
       "    </tr>\n",
       "    <tr>\n",
       "      <th>2</th>\n",
       "      <td>23000</td>\n",
       "    </tr>\n",
       "    <tr>\n",
       "      <th>3</th>\n",
       "      <td>28000</td>\n",
       "    </tr>\n",
       "    <tr>\n",
       "      <th>4</th>\n",
       "      <td>£115 per day</td>\n",
       "    </tr>\n",
       "    <tr>\n",
       "      <th>5</th>\n",
       "      <td>£21k starting, £27k 5 years later</td>\n",
       "    </tr>\n",
       "    <tr>\n",
       "      <th>6</th>\n",
       "      <td>31000</td>\n",
       "    </tr>\n",
       "    <tr>\n",
       "      <th>7</th>\n",
       "      <td>£25,000 entering in Sept 2016, £29,248.44 exit...</td>\n",
       "    </tr>\n",
       "    <tr>\n",
       "      <th>8</th>\n",
       "      <td>25500</td>\n",
       "    </tr>\n",
       "    <tr>\n",
       "      <th>9</th>\n",
       "      <td>26600</td>\n",
       "    </tr>\n",
       "  </tbody>\n",
       "</table>\n",
       "</div>"
      ],
      "text/plain": [
       "                                              Salary\n",
       "0                                              36000\n",
       "1                                              23000\n",
       "2                                              23000\n",
       "3                                              28000\n",
       "4                                      £115 per day \n",
       "5                 £21k starting, £27k 5 years later \n",
       "6                                              31000\n",
       "7  £25,000 entering in Sept 2016, £29,248.44 exit...\n",
       "8                                              25500\n",
       "9                                              26600"
      ]
     },
     "execution_count": 32,
     "metadata": {},
     "output_type": "execute_result"
    }
   ],
   "source": [
    "# Check some of the salary values\n",
    "ukpub[['Salary']].head(10)"
   ]
  },
  {
   "cell_type": "markdown",
   "metadata": {},
   "source": [
    "It looks like we were able to extract many of the salary values using the regular expressions, but we can still see that there are some salaries that were not successfully extracted. As this is a small dataset, we can manually amend all of the remaining salary values."
   ]
  },
  {
   "cell_type": "code",
   "execution_count": 33,
   "metadata": {},
   "outputs": [],
   "source": [
    "# Correct salary values for those whose salaries were not extracted by the regular expressions\n",
    "\n",
    "# £115 per day ---> (52(week)*5(work days) - 20(days holiday))*115(day rate)\n",
    "ukpub.loc[ukpub['Salary'] == '£115 per day ', 'Salary'] = '27600'\n",
    "\n",
    "# # £21k starting, £27k 5 years later \n",
    "ukpub.loc[ukpub['Salary'] == '£21k starting, £27k 5 years later ', 'Salary'] = '27000'\n",
    "\n",
    "# £25,000 entering in Sept 2016, £29,248.44 exiting in Sept 2019\n",
    "ukpub.loc[ukpub['Salary'] == '£25,000 entering in Sept 2016, £29,248.44 exiting in Sept 2019', 'Salary'] = '29248'\n",
    "\n",
    "# £30,000 (as of 2020; started role in 2016)\n",
    "ukpub.loc[ukpub['Salary'] == '£30,000 (as of 2020; started role in 2016)', 'Salary'] = '30000'\n",
    "\n",
    "# 20k starting\n",
    "ukpub.loc[ukpub['Salary'] == '20k starting', 'Salary'] = '20000'\n",
    "\n",
    "# 34\n",
    "ukpub.loc[ukpub['Salary'] == '34', 'Salary'] = '34000'\n",
    "\n",
    "# 28.50£\n",
    "ukpub.loc[ukpub['Salary'] == '28.50£', 'Salary'] = '28500'\n",
    "\n",
    "# £25, 000\n",
    "ukpub.loc[ukpub['Salary'] == '£25, 000', 'Salary'] = '25000'\n",
    "\n",
    "# approx £11-13,000 p.a.\n",
    "ukpub.loc[ukpub['Salary'] == 'approx £11-13,000 p.a.', 'Salary'] = '13000'\n",
    "\n",
    "# £38.5k (increase to £40k delayed by covid)\n",
    "ukpub.loc[ukpub['Salary'] == '£38.5k (increase to £40k delayed by covid)', 'Salary'] = '40000'\n",
    "\n",
    "# 21.5\n",
    "ukpub.loc[ukpub['Salary'] == '21.5', 'Salary'] = '21500'\n",
    "\n",
    "# £24K annually \n",
    "ukpub.loc[ukpub['Salary'] == '£24K annually ', 'Salary'] = '24000'\n",
    "\n",
    "# £18,000 (£19k after 6-month probation)\n",
    "ukpub.loc[ukpub['Salary'] == '£18,000 (£19k after 6-month probation)', 'Salary'] = '19000'\n",
    "\n",
    "# £23k to start rising to £23,500\n",
    "ukpub.loc[ukpub['Salary'] == '£23k to start rising to £23,500', 'Salary'] = '23500'\n",
    "\n",
    "# £26 266\n",
    "ukpub.loc[ukpub['Salary'] == '£26 266', 'Salary'] = '26266'\n",
    "\n",
    "# 28\n",
    "ukpub.loc[ukpub['Salary'] == '28', 'Salary'] = '28000'\n",
    "\n",
    "# £15.5k (2015), £16.9k (2016), £18.9k (2017)\n",
    "ukpub.loc[ukpub['Salary'] == '£15.5k (2015), £16.9k (2016), £18.9k (2017)', 'Salary'] = '18900'\n",
    "\n",
    "# £22,000 start, £24,000 2 years on\n",
    "ukpub.loc[ukpub['Salary'] == '£22,000 start, £24,000 2 years on', 'Salary'] = '24000'\n",
    "\n",
    "# 31'800\n",
    "ukpub.loc[ukpub['Salary'] == \"31'800\", 'Salary'] = '31800'\n",
    "\n",
    "# £38\n",
    "ukpub.loc[ukpub['Salary'] == '£38', 'Salary'] = '38000'\n",
    "\n",
    "# £28k pro rata\n",
    "ukpub.loc[ukpub['Salary'] == '£28k pro rata', 'Salary'] = '28000'\n",
    "\n",
    "# 34,850 (full time)\n",
    "ukpub.loc[ukpub['Salary'] == '34,850 (full time)', 'Salary'] = '34850'\n",
    "\n",
    "# 5k000\n",
    "ukpub.loc[ukpub['Salary'] == '5k000', 'Salary'] = '50000'\n",
    "\n",
    "# Started at £21500 but increased to £22500 after a year\n",
    "ukpub.loc[ukpub['Salary'] == 'Started at £21500 but increased to £22500 after a year', 'Salary'] = '22500'"
   ]
  },
  {
   "cell_type": "code",
   "execution_count": 34,
   "metadata": {},
   "outputs": [],
   "source": [
    "# Drop rows where people do not make a salary\n",
    "\n",
    "# List of entries that indicate no salary\n",
    "no_salary = ['Unpaid with £100/week stipend', '0']\n",
    "\n",
    "# Find indexes of people with no salary\n",
    "ppl_no_salary = ukpub[ukpub['Salary'].isin(no_salary)].index\n",
    "\n",
    "# Remove people with no salary \n",
    "ukpub = ukpub[~ukpub.index.isin(ppl_no_salary)]\n",
    "\n",
    "# With the salaries now standardised, we can convert them to numeric data type\n",
    "ukpub['Salary'] = ukpub['Salary'].astype('int64')"
   ]
  },
  {
   "cell_type": "code",
   "execution_count": 35,
   "metadata": {},
   "outputs": [
    {
     "data": {
      "text/html": [
       "<div>\n",
       "<style scoped>\n",
       "    .dataframe tbody tr th:only-of-type {\n",
       "        vertical-align: middle;\n",
       "    }\n",
       "\n",
       "    .dataframe tbody tr th {\n",
       "        vertical-align: top;\n",
       "    }\n",
       "\n",
       "    .dataframe thead th {\n",
       "        text-align: right;\n",
       "    }\n",
       "</style>\n",
       "<table border=\"1\" class=\"dataframe\">\n",
       "  <thead>\n",
       "    <tr style=\"text-align: right;\">\n",
       "      <th></th>\n",
       "      <th>Job Title</th>\n",
       "      <th>Salary</th>\n",
       "      <th>Employment Status</th>\n",
       "      <th>Race / Ethnicity</th>\n",
       "      <th>Gender Identity</th>\n",
       "      <th>Sexual Orientation</th>\n",
       "      <th>Years in Publishing</th>\n",
       "    </tr>\n",
       "  </thead>\n",
       "  <tbody>\n",
       "    <tr>\n",
       "      <th>0</th>\n",
       "      <td>Marketing manager</td>\n",
       "      <td>36000</td>\n",
       "      <td>Full-time</td>\n",
       "      <td>White</td>\n",
       "      <td>Woman</td>\n",
       "      <td>Straight</td>\n",
       "      <td>3.0</td>\n",
       "    </tr>\n",
       "    <tr>\n",
       "      <th>1</th>\n",
       "      <td>Early careere coordinator</td>\n",
       "      <td>23000</td>\n",
       "      <td>Full-time</td>\n",
       "      <td>Black</td>\n",
       "      <td>Woman</td>\n",
       "      <td>LGBTQ</td>\n",
       "      <td>2.0</td>\n",
       "    </tr>\n",
       "    <tr>\n",
       "      <th>2</th>\n",
       "      <td>Audience and Digital Development Assistant</td>\n",
       "      <td>23000</td>\n",
       "      <td>Full-time</td>\n",
       "      <td>Asian</td>\n",
       "      <td>Woman</td>\n",
       "      <td>Straight</td>\n",
       "      <td>1.0</td>\n",
       "    </tr>\n",
       "    <tr>\n",
       "      <th>3</th>\n",
       "      <td>Publicity Officer</td>\n",
       "      <td>28000</td>\n",
       "      <td>Full-time</td>\n",
       "      <td>White</td>\n",
       "      <td>Woman</td>\n",
       "      <td>LGBTQ</td>\n",
       "      <td>3.0</td>\n",
       "    </tr>\n",
       "    <tr>\n",
       "      <th>4</th>\n",
       "      <td>Creative art worker</td>\n",
       "      <td>27600</td>\n",
       "      <td>Contract</td>\n",
       "      <td>Asian</td>\n",
       "      <td>Woman</td>\n",
       "      <td>Straight</td>\n",
       "      <td>7.0</td>\n",
       "    </tr>\n",
       "    <tr>\n",
       "      <th>5</th>\n",
       "      <td>Executive (marketing and operations)</td>\n",
       "      <td>27000</td>\n",
       "      <td>Full-time</td>\n",
       "      <td>White</td>\n",
       "      <td>Woman</td>\n",
       "      <td>Straight</td>\n",
       "      <td>6.0</td>\n",
       "    </tr>\n",
       "    <tr>\n",
       "      <th>6</th>\n",
       "      <td>Project &amp; Brand Exec</td>\n",
       "      <td>31000</td>\n",
       "      <td>Full-time</td>\n",
       "      <td>White</td>\n",
       "      <td>Woman</td>\n",
       "      <td>Straight</td>\n",
       "      <td>3.0</td>\n",
       "    </tr>\n",
       "    <tr>\n",
       "      <th>7</th>\n",
       "      <td>Coordinator (Creative Responsibility)</td>\n",
       "      <td>29248</td>\n",
       "      <td>Full-time</td>\n",
       "      <td>White</td>\n",
       "      <td>Woman</td>\n",
       "      <td>Straight</td>\n",
       "      <td>3.0</td>\n",
       "    </tr>\n",
       "    <tr>\n",
       "      <th>8</th>\n",
       "      <td>Corporate responsibility assistant</td>\n",
       "      <td>25500</td>\n",
       "      <td>Full-time</td>\n",
       "      <td>Black</td>\n",
       "      <td>Woman</td>\n",
       "      <td>Straight</td>\n",
       "      <td>1.0</td>\n",
       "    </tr>\n",
       "    <tr>\n",
       "      <th>9</th>\n",
       "      <td>Press Officer</td>\n",
       "      <td>26600</td>\n",
       "      <td>Full-time</td>\n",
       "      <td>White</td>\n",
       "      <td>Woman</td>\n",
       "      <td>LGBTQ</td>\n",
       "      <td>4.0</td>\n",
       "    </tr>\n",
       "  </tbody>\n",
       "</table>\n",
       "</div>"
      ],
      "text/plain": [
       "                                     Job Title  Salary Employment Status  \\\n",
       "0                            Marketing manager   36000         Full-time   \n",
       "1                   Early careere coordinator    23000         Full-time   \n",
       "2  Audience and Digital Development Assistant    23000         Full-time   \n",
       "3                            Publicity Officer   28000         Full-time   \n",
       "4                          Creative art worker   27600          Contract   \n",
       "5         Executive (marketing and operations)   27000         Full-time   \n",
       "6                         Project & Brand Exec   31000         Full-time   \n",
       "7        Coordinator (Creative Responsibility)   29248         Full-time   \n",
       "8          Corporate responsibility assistant    25500         Full-time   \n",
       "9                                Press Officer   26600         Full-time   \n",
       "\n",
       "  Race / Ethnicity Gender Identity Sexual Orientation  Years in Publishing  \n",
       "0            White           Woman           Straight                  3.0  \n",
       "1            Black           Woman              LGBTQ                  2.0  \n",
       "2            Asian           Woman           Straight                  1.0  \n",
       "3            White           Woman              LGBTQ                  3.0  \n",
       "4            Asian           Woman           Straight                  7.0  \n",
       "5            White           Woman           Straight                  6.0  \n",
       "6            White           Woman           Straight                  3.0  \n",
       "7            White           Woman           Straight                  3.0  \n",
       "8            Black           Woman           Straight                  1.0  \n",
       "9            White           Woman              LGBTQ                  4.0  "
      ]
     },
     "execution_count": 35,
     "metadata": {},
     "output_type": "execute_result"
    }
   ],
   "source": [
    "# Check to see what our data now looks like after cleaning\n",
    "ukpub.head(10)"
   ]
  },
  {
   "cell_type": "markdown",
   "metadata": {},
   "source": [
    "Our data looks much cleaner. We can now proceed with the EDA."
   ]
  },
  {
   "cell_type": "markdown",
   "metadata": {},
   "source": [
    "**[Back to Top](#top)** <br>"
   ]
  },
  {
   "cell_type": "markdown",
   "metadata": {},
   "source": [
    "<a id=\"eda\"></a>\n",
    "### 7. EDA\n",
    "---"
   ]
  },
  {
   "cell_type": "code",
   "execution_count": 36,
   "metadata": {},
   "outputs": [
    {
     "data": {
      "image/png": "[encoded data removed]",
      "text/plain": [
       "<Figure size 432x288 with 1 Axes>"
      ]
     },
     "metadata": {
      "needs_background": "light"
     },
     "output_type": "display_data"
    }
   ],
   "source": [
    "# Checking the relationship between salary and years in publishing\n",
    "ukpub.plot(kind='scatter', x='Years in Publishing', y='Salary');"
   ]
  },
  {
   "cell_type": "markdown",
   "metadata": {},
   "source": [
    "We can see here that there does appear to be a relationship between years in publishing and salary however the variability in salary seems to increase as years in publishing increases. This could mean that the data is heteroscedastic and we may have to take this into account when evaluating our model. \n",
    "\n",
    "We can also see an outlier with a salary of £120,000 for 20 years in publishing. While this may be a plausible salary value, we will omit this individual when we remove outliers as it may skew the results of our analysis and predicitons."
   ]
  },
  {
   "cell_type": "code",
   "execution_count": 37,
   "metadata": {},
   "outputs": [
    {
     "data": {
      "image/png": "[encoded data removed]",
      "text/plain": [
       "<Figure size 720x432 with 1 Axes>"
      ]
     },
     "metadata": {
      "needs_background": "light"
     },
     "output_type": "display_data"
    }
   ],
   "source": [
    "# Visualise the distribution of salary\n",
    "plt.figure(figsize=(10, 6))\n",
    "sns.histplot(ukpub['Salary'], kde=True);"
   ]
  },
  {
   "cell_type": "markdown",
   "metadata": {},
   "source": [
    "It appears that salary is somewhat normally distributed but also has positive skew, albeit not as much as years in publishing."
   ]
  },
  {
   "cell_type": "code",
   "execution_count": 38,
   "metadata": {
    "scrolled": true
   },
   "outputs": [
    {
     "data": {
      "image/png": "[encoded data removed]",
      "text/plain": [
       "<Figure size 432x288 with 1 Axes>"
      ]
     },
     "metadata": {
      "needs_background": "light"
     },
     "output_type": "display_data"
    }
   ],
   "source": [
    "# Boxplot for salary\n",
    "ukpub.boxplot(column = ['Salary'], vert=False);"
   ]
  },
  {
   "cell_type": "markdown",
   "metadata": {},
   "source": [
    "Here we can see the outliers for our dependent variable (Salary). "
   ]
  },
  {
   "cell_type": "markdown",
   "metadata": {},
   "source": [
    "We will remove the top and bottom .05% from salary and years in publishing so that the data better reflects the overall distribution."
   ]
  },
  {
   "cell_type": "code",
   "execution_count": 39,
   "metadata": {},
   "outputs": [],
   "source": [
    "# Removing top .05% and bottom .05% of Salary values\n",
    "ukpub = ukpub[(ukpub['Salary'] < ukpub['Salary'].quantile(.995)) & \n",
    "                         (ukpub['Salary'] > ukpub['Salary'].quantile(.005))]\n",
    "\n",
    "# Removing top .05% and bottom .05% of Years in Publishing values\n",
    "ukpub = ukpub[(ukpub['Years in Publishing'] < ukpub['Years in Publishing'].quantile(.995)) & \n",
    "                         (ukpub['Years in Publishing'] > ukpub['Years in Publishing'].quantile(.005))]"
   ]
  },
  {
   "cell_type": "code",
   "execution_count": 40,
   "metadata": {},
   "outputs": [
    {
     "data": {
      "image/png": "[encoded data removed]",
      "text/plain": [
       "<Figure size 576x504 with 2 Axes>"
      ]
     },
     "metadata": {
      "needs_background": "light"
     },
     "output_type": "display_data"
    }
   ],
   "source": [
    "# Boxplots for salary and years in publishing with outliers removed\n",
    "fig, axes = plt.subplots(2,1, figsize=(8,7))\n",
    "ukpub.boxplot(column = ['Salary'], vert=False, ax=axes[0]);\n",
    "ukpub.boxplot(column = ['Years in Publishing'], vert=False, ax=axes[1]);"
   ]
  },
  {
   "cell_type": "markdown",
   "metadata": {},
   "source": [
    "This looks a little better. We still have outliers but because we have eliminated some of the higher values, the data now appears to be slightly better distributed. This will help when fitting a model to our data."
   ]
  },
  {
   "cell_type": "code",
   "execution_count": 41,
   "metadata": {},
   "outputs": [
    {
     "data": {
      "text/html": [
       "<div>\n",
       "<style scoped>\n",
       "    .dataframe tbody tr th:only-of-type {\n",
       "        vertical-align: middle;\n",
       "    }\n",
       "\n",
       "    .dataframe tbody tr th {\n",
       "        vertical-align: top;\n",
       "    }\n",
       "\n",
       "    .dataframe thead th {\n",
       "        text-align: right;\n",
       "    }\n",
       "</style>\n",
       "<table border=\"1\" class=\"dataframe\">\n",
       "  <thead>\n",
       "    <tr style=\"text-align: right;\">\n",
       "      <th></th>\n",
       "      <th>Salary</th>\n",
       "      <th>Years in Publishing</th>\n",
       "    </tr>\n",
       "  </thead>\n",
       "  <tbody>\n",
       "    <tr>\n",
       "      <th>Salary</th>\n",
       "      <td>1.000000</td>\n",
       "      <td>0.593085</td>\n",
       "    </tr>\n",
       "    <tr>\n",
       "      <th>Years in Publishing</th>\n",
       "      <td>0.593085</td>\n",
       "      <td>1.000000</td>\n",
       "    </tr>\n",
       "  </tbody>\n",
       "</table>\n",
       "</div>"
      ],
      "text/plain": [
       "                       Salary  Years in Publishing\n",
       "Salary               1.000000             0.593085\n",
       "Years in Publishing  0.593085             1.000000"
      ]
     },
     "execution_count": 41,
     "metadata": {},
     "output_type": "execute_result"
    }
   ],
   "source": [
    "# Correlation between salary and years in publishing\n",
    "ukpub.corr()"
   ]
  },
  {
   "cell_type": "code",
   "execution_count": 42,
   "metadata": {},
   "outputs": [
    {
     "data": {
      "image/png": "[encoded data removed]",
      "text/plain": [
       "<Figure size 432x288 with 1 Axes>"
      ]
     },
     "metadata": {
      "needs_background": "light"
     },
     "output_type": "display_data"
    }
   ],
   "source": [
    "# Regplot showing the relationship between years in publishing and salary (outliers removed)\n",
    "sns.regplot(x='Years in Publishing', y='Salary', data=ukpub);"
   ]
  },
  {
   "cell_type": "markdown",
   "metadata": {},
   "source": [
    "With the outliers removed, we can see that although there does appear to be a positive relationship, there are a lot of data points that are not captured accurately by the regression line. This could mean that a linear model may not be the best model to explain the relationship between years in publishing and salary."
   ]
  },
  {
   "cell_type": "code",
   "execution_count": 43,
   "metadata": {
    "scrolled": false
   },
   "outputs": [
    {
     "name": "stdout",
     "output_type": "stream",
     "text": [
      "Chart for Employment Status | Total = 4\n"
     ]
    },
    {
     "data": {
      "image/png": "[encoded data removed]",
      "text/plain": [
       "<Figure size 504x288 with 1 Axes>"
      ]
     },
     "metadata": {
      "needs_background": "light"
     },
     "output_type": "display_data"
    },
    {
     "name": "stdout",
     "output_type": "stream",
     "text": [
      "Chart for Race / Ethnicity | Total = 5\n"
     ]
    },
    {
     "data": {
      "image/png": "[encoded data removed]",
      "text/plain": [
       "<Figure size 504x288 with 1 Axes>"
      ]
     },
     "metadata": {
      "needs_background": "light"
     },
     "output_type": "display_data"
    },
    {
     "name": "stdout",
     "output_type": "stream",
     "text": [
      "Chart for Gender Identity | Total = 4\n"
     ]
    },
    {
     "data": {
      "image/png": "[encoded data removed]",
      "text/plain": [
       "<Figure size 504x288 with 1 Axes>"
      ]
     },
     "metadata": {
      "needs_background": "light"
     },
     "output_type": "display_data"
    },
    {
     "name": "stdout",
     "output_type": "stream",
     "text": [
      "Chart for Sexual Orientation | Total = 2\n"
     ]
    },
    {
     "data": {
      "image/png": "[encoded data removed]",
      "text/plain": [
       "<Figure size 504x288 with 1 Axes>"
      ]
     },
     "metadata": {
      "needs_background": "light"
     },
     "output_type": "display_data"
    },
    {
     "name": "stdout",
     "output_type": "stream",
     "text": [
      "Chart for Years in Publishing | Total = 19\n"
     ]
    },
    {
     "data": {
      "image/png": "[encoded data removed]",
      "text/plain": [
       "<Figure size 504x288 with 1 Axes>"
      ]
     },
     "metadata": {
      "needs_background": "light"
     },
     "output_type": "display_data"
    }
   ],
   "source": [
    "# Barplots for each of the features\n",
    "for feature in ukpub.columns[2:7]:\n",
    "    feature_num = ukpub[feature].value_counts()\n",
    "    print(f\"Chart for {feature} | Total = {len(feature_num)}\")\n",
    "    plt.figure(figsize=(7,4))\n",
    "    chart = sns.barplot(x=feature_num.index, y=feature_num, zorder=2)\n",
    "    chart.set_xticklabels(chart.get_xticklabels())\n",
    "    plt.grid()\n",
    "    plt.show()"
   ]
  },
  {
   "cell_type": "markdown",
   "metadata": {},
   "source": [
    "From these graphs, we can see that the majority of our dataset consists of straight, white women who work full-time. We can also see that the majority of individuals in our data have spent around 2-5 years in publishing."
   ]
  },
  {
   "cell_type": "code",
   "execution_count": 44,
   "metadata": {},
   "outputs": [
    {
     "data": {
      "text/html": [
       "<div>\n",
       "<style scoped>\n",
       "    .dataframe tbody tr th:only-of-type {\n",
       "        vertical-align: middle;\n",
       "    }\n",
       "\n",
       "    .dataframe tbody tr th {\n",
       "        vertical-align: top;\n",
       "    }\n",
       "\n",
       "    .dataframe thead th {\n",
       "        text-align: right;\n",
       "    }\n",
       "</style>\n",
       "<table border=\"1\" class=\"dataframe\">\n",
       "  <thead>\n",
       "    <tr style=\"text-align: right;\">\n",
       "      <th></th>\n",
       "      <th>Salary</th>\n",
       "      <th>Years in Publishing</th>\n",
       "    </tr>\n",
       "    <tr>\n",
       "      <th>Race / Ethnicity</th>\n",
       "      <th></th>\n",
       "      <th></th>\n",
       "    </tr>\n",
       "  </thead>\n",
       "  <tbody>\n",
       "    <tr>\n",
       "      <th>Unknown</th>\n",
       "      <td>33871.428571</td>\n",
       "      <td>8.285714</td>\n",
       "    </tr>\n",
       "    <tr>\n",
       "      <th>White</th>\n",
       "      <td>30634.086466</td>\n",
       "      <td>5.548872</td>\n",
       "    </tr>\n",
       "    <tr>\n",
       "      <th>Asian</th>\n",
       "      <td>29950.800000</td>\n",
       "      <td>4.700000</td>\n",
       "    </tr>\n",
       "    <tr>\n",
       "      <th>Mixed</th>\n",
       "      <td>29086.111111</td>\n",
       "      <td>5.333333</td>\n",
       "    </tr>\n",
       "    <tr>\n",
       "      <th>Black</th>\n",
       "      <td>26854.411765</td>\n",
       "      <td>3.617647</td>\n",
       "    </tr>\n",
       "  </tbody>\n",
       "</table>\n",
       "</div>"
      ],
      "text/plain": [
       "                        Salary  Years in Publishing\n",
       "Race / Ethnicity                                   \n",
       "Unknown           33871.428571             8.285714\n",
       "White             30634.086466             5.548872\n",
       "Asian             29950.800000             4.700000\n",
       "Mixed             29086.111111             5.333333\n",
       "Black             26854.411765             3.617647"
      ]
     },
     "metadata": {},
     "output_type": "display_data"
    },
    {
     "data": {
      "image/png": "[encoded data removed]",
      "text/plain": [
       "<Figure size 432x288 with 1 Axes>"
      ]
     },
     "metadata": {
      "needs_background": "light"
     },
     "output_type": "display_data"
    }
   ],
   "source": [
    "# Pivot table for average salary and average years in publishing for race/ethnicity\n",
    "display(pd.pivot_table(ukpub, index='Race / Ethnicity', \n",
    "    values=['Salary', 'Years in Publishing']).sort_values('Salary', \n",
    "    ascending=False))\n",
    "\n",
    "# Plot graph showing mean salary amount for race/ethnicity\n",
    "race_salary = pd.pivot_table(ukpub, index='Race / Ethnicity', values='Salary').sort_values('Salary', ascending=False)\n",
    "sns.barplot(x=race_salary.index, y=\"Salary\", data=race_salary);"
   ]
  },
  {
   "cell_type": "markdown",
   "metadata": {},
   "source": [
    "Interestingly, it appears that those whose race and ethnicity is unknown not only earn the highest salary on average but have also spent the most amount of years in publishing on average. This could mean that those in better paid positions who have worked in publishing for longer feel less inclined to share their race or ethnicity but this is just speculation."
   ]
  },
  {
   "cell_type": "code",
   "execution_count": 45,
   "metadata": {},
   "outputs": [
    {
     "data": {
      "text/html": [
       "<div>\n",
       "<style scoped>\n",
       "    .dataframe tbody tr th:only-of-type {\n",
       "        vertical-align: middle;\n",
       "    }\n",
       "\n",
       "    .dataframe tbody tr th {\n",
       "        vertical-align: top;\n",
       "    }\n",
       "\n",
       "    .dataframe thead th {\n",
       "        text-align: right;\n",
       "    }\n",
       "</style>\n",
       "<table border=\"1\" class=\"dataframe\">\n",
       "  <thead>\n",
       "    <tr style=\"text-align: right;\">\n",
       "      <th></th>\n",
       "      <th>Salary</th>\n",
       "      <th>Years in Publishing</th>\n",
       "    </tr>\n",
       "    <tr>\n",
       "      <th>Gender Identity</th>\n",
       "      <th></th>\n",
       "      <th></th>\n",
       "    </tr>\n",
       "  </thead>\n",
       "  <tbody>\n",
       "    <tr>\n",
       "      <th>Man</th>\n",
       "      <td>30597.066038</td>\n",
       "      <td>5.943396</td>\n",
       "    </tr>\n",
       "    <tr>\n",
       "      <th>Prefer not to say</th>\n",
       "      <td>30509.090909</td>\n",
       "      <td>6.909091</td>\n",
       "    </tr>\n",
       "    <tr>\n",
       "      <th>Woman</th>\n",
       "      <td>30390.886724</td>\n",
       "      <td>5.342266</td>\n",
       "    </tr>\n",
       "    <tr>\n",
       "      <th>Non-binary</th>\n",
       "      <td>30000.000000</td>\n",
       "      <td>5.428571</td>\n",
       "    </tr>\n",
       "  </tbody>\n",
       "</table>\n",
       "</div>"
      ],
      "text/plain": [
       "                         Salary  Years in Publishing\n",
       "Gender Identity                                     \n",
       "Man                30597.066038             5.943396\n",
       "Prefer not to say  30509.090909             6.909091\n",
       "Woman              30390.886724             5.342266\n",
       "Non-binary         30000.000000             5.428571"
      ]
     },
     "metadata": {},
     "output_type": "display_data"
    },
    {
     "data": {
      "image/png": "[encoded data removed]",
      "text/plain": [
       "<Figure size 432x288 with 1 Axes>"
      ]
     },
     "metadata": {
      "needs_background": "light"
     },
     "output_type": "display_data"
    }
   ],
   "source": [
    "# Pivot table for average salary and average years in publishing for gender identity\n",
    "display(pd.pivot_table(ukpub, index='Gender Identity', \n",
    "    values=['Salary', 'Years in Publishing']).sort_values('Salary', ascending=False))\n",
    "\n",
    "# Plot graph showing mean salary amount for gender identity\n",
    "gender_salary = pd.pivot_table(ukpub, index='Gender Identity', values='Salary').sort_values('Salary', ascending=False)\n",
    "sns.barplot(x=gender_salary.index, y=\"Salary\", data=gender_salary);"
   ]
  },
  {
   "cell_type": "markdown",
   "metadata": {},
   "source": [
    "Here we can see that on average, all genders earn roughly equal salaries."
   ]
  },
  {
   "cell_type": "code",
   "execution_count": 46,
   "metadata": {},
   "outputs": [
    {
     "data": {
      "text/html": [
       "<div>\n",
       "<style scoped>\n",
       "    .dataframe tbody tr th:only-of-type {\n",
       "        vertical-align: middle;\n",
       "    }\n",
       "\n",
       "    .dataframe tbody tr th {\n",
       "        vertical-align: top;\n",
       "    }\n",
       "\n",
       "    .dataframe thead th {\n",
       "        text-align: right;\n",
       "    }\n",
       "</style>\n",
       "<table border=\"1\" class=\"dataframe\">\n",
       "  <thead>\n",
       "    <tr style=\"text-align: right;\">\n",
       "      <th></th>\n",
       "      <th>Salary</th>\n",
       "      <th>Years in Publishing</th>\n",
       "    </tr>\n",
       "    <tr>\n",
       "      <th>Sexual Orientation</th>\n",
       "      <th></th>\n",
       "      <th></th>\n",
       "    </tr>\n",
       "  </thead>\n",
       "  <tbody>\n",
       "    <tr>\n",
       "      <th>Straight</th>\n",
       "      <td>30692.786629</td>\n",
       "      <td>5.509246</td>\n",
       "    </tr>\n",
       "    <tr>\n",
       "      <th>LGBTQ</th>\n",
       "      <td>29598.256198</td>\n",
       "      <td>5.194215</td>\n",
       "    </tr>\n",
       "  </tbody>\n",
       "</table>\n",
       "</div>"
      ],
      "text/plain": [
       "                          Salary  Years in Publishing\n",
       "Sexual Orientation                                   \n",
       "Straight            30692.786629             5.509246\n",
       "LGBTQ               29598.256198             5.194215"
      ]
     },
     "metadata": {},
     "output_type": "display_data"
    },
    {
     "data": {
      "image/png": "[encoded data removed]",
      "text/plain": [
       "<Figure size 432x288 with 1 Axes>"
      ]
     },
     "metadata": {
      "needs_background": "light"
     },
     "output_type": "display_data"
    }
   ],
   "source": [
    "# Pivot table for average salary and average years in publishing for sexual orientation\n",
    "display(pd.pivot_table(ukpub, index='Sexual Orientation', \n",
    "    values=['Salary', 'Years in Publishing']).sort_values('Salary', ascending=False))\n",
    "\n",
    "# Plot graph showing mean salary amount for Sexual Orientation\n",
    "sexori_salary = pd.pivot_table(ukpub, index='Sexual Orientation', values='Salary').sort_values('Salary', ascending=False)\n",
    "sns.barplot(x=sexori_salary.index, y=\"Salary\", data=sexori_salary);"
   ]
  },
  {
   "cell_type": "markdown",
   "metadata": {},
   "source": [
    "Similarly, it appears that on average, people of different sexual orientation earn roughly equal salaries."
   ]
  },
  {
   "cell_type": "code",
   "execution_count": 47,
   "metadata": {},
   "outputs": [
    {
     "data": {
      "text/html": [
       "<div>\n",
       "<style scoped>\n",
       "    .dataframe tbody tr th:only-of-type {\n",
       "        vertical-align: middle;\n",
       "    }\n",
       "\n",
       "    .dataframe tbody tr th {\n",
       "        vertical-align: top;\n",
       "    }\n",
       "\n",
       "    .dataframe thead th {\n",
       "        text-align: right;\n",
       "    }\n",
       "</style>\n",
       "<table border=\"1\" class=\"dataframe\">\n",
       "  <thead>\n",
       "    <tr style=\"text-align: right;\">\n",
       "      <th></th>\n",
       "      <th>Salary</th>\n",
       "    </tr>\n",
       "    <tr>\n",
       "      <th>Years in Publishing</th>\n",
       "      <th></th>\n",
       "    </tr>\n",
       "  </thead>\n",
       "  <tbody>\n",
       "    <tr>\n",
       "      <th>1.0</th>\n",
       "      <td>23681.508475</td>\n",
       "    </tr>\n",
       "    <tr>\n",
       "      <th>4.0</th>\n",
       "      <td>29266.782895</td>\n",
       "    </tr>\n",
       "    <tr>\n",
       "      <th>7.0</th>\n",
       "      <td>34449.567568</td>\n",
       "    </tr>\n",
       "    <tr>\n",
       "      <th>10.0</th>\n",
       "      <td>37012.121212</td>\n",
       "    </tr>\n",
       "    <tr>\n",
       "      <th>13.0</th>\n",
       "      <td>39500.000000</td>\n",
       "    </tr>\n",
       "    <tr>\n",
       "      <th>16.0</th>\n",
       "      <td>34700.000000</td>\n",
       "    </tr>\n",
       "    <tr>\n",
       "      <th>20.0</th>\n",
       "      <td>39277.428571</td>\n",
       "    </tr>\n",
       "  </tbody>\n",
       "</table>\n",
       "</div>"
      ],
      "text/plain": [
       "                           Salary\n",
       "Years in Publishing              \n",
       "1.0                  23681.508475\n",
       "4.0                  29266.782895\n",
       "7.0                  34449.567568\n",
       "10.0                 37012.121212\n",
       "13.0                 39500.000000\n",
       "16.0                 34700.000000\n",
       "20.0                 39277.428571"
      ]
     },
     "metadata": {},
     "output_type": "display_data"
    },
    {
     "data": {
      "image/png": "[encoded data removed]",
      "text/plain": [
       "<Figure size 432x288 with 1 Axes>"
      ]
     },
     "metadata": {
      "needs_background": "light"
     },
     "output_type": "display_data"
    }
   ],
   "source": [
    "# Pivot table for average salary and average years in publishing for sexual orientation\n",
    "display(pd.pivot_table(ukpub, index='Years in Publishing', \n",
    "                       values=['Salary']).sort_index()[::3])\n",
    "\n",
    "# Plot graph showing mean salary amount for Each year or Years in Publishing\n",
    "yip_salary = pd.pivot_table(ukpub, index='Years in Publishing', values='Salary').sort_values('Salary', ascending=False)\n",
    "sns.lineplot(x=yip_salary.index, y=\"Salary\", data=yip_salary);"
   ]
  },
  {
   "cell_type": "markdown",
   "metadata": {},
   "source": [
    "Here we can see that after around the 13 year mark for years in publishing, the linear relationship starts to break down and becomes more unstable. This is consistent to what we saw in our regression plot earlier. \n",
    "\n",
    "One reason for this could be that there is steady career progression up until around 13 years in the industry at which point people either take a lower paid role or a move into a higher paid role. However, we also have to remember that there may be macroeconomic factors, such as financial crises, that may explain this pattern. "
   ]
  },
  {
   "cell_type": "code",
   "execution_count": 48,
   "metadata": {},
   "outputs": [
    {
     "data": {
      "text/html": [
       "<div>\n",
       "<style scoped>\n",
       "    .dataframe tbody tr th:only-of-type {\n",
       "        vertical-align: middle;\n",
       "    }\n",
       "\n",
       "    .dataframe tbody tr th {\n",
       "        vertical-align: top;\n",
       "    }\n",
       "\n",
       "    .dataframe thead th {\n",
       "        text-align: right;\n",
       "    }\n",
       "</style>\n",
       "<table border=\"1\" class=\"dataframe\">\n",
       "  <thead>\n",
       "    <tr style=\"text-align: right;\">\n",
       "      <th></th>\n",
       "      <th>Job Title</th>\n",
       "      <th>Salary</th>\n",
       "      <th>Employment Status</th>\n",
       "      <th>Race / Ethnicity</th>\n",
       "      <th>Gender Identity</th>\n",
       "      <th>Sexual Orientation</th>\n",
       "      <th>Years in Publishing</th>\n",
       "    </tr>\n",
       "  </thead>\n",
       "  <tbody>\n",
       "    <tr>\n",
       "      <th>561</th>\n",
       "      <td>A senior director in editorial</td>\n",
       "      <td>70000</td>\n",
       "      <td>Full-time</td>\n",
       "      <td>White</td>\n",
       "      <td>Man</td>\n",
       "      <td>Straight</td>\n",
       "      <td>4.0</td>\n",
       "    </tr>\n",
       "    <tr>\n",
       "      <th>61</th>\n",
       "      <td>Head of Sales</td>\n",
       "      <td>65000</td>\n",
       "      <td>Full-time</td>\n",
       "      <td>White</td>\n",
       "      <td>Woman</td>\n",
       "      <td>Straight</td>\n",
       "      <td>2.0</td>\n",
       "    </tr>\n",
       "    <tr>\n",
       "      <th>747</th>\n",
       "      <td>Senior Editor</td>\n",
       "      <td>64000</td>\n",
       "      <td>Full-time</td>\n",
       "      <td>White</td>\n",
       "      <td>Man</td>\n",
       "      <td>Straight</td>\n",
       "      <td>11.0</td>\n",
       "    </tr>\n",
       "    <tr>\n",
       "      <th>784</th>\n",
       "      <td>Publishing Director</td>\n",
       "      <td>62500</td>\n",
       "      <td>Full-time</td>\n",
       "      <td>White</td>\n",
       "      <td>Man</td>\n",
       "      <td>LGBTQ</td>\n",
       "      <td>18.0</td>\n",
       "    </tr>\n",
       "    <tr>\n",
       "      <th>601</th>\n",
       "      <td>Senior Sales Manager</td>\n",
       "      <td>62000</td>\n",
       "      <td>Full-time</td>\n",
       "      <td>White</td>\n",
       "      <td>Woman</td>\n",
       "      <td>Straight</td>\n",
       "      <td>8.0</td>\n",
       "    </tr>\n",
       "    <tr>\n",
       "      <th>794</th>\n",
       "      <td>Publisher</td>\n",
       "      <td>60000</td>\n",
       "      <td>Full-time</td>\n",
       "      <td>White</td>\n",
       "      <td>Woman</td>\n",
       "      <td>Straight</td>\n",
       "      <td>12.0</td>\n",
       "    </tr>\n",
       "    <tr>\n",
       "      <th>839</th>\n",
       "      <td>Editorial Director</td>\n",
       "      <td>58000</td>\n",
       "      <td>Full-time</td>\n",
       "      <td>White</td>\n",
       "      <td>Woman</td>\n",
       "      <td>Straight</td>\n",
       "      <td>6.0</td>\n",
       "    </tr>\n",
       "    <tr>\n",
       "      <th>605</th>\n",
       "      <td>Publisher</td>\n",
       "      <td>56000</td>\n",
       "      <td>Full-time</td>\n",
       "      <td>White</td>\n",
       "      <td>Woman</td>\n",
       "      <td>Straight</td>\n",
       "      <td>19.0</td>\n",
       "    </tr>\n",
       "    <tr>\n",
       "      <th>569</th>\n",
       "      <td>Publisher</td>\n",
       "      <td>56000</td>\n",
       "      <td>Full-time</td>\n",
       "      <td>White</td>\n",
       "      <td>Woman</td>\n",
       "      <td>LGBTQ</td>\n",
       "      <td>14.0</td>\n",
       "    </tr>\n",
       "    <tr>\n",
       "      <th>640</th>\n",
       "      <td>Publishing director</td>\n",
       "      <td>55000</td>\n",
       "      <td>Full-time</td>\n",
       "      <td>White</td>\n",
       "      <td>Man</td>\n",
       "      <td>Straight</td>\n",
       "      <td>7.0</td>\n",
       "    </tr>\n",
       "  </tbody>\n",
       "</table>\n",
       "</div>"
      ],
      "text/plain": [
       "                          Job Title  Salary Employment Status  \\\n",
       "561  A senior director in editorial   70000         Full-time   \n",
       "61                    Head of Sales   65000         Full-time   \n",
       "747                   Senior Editor   64000         Full-time   \n",
       "784             Publishing Director   62500         Full-time   \n",
       "601            Senior Sales Manager   62000         Full-time   \n",
       "794                       Publisher   60000         Full-time   \n",
       "839              Editorial Director   58000         Full-time   \n",
       "605                       Publisher   56000         Full-time   \n",
       "569                      Publisher    56000         Full-time   \n",
       "640             Publishing director   55000         Full-time   \n",
       "\n",
       "    Race / Ethnicity Gender Identity Sexual Orientation  Years in Publishing  \n",
       "561            White             Man           Straight                  4.0  \n",
       "61             White           Woman           Straight                  2.0  \n",
       "747            White             Man           Straight                 11.0  \n",
       "784            White             Man              LGBTQ                 18.0  \n",
       "601            White           Woman           Straight                  8.0  \n",
       "794            White           Woman           Straight                 12.0  \n",
       "839            White           Woman           Straight                  6.0  \n",
       "605            White           Woman           Straight                 19.0  \n",
       "569            White           Woman              LGBTQ                 14.0  \n",
       "640            White             Man           Straight                  7.0  "
      ]
     },
     "execution_count": 48,
     "metadata": {},
     "output_type": "execute_result"
    }
   ],
   "source": [
    "ukpub.sort_values('Salary', ascending=False).head(10)"
   ]
  },
  {
   "cell_type": "markdown",
   "metadata": {},
   "source": [
    "Here we can see the top 10 individuals in terms of highest salary."
   ]
  },
  {
   "cell_type": "code",
   "execution_count": 49,
   "metadata": {},
   "outputs": [
    {
     "data": {
      "text/html": [
       "<div>\n",
       "<style scoped>\n",
       "    .dataframe tbody tr th:only-of-type {\n",
       "        vertical-align: middle;\n",
       "    }\n",
       "\n",
       "    .dataframe tbody tr th {\n",
       "        vertical-align: top;\n",
       "    }\n",
       "\n",
       "    .dataframe thead th {\n",
       "        text-align: right;\n",
       "    }\n",
       "</style>\n",
       "<table border=\"1\" class=\"dataframe\">\n",
       "  <thead>\n",
       "    <tr style=\"text-align: right;\">\n",
       "      <th></th>\n",
       "      <th>Job Title</th>\n",
       "      <th>Salary</th>\n",
       "      <th>Employment Status</th>\n",
       "      <th>Race / Ethnicity</th>\n",
       "      <th>Gender Identity</th>\n",
       "      <th>Sexual Orientation</th>\n",
       "      <th>Years in Publishing</th>\n",
       "    </tr>\n",
       "  </thead>\n",
       "  <tbody>\n",
       "    <tr>\n",
       "      <th>438</th>\n",
       "      <td>Editorial Assistant</td>\n",
       "      <td>19000</td>\n",
       "      <td>Full-time</td>\n",
       "      <td>Asian</td>\n",
       "      <td>Woman</td>\n",
       "      <td>LGBTQ</td>\n",
       "      <td>5.0</td>\n",
       "    </tr>\n",
       "    <tr>\n",
       "      <th>750</th>\n",
       "      <td>Editorial Assistant</td>\n",
       "      <td>18900</td>\n",
       "      <td>Other</td>\n",
       "      <td>White</td>\n",
       "      <td>Woman</td>\n",
       "      <td>LGBTQ</td>\n",
       "      <td>3.0</td>\n",
       "    </tr>\n",
       "    <tr>\n",
       "      <th>774</th>\n",
       "      <td>Editorial Assistant</td>\n",
       "      <td>18500</td>\n",
       "      <td>Contract</td>\n",
       "      <td>White</td>\n",
       "      <td>Woman</td>\n",
       "      <td>LGBTQ</td>\n",
       "      <td>3.0</td>\n",
       "    </tr>\n",
       "    <tr>\n",
       "      <th>13</th>\n",
       "      <td>Digital Marketing Assistant</td>\n",
       "      <td>18000</td>\n",
       "      <td>Full-time</td>\n",
       "      <td>Asian</td>\n",
       "      <td>Man</td>\n",
       "      <td>LGBTQ</td>\n",
       "      <td>2.0</td>\n",
       "    </tr>\n",
       "    <tr>\n",
       "      <th>822</th>\n",
       "      <td>Publicity Assistant</td>\n",
       "      <td>18000</td>\n",
       "      <td>Full-time</td>\n",
       "      <td>Asian</td>\n",
       "      <td>Woman</td>\n",
       "      <td>Straight</td>\n",
       "      <td>3.0</td>\n",
       "    </tr>\n",
       "    <tr>\n",
       "      <th>927</th>\n",
       "      <td>Sales Assistant</td>\n",
       "      <td>18000</td>\n",
       "      <td>Full-time</td>\n",
       "      <td>White</td>\n",
       "      <td>Woman</td>\n",
       "      <td>Straight</td>\n",
       "      <td>4.0</td>\n",
       "    </tr>\n",
       "    <tr>\n",
       "      <th>830</th>\n",
       "      <td>Rights Assistant</td>\n",
       "      <td>18000</td>\n",
       "      <td>Full-time</td>\n",
       "      <td>Mixed</td>\n",
       "      <td>Woman</td>\n",
       "      <td>Straight</td>\n",
       "      <td>2.0</td>\n",
       "    </tr>\n",
       "    <tr>\n",
       "      <th>715</th>\n",
       "      <td>Press Officer</td>\n",
       "      <td>18000</td>\n",
       "      <td>Other</td>\n",
       "      <td>White</td>\n",
       "      <td>Woman</td>\n",
       "      <td>Straight</td>\n",
       "      <td>2.0</td>\n",
       "    </tr>\n",
       "    <tr>\n",
       "      <th>686</th>\n",
       "      <td>Marketing and Editorial Assistant</td>\n",
       "      <td>18000</td>\n",
       "      <td>Full-time</td>\n",
       "      <td>White</td>\n",
       "      <td>Woman</td>\n",
       "      <td>LGBTQ</td>\n",
       "      <td>1.0</td>\n",
       "    </tr>\n",
       "    <tr>\n",
       "      <th>915</th>\n",
       "      <td>Contracts Manager</td>\n",
       "      <td>17300</td>\n",
       "      <td>Part-time</td>\n",
       "      <td>White</td>\n",
       "      <td>Man</td>\n",
       "      <td>Straight</td>\n",
       "      <td>18.0</td>\n",
       "    </tr>\n",
       "  </tbody>\n",
       "</table>\n",
       "</div>"
      ],
      "text/plain": [
       "                             Job Title  Salary Employment Status  \\\n",
       "438                Editorial Assistant   19000         Full-time   \n",
       "750                Editorial Assistant   18900             Other   \n",
       "774                Editorial Assistant   18500          Contract   \n",
       "13         Digital Marketing Assistant   18000         Full-time   \n",
       "822                Publicity Assistant   18000         Full-time   \n",
       "927                    Sales Assistant   18000         Full-time   \n",
       "830                   Rights Assistant   18000         Full-time   \n",
       "715                      Press Officer   18000             Other   \n",
       "686  Marketing and Editorial Assistant   18000         Full-time   \n",
       "915                  Contracts Manager   17300         Part-time   \n",
       "\n",
       "    Race / Ethnicity Gender Identity Sexual Orientation  Years in Publishing  \n",
       "438            Asian           Woman              LGBTQ                  5.0  \n",
       "750            White           Woman              LGBTQ                  3.0  \n",
       "774            White           Woman              LGBTQ                  3.0  \n",
       "13             Asian             Man              LGBTQ                  2.0  \n",
       "822            Asian           Woman           Straight                  3.0  \n",
       "927            White           Woman           Straight                  4.0  \n",
       "830            Mixed           Woman           Straight                  2.0  \n",
       "715            White           Woman           Straight                  2.0  \n",
       "686            White           Woman              LGBTQ                  1.0  \n",
       "915            White             Man           Straight                 18.0  "
      ]
     },
     "execution_count": 49,
     "metadata": {},
     "output_type": "execute_result"
    }
   ],
   "source": [
    "ukpub.sort_values('Salary', ascending=False).tail(10)"
   ]
  },
  {
   "cell_type": "markdown",
   "metadata": {},
   "source": [
    "And here are the bottom 10 individuals in terms of lowest salary. It seems unusual here that an individual with 18 years in publishing has the lowest salary in our data. This may be an error, however we cannot be sure. Nevertheless, we will keep them in our data going forward."
   ]
  },
  {
   "cell_type": "code",
   "execution_count": 50,
   "metadata": {},
   "outputs": [
    {
     "data": {
      "image/png": "[encoded data removed]",
      "text/plain": [
       "<Figure size 720x720 with 1 Axes>"
      ]
     },
     "metadata": {
      "needs_background": "light"
     },
     "output_type": "display_data"
    }
   ],
   "source": [
    "# Word Cloud for Job Titles\n",
    "from wordcloud import WordCloud, STOPWORDS, ImageColorGenerator\n",
    "\n",
    "# Set up text\n",
    "text = \" \".join(title for title in ukpub['Job Title'])\n",
    "\n",
    "# Generate a word cloud image\n",
    "wordcloud = WordCloud(stopwords=STOPWORDS, random_state=21, background_color=\"white\", width=600, height=300)\n",
    "wordcloud.generate(text)\n",
    "\n",
    "# Display the generated image\n",
    "plt.figure(figsize=[10,10])\n",
    "plt.imshow(wordcloud, interpolation='bilinear')\n",
    "plt.axis(\"off\")\n",
    "plt.show()"
   ]
  },
  {
   "cell_type": "markdown",
   "metadata": {},
   "source": [
    "From the wordcloud of job titles, it appears that people mostly occupy either assistant or senior positions, however, as this is a small dataset, it could just be that this is only reflective of the small sample size."
   ]
  },
  {
   "cell_type": "markdown",
   "metadata": {},
   "source": [
    "**[Back to Top](#top)** <br>"
   ]
  },
  {
   "cell_type": "markdown",
   "metadata": {},
   "source": [
    "<a id=\"model_building\"></a>\n",
    "## 8. Model Building\n",
    "---"
   ]
  },
  {
   "cell_type": "markdown",
   "metadata": {},
   "source": [
    "Now lets move on to exploring a few different linear models to see if we can predict an individual's salary based on the features that we have."
   ]
  },
  {
   "cell_type": "markdown",
   "metadata": {},
   "source": [
    "### Simple Linear Regression"
   ]
  },
  {
   "cell_type": "code",
   "execution_count": 51,
   "metadata": {},
   "outputs": [],
   "source": [
    "# Remove string data\n",
    "ukpub_final = ukpub.drop(['Job Title'], axis=1)"
   ]
  },
  {
   "cell_type": "markdown",
   "metadata": {},
   "source": [
    "#### Using sklearn"
   ]
  },
  {
   "cell_type": "code",
   "execution_count": 52,
   "metadata": {},
   "outputs": [],
   "source": [
    "# Import relevant libraries\n",
    "from sklearn.model_selection import train_test_split\n",
    "from sklearn.linear_model import LinearRegression\n",
    "from sklearn.metrics import mean_squared_error, mean_absolute_error\n",
    "import math"
   ]
  },
  {
   "cell_type": "code",
   "execution_count": 53,
   "metadata": {},
   "outputs": [],
   "source": [
    "# Isolating independent and dependent variables\n",
    "X1 = ukpub_final['Years in Publishing'].values.reshape(-1,1)\n",
    "y1 = ukpub_final['Salary'].values.reshape(-1,1)"
   ]
  },
  {
   "cell_type": "code",
   "execution_count": 54,
   "metadata": {},
   "outputs": [],
   "source": [
    "# Create train/test split\n",
    "X_train1, X_test1, y_train1, y_test1 = train_test_split(X1, y1, test_size=0.2, random_state=0)"
   ]
  },
  {
   "cell_type": "code",
   "execution_count": 55,
   "metadata": {},
   "outputs": [
    {
     "name": "stdout",
     "output_type": "stream",
     "text": [
      "R²: 0.3826897803011434\n",
      "Intercept: 23227.84961226084\n",
      "Coefficient: 1365.2846751012742\n"
     ]
    }
   ],
   "source": [
    "# Create model and fit to the training data\n",
    "lrm = LinearRegression()\n",
    "lrm.fit(X_train1, y_train1)\n",
    "print(f\"R²: {lrm.score(X_train1, y_train1)}\")\n",
    "print(f\"Intercept: {lrm.intercept_[0]}\")\n",
    "print(f\"Coefficient: {lrm.coef_[0][0]}\")"
   ]
  },
  {
   "cell_type": "markdown",
   "metadata": {},
   "source": [
    "Here we can see that the R² value is not very high. This means that years in publishing only explains around 38% of the variance in salary. The intercept and coefficient tell us that starting from a salary of £23,227.85, for every year increase in years in publishing we can expect to see a salary increase of around £1365.28."
   ]
  },
  {
   "cell_type": "code",
   "execution_count": 56,
   "metadata": {
    "scrolled": false
   },
   "outputs": [
    {
     "data": {
      "image/png": "[encoded data removed]",
      "text/plain": [
       "<Figure size 432x288 with 1 Axes>"
      ]
     },
     "metadata": {
      "needs_background": "light"
     },
     "output_type": "display_data"
    }
   ],
   "source": [
    "# Make prediction using the training data and then plot the results\n",
    "y_hat1 = lrm.predict(X_train1)\n",
    "plt.scatter(X_train1, y_train1)\n",
    "plt.plot(X_train1, y_hat1, linewidth=4, color='red')\n",
    "plt.title('Simple Linear Regression (Training Data)')\n",
    "plt.xlabel('Years in Publishing')\n",
    "plt.ylabel('Salary (£)')\n",
    "plt.show()"
   ]
  },
  {
   "cell_type": "code",
   "execution_count": 57,
   "metadata": {},
   "outputs": [
    {
     "name": "stdout",
     "output_type": "stream",
     "text": [
      "Estimated salary based on 10 years in publishing: £36881\n"
     ]
    }
   ],
   "source": [
    "# Make a prediction using the model on a single value\n",
    "y_hat1b = lrm.predict([[10]])\n",
    "print(f\"Estimated salary based on 10 years in publishing: £{round(y_hat1b[0][0])}\")"
   ]
  },
  {
   "cell_type": "markdown",
   "metadata": {},
   "source": [
    "Here we can see why the R² value is low. For example, if you took an individual who worked for 10 years in publishing the model would predict a salary of £36881, however as we can see from the plot above, the real salary could be anywhere between £25000 and £55000."
   ]
  },
  {
   "cell_type": "markdown",
   "metadata": {},
   "source": [
    "Let's check the residuals of our model to see if they satisfy some of the assumptions of a linear regression."
   ]
  },
  {
   "cell_type": "code",
   "execution_count": 58,
   "metadata": {},
   "outputs": [
    {
     "name": "stdout",
     "output_type": "stream",
     "text": [
      "Mean of Residuals: -2.1558392930913853e-12\n"
     ]
    }
   ],
   "source": [
    "# Check that the mean of the residuals is equal to zero\n",
    "residuals = y_train1-y_hat1\n",
    "mean_residuals = np.mean(residuals)\n",
    "print(f\"Mean of Residuals: {mean_residuals}\")"
   ]
  },
  {
   "cell_type": "code",
   "execution_count": 59,
   "metadata": {},
   "outputs": [
    {
     "data": {
      "image/png": "[encoded data removed]",
      "text/plain": [
       "<Figure size 432x288 with 1 Axes>"
      ]
     },
     "metadata": {
      "needs_background": "light"
     },
     "output_type": "display_data"
    }
   ],
   "source": [
    "# View the normality of error terms/residuals\n",
    "sns.histplot(residuals, kde=True, legend=False)\n",
    "plt.title('Normality of Residuals');"
   ]
  },
  {
   "cell_type": "code",
   "execution_count": 60,
   "metadata": {},
   "outputs": [
    {
     "data": {
      "image/png": "[encoded data removed]",
      "text/plain": [
       "<Figure size 432x288 with 1 Axes>"
      ]
     },
     "metadata": {
      "needs_background": "light"
     },
     "output_type": "display_data"
    }
   ],
   "source": [
    "# Checking for heteroscedasticty\n",
    "plt.plot(y_hat1, residuals, 'o', color='grey')\n",
    "plt.title(\"Residual Plot\")\n",
    "plt.axhline(0, color='g')\n",
    "plt.xlabel(\"Predicted Value\")\n",
    "plt.ylabel(\"Residuals\");"
   ]
  },
  {
   "cell_type": "markdown",
   "metadata": {},
   "source": [
    "This plot shows us that we may have heteroscedasticity in our data. If that is the case, the standard errors for our coefficients as well as the overall F-statistic will be unreliable. We will investigate this further when we use the statsmodels package."
   ]
  },
  {
   "cell_type": "markdown",
   "metadata": {},
   "source": [
    "Now let's test our model on the testing data."
   ]
  },
  {
   "cell_type": "code",
   "execution_count": 61,
   "metadata": {},
   "outputs": [
    {
     "data": {
      "image/png": "[encoded data removed]",
      "text/plain": [
       "<Figure size 432x288 with 1 Axes>"
      ]
     },
     "metadata": {
      "needs_background": "light"
     },
     "output_type": "display_data"
    }
   ],
   "source": [
    "# Make prediction using the test data and then plot the results\n",
    "y_hat_test1 = lrm.predict(X_test1)\n",
    "plt.scatter(X_test1, y_test1)\n",
    "plt.plot(X_test1, y_hat_test1, linewidth=4, color='red')\n",
    "plt.title('Simple Linear Regression (Testing Data)')\n",
    "plt.xlabel('Years in Publishing')\n",
    "plt.ylabel('Salary (£)')\n",
    "plt.show()"
   ]
  },
  {
   "cell_type": "markdown",
   "metadata": {},
   "source": [
    "We can see that our line of best fit does not do a great job of accurately fitting the data."
   ]
  },
  {
   "cell_type": "markdown",
   "metadata": {},
   "source": [
    "Let's calculate the residual errors to see just how far off our predictctions would be with this model."
   ]
  },
  {
   "cell_type": "code",
   "execution_count": 62,
   "metadata": {},
   "outputs": [
    {
     "name": "stdout",
     "output_type": "stream",
     "text": [
      "MAE: 4347.076153385423\n",
      "RMSE: 6462.4927506954355\n"
     ]
    }
   ],
   "source": [
    "# Checking the residual errors of our model\n",
    "mae = mean_absolute_error(y_hat_test1, y_test1)\n",
    "rmse = math.sqrt(mean_squared_error(y_hat_test1, y_test1))\n",
    "print(f'MAE: {mae}')\n",
    "print(f'RMSE: {rmse}')"
   ]
  },
  {
   "cell_type": "markdown",
   "metadata": {},
   "source": [
    "Looking at our RMSE value, we can confirm that our model is not very accurate at this point. A RMSE of 6462 means that our predictions could be off by £6462. This is quite a high margin of error given the relatively small salary range (£17300 - £70000)."
   ]
  },
  {
   "cell_type": "markdown",
   "metadata": {},
   "source": [
    "#### Using statsmodels"
   ]
  },
  {
   "cell_type": "markdown",
   "metadata": {},
   "source": [
    "Now we will use the statsmodels package to train a simple linear regression model. This will give us some more insight into the precise statistics of our model. We will then train a multiple regression model with more of the features from our dataset to see if that improves the model."
   ]
  },
  {
   "cell_type": "code",
   "execution_count": 63,
   "metadata": {},
   "outputs": [],
   "source": [
    "# Import statsmodels package\n",
    "import statsmodels.api as sm\n",
    "from statsmodels.tools.tools import add_constant"
   ]
  },
  {
   "cell_type": "code",
   "execution_count": 64,
   "metadata": {},
   "outputs": [],
   "source": [
    "# Separate independent and dependent variables\n",
    "X1b = ukpub_final['Years in Publishing']\n",
    "y1b = ukpub_final['Salary']"
   ]
  },
  {
   "cell_type": "code",
   "execution_count": 65,
   "metadata": {},
   "outputs": [],
   "source": [
    "# Add constant\n",
    "X1b = add_constant(X1b)"
   ]
  },
  {
   "cell_type": "code",
   "execution_count": 66,
   "metadata": {},
   "outputs": [],
   "source": [
    "# Create train/test split\n",
    "X_train1b, X_test1b, y_train1b, y_test1b = train_test_split(X1b, y1b, test_size=0.2, random_state=0)"
   ]
  },
  {
   "cell_type": "code",
   "execution_count": 67,
   "metadata": {
    "scrolled": false
   },
   "outputs": [
    {
     "name": "stdout",
     "output_type": "stream",
     "text": [
      "                            OLS Regression Results                            \n",
      "==============================================================================\n",
      "Dep. Variable:                 Salary   R-squared:                       0.383\n",
      "Model:                            OLS   Adj. R-squared:                  0.382\n",
      "Method:                 Least Squares   F-statistic:                     467.4\n",
      "Date:                Sat, 31 Oct 2020   Prob (F-statistic):           4.90e-81\n",
      "Time:                        15:09:41   Log-Likelihood:                -7640.5\n",
      "No. Observations:                 756   AIC:                         1.528e+04\n",
      "Df Residuals:                     754   BIC:                         1.529e+04\n",
      "Df Model:                           1                                         \n",
      "Covariance Type:            nonrobust                                         \n",
      "=======================================================================================\n",
      "                          coef    std err          t      P>|t|      [0.025      0.975]\n",
      "---------------------------------------------------------------------------------------\n",
      "const                2.323e+04    398.298     58.318      0.000    2.24e+04     2.4e+04\n",
      "Years in Publishing  1365.2847     63.149     21.620      0.000    1241.316    1489.253\n",
      "==============================================================================\n",
      "Omnibus:                      308.762   Durbin-Watson:                   2.134\n",
      "Prob(Omnibus):                  0.000   Jarque-Bera (JB):             2628.560\n",
      "Skew:                           1.611   Prob(JB):                         0.00\n",
      "Kurtosis:                      11.547   Cond. No.                         11.8\n",
      "==============================================================================\n",
      "\n",
      "Notes:\n",
      "[1] Standard Errors assume that the covariance matrix of the errors is correctly specified.\n"
     ]
    }
   ],
   "source": [
    "# Create and fit sm model\n",
    "lrm_sm1b = sm.OLS(y_train1b, X_train1b).fit()\n",
    "print(lrm_sm1b.summary())"
   ]
  },
  {
   "cell_type": "markdown",
   "metadata": {},
   "source": [
    "We can see much more detail about our model here. The R², Intercept and Coefficeint values are the same as our sklearn linear regression model as expected. Our F-statistic p-value at <0.05 indicates that the model overall is significant. However, the Jarque-Bera test is statistically significant at <0.05 indicating that the data is not normally distibuted. We can see this more clearly from the Q-Q plot below."
   ]
  },
  {
   "cell_type": "code",
   "execution_count": 68,
   "metadata": {},
   "outputs": [
    {
     "data": {
      "image/png": "[encoded data removed]",
      "text/plain": [
       "<Figure size 432x288 with 1 Axes>"
      ]
     },
     "metadata": {
      "needs_background": "light"
     },
     "output_type": "display_data"
    }
   ],
   "source": [
    "# Checking the model's normality of residuals (Q-Q Plot)\n",
    "sm.qqplot(lrm_sm1b.resid, line='r')\n",
    "plt.title(\"Model Residuals Q-Q Plot\");"
   ]
  },
  {
   "cell_type": "markdown",
   "metadata": {},
   "source": [
    "This shows that our data does not come from a normal distribution."
   ]
  },
  {
   "cell_type": "markdown",
   "metadata": {},
   "source": [
    "We also saw earlier that our data looked like it may have heteroscedasticity so let's run a formal test to see if that is the case. I will use a Breusch-Pagan test in this instance."
   ]
  },
  {
   "cell_type": "code",
   "execution_count": 69,
   "metadata": {},
   "outputs": [
    {
     "data": {
      "text/plain": [
       "[('Lagrange Multiplier Statistic', 17.855624100697206),\n",
       " ('p-value', 2.383138925259988e-05),\n",
       " ('F-value', 18.239169749851612),\n",
       " ('F p-value', 2.1973152664810536e-05)]"
      ]
     },
     "execution_count": 69,
     "metadata": {},
     "output_type": "execute_result"
    }
   ],
   "source": [
    "# Breusch-Pagan test for detecting heteroscedasticity\n",
    "from statsmodels.stats.diagnostic import het_breuschpagan as bp\n",
    "from statsmodels.compat import lzip\n",
    "name = ['Lagrange Multiplier Statistic', 'p-value', \n",
    "        'F-value', 'F p-value']\n",
    "test = bp(lrm_sm1b.resid, lrm_sm1b.model.exog)\n",
    "lzip(name, test)"
   ]
  },
  {
   "cell_type": "markdown",
   "metadata": {},
   "source": [
    "As we can see, the Breusch-Pagan test is significant meaning the data violates the assumption of homoscedasticity. In other words, heteroscedasticity is present in the data and the standard errors will be biased.\n",
    "\n",
    "Because of this we will use a robust regression method that accounts for the heteroscedasticity."
   ]
  },
  {
   "cell_type": "code",
   "execution_count": 70,
   "metadata": {},
   "outputs": [
    {
     "name": "stdout",
     "output_type": "stream",
     "text": [
      "                            OLS Regression Results                            \n",
      "==============================================================================\n",
      "Dep. Variable:                 Salary   R-squared:                       0.383\n",
      "Model:                            OLS   Adj. R-squared:                  0.382\n",
      "Method:                 Least Squares   F-statistic:                     244.1\n",
      "Date:                Sat, 31 Oct 2020   Prob (F-statistic):           6.95e-48\n",
      "Time:                        15:09:44   Log-Likelihood:                -7640.5\n",
      "No. Observations:                 756   AIC:                         1.528e+04\n",
      "Df Residuals:                     754   BIC:                         1.529e+04\n",
      "Df Model:                           1                                         \n",
      "Covariance Type:                  HC0                                         \n",
      "=======================================================================================\n",
      "                          coef    std err          z      P>|z|      [0.025      0.975]\n",
      "---------------------------------------------------------------------------------------\n",
      "const                2.323e+04    434.786     53.424      0.000    2.24e+04    2.41e+04\n",
      "Years in Publishing  1365.2847     87.380     15.625      0.000    1194.024    1536.546\n",
      "==============================================================================\n",
      "Omnibus:                      308.762   Durbin-Watson:                   2.134\n",
      "Prob(Omnibus):                  0.000   Jarque-Bera (JB):             2628.560\n",
      "Skew:                           1.611   Prob(JB):                         0.00\n",
      "Kurtosis:                      11.547   Cond. No.                         11.8\n",
      "==============================================================================\n",
      "\n",
      "Notes:\n",
      "[1] Standard Errors are heteroscedasticity robust (HC0)\n"
     ]
    }
   ],
   "source": [
    "# OLS robust accounting for heteroscedasticity\n",
    "lrm_sm1b = sm.OLS(y_train1b, X_train1b).fit(cov_type='HC0')\n",
    "print(lrm_sm1b.summary())"
   ]
  },
  {
   "cell_type": "markdown",
   "metadata": {},
   "source": [
    "Accounting for the heteroscedasiticity has altered the F-statistics and the standard errors which makes this a more accurate summary of our model."
   ]
  },
  {
   "cell_type": "markdown",
   "metadata": {},
   "source": [
    "### Multiple Linear Regression"
   ]
  },
  {
   "cell_type": "markdown",
   "metadata": {},
   "source": [
    "We will now try to use a multiple linear regression to see if we can improve upon our simple linear model."
   ]
  },
  {
   "cell_type": "code",
   "execution_count": 71,
   "metadata": {},
   "outputs": [],
   "source": [
    "# Separate independent variables from dependent variable\n",
    "X2 = ukpub_final.drop(['Salary'], axis=1)\n",
    "y2 = ukpub_final['Salary']"
   ]
  },
  {
   "cell_type": "code",
   "execution_count": 72,
   "metadata": {},
   "outputs": [],
   "source": [
    "# Create dummy variables for categorical columns\n",
    "X2 = pd.get_dummies(X2, drop_first=True)\n",
    "\n",
    "# Add constant\n",
    "X2 = add_constant(X2)"
   ]
  },
  {
   "cell_type": "code",
   "execution_count": 73,
   "metadata": {},
   "outputs": [
    {
     "data": {
      "text/html": [
       "<div>\n",
       "<style scoped>\n",
       "    .dataframe tbody tr th:only-of-type {\n",
       "        vertical-align: middle;\n",
       "    }\n",
       "\n",
       "    .dataframe tbody tr th {\n",
       "        vertical-align: top;\n",
       "    }\n",
       "\n",
       "    .dataframe thead th {\n",
       "        text-align: right;\n",
       "    }\n",
       "</style>\n",
       "<table border=\"1\" class=\"dataframe\">\n",
       "  <thead>\n",
       "    <tr style=\"text-align: right;\">\n",
       "      <th></th>\n",
       "      <th>Features</th>\n",
       "      <th>VIF</th>\n",
       "    </tr>\n",
       "  </thead>\n",
       "  <tbody>\n",
       "    <tr>\n",
       "      <th>0</th>\n",
       "      <td>const</td>\n",
       "      <td>68.209561</td>\n",
       "    </tr>\n",
       "    <tr>\n",
       "      <th>1</th>\n",
       "      <td>Years in Publishing</td>\n",
       "      <td>1.084459</td>\n",
       "    </tr>\n",
       "    <tr>\n",
       "      <th>2</th>\n",
       "      <td>Employment Status_Full-time</td>\n",
       "      <td>2.401143</td>\n",
       "    </tr>\n",
       "    <tr>\n",
       "      <th>3</th>\n",
       "      <td>Employment Status_Other</td>\n",
       "      <td>1.211084</td>\n",
       "    </tr>\n",
       "    <tr>\n",
       "      <th>4</th>\n",
       "      <td>Employment Status_Part-time</td>\n",
       "      <td>2.271505</td>\n",
       "    </tr>\n",
       "    <tr>\n",
       "      <th>5</th>\n",
       "      <td>Race / Ethnicity_Black</td>\n",
       "      <td>1.451397</td>\n",
       "    </tr>\n",
       "    <tr>\n",
       "      <th>6</th>\n",
       "      <td>Race / Ethnicity_Mixed</td>\n",
       "      <td>1.478644</td>\n",
       "    </tr>\n",
       "    <tr>\n",
       "      <th>7</th>\n",
       "      <td>Race / Ethnicity_Unknown</td>\n",
       "      <td>1.150264</td>\n",
       "    </tr>\n",
       "    <tr>\n",
       "      <th>8</th>\n",
       "      <td>Race / Ethnicity_White</td>\n",
       "      <td>1.959490</td>\n",
       "    </tr>\n",
       "    <tr>\n",
       "      <th>9</th>\n",
       "      <td>Gender Identity_Non-binary</td>\n",
       "      <td>1.074850</td>\n",
       "    </tr>\n",
       "    <tr>\n",
       "      <th>10</th>\n",
       "      <td>Gender Identity_Prefer not to say</td>\n",
       "      <td>1.164492</td>\n",
       "    </tr>\n",
       "    <tr>\n",
       "      <th>11</th>\n",
       "      <td>Gender Identity_Woman</td>\n",
       "      <td>1.161656</td>\n",
       "    </tr>\n",
       "    <tr>\n",
       "      <th>12</th>\n",
       "      <td>Sexual Orientation_Straight</td>\n",
       "      <td>1.064107</td>\n",
       "    </tr>\n",
       "  </tbody>\n",
       "</table>\n",
       "</div>"
      ],
      "text/plain": [
       "                             Features        VIF\n",
       "0                               const  68.209561\n",
       "1                 Years in Publishing   1.084459\n",
       "2         Employment Status_Full-time   2.401143\n",
       "3             Employment Status_Other   1.211084\n",
       "4         Employment Status_Part-time   2.271505\n",
       "5              Race / Ethnicity_Black   1.451397\n",
       "6              Race / Ethnicity_Mixed   1.478644\n",
       "7            Race / Ethnicity_Unknown   1.150264\n",
       "8              Race / Ethnicity_White   1.959490\n",
       "9          Gender Identity_Non-binary   1.074850\n",
       "10  Gender Identity_Prefer not to say   1.164492\n",
       "11              Gender Identity_Woman   1.161656\n",
       "12        Sexual Orientation_Straight   1.064107"
      ]
     },
     "execution_count": 73,
     "metadata": {},
     "output_type": "execute_result"
    }
   ],
   "source": [
    "# Check VIF to determine if we have multicollinearity amongst the independent variables\n",
    "from statsmodels.stats.outliers_influence import variance_inflation_factor\n",
    "vif = pd.DataFrame()\n",
    "vif[\"Features\"] = X2.columns\n",
    "vif[\"VIF\"] = [variance_inflation_factor(X2.values, i) for i in range(X2.shape[1])]\n",
    "vif"
   ]
  },
  {
   "cell_type": "markdown",
   "metadata": {},
   "source": [
    "This tells us that we do not have multicollinearity amongst our independent variables."
   ]
  },
  {
   "cell_type": "code",
   "execution_count": 74,
   "metadata": {},
   "outputs": [],
   "source": [
    "# Create train/test split\n",
    "X_train2, X_test2, y_train2, y_test2 = train_test_split(X2, y2, test_size=0.2, random_state=0)"
   ]
  },
  {
   "cell_type": "code",
   "execution_count": 75,
   "metadata": {
    "scrolled": false
   },
   "outputs": [
    {
     "name": "stdout",
     "output_type": "stream",
     "text": [
      "                            OLS Regression Results                            \n",
      "==============================================================================\n",
      "Dep. Variable:                 Salary   R-squared:                       0.399\n",
      "Model:                            OLS   Adj. R-squared:                  0.390\n",
      "Method:                 Least Squares   F-statistic:                     29.15\n",
      "Date:                Sat, 31 Oct 2020   Prob (F-statistic):           1.23e-54\n",
      "Time:                        15:09:46   Log-Likelihood:                -7630.2\n",
      "No. Observations:                 756   AIC:                         1.529e+04\n",
      "Df Residuals:                     743   BIC:                         1.535e+04\n",
      "Df Model:                          12                                         \n",
      "Covariance Type:                  HC0                                         \n",
      "=====================================================================================================\n",
      "                                        coef    std err          z      P>|z|      [0.025      0.975]\n",
      "-----------------------------------------------------------------------------------------------------\n",
      "const                              2.464e+04   1939.379     12.707      0.000    2.08e+04    2.84e+04\n",
      "Years in Publishing                1385.5030     81.499     17.000      0.000    1225.767    1545.239\n",
      "Employment Status_Full-time       -1401.1117   1620.125     -0.865      0.387   -4576.498    1774.275\n",
      "Employment Status_Other           -6260.8583   2342.056     -2.673      0.008   -1.09e+04   -1670.514\n",
      "Employment Status_Part-time       -6359.2721   2545.985     -2.498      0.012   -1.13e+04   -1369.233\n",
      "Race / Ethnicity_Black            -1419.2350   1365.895     -1.039      0.299   -4096.340    1257.870\n",
      "Race / Ethnicity_Mixed            -1502.8244   1120.328     -1.341      0.180   -3698.627     692.979\n",
      "Race / Ethnicity_Unknown           -398.4205   2333.986     -0.171      0.864   -4972.949    4176.108\n",
      "Race / Ethnicity_White              -47.6490    831.840     -0.057      0.954   -1678.024    1582.727\n",
      "Gender Identity_Non-binary        -1078.6627   1772.435     -0.609      0.543   -4552.572    2395.247\n",
      "Gender Identity_Prefer not to say  -313.8082   2292.365     -0.137      0.891   -4806.761    4179.144\n",
      "Gender Identity_Woman              -287.1824    908.312     -0.316      0.752   -2067.441    1493.077\n",
      "Sexual Orientation_Straight         534.2320    462.730      1.155      0.248    -372.702    1441.166\n",
      "==============================================================================\n",
      "Omnibus:                      314.018   Durbin-Watson:                   2.144\n",
      "Prob(Omnibus):                  0.000   Jarque-Bera (JB):             2525.527\n",
      "Skew:                           1.666   Prob(JB):                         0.00\n",
      "Kurtosis:                      11.311   Cond. No.                         110.\n",
      "==============================================================================\n",
      "\n",
      "Notes:\n",
      "[1] Standard Errors are heteroscedasticity robust (HC0)\n"
     ]
    }
   ],
   "source": [
    "# Create and fit sm model accounting for heteroscedasticity\n",
    "mlr_sm2 = sm.OLS(y_train2, X_train2).fit(cov_type='HC0')\n",
    "print(mlr_sm2.summary())"
   ]
  },
  {
   "cell_type": "markdown",
   "metadata": {},
   "source": [
    "Here we can see the summary statistics from our multiple linear regression model. The summary shows us that many of our features are statistically insignificant (p-value >0.05) so we will remove them and run the model again."
   ]
  },
  {
   "cell_type": "code",
   "execution_count": 76,
   "metadata": {},
   "outputs": [],
   "source": [
    "# Removing the features that were not significant\n",
    "not_significant = [\n",
    "    'Employment Status_Full-time',\n",
    "    'Race / Ethnicity_Black',\n",
    "    'Race / Ethnicity_Mixed',\n",
    "    'Race / Ethnicity_Unknown',\n",
    "    'Race / Ethnicity_White',\n",
    "    'Gender Identity_Non-binary',\n",
    "    'Gender Identity_Prefer not to say',\n",
    "    'Gender Identity_Woman',\n",
    "    'Sexual Orientation_Straight',\n",
    "]\n",
    "X3 = X2.drop(not_significant, axis=1)\n",
    "y3 = ukpub_final['Salary']"
   ]
  },
  {
   "cell_type": "code",
   "execution_count": 77,
   "metadata": {},
   "outputs": [],
   "source": [
    "# Create train/test split\n",
    "X_train3, X_test3, y_train3, y_test3 = train_test_split(X3, y3, test_size=0.2, random_state=0)"
   ]
  },
  {
   "cell_type": "code",
   "execution_count": 78,
   "metadata": {
    "scrolled": false
   },
   "outputs": [
    {
     "name": "stdout",
     "output_type": "stream",
     "text": [
      "                            OLS Regression Results                            \n",
      "==============================================================================\n",
      "Dep. Variable:                 Salary   R-squared:                       0.395\n",
      "Model:                            OLS   Adj. R-squared:                  0.392\n",
      "Method:                 Least Squares   F-statistic:                     111.3\n",
      "Date:                Sat, 31 Oct 2020   Prob (F-statistic):           1.20e-59\n",
      "Time:                        15:09:48   Log-Likelihood:                -7633.1\n",
      "No. Observations:                 756   AIC:                         1.527e+04\n",
      "Df Residuals:                     752   BIC:                         1.529e+04\n",
      "Df Model:                           3                                         \n",
      "Covariance Type:                  HC0                                         \n",
      "===============================================================================================\n",
      "                                  coef    std err          z      P>|z|      [0.025      0.975]\n",
      "-----------------------------------------------------------------------------------------------\n",
      "const                        2.322e+04    417.341     55.630      0.000    2.24e+04     2.4e+04\n",
      "Years in Publishing          1393.9260     81.652     17.072      0.000    1233.891    1553.961\n",
      "Employment Status_Other     -5423.4045   1436.732     -3.775      0.000   -8239.347   -2607.462\n",
      "Employment Status_Part-time -4975.7339   1920.349     -2.591      0.010   -8739.548   -1211.919\n",
      "==============================================================================\n",
      "Omnibus:                      317.921   Durbin-Watson:                   2.136\n",
      "Prob(Omnibus):                  0.000   Jarque-Bera (JB):             2569.264\n",
      "Skew:                           1.690   Prob(JB):                         0.00\n",
      "Kurtosis:                      11.375   Cond. No.                         87.8\n",
      "==============================================================================\n",
      "\n",
      "Notes:\n",
      "[1] Standard Errors are heteroscedasticity robust (HC0)\n"
     ]
    }
   ],
   "source": [
    "# Create and fit sm model accounting for heteroscedasticity\n",
    "mlr_sm3 = sm.OLS(y_train3, X_train3).fit(cov_type='HC0')\n",
    "print(mlr_sm3.summary())"
   ]
  },
  {
   "cell_type": "code",
   "execution_count": 79,
   "metadata": {},
   "outputs": [
    {
     "name": "stdout",
     "output_type": "stream",
     "text": [
      "RMSE: 6165.172848119142\n"
     ]
    }
   ],
   "source": [
    "from statsmodels.tools.eval_measures import rmse\n",
    "\n",
    "# Generate predictions\n",
    "y_hat3 = mlr_sm3.predict(X_test3)\n",
    "\n",
    "# Calc RMSE\n",
    "rmse3 = rmse(y_test3, y_hat3)\n",
    "print(f'RMSE: {rmse3}')"
   ]
  },
  {
   "cell_type": "markdown",
   "metadata": {},
   "source": [
    "Our RMSE is now down from 6462 to 6165 which means that our multiple linear regression is an improvement on our simple linear model, however, the value is still high indicating that we might be better off using a different model to capture the relationship between the independent variables and the dependent variable."
   ]
  },
  {
   "cell_type": "markdown",
   "metadata": {},
   "source": [
    "Lastly, we will perform cross-validation so that we can see how the model is likely to generalise on new data."
   ]
  },
  {
   "cell_type": "code",
   "execution_count": 80,
   "metadata": {},
   "outputs": [
    {
     "name": "stdout",
     "output_type": "stream",
     "text": [
      "Average RMSE: 5901.034319537699\n"
     ]
    }
   ],
   "source": [
    "# 5-fold cross-validation\n",
    "from sklearn.model_selection import cross_val_score\n",
    "\n",
    "X4 = X3.copy()\n",
    "y4 = y3.copy()\n",
    "\n",
    "# Create model and run cross-validation\n",
    "lrm_4 = LinearRegression()\n",
    "scores2 = cross_val_score(lrm_4, X4, y4, cv=5, scoring='neg_mean_squared_error')\n",
    "print(f'Average RMSE: {np.mean(np.sqrt(np.abs(scores2)))}')"
   ]
  },
  {
   "cell_type": "markdown",
   "metadata": {},
   "source": [
    "This RMSE is consistent with what we have seen in our previous models which indicates that it is representative of our model however there is still a large error associated with it."
   ]
  },
  {
   "cell_type": "markdown",
   "metadata": {},
   "source": [
    "<a id=\"conclusion\"></a>\n",
    "## 9. Conclusion\n",
    "---\n",
    "\n",
    "An analysis was undertaken to analyse the self-reported salaries of individuals who work at different levels within the publishing industry in the UK. It was found that the majority of individuals in the data were straight, white women who occupy full-time positions. Individuals whose race and ethnicty was unknown were on average the highest earners and had spent the most amount of years in publishing. Between 0 and around 13 years in publishing, salary on average increased gradually however after 13 years the relationship between years in publishing and salary became much more unpredictable.\n",
    "\n",
    "A simple regression analysis was used to test if years in publishing could predict an individual's salary in the publishing industry. The results of the simple regression indicated that years in publishing explains around 38.3% of the variance in salary (R²=0.38, F(1,754)=244.1, p<0.01) after accounting for heteroscedasticity.\n",
    "\n",
    "A multiple regression analysis was also used to test if employment status, race/ethnicity, gender identity, sexual orientation and years in publishing could predict an individual's salary in the publishing industry. The results of the multiple regression indicated that the five predictors explained 39% of the variance in salary (R²=0.39, F(12,743)=29.15, p<0.01) after accounting for heteroscedasticity. However, only years in publishing, employment status(part-time) and employment status(other) were statistically significant predictors of salary.\n",
    "\n",
    "After removing the non-significant predictors, a final multiple regression analysis was used with just years in publishing, employment status(part-time) and employment status(other). The results of the multiple regression indicated that the three predictors explained 39.2% of the variance in salary (R²=0.39, F(3,752)=111.3, p<0.01) after accounting for heteroscedasticity.\n",
    "\n",
    "After performing a 5-fold cross-validation with the final model, the average RMSE was 5901. Taken together with the above results, it can be concluded that the relationship between the features and salary is weak and the margin of error is high. Therefore, the model is not a good fit for the data and it may be explained better by using either a different regression model or a different type of model altogether."
   ]
  },
  {
   "cell_type": "markdown",
   "metadata": {},
   "source": [
    "<a id=\"future_recommendations\"></a>\n",
    "## 10. Future Recommendations\n",
    "---\n",
    "\n",
    "While our model was not very accurate, there are some insights we can take away to try and find a better model. Some recommendations for future work include:\n",
    "\n",
    "- Looking more into the job titles individuals have to see if there are any particular patterns between specific roles and salaries.\n",
    "\n",
    "- Combining the data with other sources to increase the number of features and make better predictions.\n",
    "\n",
    "- Transforming the independent and dependent variables to make them more representative of a normal distribution before training the model.\n",
    "\n",
    "- Using non-linear models to try and better capture the relationship between the features and salary."
   ]
  },
  {
   "cell_type": "markdown",
   "metadata": {},
   "source": [
    "**[Back to Top](#top)** <br>"
   ]
  }
 ],
 "metadata": {
  "kernelspec": {
   "display_name": "Python 3",
   "language": "python",
   "name": "python3"
  },
  "language_info": {
   "codemirror_mode": {
    "name": "ipython",
    "version": 3
   },
   "file_extension": ".py",
   "mimetype": "text/x-python",
   "name": "python",
   "nbconvert_exporter": "python",
   "pygments_lexer": "ipython3",
   "version": "3.8.5"
  }
 },
 "nbformat": 4,
 "nbformat_minor": 4
}
