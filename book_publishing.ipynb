{
 "cells": [
  {
   "cell_type": "markdown",
   "metadata": {},
   "source": [
    "# Book Publishing"
   ]
  },
  {
   "cell_type": "code",
   "execution_count": 1,
   "metadata": {},
   "outputs": [],
   "source": [
    "# Imports\n",
    "import re\n",
    "import pandas as pd\n",
    "import numpy as np\n",
    "import seaborn as sns\n",
    "import matplotlib.pyplot as plt\n",
    "%matplotlib inline"
   ]
  },
  {
   "cell_type": "code",
   "execution_count": 2,
   "metadata": {},
   "outputs": [],
   "source": [
    "# Read data\n",
    "uk_pub = pd.read_csv(\"data/Book Publishing Salary Transparency (UK) - Form responses 1.csv\")"
   ]
  },
  {
   "cell_type": "markdown",
   "metadata": {},
   "source": [
    "## UK Publishing"
   ]
  },
  {
   "cell_type": "markdown",
   "metadata": {},
   "source": [
    "#### Checking Data"
   ]
  },
  {
   "cell_type": "code",
   "execution_count": 3,
   "metadata": {},
   "outputs": [
    {
     "data": {
      "text/html": [
       "<div>\n",
       "<style scoped>\n",
       "    .dataframe tbody tr th:only-of-type {\n",
       "        vertical-align: middle;\n",
       "    }\n",
       "\n",
       "    .dataframe tbody tr th {\n",
       "        vertical-align: top;\n",
       "    }\n",
       "\n",
       "    .dataframe thead th {\n",
       "        text-align: right;\n",
       "    }\n",
       "</style>\n",
       "<table border=\"1\" class=\"dataframe\">\n",
       "  <thead>\n",
       "    <tr style=\"text-align: right;\">\n",
       "      <th></th>\n",
       "      <th>Timestamp</th>\n",
       "      <th>Job Title</th>\n",
       "      <th>Employer</th>\n",
       "      <th>Location</th>\n",
       "      <th>Salary</th>\n",
       "      <th>Employment Status</th>\n",
       "      <th>Race / Ethnicity</th>\n",
       "      <th>Gender Identity</th>\n",
       "      <th>Sexual Orientation</th>\n",
       "      <th>Years in Pubishing</th>\n",
       "      <th>Years of Overall Experience</th>\n",
       "      <th>Additional Compensation</th>\n",
       "      <th>Additional Information</th>\n",
       "      <th>Unnamed: 13</th>\n",
       "      <th>Unnamed: 14</th>\n",
       "    </tr>\n",
       "  </thead>\n",
       "  <tbody>\n",
       "    <tr>\n",
       "      <th>0</th>\n",
       "      <td>17/06/2020 10:42:08</td>\n",
       "      <td>Marketing manager</td>\n",
       "      <td>Penguin Random House</td>\n",
       "      <td>London</td>\n",
       "      <td>£36k</td>\n",
       "      <td>Full-time</td>\n",
       "      <td>White</td>\n",
       "      <td>Woman (cisgender)</td>\n",
       "      <td>Straight</td>\n",
       "      <td>3</td>\n",
       "      <td>9</td>\n",
       "      <td>Annual bonus</td>\n",
       "      <td>NaN</td>\n",
       "      <td>NaN</td>\n",
       "      <td>NaN</td>\n",
       "    </tr>\n",
       "    <tr>\n",
       "      <th>1</th>\n",
       "      <td>17/06/2020 10:45:51</td>\n",
       "      <td>Early careere coordinator</td>\n",
       "      <td>Penguin random house</td>\n",
       "      <td>London</td>\n",
       "      <td>23,000 per annum</td>\n",
       "      <td>Full-time</td>\n",
       "      <td>Black african</td>\n",
       "      <td>Woman (cisgender)</td>\n",
       "      <td>Bisexual</td>\n",
       "      <td>2</td>\n",
       "      <td>2</td>\n",
       "      <td>Can't remember</td>\n",
       "      <td>NaN</td>\n",
       "      <td>NaN</td>\n",
       "      <td>NaN</td>\n",
       "    </tr>\n",
       "    <tr>\n",
       "      <th>2</th>\n",
       "      <td>17/06/2020 10:51:09</td>\n",
       "      <td>Audience and Digital Development Assistant</td>\n",
       "      <td>Penguin random house</td>\n",
       "      <td>London</td>\n",
       "      <td>£23,000</td>\n",
       "      <td>Full-time</td>\n",
       "      <td>British Indian</td>\n",
       "      <td>Woman (cisgender)</td>\n",
       "      <td>Straight</td>\n",
       "      <td>1</td>\n",
       "      <td>4</td>\n",
       "      <td>1% increase after 7 months in line with the re...</td>\n",
       "      <td>I worked in publishing 2016-17. After leaving ...</td>\n",
       "      <td>NaN</td>\n",
       "      <td>NaN</td>\n",
       "    </tr>\n",
       "    <tr>\n",
       "      <th>3</th>\n",
       "      <td>17/06/2020 10:58:25</td>\n",
       "      <td>Publicity Officer</td>\n",
       "      <td>Penguin Random House</td>\n",
       "      <td>80 Strand</td>\n",
       "      <td>£28,000</td>\n",
       "      <td>Full-time</td>\n",
       "      <td>White British</td>\n",
       "      <td>Woman (cisgender)</td>\n",
       "      <td>Pansexual</td>\n",
       "      <td>3</td>\n",
       "      <td>6</td>\n",
       "      <td>Annual bonus of approx £500, all expenses paid...</td>\n",
       "      <td>This role was my first and only role in publis...</td>\n",
       "      <td>NaN</td>\n",
       "      <td>NaN</td>\n",
       "    </tr>\n",
       "    <tr>\n",
       "      <th>4</th>\n",
       "      <td>17/06/2020 11:03:40</td>\n",
       "      <td>Creative art worker</td>\n",
       "      <td>Pan Macmillan Publishing</td>\n",
       "      <td>London</td>\n",
       "      <td>£115 per day</td>\n",
       "      <td>Contract</td>\n",
       "      <td>British Indian</td>\n",
       "      <td>Woman (cisgender)</td>\n",
       "      <td>Straight</td>\n",
       "      <td>7</td>\n",
       "      <td>10</td>\n",
       "      <td>0</td>\n",
       "      <td>I was pregnant</td>\n",
       "      <td>NaN</td>\n",
       "      <td>NaN</td>\n",
       "    </tr>\n",
       "  </tbody>\n",
       "</table>\n",
       "</div>"
      ],
      "text/plain": [
       "             Timestamp                                    Job Title  \\\n",
       "0  17/06/2020 10:42:08                            Marketing manager   \n",
       "1  17/06/2020 10:45:51                   Early careere coordinator    \n",
       "2  17/06/2020 10:51:09  Audience and Digital Development Assistant    \n",
       "3  17/06/2020 10:58:25                            Publicity Officer   \n",
       "4  17/06/2020 11:03:40                          Creative art worker   \n",
       "\n",
       "                    Employer   Location            Salary Employment Status  \\\n",
       "0       Penguin Random House     London              £36k         Full-time   \n",
       "1       Penguin random house     London  23,000 per annum         Full-time   \n",
       "2      Penguin random house      London           £23,000         Full-time   \n",
       "3       Penguin Random House  80 Strand           £28,000         Full-time   \n",
       "4  Pan Macmillan Publishing     London      £115 per day           Contract   \n",
       "\n",
       "  Race / Ethnicity    Gender Identity Sexual Orientation Years in Pubishing  \\\n",
       "0            White  Woman (cisgender)           Straight                  3   \n",
       "1   Black african   Woman (cisgender)           Bisexual                  2   \n",
       "2   British Indian  Woman (cisgender)           Straight                  1   \n",
       "3    White British  Woman (cisgender)          Pansexual                  3   \n",
       "4  British Indian   Woman (cisgender)           Straight                  7   \n",
       "\n",
       "  Years of Overall Experience  \\\n",
       "0                           9   \n",
       "1                           2   \n",
       "2                           4   \n",
       "3                           6   \n",
       "4                          10   \n",
       "\n",
       "                             Additional Compensation  \\\n",
       "0                                       Annual bonus   \n",
       "1                                     Can't remember   \n",
       "2  1% increase after 7 months in line with the re...   \n",
       "3  Annual bonus of approx £500, all expenses paid...   \n",
       "4                                                  0   \n",
       "\n",
       "                              Additional Information Unnamed: 13 Unnamed: 14  \n",
       "0                                                NaN         NaN         NaN  \n",
       "1                                                NaN         NaN         NaN  \n",
       "2  I worked in publishing 2016-17. After leaving ...         NaN         NaN  \n",
       "3  This role was my first and only role in publis...         NaN         NaN  \n",
       "4                                    I was pregnant          NaN         NaN  "
      ]
     },
     "execution_count": 3,
     "metadata": {},
     "output_type": "execute_result"
    }
   ],
   "source": [
    "uk_pub.head()"
   ]
  },
  {
   "cell_type": "code",
   "execution_count": 4,
   "metadata": {},
   "outputs": [
    {
     "name": "stdout",
     "output_type": "stream",
     "text": [
      "<class 'pandas.core.frame.DataFrame'>\n",
      "RangeIndex: 1021 entries, 0 to 1020\n",
      "Data columns (total 15 columns):\n",
      " #   Column                       Non-Null Count  Dtype \n",
      "---  ------                       --------------  ----- \n",
      " 0   Timestamp                    1018 non-null   object\n",
      " 1   Job Title                    1020 non-null   object\n",
      " 2   Employer                     1021 non-null   object\n",
      " 3   Location                     975 non-null    object\n",
      " 4   Salary                       1021 non-null   object\n",
      " 5   Employment Status            1021 non-null   object\n",
      " 6   Race / Ethnicity             1011 non-null   object\n",
      " 7   Gender Identity              1020 non-null   object\n",
      " 8   Sexual Orientation           1008 non-null   object\n",
      " 9   Years in Pubishing           1008 non-null   object\n",
      " 10  Years of Overall Experience  986 non-null    object\n",
      " 11  Additional Compensation      900 non-null    object\n",
      " 12  Additional Information       420 non-null    object\n",
      " 13  Unnamed: 13                  7 non-null      object\n",
      " 14  Unnamed: 14                  1 non-null      object\n",
      "dtypes: object(15)\n",
      "memory usage: 119.8+ KB\n"
     ]
    }
   ],
   "source": [
    "uk_pub.info()"
   ]
  },
  {
   "cell_type": "code",
   "execution_count": 5,
   "metadata": {},
   "outputs": [
    {
     "data": {
      "text/plain": [
       "(1021, 15)"
      ]
     },
     "execution_count": 5,
     "metadata": {},
     "output_type": "execute_result"
    }
   ],
   "source": [
    "uk_pub.shape"
   ]
  },
  {
   "cell_type": "markdown",
   "metadata": {},
   "source": [
    "#### Cleaning Data"
   ]
  },
  {
   "cell_type": "code",
   "execution_count": 6,
   "metadata": {},
   "outputs": [
    {
     "data": {
      "text/plain": [
       "Index(['Timestamp', 'Job Title', 'Employer', 'Location', 'Salary',\n",
       "       'Employment Status', 'Race / Ethnicity', 'Gender Identity',\n",
       "       'Sexual Orientation', 'Years in Pubishing',\n",
       "       'Years of Overall Experience', 'Additional Compensation',\n",
       "       'Additional Information', 'Unnamed: 13', 'Unnamed: 14'],\n",
       "      dtype='object')"
      ]
     },
     "execution_count": 6,
     "metadata": {},
     "output_type": "execute_result"
    }
   ],
   "source": [
    "# Check columns\n",
    "uk_pub.columns"
   ]
  },
  {
   "cell_type": "code",
   "execution_count": 7,
   "metadata": {},
   "outputs": [],
   "source": [
    "# Extract columns that we will be working with\n",
    "cols = ['Job Title', 'Salary', 'Employment Status','Race / Ethnicity', 'Gender Identity',\n",
    "       'Sexual Orientation', 'Years in Pubishing']\n",
    "uk_pub = uk_pub.loc[:, cols]"
   ]
  },
  {
   "cell_type": "code",
   "execution_count": 8,
   "metadata": {
    "scrolled": true
   },
   "outputs": [
    {
     "data": {
      "text/plain": [
       "Job Title              1\n",
       "Salary                 0\n",
       "Employment Status      0\n",
       "Race / Ethnicity      10\n",
       "Gender Identity        1\n",
       "Sexual Orientation    13\n",
       "Years in Pubishing    13\n",
       "dtype: int64"
      ]
     },
     "execution_count": 8,
     "metadata": {},
     "output_type": "execute_result"
    }
   ],
   "source": [
    "# Check missing values\n",
    "uk_pub.isnull().sum()"
   ]
  },
  {
   "cell_type": "code",
   "execution_count": 9,
   "metadata": {},
   "outputs": [],
   "source": [
    "# Rename misspelling in column name\n",
    "uk_pub.rename(columns={'Years in Pubishing':'Years in Publishing'}, inplace=True)"
   ]
  },
  {
   "cell_type": "code",
   "execution_count": 10,
   "metadata": {},
   "outputs": [
    {
     "data": {
      "image/png": "[encoded data removed]",
      "text/plain": [
       "<Figure size 720x288 with 1 Axes>"
      ]
     },
     "metadata": {
      "needs_background": "light"
     },
     "output_type": "display_data"
    }
   ],
   "source": [
    "# Visualise missing data\n",
    "fig, ax = plt.subplots(figsize=(10,4))\n",
    "ax = sns.heatmap(uk_pub.isnull(),yticklabels=False,cbar=False,cmap='plasma')"
   ]
  },
  {
   "cell_type": "code",
   "execution_count": 11,
   "metadata": {
    "scrolled": true
   },
   "outputs": [
    {
     "data": {
      "text/html": [
       "<div>\n",
       "<style scoped>\n",
       "    .dataframe tbody tr th:only-of-type {\n",
       "        vertical-align: middle;\n",
       "    }\n",
       "\n",
       "    .dataframe tbody tr th {\n",
       "        vertical-align: top;\n",
       "    }\n",
       "\n",
       "    .dataframe thead th {\n",
       "        text-align: right;\n",
       "    }\n",
       "</style>\n",
       "<table border=\"1\" class=\"dataframe\">\n",
       "  <thead>\n",
       "    <tr style=\"text-align: right;\">\n",
       "      <th></th>\n",
       "      <th>Job Title</th>\n",
       "      <th>Salary</th>\n",
       "      <th>Employment Status</th>\n",
       "      <th>Race / Ethnicity</th>\n",
       "      <th>Gender Identity</th>\n",
       "      <th>Sexual Orientation</th>\n",
       "      <th>Years in Publishing</th>\n",
       "    </tr>\n",
       "  </thead>\n",
       "  <tbody>\n",
       "    <tr>\n",
       "      <th>0</th>\n",
       "      <td>Marketing manager</td>\n",
       "      <td>£36k</td>\n",
       "      <td>Full-time</td>\n",
       "      <td>White</td>\n",
       "      <td>Woman (cisgender)</td>\n",
       "      <td>Straight</td>\n",
       "      <td>3</td>\n",
       "    </tr>\n",
       "    <tr>\n",
       "      <th>1</th>\n",
       "      <td>Early careere coordinator</td>\n",
       "      <td>23,000 per annum</td>\n",
       "      <td>Full-time</td>\n",
       "      <td>Black african</td>\n",
       "      <td>Woman (cisgender)</td>\n",
       "      <td>Bisexual</td>\n",
       "      <td>2</td>\n",
       "    </tr>\n",
       "    <tr>\n",
       "      <th>2</th>\n",
       "      <td>Audience and Digital Development Assistant</td>\n",
       "      <td>£23,000</td>\n",
       "      <td>Full-time</td>\n",
       "      <td>British Indian</td>\n",
       "      <td>Woman (cisgender)</td>\n",
       "      <td>Straight</td>\n",
       "      <td>1</td>\n",
       "    </tr>\n",
       "    <tr>\n",
       "      <th>3</th>\n",
       "      <td>Publicity Officer</td>\n",
       "      <td>£28,000</td>\n",
       "      <td>Full-time</td>\n",
       "      <td>White British</td>\n",
       "      <td>Woman (cisgender)</td>\n",
       "      <td>Pansexual</td>\n",
       "      <td>3</td>\n",
       "    </tr>\n",
       "    <tr>\n",
       "      <th>4</th>\n",
       "      <td>Creative art worker</td>\n",
       "      <td>£115 per day</td>\n",
       "      <td>Contract</td>\n",
       "      <td>British Indian</td>\n",
       "      <td>Woman (cisgender)</td>\n",
       "      <td>Straight</td>\n",
       "      <td>7</td>\n",
       "    </tr>\n",
       "  </tbody>\n",
       "</table>\n",
       "</div>"
      ],
      "text/plain": [
       "                                     Job Title            Salary  \\\n",
       "0                            Marketing manager              £36k   \n",
       "1                   Early careere coordinator   23,000 per annum   \n",
       "2  Audience and Digital Development Assistant            £23,000   \n",
       "3                            Publicity Officer           £28,000   \n",
       "4                          Creative art worker     £115 per day    \n",
       "\n",
       "  Employment Status Race / Ethnicity    Gender Identity Sexual Orientation  \\\n",
       "0         Full-time            White  Woman (cisgender)           Straight   \n",
       "1         Full-time   Black african   Woman (cisgender)           Bisexual   \n",
       "2         Full-time   British Indian  Woman (cisgender)           Straight   \n",
       "3         Full-time    White British  Woman (cisgender)          Pansexual   \n",
       "4          Contract  British Indian   Woman (cisgender)           Straight   \n",
       "\n",
       "  Years in Publishing  \n",
       "0                   3  \n",
       "1                   2  \n",
       "2                   1  \n",
       "3                   3  \n",
       "4                   7  "
      ]
     },
     "execution_count": 11,
     "metadata": {},
     "output_type": "execute_result"
    }
   ],
   "source": [
    "uk_pub.head()"
   ]
  },
  {
   "cell_type": "markdown",
   "metadata": {},
   "source": [
    "#### Years in Publishing Column"
   ]
  },
  {
   "cell_type": "code",
   "execution_count": 12,
   "metadata": {},
   "outputs": [],
   "source": [
    "# Replace all instances of 'Less than 1' to 0 in 'Years in Publishing' column\n",
    "uk_pub.loc[uk_pub['Years in Publishing'] == 'Less than 1', 'Years in Publishing'] = 0"
   ]
  },
  {
   "cell_type": "code",
   "execution_count": 13,
   "metadata": {},
   "outputs": [],
   "source": [
    "# Convert 'Years in Publishing' to numeric data type\n",
    "uk_pub['Years in Publishing'] = pd.to_numeric(uk_pub['Years in Publishing'], errors='coerce')"
   ]
  },
  {
   "cell_type": "code",
   "execution_count": 14,
   "metadata": {
    "scrolled": false
   },
   "outputs": [
    {
     "data": {
      "text/plain": [
       "3.0     150\n",
       "4.0     141\n",
       "5.0     126\n",
       "2.0     118\n",
       "7.0      75\n",
       "6.0      67\n",
       "1.0      61\n",
       "0.0      53\n",
       "8.0      52\n",
       "10.0     34\n",
       "9.0      25\n",
       "12.0     22\n",
       "11.0     20\n",
       "NaN      14\n",
       "15.0     13\n",
       "14.0     12\n",
       "13.0     10\n",
       "20.0      8\n",
       "16.0      5\n",
       "18.0      4\n",
       "19.0      3\n",
       "21.0      2\n",
       "24.0      2\n",
       "25.0      1\n",
       "27.0      1\n",
       "26.0      1\n",
       "17.0      1\n",
       "Name: Years in Publishing, dtype: int64"
      ]
     },
     "execution_count": 14,
     "metadata": {},
     "output_type": "execute_result"
    }
   ],
   "source": [
    "# Check value counts for years in publishing\n",
    "uk_pub['Years in Publishing'].value_counts(dropna=False)"
   ]
  },
  {
   "cell_type": "code",
   "execution_count": 15,
   "metadata": {},
   "outputs": [
    {
     "data": {
      "image/png": "[encoded data removed]",
      "text/plain": [
       "<Figure size 432x288 with 1 Axes>"
      ]
     },
     "metadata": {
      "needs_background": "light"
     },
     "output_type": "display_data"
    }
   ],
   "source": [
    "# Visualise the distribution of years in ublishing\n",
    "uk_pub['Years in Publishing'].hist();"
   ]
  },
  {
   "cell_type": "code",
   "execution_count": 16,
   "metadata": {},
   "outputs": [
    {
     "data": {
      "image/png": "[encoded data removed]",
      "text/plain": [
       "<Figure size 432x288 with 1 Axes>"
      ]
     },
     "metadata": {
      "needs_background": "light"
     },
     "output_type": "display_data"
    }
   ],
   "source": [
    "# Boxplot for years in publishing\n",
    "uk_pub.boxplot(column=['Years in Publishing']);"
   ]
  },
  {
   "cell_type": "code",
   "execution_count": 17,
   "metadata": {},
   "outputs": [
    {
     "data": {
      "text/html": [
       "<div>\n",
       "<style scoped>\n",
       "    .dataframe tbody tr th:only-of-type {\n",
       "        vertical-align: middle;\n",
       "    }\n",
       "\n",
       "    .dataframe tbody tr th {\n",
       "        vertical-align: top;\n",
       "    }\n",
       "\n",
       "    .dataframe thead th {\n",
       "        text-align: right;\n",
       "    }\n",
       "</style>\n",
       "<table border=\"1\" class=\"dataframe\">\n",
       "  <thead>\n",
       "    <tr style=\"text-align: right;\">\n",
       "      <th></th>\n",
       "      <th>Years in Publishing</th>\n",
       "    </tr>\n",
       "  </thead>\n",
       "  <tbody>\n",
       "    <tr>\n",
       "      <th>count</th>\n",
       "      <td>1007.000000</td>\n",
       "    </tr>\n",
       "    <tr>\n",
       "      <th>mean</th>\n",
       "      <td>5.342602</td>\n",
       "    </tr>\n",
       "    <tr>\n",
       "      <th>std</th>\n",
       "      <td>4.129225</td>\n",
       "    </tr>\n",
       "    <tr>\n",
       "      <th>min</th>\n",
       "      <td>0.000000</td>\n",
       "    </tr>\n",
       "    <tr>\n",
       "      <th>25%</th>\n",
       "      <td>3.000000</td>\n",
       "    </tr>\n",
       "    <tr>\n",
       "      <th>50%</th>\n",
       "      <td>4.000000</td>\n",
       "    </tr>\n",
       "    <tr>\n",
       "      <th>75%</th>\n",
       "      <td>7.000000</td>\n",
       "    </tr>\n",
       "    <tr>\n",
       "      <th>max</th>\n",
       "      <td>27.000000</td>\n",
       "    </tr>\n",
       "  </tbody>\n",
       "</table>\n",
       "</div>"
      ],
      "text/plain": [
       "       Years in Publishing\n",
       "count          1007.000000\n",
       "mean              5.342602\n",
       "std               4.129225\n",
       "min               0.000000\n",
       "25%               3.000000\n",
       "50%               4.000000\n",
       "75%               7.000000\n",
       "max              27.000000"
      ]
     },
     "execution_count": 17,
     "metadata": {},
     "output_type": "execute_result"
    }
   ],
   "source": [
    "# Descriptive statistics for years in publishing\n",
    "uk_pub[['Years in Publishing']].describe()"
   ]
  },
  {
   "cell_type": "code",
   "execution_count": 18,
   "metadata": {},
   "outputs": [],
   "source": [
    "# Due to the number of outliers we will fill the null values with median instad of mean\n",
    "uk_pub['Years in Publishing'].fillna(uk_pub['Years in Publishing'].median(), inplace=True)"
   ]
  },
  {
   "cell_type": "code",
   "execution_count": 19,
   "metadata": {},
   "outputs": [],
   "source": [
    "# Do I need to do anything to deal with the outliers? -- Don't think so"
   ]
  },
  {
   "cell_type": "markdown",
   "metadata": {},
   "source": [
    "#### Gender Identity Column"
   ]
  },
  {
   "cell_type": "code",
   "execution_count": 20,
   "metadata": {},
   "outputs": [
    {
     "data": {
      "text/plain": [
       "Woman (cisgender)                                                           884\n",
       "Man (cisgender)                                                             110\n",
       "Prefer not to say                                                            14\n",
       "Non-binary                                                                    7\n",
       "Woman (non-binary)                                                            2\n",
       "https://unitetheunion.org/why-join/membership-types/unite-young-members/      1\n",
       "White (Scandinavian immigrant)                                                1\n",
       "Prefer to self-describe                                                       1\n",
       "Name: Gender Identity, dtype: int64"
      ]
     },
     "execution_count": 20,
     "metadata": {},
     "output_type": "execute_result"
    }
   ],
   "source": [
    "# Check value counts of gender identity\n",
    "uk_pub['Gender Identity'].value_counts()"
   ]
  },
  {
   "cell_type": "markdown",
   "metadata": {},
   "source": [
    "Here we have a few strange values that we will need to deal with. From the Woman (non-binary) down, it is unclear what these people's Gender Identity is so we will have to filter them out. Luckily, they only  comprise of 5 individuals."
   ]
  },
  {
   "cell_type": "code",
   "execution_count": 21,
   "metadata": {},
   "outputs": [],
   "source": [
    "# Filter out those groups which have less than 5 people in them\n",
    "uk_pub = uk_pub.groupby('Gender Identity').filter(lambda x: len(x) > 5)"
   ]
  },
  {
   "cell_type": "code",
   "execution_count": 22,
   "metadata": {},
   "outputs": [],
   "source": [
    "# Remove '(cisgender)' from 'Woman' and 'Man'\n",
    "uk_pub.loc[uk_pub['Gender Identity'] == 'Woman (cisgender)', 'Gender Identity'] = 'Woman'\n",
    "uk_pub.loc[uk_pub['Gender Identity'] == 'Man (cisgender)', 'Gender Identity'] = 'Man'"
   ]
  },
  {
   "cell_type": "code",
   "execution_count": 23,
   "metadata": {},
   "outputs": [
    {
     "data": {
      "text/plain": [
       "Woman                884\n",
       "Man                  110\n",
       "Prefer not to say     14\n",
       "Non-binary             7\n",
       "Name: Gender Identity, dtype: int64"
      ]
     },
     "execution_count": 23,
     "metadata": {},
     "output_type": "execute_result"
    }
   ],
   "source": [
    "# Check value counts of gender identity\n",
    "uk_pub['Gender Identity'].value_counts()"
   ]
  },
  {
   "cell_type": "code",
   "execution_count": 24,
   "metadata": {},
   "outputs": [],
   "source": [
    "# Need to encode these using pd.get_dummies later on"
   ]
  },
  {
   "cell_type": "markdown",
   "metadata": {},
   "source": [
    "#### Sexual Orientation Column"
   ]
  },
  {
   "cell_type": "code",
   "execution_count": 25,
   "metadata": {},
   "outputs": [
    {
     "data": {
      "text/plain": [
       "Straight                                          733\n",
       "Bisexual                                          109\n",
       "Prefer not to say                                  53\n",
       "Queer                                              32\n",
       "Gay                                                22\n",
       "Questioning                                        16\n",
       "Lesbian                                            14\n",
       "Pansexual                                          12\n",
       "NaN                                                12\n",
       "Asexual                                             9\n",
       "Demisexual                                          1\n",
       "no labels (not straight but sexuality is fake)      1\n",
       "Asexual/Queer                                       1\n",
       "Name: Sexual Orientation, dtype: int64"
      ]
     },
     "execution_count": 25,
     "metadata": {},
     "output_type": "execute_result"
    }
   ],
   "source": [
    "# Check values for sexual orientation\n",
    "uk_pub['Sexual Orientation'].value_counts(dropna=False)"
   ]
  },
  {
   "cell_type": "code",
   "execution_count": 26,
   "metadata": {},
   "outputs": [],
   "source": [
    "# Fill null values with mode\n",
    "uk_pub['Sexual Orientation'].fillna(uk_pub['Sexual Orientation'].mode()[0], inplace=True)"
   ]
  },
  {
   "cell_type": "code",
   "execution_count": 27,
   "metadata": {},
   "outputs": [],
   "source": [
    "# Group all non-straight into a single category\n",
    "uk_pub.loc[uk_pub['Sexual Orientation'] != 'Straight', 'Sexual Orientation'] = 'LGBTQ'"
   ]
  },
  {
   "cell_type": "markdown",
   "metadata": {},
   "source": [
    "#### Race/Ethnicity Column"
   ]
  },
  {
   "cell_type": "code",
   "execution_count": 28,
   "metadata": {
    "scrolled": false
   },
   "outputs": [
    {
     "data": {
      "text/plain": [
       "array(['White', 'Black african ', 'British Indian', 'White British',\n",
       "       'British Indian ', 'White British ', 'White Australian',\n",
       "       'Black Caribbean ', 'Pakistani', 'Caucasian ', 'Black British ',\n",
       "       'Black', 'White/Irish', 'Caucasian', 'White ', 'Asian',\n",
       "       'Caucasian / Greek', 'Chinese', 'White, British',\n",
       "       'White (Not British)', 'White/irish', 'White/British',\n",
       "       'British Asian', 'Mixed (White British and British Indian)',\n",
       "       'Mixed', 'Black/African-British', 'White (other)',\n",
       "       'Mixed race - White and East Asian', 'white', 'White European',\n",
       "       'South Asian ', 'White/European', 'South Asian', 'white british',\n",
       "       'Mixed white and asian', 'White british', 'Black British',\n",
       "       'Mixed - White/Asian', 'South-Asian', 'white (other)',\n",
       "       'Mixed (White and Asian)', 'Mixed Afro/Indo Caribbean and White',\n",
       "       'White/Irish ', 'British Asian ', 'South Asian origin',\n",
       "       'British Asian - Indian ', 'Black African ',\n",
       "       'British Asian - Indian', 'White/Britsh',\n",
       "       'Mixed - white and brown', 'White, American', 'White, non-British',\n",
       "       'White (British)', 'Not white', 'Caucasian (Latinx)',\n",
       "       'White/Asian', 'Mixed white/south Asian ', 'White - Irish', nan,\n",
       "       'Mixed Race', 'White (not British)', 'British Asian (South Asian)',\n",
       "       'White, Not British', 'White (European)', 'Mixed - Indian/White',\n",
       "       'White Brit', 'Mixed (British and Asian) ', 'White Other',\n",
       "       'White European (mixed British/French) ',\n",
       "       'Mixed Black Caribbean / White', 'Mixed - Asian and White',\n",
       "       'White European ', 'white ', 'British Bangladeshi ', 'Asian ',\n",
       "       'White Irish', 'Black African', 'White non British',\n",
       "       'white dual nationality', 'Mixed race', 'White/Other', 'BAME',\n",
       "       'White and Black Caribbean', 'White european', 'Mixed/British',\n",
       "       'British-Bangladeshi', 'British (white)', 'Indian ',\n",
       "       'White/British ', 'British Chinese', 'Chinese/White',\n",
       "       'White European (Latvian)', 'Mixed - Black and White',\n",
       "       'White European (non-British)', 'Indian',\n",
       "       'Mixed (White & Black Caribbean)', 'Continental European',\n",
       "       'white European', 'Mixed (SE Asian/white)',\n",
       "       'Bi-racial Asian and white', 'SEA & White', 'Black Caribbean',\n",
       "       'White - British', 'White, not British  ', 'White American ',\n",
       "       'White other', 'White non-British', 'Mixed - White and Asian',\n",
       "       'white British', 'White Birtish', 'White – English/American',\n",
       "       'Mixed - White & Black Caribbean', 'White /Irish', 'White Irish ',\n",
       "       'Mixed white & asian', 'White / British', 'British Insian',\n",
       "       'Mixed - white and Romany ', 'White / Irish ', 'White/ Irish',\n",
       "       'White, other', 'White (Non-British)', 'British',\n",
       "       'White, not British', 'caucasian ', 'White/ British', 'Other',\n",
       "       'British, white', 'white (non-british)', 'white, british',\n",
       "       'Mixed: White/Asian',\n",
       "       'White (not British, from an Western European EU country)',\n",
       "       'White + Christian', 'White / European', 'Mixed white/Asian',\n",
       "       'White britsh', 'White and Asian ', 'Mixed, non-white',\n",
       "       'White (North American)', 'White british ', 'British Pakistani',\n",
       "       'White/Scottish', 'White (Jewish)', 'Pakistani ',\n",
       "       'White / Anglo-Irish', 'mixed - non-white', 'White/Caucasian ',\n",
       "       'White Caucasian', 'Whote', 'White / British ', 'British/Irish',\n",
       "       'Mixed - White and Black Caribbean', '0', 'English',\n",
       "       'black caribbean', 'white/british',\n",
       "       'Mixed race (Black Caribbean/White)', 'Mixed Jewish Heritage',\n",
       "       'South East Asian', 'White, European', 'White Other ',\n",
       "       'White / Other'], dtype=object)"
      ]
     },
     "execution_count": 28,
     "metadata": {},
     "output_type": "execute_result"
    }
   ],
   "source": [
    "# Check unique values for race and ethnicity\n",
    "uk_pub['Race / Ethnicity'].unique()"
   ]
  },
  {
   "cell_type": "code",
   "execution_count": 29,
   "metadata": {},
   "outputs": [],
   "source": [
    "# Fill null values with mode\n",
    "uk_pub['Race / Ethnicity'].fillna(uk_pub['Race / Ethnicity'].mode()[0], inplace=True)"
   ]
  },
  {
   "cell_type": "code",
   "execution_count": 30,
   "metadata": {},
   "outputs": [],
   "source": [
    "# Correct specific values before applying function\n",
    "uk_pub.loc[uk_pub['Race / Ethnicity'] == 'Not white', 'Race / Ethnicity'] = 'Other'\n",
    "uk_pub.loc[uk_pub['Race / Ethnicity'] == 'Whote', 'Race / Ethnicity'] = 'White'\n",
    "uk_pub.loc[uk_pub['Race / Ethnicity'] == 'British Insian', 'Race / Ethnicity'] = 'British Indian'"
   ]
  },
  {
   "cell_type": "code",
   "execution_count": 31,
   "metadata": {},
   "outputs": [
    {
     "data": {
      "text/plain": [
       "32           Chinese\n",
       "77           Chinese\n",
       "252          Chinese\n",
       "462    Chinese/White\n",
       "492          Chinese\n",
       "616          Chinese\n",
       "653          Chinese\n",
       "734          Chinese\n",
       "Name: Race / Ethnicity, dtype: object"
      ]
     },
     "execution_count": 31,
     "metadata": {},
     "output_type": "execute_result"
    }
   ],
   "source": [
    "# Check for matches of specific races -- Might need to remove this later on\n",
    "uk_pub[uk_pub['Race / Ethnicity'].str.match('Chinese')]['Race / Ethnicity']"
   ]
  },
  {
   "cell_type": "code",
   "execution_count": 32,
   "metadata": {},
   "outputs": [],
   "source": [
    "# Function for simplifying race\n",
    "def simplify_race(x):\n",
    "    if 'mixed' in x.lower():\n",
    "        return 'Mixed'\n",
    "    elif 'black' in x.lower() or 'bame' in x.lower():\n",
    "        return 'Black'\n",
    "    elif 'asian' in x.lower() or 'chinese' in x.lower() or 'indian' in x.lower() or \\\n",
    "                                 'pakistani' in x.lower() or 'bangladeshi' in x.lower():\n",
    "        return 'Asian'\n",
    "    elif 'white' in x.lower() or 'caucasian' in x.lower():\n",
    "        return 'White'\n",
    "    else:\n",
    "        return 'Unknown'"
   ]
  },
  {
   "cell_type": "code",
   "execution_count": 33,
   "metadata": {},
   "outputs": [],
   "source": [
    "# Apply function\n",
    "uk_pub['Race / Ethnicity'] = uk_pub['Race / Ethnicity'].apply(simplify_race)"
   ]
  },
  {
   "cell_type": "code",
   "execution_count": 34,
   "metadata": {},
   "outputs": [
    {
     "data": {
      "text/plain": [
       "5"
      ]
     },
     "execution_count": 34,
     "metadata": {},
     "output_type": "execute_result"
    }
   ],
   "source": [
    "# Check number of unique values\n",
    "uk_pub['Race / Ethnicity'].nunique()"
   ]
  },
  {
   "cell_type": "code",
   "execution_count": 35,
   "metadata": {},
   "outputs": [
    {
     "data": {
      "text/html": [
       "<div>\n",
       "<style scoped>\n",
       "    .dataframe tbody tr th:only-of-type {\n",
       "        vertical-align: middle;\n",
       "    }\n",
       "\n",
       "    .dataframe tbody tr th {\n",
       "        vertical-align: top;\n",
       "    }\n",
       "\n",
       "    .dataframe thead th {\n",
       "        text-align: right;\n",
       "    }\n",
       "</style>\n",
       "<table border=\"1\" class=\"dataframe\">\n",
       "  <thead>\n",
       "    <tr style=\"text-align: right;\">\n",
       "      <th></th>\n",
       "      <th>Job Title</th>\n",
       "      <th>Salary</th>\n",
       "      <th>Employment Status</th>\n",
       "      <th>Race / Ethnicity</th>\n",
       "      <th>Gender Identity</th>\n",
       "      <th>Sexual Orientation</th>\n",
       "      <th>Years in Publishing</th>\n",
       "    </tr>\n",
       "  </thead>\n",
       "  <tbody>\n",
       "    <tr>\n",
       "      <th>0</th>\n",
       "      <td>Marketing manager</td>\n",
       "      <td>£36k</td>\n",
       "      <td>Full-time</td>\n",
       "      <td>White</td>\n",
       "      <td>Woman</td>\n",
       "      <td>Straight</td>\n",
       "      <td>3.0</td>\n",
       "    </tr>\n",
       "    <tr>\n",
       "      <th>1</th>\n",
       "      <td>Early careere coordinator</td>\n",
       "      <td>23,000 per annum</td>\n",
       "      <td>Full-time</td>\n",
       "      <td>Black</td>\n",
       "      <td>Woman</td>\n",
       "      <td>LGBTQ</td>\n",
       "      <td>2.0</td>\n",
       "    </tr>\n",
       "    <tr>\n",
       "      <th>2</th>\n",
       "      <td>Audience and Digital Development Assistant</td>\n",
       "      <td>£23,000</td>\n",
       "      <td>Full-time</td>\n",
       "      <td>Asian</td>\n",
       "      <td>Woman</td>\n",
       "      <td>Straight</td>\n",
       "      <td>1.0</td>\n",
       "    </tr>\n",
       "    <tr>\n",
       "      <th>3</th>\n",
       "      <td>Publicity Officer</td>\n",
       "      <td>£28,000</td>\n",
       "      <td>Full-time</td>\n",
       "      <td>White</td>\n",
       "      <td>Woman</td>\n",
       "      <td>LGBTQ</td>\n",
       "      <td>3.0</td>\n",
       "    </tr>\n",
       "    <tr>\n",
       "      <th>4</th>\n",
       "      <td>Creative art worker</td>\n",
       "      <td>£115 per day</td>\n",
       "      <td>Contract</td>\n",
       "      <td>Asian</td>\n",
       "      <td>Woman</td>\n",
       "      <td>Straight</td>\n",
       "      <td>7.0</td>\n",
       "    </tr>\n",
       "  </tbody>\n",
       "</table>\n",
       "</div>"
      ],
      "text/plain": [
       "                                     Job Title            Salary  \\\n",
       "0                            Marketing manager              £36k   \n",
       "1                   Early careere coordinator   23,000 per annum   \n",
       "2  Audience and Digital Development Assistant            £23,000   \n",
       "3                            Publicity Officer           £28,000   \n",
       "4                          Creative art worker     £115 per day    \n",
       "\n",
       "  Employment Status Race / Ethnicity Gender Identity Sexual Orientation  \\\n",
       "0         Full-time            White           Woman           Straight   \n",
       "1         Full-time            Black           Woman              LGBTQ   \n",
       "2         Full-time            Asian           Woman           Straight   \n",
       "3         Full-time            White           Woman              LGBTQ   \n",
       "4          Contract            Asian           Woman           Straight   \n",
       "\n",
       "   Years in Publishing  \n",
       "0                  3.0  \n",
       "1                  2.0  \n",
       "2                  1.0  \n",
       "3                  3.0  \n",
       "4                  7.0  "
      ]
     },
     "execution_count": 35,
     "metadata": {},
     "output_type": "execute_result"
    }
   ],
   "source": [
    "uk_pub.head()"
   ]
  },
  {
   "cell_type": "markdown",
   "metadata": {},
   "source": [
    "#### Employment Status Column"
   ]
  },
  {
   "cell_type": "code",
   "execution_count": 36,
   "metadata": {
    "scrolled": false
   },
   "outputs": [
    {
     "data": {
      "text/plain": [
       "array(['Full-time', 'Contract', 'Part-time', 'Parental leave cover',\n",
       "       'Part-Time (32 hours per week)',\n",
       "       'full-time but no contract, paid hourly',\n",
       "       \"I have just left this job but feel it's important for it to be logged\",\n",
       "       'Left position in 2019 due to low salary',\n",
       "       \"Full Time but wasn't permanent - they made anyone who wasn't permanent take unpaid six week breaks before you reached two years and then would hire you again \",\n",
       "       'Rolling temp contract', 'intern', 'Freelance'], dtype=object)"
      ]
     },
     "execution_count": 36,
     "metadata": {},
     "output_type": "execute_result"
    }
   ],
   "source": [
    "# Check unique values for employment status\n",
    "uk_pub['Employment Status'].unique()"
   ]
  },
  {
   "cell_type": "code",
   "execution_count": 37,
   "metadata": {},
   "outputs": [],
   "source": [
    "# Function for simplifying employment status\n",
    "def simplify_employment_status(x):\n",
    "    if 'part-time' in x.lower():\n",
    "        return 'Part-time'\n",
    "    elif 'full-time' in x.lower():\n",
    "        return 'Full-time'\n",
    "    elif 'contract' in x.lower():\n",
    "        return 'Contract'\n",
    "    else:\n",
    "        return 'Other'"
   ]
  },
  {
   "cell_type": "code",
   "execution_count": 38,
   "metadata": {},
   "outputs": [],
   "source": [
    "# Apply function\n",
    "uk_pub['Employment Status'] = uk_pub['Employment Status'].apply(simplify_employment_status)"
   ]
  },
  {
   "cell_type": "code",
   "execution_count": 39,
   "metadata": {},
   "outputs": [
    {
     "data": {
      "text/html": [
       "<div>\n",
       "<style scoped>\n",
       "    .dataframe tbody tr th:only-of-type {\n",
       "        vertical-align: middle;\n",
       "    }\n",
       "\n",
       "    .dataframe tbody tr th {\n",
       "        vertical-align: top;\n",
       "    }\n",
       "\n",
       "    .dataframe thead th {\n",
       "        text-align: right;\n",
       "    }\n",
       "</style>\n",
       "<table border=\"1\" class=\"dataframe\">\n",
       "  <thead>\n",
       "    <tr style=\"text-align: right;\">\n",
       "      <th></th>\n",
       "      <th>Job Title</th>\n",
       "      <th>Salary</th>\n",
       "      <th>Employment Status</th>\n",
       "      <th>Race / Ethnicity</th>\n",
       "      <th>Gender Identity</th>\n",
       "      <th>Sexual Orientation</th>\n",
       "      <th>Years in Publishing</th>\n",
       "    </tr>\n",
       "  </thead>\n",
       "  <tbody>\n",
       "    <tr>\n",
       "      <th>0</th>\n",
       "      <td>Marketing manager</td>\n",
       "      <td>£36k</td>\n",
       "      <td>Full-time</td>\n",
       "      <td>White</td>\n",
       "      <td>Woman</td>\n",
       "      <td>Straight</td>\n",
       "      <td>3.0</td>\n",
       "    </tr>\n",
       "    <tr>\n",
       "      <th>1</th>\n",
       "      <td>Early careere coordinator</td>\n",
       "      <td>23,000 per annum</td>\n",
       "      <td>Full-time</td>\n",
       "      <td>Black</td>\n",
       "      <td>Woman</td>\n",
       "      <td>LGBTQ</td>\n",
       "      <td>2.0</td>\n",
       "    </tr>\n",
       "    <tr>\n",
       "      <th>2</th>\n",
       "      <td>Audience and Digital Development Assistant</td>\n",
       "      <td>£23,000</td>\n",
       "      <td>Full-time</td>\n",
       "      <td>Asian</td>\n",
       "      <td>Woman</td>\n",
       "      <td>Straight</td>\n",
       "      <td>1.0</td>\n",
       "    </tr>\n",
       "    <tr>\n",
       "      <th>3</th>\n",
       "      <td>Publicity Officer</td>\n",
       "      <td>£28,000</td>\n",
       "      <td>Full-time</td>\n",
       "      <td>White</td>\n",
       "      <td>Woman</td>\n",
       "      <td>LGBTQ</td>\n",
       "      <td>3.0</td>\n",
       "    </tr>\n",
       "    <tr>\n",
       "      <th>4</th>\n",
       "      <td>Creative art worker</td>\n",
       "      <td>£115 per day</td>\n",
       "      <td>Contract</td>\n",
       "      <td>Asian</td>\n",
       "      <td>Woman</td>\n",
       "      <td>Straight</td>\n",
       "      <td>7.0</td>\n",
       "    </tr>\n",
       "  </tbody>\n",
       "</table>\n",
       "</div>"
      ],
      "text/plain": [
       "                                     Job Title            Salary  \\\n",
       "0                            Marketing manager              £36k   \n",
       "1                   Early careere coordinator   23,000 per annum   \n",
       "2  Audience and Digital Development Assistant            £23,000   \n",
       "3                            Publicity Officer           £28,000   \n",
       "4                          Creative art worker     £115 per day    \n",
       "\n",
       "  Employment Status Race / Ethnicity Gender Identity Sexual Orientation  \\\n",
       "0         Full-time            White           Woman           Straight   \n",
       "1         Full-time            Black           Woman              LGBTQ   \n",
       "2         Full-time            Asian           Woman           Straight   \n",
       "3         Full-time            White           Woman              LGBTQ   \n",
       "4          Contract            Asian           Woman           Straight   \n",
       "\n",
       "   Years in Publishing  \n",
       "0                  3.0  \n",
       "1                  2.0  \n",
       "2                  1.0  \n",
       "3                  3.0  \n",
       "4                  7.0  "
      ]
     },
     "execution_count": 39,
     "metadata": {},
     "output_type": "execute_result"
    }
   ],
   "source": [
    "uk_pub.head()"
   ]
  },
  {
   "cell_type": "markdown",
   "metadata": {},
   "source": [
    "#### Salary Column"
   ]
  },
  {
   "cell_type": "code",
   "execution_count": 40,
   "metadata": {
    "scrolled": false
   },
   "outputs": [
    {
     "data": {
      "text/html": [
       "<div>\n",
       "<style scoped>\n",
       "    .dataframe tbody tr th:only-of-type {\n",
       "        vertical-align: middle;\n",
       "    }\n",
       "\n",
       "    .dataframe tbody tr th {\n",
       "        vertical-align: top;\n",
       "    }\n",
       "\n",
       "    .dataframe thead th {\n",
       "        text-align: right;\n",
       "    }\n",
       "</style>\n",
       "<table border=\"1\" class=\"dataframe\">\n",
       "  <thead>\n",
       "    <tr style=\"text-align: right;\">\n",
       "      <th></th>\n",
       "      <th>Salary</th>\n",
       "    </tr>\n",
       "  </thead>\n",
       "  <tbody>\n",
       "    <tr>\n",
       "      <th>0</th>\n",
       "      <td>£36k</td>\n",
       "    </tr>\n",
       "    <tr>\n",
       "      <th>1</th>\n",
       "      <td>23,000 per annum</td>\n",
       "    </tr>\n",
       "    <tr>\n",
       "      <th>2</th>\n",
       "      <td>£23,000</td>\n",
       "    </tr>\n",
       "  </tbody>\n",
       "</table>\n",
       "</div>"
      ],
      "text/plain": [
       "             Salary\n",
       "0              £36k\n",
       "1  23,000 per annum\n",
       "2           £23,000"
      ]
     },
     "execution_count": 40,
     "metadata": {},
     "output_type": "execute_result"
    }
   ],
   "source": [
    "uk_pub[['Salary']].head(3)"
   ]
  },
  {
   "cell_type": "code",
   "execution_count": 41,
   "metadata": {},
   "outputs": [],
   "source": [
    "# Use a variety of regex expressions to extract correct salary values\n",
    "def extract_salary(x):\n",
    "    if re.search(r\"^£\\d+,[0-9]{3}.{0,21}$\", x):\n",
    "        return x.replace(',', '')[1:6]\n",
    "    elif re.search(r\"^£?\\d\\d[kK]\\s?$\", x): \n",
    "        return x[-3:-1] + \"000\"\n",
    "    elif re.search(r\"^\\d+[,.\\s]\\s?0\", x):\n",
    "        return x[:2] + \"000\"\n",
    "    elif re.search(r\"^\\d+[,.\\s]\\s?0{3}\", x):\n",
    "        return x[0:2] + \"000\"\n",
    "    elif re.search(\"^£?\\d{5}0?\", x):\n",
    "        x = x.strip('£')\n",
    "        if '.' in x:\n",
    "            return x[:5]\n",
    "        else:\n",
    "            return x.split(' ')[0]\n",
    "    elif re.search(r\"[kK]$\", x):\n",
    "        if '.' in x:\n",
    "            return x.split('.')[0][-2:] + x.split('.')[1][0] + \"00\"\n",
    "        elif '-' in x:\n",
    "            return x.split('-')[1][:2] + \"000\"\n",
    "        else:\n",
    "            return x[-3:-1] + \"000\"\n",
    "    else:\n",
    "        return x"
   ]
  },
  {
   "cell_type": "code",
   "execution_count": 42,
   "metadata": {},
   "outputs": [],
   "source": [
    "# Map function to each salary element\n",
    "uk_pub['Salary'] = uk_pub['Salary'].map(extract_salary)"
   ]
  },
  {
   "cell_type": "code",
   "execution_count": 43,
   "metadata": {},
   "outputs": [
    {
     "data": {
      "text/html": [
       "<div>\n",
       "<style scoped>\n",
       "    .dataframe tbody tr th:only-of-type {\n",
       "        vertical-align: middle;\n",
       "    }\n",
       "\n",
       "    .dataframe tbody tr th {\n",
       "        vertical-align: top;\n",
       "    }\n",
       "\n",
       "    .dataframe thead th {\n",
       "        text-align: right;\n",
       "    }\n",
       "</style>\n",
       "<table border=\"1\" class=\"dataframe\">\n",
       "  <thead>\n",
       "    <tr style=\"text-align: right;\">\n",
       "      <th></th>\n",
       "      <th>Job Title</th>\n",
       "      <th>Salary</th>\n",
       "      <th>Employment Status</th>\n",
       "      <th>Race / Ethnicity</th>\n",
       "      <th>Gender Identity</th>\n",
       "      <th>Sexual Orientation</th>\n",
       "      <th>Years in Publishing</th>\n",
       "    </tr>\n",
       "  </thead>\n",
       "  <tbody>\n",
       "    <tr>\n",
       "      <th>0</th>\n",
       "      <td>Marketing manager</td>\n",
       "      <td>36000</td>\n",
       "      <td>Full-time</td>\n",
       "      <td>White</td>\n",
       "      <td>Woman</td>\n",
       "      <td>Straight</td>\n",
       "      <td>3.0</td>\n",
       "    </tr>\n",
       "    <tr>\n",
       "      <th>1</th>\n",
       "      <td>Early careere coordinator</td>\n",
       "      <td>23000</td>\n",
       "      <td>Full-time</td>\n",
       "      <td>Black</td>\n",
       "      <td>Woman</td>\n",
       "      <td>LGBTQ</td>\n",
       "      <td>2.0</td>\n",
       "    </tr>\n",
       "    <tr>\n",
       "      <th>2</th>\n",
       "      <td>Audience and Digital Development Assistant</td>\n",
       "      <td>23000</td>\n",
       "      <td>Full-time</td>\n",
       "      <td>Asian</td>\n",
       "      <td>Woman</td>\n",
       "      <td>Straight</td>\n",
       "      <td>1.0</td>\n",
       "    </tr>\n",
       "    <tr>\n",
       "      <th>3</th>\n",
       "      <td>Publicity Officer</td>\n",
       "      <td>28000</td>\n",
       "      <td>Full-time</td>\n",
       "      <td>White</td>\n",
       "      <td>Woman</td>\n",
       "      <td>LGBTQ</td>\n",
       "      <td>3.0</td>\n",
       "    </tr>\n",
       "    <tr>\n",
       "      <th>4</th>\n",
       "      <td>Creative art worker</td>\n",
       "      <td>£115 per day</td>\n",
       "      <td>Contract</td>\n",
       "      <td>Asian</td>\n",
       "      <td>Woman</td>\n",
       "      <td>Straight</td>\n",
       "      <td>7.0</td>\n",
       "    </tr>\n",
       "    <tr>\n",
       "      <th>5</th>\n",
       "      <td>Executive (marketing and operations)</td>\n",
       "      <td>£21k starting, £27k 5 years later</td>\n",
       "      <td>Full-time</td>\n",
       "      <td>White</td>\n",
       "      <td>Woman</td>\n",
       "      <td>Straight</td>\n",
       "      <td>6.0</td>\n",
       "    </tr>\n",
       "    <tr>\n",
       "      <th>6</th>\n",
       "      <td>Project &amp; Brand Exec</td>\n",
       "      <td>31000</td>\n",
       "      <td>Full-time</td>\n",
       "      <td>White</td>\n",
       "      <td>Woman</td>\n",
       "      <td>Straight</td>\n",
       "      <td>3.0</td>\n",
       "    </tr>\n",
       "    <tr>\n",
       "      <th>7</th>\n",
       "      <td>Coordinator (Creative Responsibility)</td>\n",
       "      <td>£25,000 entering in Sept 2016, £29,248.44 exit...</td>\n",
       "      <td>Full-time</td>\n",
       "      <td>White</td>\n",
       "      <td>Woman</td>\n",
       "      <td>Straight</td>\n",
       "      <td>3.0</td>\n",
       "    </tr>\n",
       "    <tr>\n",
       "      <th>8</th>\n",
       "      <td>Corporate responsibility assistant</td>\n",
       "      <td>25500</td>\n",
       "      <td>Full-time</td>\n",
       "      <td>Black</td>\n",
       "      <td>Woman</td>\n",
       "      <td>Straight</td>\n",
       "      <td>1.0</td>\n",
       "    </tr>\n",
       "    <tr>\n",
       "      <th>9</th>\n",
       "      <td>Press Officer</td>\n",
       "      <td>26600</td>\n",
       "      <td>Full-time</td>\n",
       "      <td>White</td>\n",
       "      <td>Woman</td>\n",
       "      <td>LGBTQ</td>\n",
       "      <td>4.0</td>\n",
       "    </tr>\n",
       "    <tr>\n",
       "      <th>10</th>\n",
       "      <td>Publicity Manager</td>\n",
       "      <td>33000</td>\n",
       "      <td>Full-time</td>\n",
       "      <td>White</td>\n",
       "      <td>Woman</td>\n",
       "      <td>Straight</td>\n",
       "      <td>5.0</td>\n",
       "    </tr>\n",
       "    <tr>\n",
       "      <th>11</th>\n",
       "      <td>Sales Admin</td>\n",
       "      <td>23000</td>\n",
       "      <td>Full-time</td>\n",
       "      <td>White</td>\n",
       "      <td>Woman</td>\n",
       "      <td>LGBTQ</td>\n",
       "      <td>1.0</td>\n",
       "    </tr>\n",
       "    <tr>\n",
       "      <th>12</th>\n",
       "      <td>Marketing Executive</td>\n",
       "      <td>28000</td>\n",
       "      <td>Full-time</td>\n",
       "      <td>White</td>\n",
       "      <td>Woman</td>\n",
       "      <td>Straight</td>\n",
       "      <td>5.0</td>\n",
       "    </tr>\n",
       "    <tr>\n",
       "      <th>13</th>\n",
       "      <td>Digital Marketing Assistant</td>\n",
       "      <td>18000</td>\n",
       "      <td>Full-time</td>\n",
       "      <td>Asian</td>\n",
       "      <td>Man</td>\n",
       "      <td>LGBTQ</td>\n",
       "      <td>2.0</td>\n",
       "    </tr>\n",
       "    <tr>\n",
       "      <th>15</th>\n",
       "      <td>Marketing Manager</td>\n",
       "      <td>35300</td>\n",
       "      <td>Full-time</td>\n",
       "      <td>Asian</td>\n",
       "      <td>Woman</td>\n",
       "      <td>Straight</td>\n",
       "      <td>4.0</td>\n",
       "    </tr>\n",
       "    <tr>\n",
       "      <th>16</th>\n",
       "      <td>Key Account Manager</td>\n",
       "      <td>50000</td>\n",
       "      <td>Full-time</td>\n",
       "      <td>Black</td>\n",
       "      <td>Woman</td>\n",
       "      <td>Straight</td>\n",
       "      <td>2.0</td>\n",
       "    </tr>\n",
       "    <tr>\n",
       "      <th>17</th>\n",
       "      <td>Marketing Assistant</td>\n",
       "      <td>23500</td>\n",
       "      <td>Full-time</td>\n",
       "      <td>Black</td>\n",
       "      <td>Woman</td>\n",
       "      <td>Straight</td>\n",
       "      <td>2.0</td>\n",
       "    </tr>\n",
       "    <tr>\n",
       "      <th>18</th>\n",
       "      <td>Agency Assistant</td>\n",
       "      <td>23000</td>\n",
       "      <td>Full-time</td>\n",
       "      <td>White</td>\n",
       "      <td>Woman</td>\n",
       "      <td>Straight</td>\n",
       "      <td>0.0</td>\n",
       "    </tr>\n",
       "    <tr>\n",
       "      <th>19</th>\n",
       "      <td>Campaigns Manager</td>\n",
       "      <td>32000</td>\n",
       "      <td>Full-time</td>\n",
       "      <td>White</td>\n",
       "      <td>Woman</td>\n",
       "      <td>LGBTQ</td>\n",
       "      <td>8.0</td>\n",
       "    </tr>\n",
       "    <tr>\n",
       "      <th>20</th>\n",
       "      <td>Business Analyst</td>\n",
       "      <td>42900</td>\n",
       "      <td>Full-time</td>\n",
       "      <td>White</td>\n",
       "      <td>Woman</td>\n",
       "      <td>LGBTQ</td>\n",
       "      <td>6.0</td>\n",
       "    </tr>\n",
       "  </tbody>\n",
       "</table>\n",
       "</div>"
      ],
      "text/plain": [
       "                                      Job Title  \\\n",
       "0                             Marketing manager   \n",
       "1                    Early careere coordinator    \n",
       "2   Audience and Digital Development Assistant    \n",
       "3                             Publicity Officer   \n",
       "4                           Creative art worker   \n",
       "5          Executive (marketing and operations)   \n",
       "6                          Project & Brand Exec   \n",
       "7         Coordinator (Creative Responsibility)   \n",
       "8           Corporate responsibility assistant    \n",
       "9                                 Press Officer   \n",
       "10                            Publicity Manager   \n",
       "11                                  Sales Admin   \n",
       "12                          Marketing Executive   \n",
       "13                  Digital Marketing Assistant   \n",
       "15                            Marketing Manager   \n",
       "16                          Key Account Manager   \n",
       "17                          Marketing Assistant   \n",
       "18                             Agency Assistant   \n",
       "19                            Campaigns Manager   \n",
       "20                             Business Analyst   \n",
       "\n",
       "                                               Salary Employment Status  \\\n",
       "0                                               36000         Full-time   \n",
       "1                                               23000         Full-time   \n",
       "2                                               23000         Full-time   \n",
       "3                                               28000         Full-time   \n",
       "4                                       £115 per day           Contract   \n",
       "5                  £21k starting, £27k 5 years later          Full-time   \n",
       "6                                               31000         Full-time   \n",
       "7   £25,000 entering in Sept 2016, £29,248.44 exit...         Full-time   \n",
       "8                                               25500         Full-time   \n",
       "9                                               26600         Full-time   \n",
       "10                                              33000         Full-time   \n",
       "11                                              23000         Full-time   \n",
       "12                                              28000         Full-time   \n",
       "13                                              18000         Full-time   \n",
       "15                                              35300         Full-time   \n",
       "16                                              50000         Full-time   \n",
       "17                                              23500         Full-time   \n",
       "18                                              23000         Full-time   \n",
       "19                                              32000         Full-time   \n",
       "20                                              42900         Full-time   \n",
       "\n",
       "   Race / Ethnicity Gender Identity Sexual Orientation  Years in Publishing  \n",
       "0             White           Woman           Straight                  3.0  \n",
       "1             Black           Woman              LGBTQ                  2.0  \n",
       "2             Asian           Woman           Straight                  1.0  \n",
       "3             White           Woman              LGBTQ                  3.0  \n",
       "4             Asian           Woman           Straight                  7.0  \n",
       "5             White           Woman           Straight                  6.0  \n",
       "6             White           Woman           Straight                  3.0  \n",
       "7             White           Woman           Straight                  3.0  \n",
       "8             Black           Woman           Straight                  1.0  \n",
       "9             White           Woman              LGBTQ                  4.0  \n",
       "10            White           Woman           Straight                  5.0  \n",
       "11            White           Woman              LGBTQ                  1.0  \n",
       "12            White           Woman           Straight                  5.0  \n",
       "13            Asian             Man              LGBTQ                  2.0  \n",
       "15            Asian           Woman           Straight                  4.0  \n",
       "16            Black           Woman           Straight                  2.0  \n",
       "17            Black           Woman           Straight                  2.0  \n",
       "18            White           Woman           Straight                  0.0  \n",
       "19            White           Woman              LGBTQ                  8.0  \n",
       "20            White           Woman              LGBTQ                  6.0  "
      ]
     },
     "execution_count": 43,
     "metadata": {},
     "output_type": "execute_result"
    }
   ],
   "source": [
    "uk_pub.head(20)"
   ]
  },
  {
   "cell_type": "code",
   "execution_count": 44,
   "metadata": {},
   "outputs": [],
   "source": [
    "# Correct salary values for those that were not captured by the regex expressions\n",
    "\n",
    "# £115 per day --> (52(week)*5(work days) - 20(days holiday))*115(day rate)\n",
    "uk_pub.loc[uk_pub['Salary'] == '£115 per day ', 'Salary'] = '27600'\n",
    "\n",
    "# # £21k starting, £27k 5 years later \n",
    "uk_pub.loc[uk_pub['Salary'] == '£21k starting, £27k 5 years later ', 'Salary'] = '27000'\n",
    "\n",
    "# £25,000 entering in Sept 2016, £29,248.44 exiting in Sept 2019\n",
    "uk_pub.loc[uk_pub['Salary'] == '£25,000 entering in Sept 2016, £29,248.44 exiting in Sept 2019', 'Salary'] = '29248'\n",
    "\n",
    "# £30,000 (as of 2020; started role in 2016)\n",
    "uk_pub.loc[uk_pub['Salary'] == '£30,000 (as of 2020; started role in 2016)', 'Salary'] = '30000'\n",
    "\n",
    "# 20k starting\n",
    "uk_pub.loc[uk_pub['Salary'] == '20k starting', 'Salary'] = '20000'\n",
    "\n",
    "# 34\n",
    "uk_pub.loc[uk_pub['Salary'] == '34', 'Salary'] = '34000'\n",
    "\n",
    "# 28.50£\n",
    "uk_pub.loc[uk_pub['Salary'] == '28.50£', 'Salary'] = '28500'\n",
    "\n",
    "# £25, 000\n",
    "uk_pub.loc[uk_pub['Salary'] == '£25, 000', 'Salary'] = '25000'\n",
    "\n",
    "# approx £11-13,000 p.a.\n",
    "uk_pub.loc[uk_pub['Salary'] == 'approx £11-13,000 p.a.', 'Salary'] = '13000'\n",
    "\n",
    "# £38.5k (increase to £40k delayed by covid)\n",
    "uk_pub.loc[uk_pub['Salary'] == '£38.5k (increase to £40k delayed by covid)', 'Salary'] = '40000'\n",
    "\n",
    "# 21.5\n",
    "uk_pub.loc[uk_pub['Salary'] == '21.5', 'Salary'] = '21500'\n",
    "\n",
    "# £24K annually \n",
    "uk_pub.loc[uk_pub['Salary'] == '£24K annually ', 'Salary'] = '24000'\n",
    "\n",
    "# £18,000 (£19k after 6-month probation)\n",
    "uk_pub.loc[uk_pub['Salary'] == '£18,000 (£19k after 6-month probation)', 'Salary'] = '19000'\n",
    "\n",
    "# £23k to start rising to £23,500\n",
    "uk_pub.loc[uk_pub['Salary'] == '£23k to start rising to £23,500', 'Salary'] = '23500'\n",
    "\n",
    "# £26 266\n",
    "uk_pub.loc[uk_pub['Salary'] == '£26 266', 'Salary'] = '26266'\n",
    "\n",
    "# 28\n",
    "uk_pub.loc[uk_pub['Salary'] == '28', 'Salary'] = '28000'\n",
    "\n",
    "# £15.5k (2015), £16.9k (2016), £18.9k (2017)\n",
    "uk_pub.loc[uk_pub['Salary'] == '£15.5k (2015), £16.9k (2016), £18.9k (2017)', 'Salary'] = '18900'\n",
    "\n",
    "# £22,000 start, £24,000 2 years on\n",
    "uk_pub.loc[uk_pub['Salary'] == '£22,000 start, £24,000 2 years on', 'Salary'] = '24000'\n",
    "\n",
    "# 31'800\n",
    "uk_pub.loc[uk_pub['Salary'] == \"31'800\", 'Salary'] = '31800'\n",
    "\n",
    "# £38\n",
    "uk_pub.loc[uk_pub['Salary'] == '£38', 'Salary'] = '38000'\n",
    "\n",
    "# £28k pro rata\n",
    "uk_pub.loc[uk_pub['Salary'] == '£28k pro rata', 'Salary'] = '28000'\n",
    "\n",
    "# 34,850 (full time)\n",
    "uk_pub.loc[uk_pub['Salary'] == '34,850 (full time)', 'Salary'] = '34850'\n",
    "\n",
    "# 5k000\n",
    "uk_pub.loc[uk_pub['Salary'] == '5k000', 'Salary'] = '50000'\n",
    "\n",
    "# Started at £21500 but increased to £22500 after a year\n",
    "uk_pub.loc[uk_pub['Salary'] == 'Started at £21500 but increased to £22500 after a year', 'Salary'] = '22500'"
   ]
  },
  {
   "cell_type": "code",
   "execution_count": 45,
   "metadata": {},
   "outputs": [],
   "source": [
    "# Drop rows where people do not make a salary\n",
    "\n",
    "# List of entries that indicate no salary\n",
    "no_salary = ['Unpaid with £100/week stipend', '0']\n",
    "\n",
    "# Find indexes of people with no salary\n",
    "ppl_no_salary = uk_pub[uk_pub['Salary'].isin(no_salary)].index\n",
    "\n",
    "# Remove people with no salary \n",
    "uk_pub = uk_pub[~uk_pub.index.isin(ppl_no_salary)]"
   ]
  },
  {
   "cell_type": "code",
   "execution_count": 46,
   "metadata": {},
   "outputs": [
    {
     "data": {
      "text/html": [
       "<div>\n",
       "<style scoped>\n",
       "    .dataframe tbody tr th:only-of-type {\n",
       "        vertical-align: middle;\n",
       "    }\n",
       "\n",
       "    .dataframe tbody tr th {\n",
       "        vertical-align: top;\n",
       "    }\n",
       "\n",
       "    .dataframe thead th {\n",
       "        text-align: right;\n",
       "    }\n",
       "</style>\n",
       "<table border=\"1\" class=\"dataframe\">\n",
       "  <thead>\n",
       "    <tr style=\"text-align: right;\">\n",
       "      <th></th>\n",
       "      <th>Job Title</th>\n",
       "      <th>Salary</th>\n",
       "      <th>Employment Status</th>\n",
       "      <th>Race / Ethnicity</th>\n",
       "      <th>Gender Identity</th>\n",
       "      <th>Sexual Orientation</th>\n",
       "      <th>Years in Publishing</th>\n",
       "    </tr>\n",
       "  </thead>\n",
       "  <tbody>\n",
       "    <tr>\n",
       "      <th>0</th>\n",
       "      <td>Marketing manager</td>\n",
       "      <td>36000</td>\n",
       "      <td>Full-time</td>\n",
       "      <td>White</td>\n",
       "      <td>Woman</td>\n",
       "      <td>Straight</td>\n",
       "      <td>3.0</td>\n",
       "    </tr>\n",
       "    <tr>\n",
       "      <th>1</th>\n",
       "      <td>Early careere coordinator</td>\n",
       "      <td>23000</td>\n",
       "      <td>Full-time</td>\n",
       "      <td>Black</td>\n",
       "      <td>Woman</td>\n",
       "      <td>LGBTQ</td>\n",
       "      <td>2.0</td>\n",
       "    </tr>\n",
       "    <tr>\n",
       "      <th>2</th>\n",
       "      <td>Audience and Digital Development Assistant</td>\n",
       "      <td>23000</td>\n",
       "      <td>Full-time</td>\n",
       "      <td>Asian</td>\n",
       "      <td>Woman</td>\n",
       "      <td>Straight</td>\n",
       "      <td>1.0</td>\n",
       "    </tr>\n",
       "    <tr>\n",
       "      <th>3</th>\n",
       "      <td>Publicity Officer</td>\n",
       "      <td>28000</td>\n",
       "      <td>Full-time</td>\n",
       "      <td>White</td>\n",
       "      <td>Woman</td>\n",
       "      <td>LGBTQ</td>\n",
       "      <td>3.0</td>\n",
       "    </tr>\n",
       "    <tr>\n",
       "      <th>4</th>\n",
       "      <td>Creative art worker</td>\n",
       "      <td>27600</td>\n",
       "      <td>Contract</td>\n",
       "      <td>Asian</td>\n",
       "      <td>Woman</td>\n",
       "      <td>Straight</td>\n",
       "      <td>7.0</td>\n",
       "    </tr>\n",
       "  </tbody>\n",
       "</table>\n",
       "</div>"
      ],
      "text/plain": [
       "                                     Job Title Salary Employment Status  \\\n",
       "0                            Marketing manager  36000         Full-time   \n",
       "1                   Early careere coordinator   23000         Full-time   \n",
       "2  Audience and Digital Development Assistant   23000         Full-time   \n",
       "3                            Publicity Officer  28000         Full-time   \n",
       "4                          Creative art worker  27600          Contract   \n",
       "\n",
       "  Race / Ethnicity Gender Identity Sexual Orientation  Years in Publishing  \n",
       "0            White           Woman           Straight                  3.0  \n",
       "1            Black           Woman              LGBTQ                  2.0  \n",
       "2            Asian           Woman           Straight                  1.0  \n",
       "3            White           Woman              LGBTQ                  3.0  \n",
       "4            Asian           Woman           Straight                  7.0  "
      ]
     },
     "execution_count": 46,
     "metadata": {},
     "output_type": "execute_result"
    }
   ],
   "source": [
    "uk_pub.head()"
   ]
  },
  {
   "cell_type": "code",
   "execution_count": 47,
   "metadata": {},
   "outputs": [
    {
     "name": "stdout",
     "output_type": "stream",
     "text": [
      "<class 'pandas.core.frame.DataFrame'>\n",
      "Int64Index: 1013 entries, 0 to 1020\n",
      "Data columns (total 7 columns):\n",
      " #   Column               Non-Null Count  Dtype  \n",
      "---  ------               --------------  -----  \n",
      " 0   Job Title            1013 non-null   object \n",
      " 1   Salary               1013 non-null   object \n",
      " 2   Employment Status    1013 non-null   object \n",
      " 3   Race / Ethnicity     1013 non-null   object \n",
      " 4   Gender Identity      1013 non-null   object \n",
      " 5   Sexual Orientation   1013 non-null   object \n",
      " 6   Years in Publishing  1013 non-null   float64\n",
      "dtypes: float64(1), object(6)\n",
      "memory usage: 63.3+ KB\n"
     ]
    }
   ],
   "source": [
    "uk_pub.info()"
   ]
  },
  {
   "cell_type": "code",
   "execution_count": 48,
   "metadata": {},
   "outputs": [],
   "source": [
    "# Convert salary to numeric data type\n",
    "uk_pub['Salary'] = uk_pub['Salary'].astype('int64')"
   ]
  },
  {
   "cell_type": "markdown",
   "metadata": {},
   "source": [
    "### EDA"
   ]
  },
  {
   "cell_type": "code",
   "execution_count": 50,
   "metadata": {},
   "outputs": [
    {
     "data": {
      "image/png": "[encoded data removed]",
      "text/plain": [
       "<Figure size 432x288 with 1 Axes>"
      ]
     },
     "metadata": {
      "needs_background": "light"
     },
     "output_type": "display_data"
    }
   ],
   "source": [
    "# Checking relationship between salary and years in publishing\n",
    "uk_pub.plot(kind='scatter', x='Years in Publishing', y='Salary');"
   ]
  },
  {
   "cell_type": "code",
   "execution_count": 51,
   "metadata": {},
   "outputs": [
    {
     "data": {
      "text/html": [
       "<div>\n",
       "<style scoped>\n",
       "    .dataframe tbody tr th:only-of-type {\n",
       "        vertical-align: middle;\n",
       "    }\n",
       "\n",
       "    .dataframe tbody tr th {\n",
       "        vertical-align: top;\n",
       "    }\n",
       "\n",
       "    .dataframe thead th {\n",
       "        text-align: right;\n",
       "    }\n",
       "</style>\n",
       "<table border=\"1\" class=\"dataframe\">\n",
       "  <thead>\n",
       "    <tr style=\"text-align: right;\">\n",
       "      <th></th>\n",
       "      <th>Salary</th>\n",
       "      <th>Years in Publishing</th>\n",
       "    </tr>\n",
       "  </thead>\n",
       "  <tbody>\n",
       "    <tr>\n",
       "      <th>count</th>\n",
       "      <td>1013.00000</td>\n",
       "      <td>1013.000000</td>\n",
       "    </tr>\n",
       "    <tr>\n",
       "      <th>mean</th>\n",
       "      <td>30328.34156</td>\n",
       "      <td>5.337611</td>\n",
       "    </tr>\n",
       "    <tr>\n",
       "      <th>std</th>\n",
       "      <td>8871.36892</td>\n",
       "      <td>4.109968</td>\n",
       "    </tr>\n",
       "    <tr>\n",
       "      <th>min</th>\n",
       "      <td>13000.00000</td>\n",
       "      <td>0.000000</td>\n",
       "    </tr>\n",
       "    <tr>\n",
       "      <th>25%</th>\n",
       "      <td>25000.00000</td>\n",
       "      <td>3.000000</td>\n",
       "    </tr>\n",
       "    <tr>\n",
       "      <th>50%</th>\n",
       "      <td>28000.00000</td>\n",
       "      <td>4.000000</td>\n",
       "    </tr>\n",
       "    <tr>\n",
       "      <th>75%</th>\n",
       "      <td>34000.00000</td>\n",
       "      <td>7.000000</td>\n",
       "    </tr>\n",
       "    <tr>\n",
       "      <th>max</th>\n",
       "      <td>120000.00000</td>\n",
       "      <td>27.000000</td>\n",
       "    </tr>\n",
       "  </tbody>\n",
       "</table>\n",
       "</div>"
      ],
      "text/plain": [
       "             Salary  Years in Publishing\n",
       "count    1013.00000          1013.000000\n",
       "mean    30328.34156             5.337611\n",
       "std      8871.36892             4.109968\n",
       "min     13000.00000             0.000000\n",
       "25%     25000.00000             3.000000\n",
       "50%     28000.00000             4.000000\n",
       "75%     34000.00000             7.000000\n",
       "max    120000.00000            27.000000"
      ]
     },
     "execution_count": 51,
     "metadata": {},
     "output_type": "execute_result"
    }
   ],
   "source": [
    "# Descriptive statistics with outlier\n",
    "uk_pub.describe()"
   ]
  },
  {
   "cell_type": "code",
   "execution_count": 52,
   "metadata": {},
   "outputs": [
    {
     "data": {
      "text/html": [
       "<div>\n",
       "<style scoped>\n",
       "    .dataframe tbody tr th:only-of-type {\n",
       "        vertical-align: middle;\n",
       "    }\n",
       "\n",
       "    .dataframe tbody tr th {\n",
       "        vertical-align: top;\n",
       "    }\n",
       "\n",
       "    .dataframe thead th {\n",
       "        text-align: right;\n",
       "    }\n",
       "</style>\n",
       "<table border=\"1\" class=\"dataframe\">\n",
       "  <thead>\n",
       "    <tr style=\"text-align: right;\">\n",
       "      <th></th>\n",
       "      <th>Salary</th>\n",
       "      <th>Years in Publishing</th>\n",
       "    </tr>\n",
       "  </thead>\n",
       "  <tbody>\n",
       "    <tr>\n",
       "      <th>count</th>\n",
       "      <td>1012.000000</td>\n",
       "      <td>1012.000000</td>\n",
       "    </tr>\n",
       "    <tr>\n",
       "      <th>mean</th>\n",
       "      <td>30239.733202</td>\n",
       "      <td>5.323123</td>\n",
       "    </tr>\n",
       "    <tr>\n",
       "      <th>std</th>\n",
       "      <td>8415.322606</td>\n",
       "      <td>4.086036</td>\n",
       "    </tr>\n",
       "    <tr>\n",
       "      <th>min</th>\n",
       "      <td>13000.000000</td>\n",
       "      <td>0.000000</td>\n",
       "    </tr>\n",
       "    <tr>\n",
       "      <th>25%</th>\n",
       "      <td>25000.000000</td>\n",
       "      <td>3.000000</td>\n",
       "    </tr>\n",
       "    <tr>\n",
       "      <th>50%</th>\n",
       "      <td>28000.000000</td>\n",
       "      <td>4.000000</td>\n",
       "    </tr>\n",
       "    <tr>\n",
       "      <th>75%</th>\n",
       "      <td>34000.000000</td>\n",
       "      <td>7.000000</td>\n",
       "    </tr>\n",
       "    <tr>\n",
       "      <th>max</th>\n",
       "      <td>95000.000000</td>\n",
       "      <td>27.000000</td>\n",
       "    </tr>\n",
       "  </tbody>\n",
       "</table>\n",
       "</div>"
      ],
      "text/plain": [
       "             Salary  Years in Publishing\n",
       "count   1012.000000          1012.000000\n",
       "mean   30239.733202             5.323123\n",
       "std     8415.322606             4.086036\n",
       "min    13000.000000             0.000000\n",
       "25%    25000.000000             3.000000\n",
       "50%    28000.000000             4.000000\n",
       "75%    34000.000000             7.000000\n",
       "max    95000.000000            27.000000"
      ]
     },
     "execution_count": 52,
     "metadata": {},
     "output_type": "execute_result"
    }
   ],
   "source": [
    "# Descriptive statistics without outlier\n",
    "uk_pub[uk_pub['Salary'] < 100000].describe()"
   ]
  },
  {
   "cell_type": "code",
   "execution_count": 53,
   "metadata": {},
   "outputs": [
    {
     "data": {
      "image/png": "[encoded data removed]",
      "text/plain": [
       "<Figure size 432x288 with 1 Axes>"
      ]
     },
     "metadata": {
      "needs_background": "light"
     },
     "output_type": "display_data"
    }
   ],
   "source": [
    "# Counts for gender identity\n",
    "uk_pub['Gender Identity'].hist();"
   ]
  },
  {
   "cell_type": "code",
   "execution_count": 54,
   "metadata": {},
   "outputs": [
    {
     "data": {
      "image/png": "[encoded data removed]",
      "text/plain": [
       "<Figure size 432x288 with 1 Axes>"
      ]
     },
     "metadata": {
      "needs_background": "light"
     },
     "output_type": "display_data"
    }
   ],
   "source": [
    "# Counts for sexual orientation\n",
    "uk_pub['Sexual Orientation'].hist();"
   ]
  },
  {
   "cell_type": "code",
   "execution_count": 55,
   "metadata": {
    "scrolled": true
   },
   "outputs": [
    {
     "data": {
      "image/png": "[encoded data removed]",
      "text/plain": [
       "<Figure size 432x288 with 1 Axes>"
      ]
     },
     "metadata": {
      "needs_background": "light"
     },
     "output_type": "display_data"
    }
   ],
   "source": [
    "# Counts for race and ethnicity\n",
    "uk_pub['Race / Ethnicity'].hist();"
   ]
  },
  {
   "cell_type": "code",
   "execution_count": 56,
   "metadata": {},
   "outputs": [
    {
     "data": {
      "image/png": "[encoded data removed]",
      "text/plain": [
       "<Figure size 432x288 with 1 Axes>"
      ]
     },
     "metadata": {
      "needs_background": "light"
     },
     "output_type": "display_data"
    }
   ],
   "source": [
    "# Visualise distribution of salary\n",
    "sns.histplot(uk_pub['Salary'], kde=True);"
   ]
  },
  {
   "cell_type": "code",
   "execution_count": 57,
   "metadata": {},
   "outputs": [
    {
     "data": {
      "image/png": "[encoded data removed]",
      "text/plain": [
       "<Figure size 432x288 with 2 Axes>"
      ]
     },
     "metadata": {
      "needs_background": "light"
     },
     "output_type": "display_data"
    }
   ],
   "source": [
    "# Visualise correlations between numerical variables\n",
    "sns.heatmap(uk_pub.corr(), vmin=0, annot=True, linewidths=.5, cmap='coolwarm_r');"
   ]
  },
  {
   "cell_type": "code",
   "execution_count": 58,
   "metadata": {
    "scrolled": true
   },
   "outputs": [
    {
     "data": {
      "image/png": "[encoded data removed]",
      "text/plain": [
       "<Figure size 432x288 with 1 Axes>"
      ]
     },
     "metadata": {
      "needs_background": "light"
     },
     "output_type": "display_data"
    }
   ],
   "source": [
    "# Boxplot for salary\n",
    "uk_pub.boxplot(column = ['Salary']);"
   ]
  },
  {
   "cell_type": "code",
   "execution_count": 147,
   "metadata": {},
   "outputs": [],
   "source": [
    "# Remove outliers for salary - removing top .05% and bottom .05%\n",
    "uk_pub_outliers = uk_pub[(uk_pub['Salary'] < uk_pub['Salary'].quantile(.995)) & \n",
    "                         (uk_pub['Salary'] > uk_pub['Salary'].quantile(.005))]"
   ]
  },
  {
   "cell_type": "code",
   "execution_count": 148,
   "metadata": {},
   "outputs": [],
   "source": [
    "# Remove only top end outliers - MAYBE REMOVE THIS AFTER TESTING\n",
    "uk_pub_outliers2 = uk_pub[(uk_pub['Salary'] < uk_pub['Salary'].quantile(.995))]"
   ]
  },
  {
   "cell_type": "code",
   "execution_count": 128,
   "metadata": {
    "scrolled": true
   },
   "outputs": [
    {
     "data": {
      "image/png": "[encoded data removed]",
      "text/plain": [
       "<Figure size 432x288 with 1 Axes>"
      ]
     },
     "metadata": {
      "needs_background": "light"
     },
     "output_type": "display_data"
    }
   ],
   "source": [
    "# Boxplot for salary with outliers removed\n",
    "uk_pub_outliers.boxplot(column = ['Salary']);"
   ]
  },
  {
   "cell_type": "code",
   "execution_count": 129,
   "metadata": {},
   "outputs": [
    {
     "data": {
      "image/png": "[encoded data removed]",
      "text/plain": [
       "<Figure size 432x288 with 1 Axes>"
      ]
     },
     "metadata": {
      "needs_background": "light"
     },
     "output_type": "display_data"
    }
   ],
   "source": [
    "# Boxplot for years in publishing \n",
    "uk_pub.boxplot(column = ['Years in Publishing']);"
   ]
  },
  {
   "cell_type": "code",
   "execution_count": 149,
   "metadata": {},
   "outputs": [],
   "source": [
    "# Remove outliers here for years in publishing - removing top .05% and bottom .05%\n",
    "uk_pub_outliers = uk_pub_outliers[(uk_pub_outliers['Years in Publishing'] < uk_pub_outliers['Years in Publishing'].quantile(.995)) & \n",
    "                         (uk_pub_outliers['Years in Publishing'] > uk_pub_outliers['Years in Publishing'].quantile(.005))]"
   ]
  },
  {
   "cell_type": "code",
   "execution_count": 151,
   "metadata": {},
   "outputs": [],
   "source": [
    "# Remove only top end outliers - MAYBE REMOVE THIS AFTER TESTING\n",
    "uk_pub_outliers2 = uk_pub_outliers2[(uk_pub_outliers2['Years in Publishing'] < uk_pub_outliers2['Years in Publishing'].quantile(.995))]"
   ]
  },
  {
   "cell_type": "code",
   "execution_count": 131,
   "metadata": {},
   "outputs": [
    {
     "data": {
      "image/png": "[encoded data removed]",
      "text/plain": [
       "<Figure size 432x288 with 1 Axes>"
      ]
     },
     "metadata": {
      "needs_background": "light"
     },
     "output_type": "display_data"
    }
   ],
   "source": [
    "# Boxplot for years in publishing with outliers removed\n",
    "uk_pub_outliers.boxplot(column = ['Years in Publishing']);"
   ]
  },
  {
   "cell_type": "code",
   "execution_count": 86,
   "metadata": {
    "scrolled": true
   },
   "outputs": [
    {
     "data": {
      "text/plain": [
       "Index(['Job Title', 'Salary', 'Employment Status', 'Race / Ethnicity',\n",
       "       'Gender Identity', 'Sexual Orientation', 'Years in Publishing'],\n",
       "      dtype='object')"
      ]
     },
     "execution_count": 86,
     "metadata": {},
     "output_type": "execute_result"
    }
   ],
   "source": [
    "uk_pub.columns"
   ]
  },
  {
   "cell_type": "code",
   "execution_count": 60,
   "metadata": {},
   "outputs": [
    {
     "name": "stdout",
     "output_type": "stream",
     "text": [
      "Chart for Employment Status | Total = 4\n"
     ]
    },
    {
     "data": {
      "image/png": "[encoded data removed]",
      "text/plain": [
       "<Figure size 432x288 with 1 Axes>"
      ]
     },
     "metadata": {
      "needs_background": "light"
     },
     "output_type": "display_data"
    },
    {
     "name": "stdout",
     "output_type": "stream",
     "text": [
      "Chart for Race / Ethnicity | Total = 5\n"
     ]
    },
    {
     "data": {
      "image/png": "[encoded data removed]",
      "text/plain": [
       "<Figure size 432x288 with 1 Axes>"
      ]
     },
     "metadata": {
      "needs_background": "light"
     },
     "output_type": "display_data"
    },
    {
     "name": "stdout",
     "output_type": "stream",
     "text": [
      "Chart for Gender Identity | Total = 4\n"
     ]
    },
    {
     "data": {
      "image/png": "[encoded data removed]",
      "text/plain": [
       "<Figure size 432x288 with 1 Axes>"
      ]
     },
     "metadata": {
      "needs_background": "light"
     },
     "output_type": "display_data"
    },
    {
     "name": "stdout",
     "output_type": "stream",
     "text": [
      "Chart for Sexual Orientation | Total = 2\n"
     ]
    },
    {
     "data": {
      "image/png": "[encoded data removed]",
      "text/plain": [
       "<Figure size 432x288 with 1 Axes>"
      ]
     },
     "metadata": {
      "needs_background": "light"
     },
     "output_type": "display_data"
    },
    {
     "name": "stdout",
     "output_type": "stream",
     "text": [
      "Chart for Years in Publishing | Total = 26\n"
     ]
    },
    {
     "data": {
      "image/png": "[encoded data removed]",
      "text/plain": [
       "<Figure size 432x288 with 1 Axes>"
      ]
     },
     "metadata": {
      "needs_background": "light"
     },
     "output_type": "display_data"
    }
   ],
   "source": [
    "for feature in uk_pub.columns[2:7]:\n",
    "    feature_num = uk_pub[feature].value_counts()\n",
    "    print(f\"Chart for {feature} | Total = {len(feature_num)}\")\n",
    "    chart = sns.barplot(x=feature_num.index, y=feature_num, zorder=2)\n",
    "    chart.set_xticklabels(chart.get_xticklabels())\n",
    "    plt.grid()\n",
    "    plt.show()"
   ]
  },
  {
   "cell_type": "code",
   "execution_count": 61,
   "metadata": {},
   "outputs": [
    {
     "data": {
      "text/html": [
       "<div>\n",
       "<style scoped>\n",
       "    .dataframe tbody tr th:only-of-type {\n",
       "        vertical-align: middle;\n",
       "    }\n",
       "\n",
       "    .dataframe tbody tr th {\n",
       "        vertical-align: top;\n",
       "    }\n",
       "\n",
       "    .dataframe thead th {\n",
       "        text-align: right;\n",
       "    }\n",
       "</style>\n",
       "<table border=\"1\" class=\"dataframe\">\n",
       "  <thead>\n",
       "    <tr style=\"text-align: right;\">\n",
       "      <th></th>\n",
       "      <th>Salary</th>\n",
       "      <th>Years in Publishing</th>\n",
       "    </tr>\n",
       "    <tr>\n",
       "      <th>Race / Ethnicity</th>\n",
       "      <th></th>\n",
       "      <th></th>\n",
       "    </tr>\n",
       "  </thead>\n",
       "  <tbody>\n",
       "    <tr>\n",
       "      <th>Unknown</th>\n",
       "      <td>33871.428571</td>\n",
       "      <td>8.285714</td>\n",
       "    </tr>\n",
       "    <tr>\n",
       "      <th>White</th>\n",
       "      <td>30562.694282</td>\n",
       "      <td>5.465578</td>\n",
       "    </tr>\n",
       "    <tr>\n",
       "      <th>Asian</th>\n",
       "      <td>29926.432432</td>\n",
       "      <td>4.729730</td>\n",
       "    </tr>\n",
       "    <tr>\n",
       "      <th>Mixed</th>\n",
       "      <td>28669.230769</td>\n",
       "      <td>4.923077</td>\n",
       "    </tr>\n",
       "    <tr>\n",
       "      <th>Black</th>\n",
       "      <td>26684.027778</td>\n",
       "      <td>3.416667</td>\n",
       "    </tr>\n",
       "  </tbody>\n",
       "</table>\n",
       "</div>"
      ],
      "text/plain": [
       "                        Salary  Years in Publishing\n",
       "Race / Ethnicity                                   \n",
       "Unknown           33871.428571             8.285714\n",
       "White             30562.694282             5.465578\n",
       "Asian             29926.432432             4.729730\n",
       "Mixed             28669.230769             4.923077\n",
       "Black             26684.027778             3.416667"
      ]
     },
     "execution_count": 61,
     "metadata": {},
     "output_type": "execute_result"
    }
   ],
   "source": [
    "pd.pivot_table(uk_pub, index='Race / Ethnicity', \n",
    "    values=['Salary', 'Years in Publishing']).sort_values('Salary', \n",
    "    ascending=False)\n",
    "\n",
    "# or\n",
    "\n",
    "# uk_pub.groupby('Race / Ethnicity').mean().sort_values('Salary', ascending=False)"
   ]
  },
  {
   "cell_type": "code",
   "execution_count": 62,
   "metadata": {},
   "outputs": [
    {
     "data": {
      "image/png": "[encoded data removed]",
      "text/plain": [
       "<Figure size 432x288 with 1 Axes>"
      ]
     },
     "metadata": {
      "needs_background": "light"
     },
     "output_type": "display_data"
    }
   ],
   "source": [
    "# Plot graph showing mean salary amount for Race / Ethnicity\n",
    "race_salary = pd.pivot_table(uk_pub, index='Race / Ethnicity', values='Salary').sort_values('Salary', ascending=False)\n",
    "sns.barplot(x=race_salary.index, y=\"Salary\", data=race_salary);"
   ]
  },
  {
   "cell_type": "code",
   "execution_count": 63,
   "metadata": {},
   "outputs": [
    {
     "data": {
      "text/html": [
       "<div>\n",
       "<style scoped>\n",
       "    .dataframe tbody tr th:only-of-type {\n",
       "        vertical-align: middle;\n",
       "    }\n",
       "\n",
       "    .dataframe tbody tr th {\n",
       "        vertical-align: top;\n",
       "    }\n",
       "\n",
       "    .dataframe thead th {\n",
       "        text-align: right;\n",
       "    }\n",
       "</style>\n",
       "<table border=\"1\" class=\"dataframe\">\n",
       "  <thead>\n",
       "    <tr style=\"text-align: right;\">\n",
       "      <th></th>\n",
       "      <th>Salary</th>\n",
       "      <th>Years in Publishing</th>\n",
       "    </tr>\n",
       "    <tr>\n",
       "      <th>Gender Identity</th>\n",
       "      <th></th>\n",
       "      <th></th>\n",
       "    </tr>\n",
       "  </thead>\n",
       "  <tbody>\n",
       "    <tr>\n",
       "      <th>Prefer not to say</th>\n",
       "      <td>38892.307692</td>\n",
       "      <td>8.692308</td>\n",
       "    </tr>\n",
       "    <tr>\n",
       "      <th>Man</th>\n",
       "      <td>30748.081818</td>\n",
       "      <td>5.927273</td>\n",
       "    </tr>\n",
       "    <tr>\n",
       "      <th>Woman</th>\n",
       "      <td>30152.571914</td>\n",
       "      <td>5.214043</td>\n",
       "    </tr>\n",
       "    <tr>\n",
       "      <th>Non-binary</th>\n",
       "      <td>30000.000000</td>\n",
       "      <td>5.428571</td>\n",
       "    </tr>\n",
       "  </tbody>\n",
       "</table>\n",
       "</div>"
      ],
      "text/plain": [
       "                         Salary  Years in Publishing\n",
       "Gender Identity                                     \n",
       "Prefer not to say  38892.307692             8.692308\n",
       "Man                30748.081818             5.927273\n",
       "Woman              30152.571914             5.214043\n",
       "Non-binary         30000.000000             5.428571"
      ]
     },
     "execution_count": 63,
     "metadata": {},
     "output_type": "execute_result"
    }
   ],
   "source": [
    "pd.pivot_table(uk_pub, index='Gender Identity', \n",
    "    values=['Salary', 'Years in Publishing']).sort_values('Salary', ascending=False)"
   ]
  },
  {
   "cell_type": "code",
   "execution_count": 64,
   "metadata": {},
   "outputs": [
    {
     "data": {
      "image/png": "[encoded data removed]",
      "text/plain": [
       "<Figure size 432x288 with 1 Axes>"
      ]
     },
     "metadata": {
      "needs_background": "light"
     },
     "output_type": "display_data"
    }
   ],
   "source": [
    "# Plot graph showing mean salary amount for Gender Identity\n",
    "gender_salary = pd.pivot_table(uk_pub, index='Gender Identity', values='Salary').sort_values('Salary', ascending=False)\n",
    "sns.barplot(x=gender_salary.index, y=\"Salary\", data=gender_salary);"
   ]
  },
  {
   "cell_type": "code",
   "execution_count": 65,
   "metadata": {},
   "outputs": [
    {
     "data": {
      "text/html": [
       "<div>\n",
       "<style scoped>\n",
       "    .dataframe tbody tr th:only-of-type {\n",
       "        vertical-align: middle;\n",
       "    }\n",
       "\n",
       "    .dataframe tbody tr th {\n",
       "        vertical-align: top;\n",
       "    }\n",
       "\n",
       "    .dataframe thead th {\n",
       "        text-align: right;\n",
       "    }\n",
       "</style>\n",
       "<table border=\"1\" class=\"dataframe\">\n",
       "  <thead>\n",
       "    <tr style=\"text-align: right;\">\n",
       "      <th></th>\n",
       "      <th>Salary</th>\n",
       "      <th>Years in Publishing</th>\n",
       "    </tr>\n",
       "    <tr>\n",
       "      <th>Sexual Orientation</th>\n",
       "      <th></th>\n",
       "      <th></th>\n",
       "    </tr>\n",
       "  </thead>\n",
       "  <tbody>\n",
       "    <tr>\n",
       "      <th>Straight</th>\n",
       "      <td>30693.347241</td>\n",
       "      <td>5.502019</td>\n",
       "    </tr>\n",
       "    <tr>\n",
       "      <th>LGBTQ</th>\n",
       "      <td>29323.900000</td>\n",
       "      <td>4.885185</td>\n",
       "    </tr>\n",
       "  </tbody>\n",
       "</table>\n",
       "</div>"
      ],
      "text/plain": [
       "                          Salary  Years in Publishing\n",
       "Sexual Orientation                                   \n",
       "Straight            30693.347241             5.502019\n",
       "LGBTQ               29323.900000             4.885185"
      ]
     },
     "execution_count": 65,
     "metadata": {},
     "output_type": "execute_result"
    }
   ],
   "source": [
    "pd.pivot_table(uk_pub, index='Sexual Orientation', \n",
    "    values=['Salary', 'Years in Publishing']).sort_values('Salary', ascending=False)"
   ]
  },
  {
   "cell_type": "code",
   "execution_count": 66,
   "metadata": {},
   "outputs": [
    {
     "data": {
      "image/png": "[encoded data removed]",
      "text/plain": [
       "<Figure size 432x288 with 1 Axes>"
      ]
     },
     "metadata": {
      "needs_background": "light"
     },
     "output_type": "display_data"
    }
   ],
   "source": [
    "# Plot graph showing mean salary amount for Sexual Orientation\n",
    "sexori_salary = pd.pivot_table(uk_pub, index='Sexual Orientation', values='Salary').sort_values('Salary', ascending=False)\n",
    "sns.barplot(x=sexori_salary.index, y=\"Salary\", data=sexori_salary);"
   ]
  },
  {
   "cell_type": "code",
   "execution_count": 67,
   "metadata": {},
   "outputs": [
    {
     "data": {
      "text/html": [
       "<div>\n",
       "<style scoped>\n",
       "    .dataframe tbody tr th:only-of-type {\n",
       "        vertical-align: middle;\n",
       "    }\n",
       "\n",
       "    .dataframe tbody tr th {\n",
       "        vertical-align: top;\n",
       "    }\n",
       "\n",
       "    .dataframe thead th {\n",
       "        text-align: right;\n",
       "    }\n",
       "</style>\n",
       "<table border=\"1\" class=\"dataframe\">\n",
       "  <thead>\n",
       "    <tr style=\"text-align: right;\">\n",
       "      <th></th>\n",
       "      <th>Salary</th>\n",
       "    </tr>\n",
       "    <tr>\n",
       "      <th>Years in Publishing</th>\n",
       "      <th></th>\n",
       "    </tr>\n",
       "  </thead>\n",
       "  <tbody>\n",
       "    <tr>\n",
       "      <th>0.0</th>\n",
       "      <td>22436.333333</td>\n",
       "    </tr>\n",
       "    <tr>\n",
       "      <th>1.0</th>\n",
       "      <td>23446.049180</td>\n",
       "    </tr>\n",
       "    <tr>\n",
       "      <th>2.0</th>\n",
       "      <td>25418.247863</td>\n",
       "    </tr>\n",
       "    <tr>\n",
       "      <th>3.0</th>\n",
       "      <td>26261.206667</td>\n",
       "    </tr>\n",
       "    <tr>\n",
       "      <th>4.0</th>\n",
       "      <td>29266.782895</td>\n",
       "    </tr>\n",
       "  </tbody>\n",
       "</table>\n",
       "</div>"
      ],
      "text/plain": [
       "                           Salary\n",
       "Years in Publishing              \n",
       "0.0                  22436.333333\n",
       "1.0                  23446.049180\n",
       "2.0                  25418.247863\n",
       "3.0                  26261.206667\n",
       "4.0                  29266.782895"
      ]
     },
     "execution_count": 67,
     "metadata": {},
     "output_type": "execute_result"
    }
   ],
   "source": [
    "pd.pivot_table(uk_pub, index='Years in Publishing', \n",
    "                       values=['Salary']).sort_index().head()"
   ]
  },
  {
   "cell_type": "code",
   "execution_count": 68,
   "metadata": {},
   "outputs": [
    {
     "data": {
      "image/png": "[encoded data removed]",
      "text/plain": [
       "<Figure size 432x288 with 1 Axes>"
      ]
     },
     "metadata": {
      "needs_background": "light"
     },
     "output_type": "display_data"
    }
   ],
   "source": [
    "# Plot graph showing mean salary amount for Each year or Years in Publishing\n",
    "yip_salary = pd.pivot_table(uk_pub, index='Years in Publishing', values='Salary').sort_values('Salary', ascending=False)\n",
    "sns.lineplot(x=yip_salary.index, y=\"Salary\", data=yip_salary);"
   ]
  },
  {
   "cell_type": "code",
   "execution_count": 69,
   "metadata": {},
   "outputs": [
    {
     "data": {
      "image/png": "[encoded data removed]",
      "text/plain": [
       "<Figure size 720x720 with 1 Axes>"
      ]
     },
     "metadata": {
      "needs_background": "light"
     },
     "output_type": "display_data"
    }
   ],
   "source": [
    "# Word Cloud for Job Titles\n",
    "from wordcloud import WordCloud, STOPWORDS, ImageColorGenerator\n",
    "\n",
    "# Set up text\n",
    "text = \" \".join(title for title in uk_pub['Job Title'])\n",
    "\n",
    "# Generate a word cloud image\n",
    "wordcloud = WordCloud(stopwords=STOPWORDS, random_state=21, background_color=\"white\", width=600, height=300)\n",
    "wordcloud.generate(text)\n",
    "\n",
    "# Display the generated image:\n",
    "plt.figure(figsize=[10,10])\n",
    "plt.imshow(wordcloud, interpolation='bilinear')\n",
    "plt.axis(\"off\")\n",
    "plt.show()"
   ]
  },
  {
   "cell_type": "markdown",
   "metadata": {},
   "source": [
    "### Model Building"
   ]
  },
  {
   "cell_type": "markdown",
   "metadata": {},
   "source": [
    "#### Using sklearn"
   ]
  },
  {
   "cell_type": "code",
   "execution_count": 152,
   "metadata": {},
   "outputs": [],
   "source": [
    "# Top 0.05% and bottom 0.05% removed\n",
    "uk_pub_final = uk_pub_outliers.drop(['Job Title'], axis=1)"
   ]
  },
  {
   "cell_type": "code",
   "execution_count": 153,
   "metadata": {},
   "outputs": [],
   "source": [
    "# Only top 0.05% removed\n",
    "uk_pub_final2 = uk_pub_outliers2.drop(['Job Title'], axis=1)"
   ]
  },
  {
   "cell_type": "code",
   "execution_count": 154,
   "metadata": {},
   "outputs": [],
   "source": [
    "from sklearn.model_selection import train_test_split\n",
    "from sklearn.linear_model import LinearRegression\n",
    "from sklearn.metrics import mean_squared_error, mean_absolute_error\n",
    "import math"
   ]
  },
  {
   "cell_type": "code",
   "execution_count": 155,
   "metadata": {},
   "outputs": [],
   "source": [
    "# Simple linear regression\n",
    "X1 = uk_pub_final['Years in Publishing'].values.reshape(-1,1)\n",
    "y1 = uk_pub_final['Salary'].values.reshape(-1,1)\n",
    "\n",
    "X1b = uk_pub_final2['Years in Publishing'].values.reshape(-1,1)\n",
    "y1b = uk_pub_final2['Salary'].values.reshape(-1,1)"
   ]
  },
  {
   "cell_type": "code",
   "execution_count": 156,
   "metadata": {},
   "outputs": [],
   "source": [
    "# Create train/test split\n",
    "X_train1, X_test1, y_train1, y_test1 = train_test_split(X1, y1, test_size=0.2, random_state=0)\n",
    "X_train1b, X_test1b, y_train1b, y_test1b = train_test_split(X1b, y1b, test_size=0.2, random_state=0)"
   ]
  },
  {
   "cell_type": "code",
   "execution_count": 167,
   "metadata": {},
   "outputs": [
    {
     "name": "stdout",
     "output_type": "stream",
     "text": [
      "0.3826897803011434\n",
      "[[1365.2846751]]\n",
      "\n",
      "0.3646499239046056\n",
      "[[1252.84027663]]\n"
     ]
    }
   ],
   "source": [
    "# Create model and fit to the training data\n",
    "reg = LinearRegression()\n",
    "reg.fit(X_train1, y_train1)\n",
    "print(reg.score(X_train1, y_train1))\n",
    "print(reg.coef_)\n",
    "y_hat1 = reg.predict(X_train1)\n",
    "print()\n",
    "regb = LinearRegression()\n",
    "regb.fit(X_train1b, y_train1b)\n",
    "print(regb.score(X_train1b, y_train1b))\n",
    "print(regb.coef_)\n",
    "y_hat1b = regb.predict(X_train1b)"
   ]
  },
  {
   "cell_type": "code",
   "execution_count": 163,
   "metadata": {
    "scrolled": false
   },
   "outputs": [
    {
     "data": {
      "image/png": "[encoded data removed]",
      "text/plain": [
       "<Figure size 432x288 with 1 Axes>"
      ]
     },
     "metadata": {
      "needs_background": "light"
     },
     "output_type": "display_data"
    }
   ],
   "source": [
    "# Plot results for predictions of training data\n",
    "plt.scatter(X_train1, y_train1)\n",
    "plt.plot(X_train1, y_hat1, linewidth=4, color='red')\n",
    "plt.show()"
   ]
  },
  {
   "cell_type": "code",
   "execution_count": 164,
   "metadata": {},
   "outputs": [
    {
     "data": {
      "image/png": "[encoded data removed]",
      "text/plain": [
       "<Figure size 432x288 with 1 Axes>"
      ]
     },
     "metadata": {
      "needs_background": "light"
     },
     "output_type": "display_data"
    }
   ],
   "source": [
    "# Plot results for predictions of training data - uk_pub_final2\n",
    "plt.scatter(X_train1b, y_train1b, color='grey')\n",
    "plt.plot(X_train1b, y_hat1b, linewidth=4, color='green')\n",
    "plt.show()"
   ]
  },
  {
   "cell_type": "code",
   "execution_count": 165,
   "metadata": {},
   "outputs": [
    {
     "data": {
      "image/png": "[encoded data removed]",
      "text/plain": [
       "<Figure size 432x288 with 1 Axes>"
      ]
     },
     "metadata": {
      "needs_background": "light"
     },
     "output_type": "display_data"
    }
   ],
   "source": [
    "# Plot results for predictions of test data\n",
    "y_hat_test1 = reg.predict(X_test1)\n",
    "plt.scatter(X_test1, y_test1)\n",
    "plt.plot(X_test1, y_hat_test1, linewidth=4, color='red')\n",
    "plt.show()"
   ]
  },
  {
   "cell_type": "code",
   "execution_count": 166,
   "metadata": {},
   "outputs": [
    {
     "data": {
      "image/png": "[encoded data removed]",
      "text/plain": [
       "<Figure size 432x288 with 1 Axes>"
      ]
     },
     "metadata": {
      "needs_background": "light"
     },
     "output_type": "display_data"
    }
   ],
   "source": [
    "# Plot results for predictions of test data - uk_pub_final2\n",
    "y_hat_test1b = regb.predict(X_test1b)\n",
    "plt.scatter(X_test1b, y_test1b, color='grey')\n",
    "plt.plot(X_test1b, y_hat_test1b, linewidth=4, color='green')\n",
    "plt.show()"
   ]
  },
  {
   "cell_type": "code",
   "execution_count": 168,
   "metadata": {},
   "outputs": [
    {
     "name": "stdout",
     "output_type": "stream",
     "text": [
      "MAE: 4347.076153385423\n",
      "RMSE: 6462.4927506954355\n"
     ]
    }
   ],
   "source": [
    "# Checking the residual errors of the model\n",
    "mae = mean_absolute_error(y_hat_test1, y_test1)\n",
    "rmse = math.sqrt(mean_squared_error(y_hat_test1, y_test1))\n",
    "print(f'MAE: {mae}')\n",
    "print(f'RMSE: {rmse}')"
   ]
  },
  {
   "cell_type": "markdown",
   "metadata": {},
   "source": [
    "#### Using statsmodels"
   ]
  },
  {
   "cell_type": "code",
   "execution_count": 171,
   "metadata": {},
   "outputs": [],
   "source": [
    "import statsmodels.api as sm\n",
    "from statsmodels.tools.tools import add_constant"
   ]
  },
  {
   "cell_type": "code",
   "execution_count": 181,
   "metadata": {},
   "outputs": [],
   "source": [
    "# Separate independent and dependent variable\n",
    "X1b = uk_pub_final['Years in Publishing']\n",
    "y1b = uk_pub_final['Salary']"
   ]
  },
  {
   "cell_type": "code",
   "execution_count": 178,
   "metadata": {},
   "outputs": [],
   "source": [
    "# Add constant\n",
    "X1b = add_constant(X1b)"
   ]
  },
  {
   "cell_type": "code",
   "execution_count": 183,
   "metadata": {},
   "outputs": [],
   "source": [
    "# Create train/test split\n",
    "X_train1b, X_test1b, y_train1b, y_test1b = train_test_split(X1b, y1b, test_size=0.2, random_state=0)"
   ]
  },
  {
   "cell_type": "code",
   "execution_count": 188,
   "metadata": {},
   "outputs": [
    {
     "name": "stdout",
     "output_type": "stream",
     "text": [
      "                            OLS Regression Results                            \n",
      "==============================================================================\n",
      "Dep. Variable:                 Salary   R-squared:                       0.383\n",
      "Model:                            OLS   Adj. R-squared:                  0.382\n",
      "Method:                 Least Squares   F-statistic:                     467.4\n",
      "Date:                Mon, 26 Oct 2020   Prob (F-statistic):           4.90e-81\n",
      "Time:                        02:31:03   Log-Likelihood:                -7640.5\n",
      "No. Observations:                 756   AIC:                         1.528e+04\n",
      "Df Residuals:                     754   BIC:                         1.529e+04\n",
      "Df Model:                           1                                         \n",
      "Covariance Type:            nonrobust                                         \n",
      "=======================================================================================\n",
      "                          coef    std err          t      P>|t|      [0.025      0.975]\n",
      "---------------------------------------------------------------------------------------\n",
      "const                2.323e+04    398.298     58.318      0.000    2.24e+04     2.4e+04\n",
      "Years in Publishing  1365.2847     63.149     21.620      0.000    1241.316    1489.253\n",
      "==============================================================================\n",
      "Omnibus:                      308.762   Durbin-Watson:                   2.134\n",
      "Prob(Omnibus):                  0.000   Jarque-Bera (JB):             2628.560\n",
      "Skew:                           1.611   Prob(JB):                         0.00\n",
      "Kurtosis:                      11.547   Cond. No.                         11.8\n",
      "==============================================================================\n",
      "\n",
      "Notes:\n",
      "[1] Standard Errors assume that the covariance matrix of the errors is correctly specified.\n"
     ]
    }
   ],
   "source": [
    "# Create and fit sm model\n",
    "reg_sm1b = sm.OLS(y_train1b, X_train1b).fit()\n",
    "print(reg_sm1b.summary())"
   ]
  },
  {
   "cell_type": "code",
   "execution_count": 189,
   "metadata": {},
   "outputs": [],
   "source": [
    "# Multiple Linear Regression\n",
    "from statsmodels.stats.outliers_influence import variance_inflation_factor"
   ]
  },
  {
   "cell_type": "code",
   "execution_count": 211,
   "metadata": {},
   "outputs": [],
   "source": [
    "# Separate independent variables from dependent variables\n",
    "X2 = uk_pub_final.drop(['Salary'], axis=1)\n",
    "y2 = uk_pub_final['Salary']"
   ]
  },
  {
   "cell_type": "code",
   "execution_count": 212,
   "metadata": {},
   "outputs": [],
   "source": [
    "# Create dummy variables for categorical columns (automatically detects categorical variables)\n",
    "X2 = pd.get_dummies(X2, drop_first=True)\n",
    "\n",
    "# # or you can state explicitly which columns to create dummies from\n",
    "# dummy_cols = ['Employment Status', 'Race / Ethnicity', 'Gender Identity', 'Sexual Orientation']\n",
    "# X2 = pd.get_dummies(X2, columns=dummy_cols, drop_first=True)\n",
    "\n",
    "# Add constant\n",
    "X2 = add_constant(X2)"
   ]
  },
  {
   "cell_type": "code",
   "execution_count": 213,
   "metadata": {},
   "outputs": [
    {
     "data": {
      "text/html": [
       "<div>\n",
       "<style scoped>\n",
       "    .dataframe tbody tr th:only-of-type {\n",
       "        vertical-align: middle;\n",
       "    }\n",
       "\n",
       "    .dataframe tbody tr th {\n",
       "        vertical-align: top;\n",
       "    }\n",
       "\n",
       "    .dataframe thead th {\n",
       "        text-align: right;\n",
       "    }\n",
       "</style>\n",
       "<table border=\"1\" class=\"dataframe\">\n",
       "  <thead>\n",
       "    <tr style=\"text-align: right;\">\n",
       "      <th></th>\n",
       "      <th>Features</th>\n",
       "      <th>VIF_Factor</th>\n",
       "    </tr>\n",
       "  </thead>\n",
       "  <tbody>\n",
       "    <tr>\n",
       "      <th>0</th>\n",
       "      <td>const</td>\n",
       "      <td>68.209561</td>\n",
       "    </tr>\n",
       "    <tr>\n",
       "      <th>1</th>\n",
       "      <td>Years in Publishing</td>\n",
       "      <td>1.084459</td>\n",
       "    </tr>\n",
       "    <tr>\n",
       "      <th>2</th>\n",
       "      <td>Employment Status_Full-time</td>\n",
       "      <td>2.401143</td>\n",
       "    </tr>\n",
       "    <tr>\n",
       "      <th>3</th>\n",
       "      <td>Employment Status_Other</td>\n",
       "      <td>1.211084</td>\n",
       "    </tr>\n",
       "    <tr>\n",
       "      <th>4</th>\n",
       "      <td>Employment Status_Part-time</td>\n",
       "      <td>2.271505</td>\n",
       "    </tr>\n",
       "    <tr>\n",
       "      <th>5</th>\n",
       "      <td>Race / Ethnicity_Black</td>\n",
       "      <td>1.451397</td>\n",
       "    </tr>\n",
       "    <tr>\n",
       "      <th>6</th>\n",
       "      <td>Race / Ethnicity_Mixed</td>\n",
       "      <td>1.478644</td>\n",
       "    </tr>\n",
       "    <tr>\n",
       "      <th>7</th>\n",
       "      <td>Race / Ethnicity_Unknown</td>\n",
       "      <td>1.150264</td>\n",
       "    </tr>\n",
       "    <tr>\n",
       "      <th>8</th>\n",
       "      <td>Race / Ethnicity_White</td>\n",
       "      <td>1.959490</td>\n",
       "    </tr>\n",
       "    <tr>\n",
       "      <th>9</th>\n",
       "      <td>Gender Identity_Non-binary</td>\n",
       "      <td>1.074850</td>\n",
       "    </tr>\n",
       "    <tr>\n",
       "      <th>10</th>\n",
       "      <td>Gender Identity_Prefer not to say</td>\n",
       "      <td>1.164492</td>\n",
       "    </tr>\n",
       "    <tr>\n",
       "      <th>11</th>\n",
       "      <td>Gender Identity_Woman</td>\n",
       "      <td>1.161656</td>\n",
       "    </tr>\n",
       "    <tr>\n",
       "      <th>12</th>\n",
       "      <td>Sexual Orientation_Straight</td>\n",
       "      <td>1.064107</td>\n",
       "    </tr>\n",
       "  </tbody>\n",
       "</table>\n",
       "</div>"
      ],
      "text/plain": [
       "                             Features  VIF_Factor\n",
       "0                               const   68.209561\n",
       "1                 Years in Publishing    1.084459\n",
       "2         Employment Status_Full-time    2.401143\n",
       "3             Employment Status_Other    1.211084\n",
       "4         Employment Status_Part-time    2.271505\n",
       "5              Race / Ethnicity_Black    1.451397\n",
       "6              Race / Ethnicity_Mixed    1.478644\n",
       "7            Race / Ethnicity_Unknown    1.150264\n",
       "8              Race / Ethnicity_White    1.959490\n",
       "9          Gender Identity_Non-binary    1.074850\n",
       "10  Gender Identity_Prefer not to say    1.164492\n",
       "11              Gender Identity_Woman    1.161656\n",
       "12        Sexual Orientation_Straight    1.064107"
      ]
     },
     "execution_count": 213,
     "metadata": {},
     "output_type": "execute_result"
    }
   ],
   "source": [
    "# Check VIF for determing if we have multicollinearity amongst the independent variables\n",
    "vif = pd.DataFrame()\n",
    "vif[\"Features\"] = X2.columns\n",
    "vif[\"VIF\"] = [variance_inflation_factor(X2.values, i) for i in range(X2.shape[1])]\n",
    "vif"
   ]
  },
  {
   "cell_type": "code",
   "execution_count": 214,
   "metadata": {},
   "outputs": [],
   "source": [
    "# Create train/test split\n",
    "X_train2, X_test2, y_train2, y_test2 = train_test_split(X2, y2, test_size=0.2, random_state=0)"
   ]
  },
  {
   "cell_type": "code",
   "execution_count": 215,
   "metadata": {},
   "outputs": [
    {
     "name": "stdout",
     "output_type": "stream",
     "text": [
      "                            OLS Regression Results                            \n",
      "==============================================================================\n",
      "Dep. Variable:                 Salary   R-squared:                       0.399\n",
      "Model:                            OLS   Adj. R-squared:                  0.390\n",
      "Method:                 Least Squares   F-statistic:                     41.15\n",
      "Date:                Mon, 26 Oct 2020   Prob (F-statistic):           3.84e-74\n",
      "Time:                        02:54:54   Log-Likelihood:                -7630.2\n",
      "No. Observations:                 756   AIC:                         1.529e+04\n",
      "Df Residuals:                     743   BIC:                         1.535e+04\n",
      "Df Model:                          12                                         \n",
      "Covariance Type:            nonrobust                                         \n",
      "=====================================================================================================\n",
      "                                        coef    std err          t      P>|t|      [0.025      0.975]\n",
      "-----------------------------------------------------------------------------------------------------\n",
      "const                              2.464e+04   1748.591     14.094      0.000    2.12e+04    2.81e+04\n",
      "Years in Publishing                1385.5030     64.486     21.485      0.000    1258.906    1512.100\n",
      "Employment Status_Full-time       -1401.1117   1454.792     -0.963      0.336   -4257.105    1454.881\n",
      "Employment Status_Other           -6260.8583   3303.207     -1.895      0.058   -1.27e+04     223.872\n",
      "Employment Status_Part-time       -6359.2721   2050.404     -3.101      0.002   -1.04e+04   -2333.997\n",
      "Race / Ethnicity_Black            -1419.2350   1409.355     -1.007      0.314   -4186.026    1347.556\n",
      "Race / Ethnicity_Mixed            -1502.8244   1315.392     -1.142      0.254   -4085.152    1079.504\n",
      "Race / Ethnicity_Unknown           -398.4205   2621.557     -0.152      0.879   -5544.961    4748.120\n",
      "Race / Ethnicity_White              -47.6490    820.983     -0.058      0.954   -1659.372    1564.074\n",
      "Gender Identity_Non-binary        -1078.6627   3049.914     -0.354      0.724   -7066.139    4908.813\n",
      "Gender Identity_Prefer not to say  -313.8082   2054.040     -0.153      0.879   -4346.221    3718.604\n",
      "Gender Identity_Woman              -287.1824    693.013     -0.414      0.679   -1647.680    1073.315\n",
      "Sexual Orientation_Straight         534.2320    507.887      1.052      0.293    -462.833    1531.297\n",
      "==============================================================================\n",
      "Omnibus:                      314.018   Durbin-Watson:                   2.144\n",
      "Prob(Omnibus):                  0.000   Jarque-Bera (JB):             2525.527\n",
      "Skew:                           1.666   Prob(JB):                         0.00\n",
      "Kurtosis:                      11.311   Cond. No.                         110.\n",
      "==============================================================================\n",
      "\n",
      "Notes:\n",
      "[1] Standard Errors assume that the covariance matrix of the errors is correctly specified.\n"
     ]
    }
   ],
   "source": [
    "# Create and fit sm model\n",
    "reg_sm2 = sm.OLS(y_train2, X_train2).fit()\n",
    "print(reg_sm2.summary())"
   ]
  },
  {
   "cell_type": "code",
   "execution_count": 223,
   "metadata": {},
   "outputs": [],
   "source": [
    "# Run again removing the features that were not significant\n",
    "not_significant = [\n",
    "    'Employment Status_Full-time',\n",
    "    'Employment Status_Other',\n",
    "    'Race / Ethnicity_Black',\n",
    "    'Race / Ethnicity_Mixed',\n",
    "    'Race / Ethnicity_Unknown',\n",
    "    'Race / Ethnicity_White',\n",
    "    'Gender Identity_Non-binary',\n",
    "    'Gender Identity_Prefer not to say',\n",
    "    'Gender Identity_Woman',\n",
    "    'Sexual Orientation_Straight',\n",
    "]\n",
    "X3 = X2.drop(not_significant, axis=1)\n",
    "y3 = uk_pub_final['Salary']"
   ]
  },
  {
   "cell_type": "code",
   "execution_count": 224,
   "metadata": {},
   "outputs": [
    {
     "data": {
      "text/html": [
       "<div>\n",
       "<style scoped>\n",
       "    .dataframe tbody tr th:only-of-type {\n",
       "        vertical-align: middle;\n",
       "    }\n",
       "\n",
       "    .dataframe tbody tr th {\n",
       "        vertical-align: top;\n",
       "    }\n",
       "\n",
       "    .dataframe thead th {\n",
       "        text-align: right;\n",
       "    }\n",
       "</style>\n",
       "<table border=\"1\" class=\"dataframe\">\n",
       "  <thead>\n",
       "    <tr style=\"text-align: right;\">\n",
       "      <th></th>\n",
       "      <th>Features</th>\n",
       "      <th>VIF_Factor</th>\n",
       "    </tr>\n",
       "  </thead>\n",
       "  <tbody>\n",
       "    <tr>\n",
       "      <th>0</th>\n",
       "      <td>const</td>\n",
       "      <td>3.264178</td>\n",
       "    </tr>\n",
       "    <tr>\n",
       "      <th>1</th>\n",
       "      <td>Years in Publishing</td>\n",
       "      <td>1.059064</td>\n",
       "    </tr>\n",
       "    <tr>\n",
       "      <th>2</th>\n",
       "      <td>Employment Status_Part-time</td>\n",
       "      <td>1.059064</td>\n",
       "    </tr>\n",
       "  </tbody>\n",
       "</table>\n",
       "</div>"
      ],
      "text/plain": [
       "                      Features  VIF_Factor\n",
       "0                        const    3.264178\n",
       "1          Years in Publishing    1.059064\n",
       "2  Employment Status_Part-time    1.059064"
      ]
     },
     "execution_count": 224,
     "metadata": {},
     "output_type": "execute_result"
    }
   ],
   "source": [
    "# Check VIF for determing if we have multicollinearity amongst the independent variables\n",
    "vif = pd.DataFrame()\n",
    "vif[\"Features\"] = X3.columns\n",
    "vif[\"VIF\"] = [variance_inflation_factor(X3.values, i) for i in range(X3.shape[1])]\n",
    "vif\n",
    "\n",
    "# Or create VIF dataframe like this\n",
    "# pd.DataFrame([variance_inflation_factor(X.values, i) \n",
    "#                for i in range(X.shape[1])], \n",
    "#                index=X.columns, columns=['VIF'])"
   ]
  },
  {
   "cell_type": "code",
   "execution_count": 225,
   "metadata": {},
   "outputs": [],
   "source": [
    "# Create train/test split\n",
    "X_train3, X_test3, y_train3, y_test3 = train_test_split(X3, y3, test_size=0.2, random_state=0)"
   ]
  },
  {
   "cell_type": "code",
   "execution_count": 226,
   "metadata": {},
   "outputs": [
    {
     "name": "stdout",
     "output_type": "stream",
     "text": [
      "                            OLS Regression Results                            \n",
      "==============================================================================\n",
      "Dep. Variable:                 Salary   R-squared:                       0.392\n",
      "Model:                            OLS   Adj. R-squared:                  0.390\n",
      "Method:                 Least Squares   F-statistic:                     242.7\n",
      "Date:                Mon, 26 Oct 2020   Prob (F-statistic):           4.43e-82\n",
      "Time:                        02:58:39   Log-Likelihood:                -7634.7\n",
      "No. Observations:                 756   AIC:                         1.528e+04\n",
      "Df Residuals:                     753   BIC:                         1.529e+04\n",
      "Df Model:                           2                                         \n",
      "Covariance Type:            nonrobust                                         \n",
      "===============================================================================================\n",
      "                                  coef    std err          t      P>|t|      [0.025      0.975]\n",
      "-----------------------------------------------------------------------------------------------\n",
      "const                        2.316e+04    396.088     58.467      0.000    2.24e+04    2.39e+04\n",
      "Years in Publishing          1399.5117     63.521     22.032      0.000    1274.812    1524.211\n",
      "Employment Status_Part-time -4966.8472   1464.806     -3.391      0.001   -7842.436   -2091.258\n",
      "==============================================================================\n",
      "Omnibus:                      316.272   Durbin-Watson:                   2.139\n",
      "Prob(Omnibus):                  0.000   Jarque-Bera (JB):             2540.744\n",
      "Skew:                           1.681   Prob(JB):                         0.00\n",
      "Kurtosis:                      11.328   Cond. No.                         43.5\n",
      "==============================================================================\n",
      "\n",
      "Notes:\n",
      "[1] Standard Errors assume that the covariance matrix of the errors is correctly specified.\n"
     ]
    }
   ],
   "source": [
    "# Create and fit sm model\n",
    "reg_sm3 = sm.OLS(y_train3, X_train3).fit()\n",
    "print(reg_sm3.summary())"
   ]
  },
  {
   "cell_type": "code",
   "execution_count": 231,
   "metadata": {},
   "outputs": [
    {
     "name": "stdout",
     "output_type": "stream",
     "text": [
      "RMSE: 6168.595250659453\n"
     ]
    },
    {
     "data": {
      "image/png": "[encoded data removed]",
      "text/plain": [
       "<Figure size 432x288 with 1 Axes>"
      ]
     },
     "metadata": {
      "needs_background": "light"
     },
     "output_type": "display_data"
    }
   ],
   "source": [
    "# Create prediction using model and analyse residual error\n",
    "y_hat3 = reg_sm3.predict(X_test3)\n",
    "rmse3 = math.sqrt(mean_squared_error(y_hat3, y_test3))\n",
    "print(f'RMSE: {rmse3}')\n",
    "plt.scatter(y_hat3, y_test3);"
   ]
  },
  {
   "cell_type": "code",
   "execution_count": 232,
   "metadata": {},
   "outputs": [],
   "source": [
    "# 5-Fold Cross Validation\n",
    "from sklearn.model_selection import cross_val_score\n",
    "X4 = X3.copy()\n",
    "y4 = y3.copy()"
   ]
  },
  {
   "cell_type": "code",
   "execution_count": 235,
   "metadata": {},
   "outputs": [
    {
     "data": {
      "text/plain": [
       "5906.786584061745"
      ]
     },
     "execution_count": 235,
     "metadata": {},
     "output_type": "execute_result"
    }
   ],
   "source": [
    "# Create model and run cross validation\n",
    "reg4 = LinearRegression()\n",
    "scores = cross_val_score(reg4, X4, y4, cv=5, scoring='neg_mean_squared_error')\n",
    "np.mean(np.sqrt(np.abs(scores)))"
   ]
  },
  {
   "cell_type": "code",
   "execution_count": 236,
   "metadata": {},
   "outputs": [
    {
     "data": {
      "text/plain": [
       "5938.228817871357"
      ]
     },
     "execution_count": 236,
     "metadata": {},
     "output_type": "execute_result"
    }
   ],
   "source": [
    "# Run cross validation using shuffled sets\n",
    "from sklearn.model_selection import ShuffleSplit\n",
    "cv = ShuffleSplit(n_splits=5, test_size=0.2, random_state=0)\n",
    "scores2 = cross_val_score(reg4, X4, y4, cv=cv, scoring='neg_mean_squared_error')\n",
    "np.mean(np.sqrt(np.abs(scores2)))"
   ]
  }
 ],
 "metadata": {
  "kernelspec": {
   "display_name": "Python 3",
   "language": "python",
   "name": "python3"
  },
  "language_info": {
   "codemirror_mode": {
    "name": "ipython",
    "version": 3
   },
   "file_extension": ".py",
   "mimetype": "text/x-python",
   "name": "python",
   "nbconvert_exporter": "python",
   "pygments_lexer": "ipython3",
   "version": "3.8.5"
  }
 },
 "nbformat": 4,
 "nbformat_minor": 4
}
