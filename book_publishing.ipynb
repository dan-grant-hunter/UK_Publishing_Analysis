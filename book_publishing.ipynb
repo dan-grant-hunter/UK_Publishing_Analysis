{
 "cells": [
  {
   "cell_type": "markdown",
   "metadata": {},
   "source": [
    "# Book Publishing"
   ]
  },
  {
   "cell_type": "code",
   "execution_count": 1,
   "metadata": {},
   "outputs": [],
   "source": [
    "# Imports\n",
    "import re\n",
    "import pandas as pd\n",
    "import numpy as np\n",
    "import seaborn as sns\n",
    "import matplotlib.pyplot as plt\n",
    "%matplotlib inline"
   ]
  },
  {
   "cell_type": "code",
   "execution_count": 2,
   "metadata": {},
   "outputs": [],
   "source": [
    "# Read data\n",
    "uk_pub = pd.read_csv(\"data/Book Publishing Salary Transparency (UK) - Form responses 1.csv\")\n",
    "pub = pd.read_csv(\"data/#PUBLISHINGPAIDME - Form Responses 1.csv\")"
   ]
  },
  {
   "cell_type": "markdown",
   "metadata": {},
   "source": [
    "## UK Publishing"
   ]
  },
  {
   "cell_type": "markdown",
   "metadata": {},
   "source": [
    "#### Checking Data"
   ]
  },
  {
   "cell_type": "code",
   "execution_count": 3,
   "metadata": {},
   "outputs": [
    {
     "data": {
      "text/html": [
       "<div>\n",
       "<style scoped>\n",
       "    .dataframe tbody tr th:only-of-type {\n",
       "        vertical-align: middle;\n",
       "    }\n",
       "\n",
       "    .dataframe tbody tr th {\n",
       "        vertical-align: top;\n",
       "    }\n",
       "\n",
       "    .dataframe thead th {\n",
       "        text-align: right;\n",
       "    }\n",
       "</style>\n",
       "<table border=\"1\" class=\"dataframe\">\n",
       "  <thead>\n",
       "    <tr style=\"text-align: right;\">\n",
       "      <th></th>\n",
       "      <th>Timestamp</th>\n",
       "      <th>Job Title</th>\n",
       "      <th>Employer</th>\n",
       "      <th>Location</th>\n",
       "      <th>Salary</th>\n",
       "      <th>Employment Status</th>\n",
       "      <th>Race / Ethnicity</th>\n",
       "      <th>Gender Identity</th>\n",
       "      <th>Sexual Orientation</th>\n",
       "      <th>Years in Pubishing</th>\n",
       "      <th>Years of Overall Experience</th>\n",
       "      <th>Additional Compensation</th>\n",
       "      <th>Additional Information</th>\n",
       "      <th>Unnamed: 13</th>\n",
       "      <th>Unnamed: 14</th>\n",
       "    </tr>\n",
       "  </thead>\n",
       "  <tbody>\n",
       "    <tr>\n",
       "      <th>0</th>\n",
       "      <td>17/06/2020 10:42:08</td>\n",
       "      <td>Marketing manager</td>\n",
       "      <td>Penguin Random House</td>\n",
       "      <td>London</td>\n",
       "      <td>£36k</td>\n",
       "      <td>Full-time</td>\n",
       "      <td>White</td>\n",
       "      <td>Woman (cisgender)</td>\n",
       "      <td>Straight</td>\n",
       "      <td>3</td>\n",
       "      <td>9</td>\n",
       "      <td>Annual bonus</td>\n",
       "      <td>NaN</td>\n",
       "      <td>NaN</td>\n",
       "      <td>NaN</td>\n",
       "    </tr>\n",
       "    <tr>\n",
       "      <th>1</th>\n",
       "      <td>17/06/2020 10:45:51</td>\n",
       "      <td>Early careere coordinator</td>\n",
       "      <td>Penguin random house</td>\n",
       "      <td>London</td>\n",
       "      <td>23,000 per annum</td>\n",
       "      <td>Full-time</td>\n",
       "      <td>Black african</td>\n",
       "      <td>Woman (cisgender)</td>\n",
       "      <td>Bisexual</td>\n",
       "      <td>2</td>\n",
       "      <td>2</td>\n",
       "      <td>Can't remember</td>\n",
       "      <td>NaN</td>\n",
       "      <td>NaN</td>\n",
       "      <td>NaN</td>\n",
       "    </tr>\n",
       "    <tr>\n",
       "      <th>2</th>\n",
       "      <td>17/06/2020 10:51:09</td>\n",
       "      <td>Audience and Digital Development Assistant</td>\n",
       "      <td>Penguin random house</td>\n",
       "      <td>London</td>\n",
       "      <td>£23,000</td>\n",
       "      <td>Full-time</td>\n",
       "      <td>British Indian</td>\n",
       "      <td>Woman (cisgender)</td>\n",
       "      <td>Straight</td>\n",
       "      <td>1</td>\n",
       "      <td>4</td>\n",
       "      <td>1% increase after 7 months in line with the re...</td>\n",
       "      <td>I worked in publishing 2016-17. After leaving ...</td>\n",
       "      <td>NaN</td>\n",
       "      <td>NaN</td>\n",
       "    </tr>\n",
       "    <tr>\n",
       "      <th>3</th>\n",
       "      <td>17/06/2020 10:58:25</td>\n",
       "      <td>Publicity Officer</td>\n",
       "      <td>Penguin Random House</td>\n",
       "      <td>80 Strand</td>\n",
       "      <td>£28,000</td>\n",
       "      <td>Full-time</td>\n",
       "      <td>White British</td>\n",
       "      <td>Woman (cisgender)</td>\n",
       "      <td>Pansexual</td>\n",
       "      <td>3</td>\n",
       "      <td>6</td>\n",
       "      <td>Annual bonus of approx £500, all expenses paid...</td>\n",
       "      <td>This role was my first and only role in publis...</td>\n",
       "      <td>NaN</td>\n",
       "      <td>NaN</td>\n",
       "    </tr>\n",
       "    <tr>\n",
       "      <th>4</th>\n",
       "      <td>17/06/2020 11:03:40</td>\n",
       "      <td>Creative art worker</td>\n",
       "      <td>Pan Macmillan Publishing</td>\n",
       "      <td>London</td>\n",
       "      <td>£115 per day</td>\n",
       "      <td>Contract</td>\n",
       "      <td>British Indian</td>\n",
       "      <td>Woman (cisgender)</td>\n",
       "      <td>Straight</td>\n",
       "      <td>7</td>\n",
       "      <td>10</td>\n",
       "      <td>0</td>\n",
       "      <td>I was pregnant</td>\n",
       "      <td>NaN</td>\n",
       "      <td>NaN</td>\n",
       "    </tr>\n",
       "  </tbody>\n",
       "</table>\n",
       "</div>"
      ],
      "text/plain": [
       "             Timestamp                                    Job Title  \\\n",
       "0  17/06/2020 10:42:08                            Marketing manager   \n",
       "1  17/06/2020 10:45:51                   Early careere coordinator    \n",
       "2  17/06/2020 10:51:09  Audience and Digital Development Assistant    \n",
       "3  17/06/2020 10:58:25                            Publicity Officer   \n",
       "4  17/06/2020 11:03:40                          Creative art worker   \n",
       "\n",
       "                    Employer   Location            Salary Employment Status  \\\n",
       "0       Penguin Random House     London              £36k         Full-time   \n",
       "1       Penguin random house     London  23,000 per annum         Full-time   \n",
       "2      Penguin random house      London           £23,000         Full-time   \n",
       "3       Penguin Random House  80 Strand           £28,000         Full-time   \n",
       "4  Pan Macmillan Publishing     London      £115 per day           Contract   \n",
       "\n",
       "  Race / Ethnicity    Gender Identity Sexual Orientation Years in Pubishing  \\\n",
       "0            White  Woman (cisgender)           Straight                  3   \n",
       "1   Black african   Woman (cisgender)           Bisexual                  2   \n",
       "2   British Indian  Woman (cisgender)           Straight                  1   \n",
       "3    White British  Woman (cisgender)          Pansexual                  3   \n",
       "4  British Indian   Woman (cisgender)           Straight                  7   \n",
       "\n",
       "  Years of Overall Experience  \\\n",
       "0                           9   \n",
       "1                           2   \n",
       "2                           4   \n",
       "3                           6   \n",
       "4                          10   \n",
       "\n",
       "                             Additional Compensation  \\\n",
       "0                                       Annual bonus   \n",
       "1                                     Can't remember   \n",
       "2  1% increase after 7 months in line with the re...   \n",
       "3  Annual bonus of approx £500, all expenses paid...   \n",
       "4                                                  0   \n",
       "\n",
       "                              Additional Information Unnamed: 13 Unnamed: 14  \n",
       "0                                                NaN         NaN         NaN  \n",
       "1                                                NaN         NaN         NaN  \n",
       "2  I worked in publishing 2016-17. After leaving ...         NaN         NaN  \n",
       "3  This role was my first and only role in publis...         NaN         NaN  \n",
       "4                                    I was pregnant          NaN         NaN  "
      ]
     },
     "execution_count": 3,
     "metadata": {},
     "output_type": "execute_result"
    }
   ],
   "source": [
    "uk_pub.head()"
   ]
  },
  {
   "cell_type": "code",
   "execution_count": 4,
   "metadata": {},
   "outputs": [
    {
     "name": "stdout",
     "output_type": "stream",
     "text": [
      "<class 'pandas.core.frame.DataFrame'>\n",
      "RangeIndex: 1021 entries, 0 to 1020\n",
      "Data columns (total 15 columns):\n",
      " #   Column                       Non-Null Count  Dtype \n",
      "---  ------                       --------------  ----- \n",
      " 0   Timestamp                    1018 non-null   object\n",
      " 1   Job Title                    1020 non-null   object\n",
      " 2   Employer                     1021 non-null   object\n",
      " 3   Location                     975 non-null    object\n",
      " 4   Salary                       1021 non-null   object\n",
      " 5   Employment Status            1021 non-null   object\n",
      " 6   Race / Ethnicity             1011 non-null   object\n",
      " 7   Gender Identity              1020 non-null   object\n",
      " 8   Sexual Orientation           1008 non-null   object\n",
      " 9   Years in Pubishing           1008 non-null   object\n",
      " 10  Years of Overall Experience  986 non-null    object\n",
      " 11  Additional Compensation      900 non-null    object\n",
      " 12  Additional Information       420 non-null    object\n",
      " 13  Unnamed: 13                  7 non-null      object\n",
      " 14  Unnamed: 14                  1 non-null      object\n",
      "dtypes: object(15)\n",
      "memory usage: 119.8+ KB\n"
     ]
    }
   ],
   "source": [
    "uk_pub.info()"
   ]
  },
  {
   "cell_type": "code",
   "execution_count": 5,
   "metadata": {},
   "outputs": [
    {
     "data": {
      "text/plain": [
       "(1021, 15)"
      ]
     },
     "execution_count": 5,
     "metadata": {},
     "output_type": "execute_result"
    }
   ],
   "source": [
    "uk_pub.shape"
   ]
  },
  {
   "cell_type": "markdown",
   "metadata": {},
   "source": [
    "#### Cleaning Data"
   ]
  },
  {
   "cell_type": "code",
   "execution_count": 6,
   "metadata": {},
   "outputs": [],
   "source": [
    "# # Drop all columns that we will not be working with\n",
    "# uk_pub = uk_pub.loc[:, 'Salary':'Years of Overall Experience']"
   ]
  },
  {
   "cell_type": "code",
   "execution_count": 7,
   "metadata": {},
   "outputs": [
    {
     "data": {
      "text/plain": [
       "Index(['Timestamp', 'Job Title', 'Employer', 'Location', 'Salary',\n",
       "       'Employment Status', 'Race / Ethnicity', 'Gender Identity',\n",
       "       'Sexual Orientation', 'Years in Pubishing',\n",
       "       'Years of Overall Experience', 'Additional Compensation',\n",
       "       'Additional Information', 'Unnamed: 13', 'Unnamed: 14'],\n",
       "      dtype='object')"
      ]
     },
     "execution_count": 7,
     "metadata": {},
     "output_type": "execute_result"
    }
   ],
   "source": [
    "# Test for wordcloud ---- may need to remove\n",
    "uk_pub.columns"
   ]
  },
  {
   "cell_type": "code",
   "execution_count": 8,
   "metadata": {},
   "outputs": [],
   "source": [
    "# Test for Wordcloud ---- may need to remove\n",
    "columns = ['Job Title', 'Salary', 'Employment Status','Race / Ethnicity', 'Gender Identity',\n",
    "       'Sexual Orientation', 'Years in Pubishing', 'Years of Overall Experience' ]\n",
    "uk_pub = uk_pub.loc[:, columns]"
   ]
  },
  {
   "cell_type": "code",
   "execution_count": 9,
   "metadata": {
    "scrolled": true
   },
   "outputs": [
    {
     "data": {
      "text/plain": [
       "Job Title                       1\n",
       "Salary                          0\n",
       "Employment Status               0\n",
       "Race / Ethnicity               10\n",
       "Gender Identity                 1\n",
       "Sexual Orientation             13\n",
       "Years in Pubishing             13\n",
       "Years of Overall Experience    35\n",
       "dtype: int64"
      ]
     },
     "execution_count": 9,
     "metadata": {},
     "output_type": "execute_result"
    }
   ],
   "source": [
    "# Check missing values\n",
    "uk_pub.isnull().sum()"
   ]
  },
  {
   "cell_type": "code",
   "execution_count": 10,
   "metadata": {},
   "outputs": [],
   "source": [
    "# Rename misspelling in column name\n",
    "uk_pub.rename(columns={'Years in Pubishing':'Years in Publishing'}, inplace=True)"
   ]
  },
  {
   "cell_type": "code",
   "execution_count": 11,
   "metadata": {},
   "outputs": [
    {
     "data": {
      "image/png": "[encoded data removed]",
      "text/plain": [
       "<Figure size 720x288 with 1 Axes>"
      ]
     },
     "metadata": {
      "needs_background": "light"
     },
     "output_type": "display_data"
    }
   ],
   "source": [
    "# Visualise missing data\n",
    "fig, ax = plt.subplots(figsize=(10,4))\n",
    "ax = sns.heatmap(uk_pub.isnull(),yticklabels=False,cbar=False,cmap='plasma')"
   ]
  },
  {
   "cell_type": "code",
   "execution_count": 12,
   "metadata": {
    "scrolled": true
   },
   "outputs": [
    {
     "data": {
      "text/html": [
       "<div>\n",
       "<style scoped>\n",
       "    .dataframe tbody tr th:only-of-type {\n",
       "        vertical-align: middle;\n",
       "    }\n",
       "\n",
       "    .dataframe tbody tr th {\n",
       "        vertical-align: top;\n",
       "    }\n",
       "\n",
       "    .dataframe thead th {\n",
       "        text-align: right;\n",
       "    }\n",
       "</style>\n",
       "<table border=\"1\" class=\"dataframe\">\n",
       "  <thead>\n",
       "    <tr style=\"text-align: right;\">\n",
       "      <th></th>\n",
       "      <th>Job Title</th>\n",
       "      <th>Salary</th>\n",
       "      <th>Employment Status</th>\n",
       "      <th>Race / Ethnicity</th>\n",
       "      <th>Gender Identity</th>\n",
       "      <th>Sexual Orientation</th>\n",
       "      <th>Years in Publishing</th>\n",
       "      <th>Years of Overall Experience</th>\n",
       "    </tr>\n",
       "  </thead>\n",
       "  <tbody>\n",
       "    <tr>\n",
       "      <th>0</th>\n",
       "      <td>Marketing manager</td>\n",
       "      <td>£36k</td>\n",
       "      <td>Full-time</td>\n",
       "      <td>White</td>\n",
       "      <td>Woman (cisgender)</td>\n",
       "      <td>Straight</td>\n",
       "      <td>3</td>\n",
       "      <td>9</td>\n",
       "    </tr>\n",
       "    <tr>\n",
       "      <th>1</th>\n",
       "      <td>Early careere coordinator</td>\n",
       "      <td>23,000 per annum</td>\n",
       "      <td>Full-time</td>\n",
       "      <td>Black african</td>\n",
       "      <td>Woman (cisgender)</td>\n",
       "      <td>Bisexual</td>\n",
       "      <td>2</td>\n",
       "      <td>2</td>\n",
       "    </tr>\n",
       "    <tr>\n",
       "      <th>2</th>\n",
       "      <td>Audience and Digital Development Assistant</td>\n",
       "      <td>£23,000</td>\n",
       "      <td>Full-time</td>\n",
       "      <td>British Indian</td>\n",
       "      <td>Woman (cisgender)</td>\n",
       "      <td>Straight</td>\n",
       "      <td>1</td>\n",
       "      <td>4</td>\n",
       "    </tr>\n",
       "    <tr>\n",
       "      <th>3</th>\n",
       "      <td>Publicity Officer</td>\n",
       "      <td>£28,000</td>\n",
       "      <td>Full-time</td>\n",
       "      <td>White British</td>\n",
       "      <td>Woman (cisgender)</td>\n",
       "      <td>Pansexual</td>\n",
       "      <td>3</td>\n",
       "      <td>6</td>\n",
       "    </tr>\n",
       "    <tr>\n",
       "      <th>4</th>\n",
       "      <td>Creative art worker</td>\n",
       "      <td>£115 per day</td>\n",
       "      <td>Contract</td>\n",
       "      <td>British Indian</td>\n",
       "      <td>Woman (cisgender)</td>\n",
       "      <td>Straight</td>\n",
       "      <td>7</td>\n",
       "      <td>10</td>\n",
       "    </tr>\n",
       "  </tbody>\n",
       "</table>\n",
       "</div>"
      ],
      "text/plain": [
       "                                     Job Title            Salary  \\\n",
       "0                            Marketing manager              £36k   \n",
       "1                   Early careere coordinator   23,000 per annum   \n",
       "2  Audience and Digital Development Assistant            £23,000   \n",
       "3                            Publicity Officer           £28,000   \n",
       "4                          Creative art worker     £115 per day    \n",
       "\n",
       "  Employment Status Race / Ethnicity    Gender Identity Sexual Orientation  \\\n",
       "0         Full-time            White  Woman (cisgender)           Straight   \n",
       "1         Full-time   Black african   Woman (cisgender)           Bisexual   \n",
       "2         Full-time   British Indian  Woman (cisgender)           Straight   \n",
       "3         Full-time    White British  Woman (cisgender)          Pansexual   \n",
       "4          Contract  British Indian   Woman (cisgender)           Straight   \n",
       "\n",
       "  Years in Publishing Years of Overall Experience  \n",
       "0                   3                           9  \n",
       "1                   2                           2  \n",
       "2                   1                           4  \n",
       "3                   3                           6  \n",
       "4                   7                          10  "
      ]
     },
     "execution_count": 12,
     "metadata": {},
     "output_type": "execute_result"
    }
   ],
   "source": [
    "uk_pub.head()"
   ]
  },
  {
   "cell_type": "markdown",
   "metadata": {},
   "source": [
    "#### Years in Publishing Column"
   ]
  },
  {
   "cell_type": "code",
   "execution_count": 13,
   "metadata": {},
   "outputs": [],
   "source": [
    "# Replace all instances of 'Less than 1' to 0 in 'Years in Publishing' column\n",
    "uk_pub.loc[uk_pub['Years in Publishing'] == 'Less than 1', 'Years in Publishing'] = 0"
   ]
  },
  {
   "cell_type": "code",
   "execution_count": 14,
   "metadata": {},
   "outputs": [],
   "source": [
    "# Convert 'Years in Publishing' to numeric data type\n",
    "uk_pub['Years in Publishing'] = pd.to_numeric(uk_pub['Years in Publishing'], errors='coerce')"
   ]
  },
  {
   "cell_type": "code",
   "execution_count": 15,
   "metadata": {
    "scrolled": false
   },
   "outputs": [
    {
     "data": {
      "text/plain": [
       "3.0     150\n",
       "4.0     141\n",
       "5.0     126\n",
       "2.0     118\n",
       "7.0      75\n",
       "6.0      67\n",
       "1.0      61\n",
       "0.0      53\n",
       "8.0      52\n",
       "10.0     34\n",
       "9.0      25\n",
       "12.0     22\n",
       "11.0     20\n",
       "NaN      14\n",
       "15.0     13\n",
       "14.0     12\n",
       "13.0     10\n",
       "20.0      8\n",
       "16.0      5\n",
       "18.0      4\n",
       "19.0      3\n",
       "21.0      2\n",
       "24.0      2\n",
       "25.0      1\n",
       "27.0      1\n",
       "26.0      1\n",
       "17.0      1\n",
       "Name: Years in Publishing, dtype: int64"
      ]
     },
     "execution_count": 15,
     "metadata": {},
     "output_type": "execute_result"
    }
   ],
   "source": [
    "# Check value counts for years in publishing\n",
    "uk_pub['Years in Publishing'].value_counts(dropna=False)"
   ]
  },
  {
   "cell_type": "code",
   "execution_count": 16,
   "metadata": {},
   "outputs": [
    {
     "data": {
      "image/png": "[encoded data removed]",
      "text/plain": [
       "<Figure size 432x288 with 1 Axes>"
      ]
     },
     "metadata": {
      "needs_background": "light"
     },
     "output_type": "display_data"
    }
   ],
   "source": [
    "uk_pub['Years in Publishing'].hist();"
   ]
  },
  {
   "cell_type": "code",
   "execution_count": 17,
   "metadata": {},
   "outputs": [
    {
     "data": {
      "image/png": "[encoded data removed]",
      "text/plain": [
       "<Figure size 432x288 with 1 Axes>"
      ]
     },
     "metadata": {
      "needs_background": "light"
     },
     "output_type": "display_data"
    }
   ],
   "source": [
    "uk_pub.boxplot(column=['Years in Publishing']);"
   ]
  },
  {
   "cell_type": "code",
   "execution_count": 18,
   "metadata": {},
   "outputs": [
    {
     "data": {
      "text/html": [
       "<div>\n",
       "<style scoped>\n",
       "    .dataframe tbody tr th:only-of-type {\n",
       "        vertical-align: middle;\n",
       "    }\n",
       "\n",
       "    .dataframe tbody tr th {\n",
       "        vertical-align: top;\n",
       "    }\n",
       "\n",
       "    .dataframe thead th {\n",
       "        text-align: right;\n",
       "    }\n",
       "</style>\n",
       "<table border=\"1\" class=\"dataframe\">\n",
       "  <thead>\n",
       "    <tr style=\"text-align: right;\">\n",
       "      <th></th>\n",
       "      <th>Years in Publishing</th>\n",
       "    </tr>\n",
       "  </thead>\n",
       "  <tbody>\n",
       "    <tr>\n",
       "      <th>count</th>\n",
       "      <td>1007.000000</td>\n",
       "    </tr>\n",
       "    <tr>\n",
       "      <th>mean</th>\n",
       "      <td>5.342602</td>\n",
       "    </tr>\n",
       "    <tr>\n",
       "      <th>std</th>\n",
       "      <td>4.129225</td>\n",
       "    </tr>\n",
       "    <tr>\n",
       "      <th>min</th>\n",
       "      <td>0.000000</td>\n",
       "    </tr>\n",
       "    <tr>\n",
       "      <th>25%</th>\n",
       "      <td>3.000000</td>\n",
       "    </tr>\n",
       "    <tr>\n",
       "      <th>50%</th>\n",
       "      <td>4.000000</td>\n",
       "    </tr>\n",
       "    <tr>\n",
       "      <th>75%</th>\n",
       "      <td>7.000000</td>\n",
       "    </tr>\n",
       "    <tr>\n",
       "      <th>max</th>\n",
       "      <td>27.000000</td>\n",
       "    </tr>\n",
       "  </tbody>\n",
       "</table>\n",
       "</div>"
      ],
      "text/plain": [
       "       Years in Publishing\n",
       "count          1007.000000\n",
       "mean              5.342602\n",
       "std               4.129225\n",
       "min               0.000000\n",
       "25%               3.000000\n",
       "50%               4.000000\n",
       "75%               7.000000\n",
       "max              27.000000"
      ]
     },
     "execution_count": 18,
     "metadata": {},
     "output_type": "execute_result"
    }
   ],
   "source": [
    "uk_pub[['Years in Publishing']].describe()"
   ]
  },
  {
   "cell_type": "code",
   "execution_count": 19,
   "metadata": {},
   "outputs": [],
   "source": [
    "# Due to the number of outliers we will fill the null values with median\n",
    "uk_pub['Years in Publishing'].fillna(uk_pub['Years in Publishing'].median(), inplace=True)"
   ]
  },
  {
   "cell_type": "code",
   "execution_count": 20,
   "metadata": {},
   "outputs": [],
   "source": [
    "# Do I need to do anything to deal with the outliers?"
   ]
  },
  {
   "cell_type": "markdown",
   "metadata": {},
   "source": [
    "#### Years of Overall Experience Column"
   ]
  },
  {
   "cell_type": "code",
   "execution_count": 21,
   "metadata": {},
   "outputs": [
    {
     "data": {
      "text/plain": [
       "5               124\n",
       "3               119\n",
       "4               112\n",
       "7               101\n",
       "6                99\n",
       "8                66\n",
       "10               66\n",
       "2                55\n",
       "12               37\n",
       "9                35\n",
       "NaN              35\n",
       "1                25\n",
       "11               25\n",
       "Less than 1      21\n",
       "14               20\n",
       "15               18\n",
       "13               15\n",
       "20                8\n",
       "16                6\n",
       "21                6\n",
       "17                6\n",
       "19                6\n",
       "18                4\n",
       "25                3\n",
       "26                2\n",
       "24                2\n",
       "23                2\n",
       "More than 30      1\n",
       "28                1\n",
       "30                1\n",
       "Name: Years of Overall Experience, dtype: int64"
      ]
     },
     "execution_count": 21,
     "metadata": {},
     "output_type": "execute_result"
    }
   ],
   "source": [
    "uk_pub['Years of Overall Experience'].value_counts(dropna=False)"
   ]
  },
  {
   "cell_type": "code",
   "execution_count": 22,
   "metadata": {},
   "outputs": [],
   "source": [
    "# Replace all instances of 'Less than 1' to 0 in 'Years in Publishing' column\n",
    "uk_pub.loc[uk_pub['Years of Overall Experience'] == 'Less than 1', 'Years of Overall Experience'] = 0"
   ]
  },
  {
   "cell_type": "code",
   "execution_count": 23,
   "metadata": {},
   "outputs": [
    {
     "data": {
      "text/html": [
       "<div>\n",
       "<style scoped>\n",
       "    .dataframe tbody tr th:only-of-type {\n",
       "        vertical-align: middle;\n",
       "    }\n",
       "\n",
       "    .dataframe tbody tr th {\n",
       "        vertical-align: top;\n",
       "    }\n",
       "\n",
       "    .dataframe thead th {\n",
       "        text-align: right;\n",
       "    }\n",
       "</style>\n",
       "<table border=\"1\" class=\"dataframe\">\n",
       "  <thead>\n",
       "    <tr style=\"text-align: right;\">\n",
       "      <th></th>\n",
       "      <th>Job Title</th>\n",
       "      <th>Salary</th>\n",
       "      <th>Employment Status</th>\n",
       "      <th>Race / Ethnicity</th>\n",
       "      <th>Gender Identity</th>\n",
       "      <th>Sexual Orientation</th>\n",
       "      <th>Years in Publishing</th>\n",
       "      <th>Years of Overall Experience</th>\n",
       "    </tr>\n",
       "  </thead>\n",
       "  <tbody>\n",
       "    <tr>\n",
       "      <th>929</th>\n",
       "      <td>Production Controller</td>\n",
       "      <td>30K</td>\n",
       "      <td>Full-time</td>\n",
       "      <td>English</td>\n",
       "      <td>Prefer not to say</td>\n",
       "      <td>Bisexual</td>\n",
       "      <td>12.0</td>\n",
       "      <td>More than 30</td>\n",
       "    </tr>\n",
       "  </tbody>\n",
       "</table>\n",
       "</div>"
      ],
      "text/plain": [
       "                 Job Title Salary Employment Status Race / Ethnicity  \\\n",
       "929  Production Controller    30K         Full-time          English   \n",
       "\n",
       "       Gender Identity Sexual Orientation  Years in Publishing  \\\n",
       "929  Prefer not to say           Bisexual                 12.0   \n",
       "\n",
       "    Years of Overall Experience  \n",
       "929                More than 30  "
      ]
     },
     "execution_count": 23,
     "metadata": {},
     "output_type": "execute_result"
    }
   ],
   "source": [
    "uk_pub.loc[uk_pub['Years of Overall Experience'] == 'More than 30']"
   ]
  },
  {
   "cell_type": "code",
   "execution_count": 24,
   "metadata": {},
   "outputs": [],
   "source": [
    "# Drop row where data is not numeric\n",
    "uk_pub.drop(uk_pub[uk_pub['Years of Overall Experience']  == 'More than 30'].index, inplace = True)"
   ]
  },
  {
   "cell_type": "code",
   "execution_count": 25,
   "metadata": {},
   "outputs": [],
   "source": [
    "# Convert 'Years in Publishing' to numeric data type\n",
    "uk_pub['Years of Overall Experience'] = pd.to_numeric(uk_pub['Years of Overall Experience'], errors='coerce')"
   ]
  },
  {
   "cell_type": "code",
   "execution_count": 26,
   "metadata": {},
   "outputs": [
    {
     "data": {
      "image/png": "[encoded data removed]",
      "text/plain": [
       "<Figure size 432x288 with 1 Axes>"
      ]
     },
     "metadata": {
      "needs_background": "light"
     },
     "output_type": "display_data"
    }
   ],
   "source": [
    "uk_pub['Years of Overall Experience'].hist();"
   ]
  },
  {
   "cell_type": "code",
   "execution_count": 27,
   "metadata": {},
   "outputs": [
    {
     "data": {
      "image/png": "[encoded data removed]",
      "text/plain": [
       "<Figure size 432x288 with 1 Axes>"
      ]
     },
     "metadata": {
      "needs_background": "light"
     },
     "output_type": "display_data"
    }
   ],
   "source": [
    "uk_pub.boxplot(column=['Years of Overall Experience']);"
   ]
  },
  {
   "cell_type": "code",
   "execution_count": 28,
   "metadata": {},
   "outputs": [],
   "source": [
    "# Due to the number of outliers we will fill the null values with median\n",
    "uk_pub['Years of Overall Experience'].fillna(uk_pub['Years of Overall Experience'].median(), inplace=True)"
   ]
  },
  {
   "cell_type": "code",
   "execution_count": 29,
   "metadata": {},
   "outputs": [],
   "source": [
    "# Do I need to do anything to deal with the outliers?"
   ]
  },
  {
   "cell_type": "code",
   "execution_count": null,
   "metadata": {},
   "outputs": [],
   "source": []
  },
  {
   "cell_type": "markdown",
   "metadata": {},
   "source": [
    "#### Gender Identity Column"
   ]
  },
  {
   "cell_type": "code",
   "execution_count": 30,
   "metadata": {},
   "outputs": [
    {
     "data": {
      "text/plain": [
       "Woman (cisgender)                                                           884\n",
       "Man (cisgender)                                                             110\n",
       "Prefer not to say                                                            13\n",
       "Non-binary                                                                    7\n",
       "Woman (non-binary)                                                            2\n",
       "https://unitetheunion.org/why-join/membership-types/unite-young-members/      1\n",
       "White (Scandinavian immigrant)                                                1\n",
       "Prefer to self-describe                                                       1\n",
       "Name: Gender Identity, dtype: int64"
      ]
     },
     "execution_count": 30,
     "metadata": {},
     "output_type": "execute_result"
    }
   ],
   "source": [
    "# Check value counts of Gender Identity\n",
    "uk_pub['Gender Identity'].value_counts()"
   ]
  },
  {
   "cell_type": "code",
   "execution_count": 31,
   "metadata": {},
   "outputs": [],
   "source": [
    "uk_pub = uk_pub.groupby('Gender Identity').filter(lambda x: len(x) > 5)"
   ]
  },
  {
   "cell_type": "code",
   "execution_count": 32,
   "metadata": {},
   "outputs": [],
   "source": [
    "# Remove '(cisgender)' from 'Woman' and 'Man'\n",
    "uk_pub.loc[uk_pub['Gender Identity'] == 'Woman (cisgender)', 'Gender Identity'] = 'Woman'\n",
    "uk_pub.loc[uk_pub['Gender Identity'] == 'Man (cisgender)', 'Gender Identity'] = 'Man'"
   ]
  },
  {
   "cell_type": "code",
   "execution_count": 33,
   "metadata": {},
   "outputs": [
    {
     "data": {
      "text/plain": [
       "Woman                884\n",
       "Man                  110\n",
       "Prefer not to say     13\n",
       "Non-binary             7\n",
       "Name: Gender Identity, dtype: int64"
      ]
     },
     "execution_count": 33,
     "metadata": {},
     "output_type": "execute_result"
    }
   ],
   "source": [
    "# Check value counts of Gender Identity\n",
    "uk_pub['Gender Identity'].value_counts()"
   ]
  },
  {
   "cell_type": "code",
   "execution_count": 34,
   "metadata": {},
   "outputs": [],
   "source": [
    "# Need to encode these using pd.get_dummies later on"
   ]
  },
  {
   "cell_type": "markdown",
   "metadata": {},
   "source": [
    "#### Sexual Orientation Column"
   ]
  },
  {
   "cell_type": "code",
   "execution_count": 35,
   "metadata": {},
   "outputs": [
    {
     "data": {
      "text/plain": [
       "Straight                                          733\n",
       "Bisexual                                          108\n",
       "Prefer not to say                                  53\n",
       "Queer                                              32\n",
       "Gay                                                22\n",
       "Questioning                                        16\n",
       "Lesbian                                            14\n",
       "Pansexual                                          12\n",
       "NaN                                                12\n",
       "Asexual                                             9\n",
       "Asexual/Queer                                       1\n",
       "Demisexual                                          1\n",
       "no labels (not straight but sexuality is fake)      1\n",
       "Name: Sexual Orientation, dtype: int64"
      ]
     },
     "execution_count": 35,
     "metadata": {},
     "output_type": "execute_result"
    }
   ],
   "source": [
    "uk_pub['Sexual Orientation'].value_counts(dropna=False)"
   ]
  },
  {
   "cell_type": "code",
   "execution_count": 36,
   "metadata": {},
   "outputs": [],
   "source": [
    "# Fill null values with mode\n",
    "uk_pub['Sexual Orientation'].fillna(uk_pub['Sexual Orientation'].mode()[0], inplace=True)"
   ]
  },
  {
   "cell_type": "code",
   "execution_count": 37,
   "metadata": {},
   "outputs": [],
   "source": [
    "# Group all non-straight into a single category\n",
    "uk_pub.loc[uk_pub['Sexual Orientation'] != 'Straight', 'Sexual Orientation'] = 'LGBTQ'"
   ]
  },
  {
   "cell_type": "markdown",
   "metadata": {},
   "source": [
    "#### Race/Ethnicity Column"
   ]
  },
  {
   "cell_type": "code",
   "execution_count": 38,
   "metadata": {
    "scrolled": false
   },
   "outputs": [
    {
     "data": {
      "text/plain": [
       "array(['White', 'Black african ', 'British Indian', 'White British',\n",
       "       'British Indian ', 'White British ', 'White Australian',\n",
       "       'Black Caribbean ', 'Pakistani', 'Caucasian ', 'Black British ',\n",
       "       'Black', 'White/Irish', 'Caucasian', 'White ', 'Asian',\n",
       "       'Caucasian / Greek', 'Chinese', 'White, British',\n",
       "       'White (Not British)', 'White/irish', 'White/British',\n",
       "       'British Asian', 'Mixed (White British and British Indian)',\n",
       "       'Mixed', 'Black/African-British', 'White (other)',\n",
       "       'Mixed race - White and East Asian', 'white', 'White European',\n",
       "       'South Asian ', 'White/European', 'South Asian', 'white british',\n",
       "       'Mixed white and asian', 'White british', 'Black British',\n",
       "       'Mixed - White/Asian', 'South-Asian', 'white (other)',\n",
       "       'Mixed (White and Asian)', 'Mixed Afro/Indo Caribbean and White',\n",
       "       'White/Irish ', 'British Asian ', 'South Asian origin',\n",
       "       'British Asian - Indian ', 'Black African ',\n",
       "       'British Asian - Indian', 'White/Britsh',\n",
       "       'Mixed - white and brown', 'White, American', 'White, non-British',\n",
       "       'White (British)', 'Not white', 'Caucasian (Latinx)',\n",
       "       'White/Asian', 'Mixed white/south Asian ', 'White - Irish', nan,\n",
       "       'Mixed Race', 'White (not British)', 'British Asian (South Asian)',\n",
       "       'White, Not British', 'White (European)', 'Mixed - Indian/White',\n",
       "       'White Brit', 'Mixed (British and Asian) ', 'White Other',\n",
       "       'White European (mixed British/French) ',\n",
       "       'Mixed Black Caribbean / White', 'Mixed - Asian and White',\n",
       "       'White European ', 'white ', 'British Bangladeshi ', 'Asian ',\n",
       "       'White Irish', 'Black African', 'White non British',\n",
       "       'white dual nationality', 'Mixed race', 'White/Other', 'BAME',\n",
       "       'White and Black Caribbean', 'White european', 'Mixed/British',\n",
       "       'British-Bangladeshi', 'British (white)', 'Indian ',\n",
       "       'White/British ', 'British Chinese', 'Chinese/White',\n",
       "       'White European (Latvian)', 'Mixed - Black and White',\n",
       "       'White European (non-British)', 'Indian',\n",
       "       'Mixed (White & Black Caribbean)', 'Continental European',\n",
       "       'white European', 'Mixed (SE Asian/white)',\n",
       "       'Bi-racial Asian and white', 'SEA & White', 'Black Caribbean',\n",
       "       'White - British', 'White, not British  ', 'White American ',\n",
       "       'White other', 'White non-British', 'Mixed - White and Asian',\n",
       "       'white British', 'White Birtish', 'White – English/American',\n",
       "       'Mixed - White & Black Caribbean', 'White /Irish', 'White Irish ',\n",
       "       'Mixed white & asian', 'White / British', 'British Insian',\n",
       "       'Mixed - white and Romany ', 'White / Irish ', 'White/ Irish',\n",
       "       'White, other', 'White (Non-British)', 'British',\n",
       "       'White, not British', 'caucasian ', 'White/ British', 'Other',\n",
       "       'British, white', 'white (non-british)', 'white, british',\n",
       "       'Mixed: White/Asian',\n",
       "       'White (not British, from an Western European EU country)',\n",
       "       'White + Christian', 'White / European', 'Mixed white/Asian',\n",
       "       'White britsh', 'White and Asian ', 'Mixed, non-white',\n",
       "       'White (North American)', 'White british ', 'British Pakistani',\n",
       "       'White/Scottish', 'White (Jewish)', 'Pakistani ',\n",
       "       'White / Anglo-Irish', 'mixed - non-white', 'White/Caucasian ',\n",
       "       'White Caucasian', 'Whote', 'White / British ', 'British/Irish',\n",
       "       'Mixed - White and Black Caribbean', '0', 'black caribbean',\n",
       "       'white/british', 'Mixed race (Black Caribbean/White)',\n",
       "       'Mixed Jewish Heritage', 'South East Asian', 'White, European',\n",
       "       'White Other ', 'White / Other'], dtype=object)"
      ]
     },
     "execution_count": 38,
     "metadata": {},
     "output_type": "execute_result"
    }
   ],
   "source": [
    "uk_pub['Race / Ethnicity'].unique()"
   ]
  },
  {
   "cell_type": "code",
   "execution_count": 51,
   "metadata": {},
   "outputs": [],
   "source": [
    "# Fill null values with mode\n",
    "uk_pub['Race / Ethnicity'].fillna(uk_pub['Race / Ethnicity'].mode()[0], inplace=True)"
   ]
  },
  {
   "cell_type": "code",
   "execution_count": 52,
   "metadata": {},
   "outputs": [],
   "source": [
    "# Correct values before applying function\n",
    "uk_pub.loc[uk_pub['Race / Ethnicity'] == 'Not white', 'Race / Ethnicity'] = 'Other'\n",
    "uk_pub.loc[uk_pub['Race / Ethnicity'] == 'Whote', 'Race / Ethnicity'] = 'White'\n",
    "uk_pub.loc[uk_pub['Race / Ethnicity'] == 'British Insian', 'Race / Ethnicity'] = 'British Indian'"
   ]
  },
  {
   "cell_type": "code",
   "execution_count": 53,
   "metadata": {},
   "outputs": [
    {
     "data": {
      "text/plain": [
       "32           Chinese\n",
       "77           Chinese\n",
       "252          Chinese\n",
       "462    Chinese/White\n",
       "492          Chinese\n",
       "616          Chinese\n",
       "653          Chinese\n",
       "734          Chinese\n",
       "Name: Race / Ethnicity, dtype: object"
      ]
     },
     "execution_count": 53,
     "metadata": {},
     "output_type": "execute_result"
    }
   ],
   "source": [
    "# Check for matches of specific races\n",
    "uk_pub[uk_pub['Race / Ethnicity'].str.match('Chinese')]['Race / Ethnicity']"
   ]
  },
  {
   "cell_type": "code",
   "execution_count": 54,
   "metadata": {},
   "outputs": [],
   "source": [
    "# Function for simplifying race\n",
    "def simplify_race(x):\n",
    "    if 'mixed' in x.lower():\n",
    "        return 'Mixed'\n",
    "    elif 'black' in x.lower() or 'bame' in x.lower():\n",
    "        return 'Black'\n",
    "    elif 'asian' in x.lower() or 'chinese' in x.lower() or 'indian' in x.lower() or \\\n",
    "                                 'pakistani' in x.lower() or 'bangladeshi' in x.lower():\n",
    "        return 'Asian'\n",
    "    elif 'white' in x.lower() or 'caucasian' in x.lower():\n",
    "        return 'White'\n",
    "    else:\n",
    "        return 'Unknown'"
   ]
  },
  {
   "cell_type": "code",
   "execution_count": 55,
   "metadata": {},
   "outputs": [],
   "source": [
    "# Apply function\n",
    "uk_pub['Race / Ethnicity'] = uk_pub['Race / Ethnicity'].apply(simplify_race)"
   ]
  },
  {
   "cell_type": "code",
   "execution_count": 56,
   "metadata": {},
   "outputs": [
    {
     "data": {
      "text/plain": [
       "5"
      ]
     },
     "execution_count": 56,
     "metadata": {},
     "output_type": "execute_result"
    }
   ],
   "source": [
    "# Check number of unique values\n",
    "uk_pub['Race / Ethnicity'].nunique()"
   ]
  },
  {
   "cell_type": "code",
   "execution_count": 57,
   "metadata": {},
   "outputs": [
    {
     "data": {
      "text/html": [
       "<div>\n",
       "<style scoped>\n",
       "    .dataframe tbody tr th:only-of-type {\n",
       "        vertical-align: middle;\n",
       "    }\n",
       "\n",
       "    .dataframe tbody tr th {\n",
       "        vertical-align: top;\n",
       "    }\n",
       "\n",
       "    .dataframe thead th {\n",
       "        text-align: right;\n",
       "    }\n",
       "</style>\n",
       "<table border=\"1\" class=\"dataframe\">\n",
       "  <thead>\n",
       "    <tr style=\"text-align: right;\">\n",
       "      <th></th>\n",
       "      <th>Job Title</th>\n",
       "      <th>Salary</th>\n",
       "      <th>Employment Status</th>\n",
       "      <th>Race / Ethnicity</th>\n",
       "      <th>Gender Identity</th>\n",
       "      <th>Sexual Orientation</th>\n",
       "      <th>Years in Publishing</th>\n",
       "      <th>Years of Overall Experience</th>\n",
       "    </tr>\n",
       "  </thead>\n",
       "  <tbody>\n",
       "    <tr>\n",
       "      <th>0</th>\n",
       "      <td>Marketing manager</td>\n",
       "      <td>£36k</td>\n",
       "      <td>Full-time</td>\n",
       "      <td>White</td>\n",
       "      <td>Woman</td>\n",
       "      <td>Straight</td>\n",
       "      <td>3.0</td>\n",
       "      <td>9.0</td>\n",
       "    </tr>\n",
       "    <tr>\n",
       "      <th>1</th>\n",
       "      <td>Early careere coordinator</td>\n",
       "      <td>23,000 per annum</td>\n",
       "      <td>Full-time</td>\n",
       "      <td>Black</td>\n",
       "      <td>Woman</td>\n",
       "      <td>LGBTQ</td>\n",
       "      <td>2.0</td>\n",
       "      <td>2.0</td>\n",
       "    </tr>\n",
       "    <tr>\n",
       "      <th>2</th>\n",
       "      <td>Audience and Digital Development Assistant</td>\n",
       "      <td>£23,000</td>\n",
       "      <td>Full-time</td>\n",
       "      <td>Asian</td>\n",
       "      <td>Woman</td>\n",
       "      <td>Straight</td>\n",
       "      <td>1.0</td>\n",
       "      <td>4.0</td>\n",
       "    </tr>\n",
       "    <tr>\n",
       "      <th>3</th>\n",
       "      <td>Publicity Officer</td>\n",
       "      <td>£28,000</td>\n",
       "      <td>Full-time</td>\n",
       "      <td>White</td>\n",
       "      <td>Woman</td>\n",
       "      <td>LGBTQ</td>\n",
       "      <td>3.0</td>\n",
       "      <td>6.0</td>\n",
       "    </tr>\n",
       "    <tr>\n",
       "      <th>4</th>\n",
       "      <td>Creative art worker</td>\n",
       "      <td>£115 per day</td>\n",
       "      <td>Contract</td>\n",
       "      <td>Asian</td>\n",
       "      <td>Woman</td>\n",
       "      <td>Straight</td>\n",
       "      <td>7.0</td>\n",
       "      <td>10.0</td>\n",
       "    </tr>\n",
       "  </tbody>\n",
       "</table>\n",
       "</div>"
      ],
      "text/plain": [
       "                                     Job Title            Salary  \\\n",
       "0                            Marketing manager              £36k   \n",
       "1                   Early careere coordinator   23,000 per annum   \n",
       "2  Audience and Digital Development Assistant            £23,000   \n",
       "3                            Publicity Officer           £28,000   \n",
       "4                          Creative art worker     £115 per day    \n",
       "\n",
       "  Employment Status Race / Ethnicity Gender Identity Sexual Orientation  \\\n",
       "0         Full-time            White           Woman           Straight   \n",
       "1         Full-time            Black           Woman              LGBTQ   \n",
       "2         Full-time            Asian           Woman           Straight   \n",
       "3         Full-time            White           Woman              LGBTQ   \n",
       "4          Contract            Asian           Woman           Straight   \n",
       "\n",
       "   Years in Publishing  Years of Overall Experience  \n",
       "0                  3.0                          9.0  \n",
       "1                  2.0                          2.0  \n",
       "2                  1.0                          4.0  \n",
       "3                  3.0                          6.0  \n",
       "4                  7.0                         10.0  "
      ]
     },
     "execution_count": 57,
     "metadata": {},
     "output_type": "execute_result"
    }
   ],
   "source": [
    "uk_pub.head()"
   ]
  },
  {
   "cell_type": "code",
   "execution_count": null,
   "metadata": {},
   "outputs": [],
   "source": []
  },
  {
   "cell_type": "code",
   "execution_count": null,
   "metadata": {},
   "outputs": [],
   "source": []
  },
  {
   "cell_type": "code",
   "execution_count": null,
   "metadata": {},
   "outputs": [],
   "source": []
  },
  {
   "cell_type": "markdown",
   "metadata": {},
   "source": [
    "#### Employment Status Column"
   ]
  },
  {
   "cell_type": "code",
   "execution_count": 58,
   "metadata": {
    "scrolled": false
   },
   "outputs": [
    {
     "data": {
      "text/plain": [
       "array(['Full-time', 'Contract', 'Part-time', 'Parental leave cover',\n",
       "       'Part-Time (32 hours per week)',\n",
       "       'full-time but no contract, paid hourly',\n",
       "       \"I have just left this job but feel it's important for it to be logged\",\n",
       "       'Left position in 2019 due to low salary',\n",
       "       \"Full Time but wasn't permanent - they made anyone who wasn't permanent take unpaid six week breaks before you reached two years and then would hire you again \",\n",
       "       'Rolling temp contract', 'intern', 'Freelance'], dtype=object)"
      ]
     },
     "execution_count": 58,
     "metadata": {},
     "output_type": "execute_result"
    }
   ],
   "source": [
    "# Check unique values\n",
    "uk_pub['Employment Status'].unique()"
   ]
  },
  {
   "cell_type": "code",
   "execution_count": 59,
   "metadata": {},
   "outputs": [],
   "source": [
    "# Function for simplifying employment status\n",
    "def simplify_employment_status(x):\n",
    "    if 'part-time' in x.lower():\n",
    "        return 'Part-time'\n",
    "    elif 'full-time' in x.lower():\n",
    "        return 'Full-time'\n",
    "    elif 'contract' in x.lower():\n",
    "        return 'Contract'\n",
    "    else:\n",
    "        return 'Other'"
   ]
  },
  {
   "cell_type": "code",
   "execution_count": 60,
   "metadata": {},
   "outputs": [],
   "source": [
    "# Apply function\n",
    "uk_pub['Employment Status'] = uk_pub['Employment Status'].apply(simplify_employment_status)"
   ]
  },
  {
   "cell_type": "code",
   "execution_count": 61,
   "metadata": {},
   "outputs": [
    {
     "data": {
      "text/html": [
       "<div>\n",
       "<style scoped>\n",
       "    .dataframe tbody tr th:only-of-type {\n",
       "        vertical-align: middle;\n",
       "    }\n",
       "\n",
       "    .dataframe tbody tr th {\n",
       "        vertical-align: top;\n",
       "    }\n",
       "\n",
       "    .dataframe thead th {\n",
       "        text-align: right;\n",
       "    }\n",
       "</style>\n",
       "<table border=\"1\" class=\"dataframe\">\n",
       "  <thead>\n",
       "    <tr style=\"text-align: right;\">\n",
       "      <th></th>\n",
       "      <th>Job Title</th>\n",
       "      <th>Salary</th>\n",
       "      <th>Employment Status</th>\n",
       "      <th>Race / Ethnicity</th>\n",
       "      <th>Gender Identity</th>\n",
       "      <th>Sexual Orientation</th>\n",
       "      <th>Years in Publishing</th>\n",
       "      <th>Years of Overall Experience</th>\n",
       "    </tr>\n",
       "  </thead>\n",
       "  <tbody>\n",
       "    <tr>\n",
       "      <th>0</th>\n",
       "      <td>Marketing manager</td>\n",
       "      <td>£36k</td>\n",
       "      <td>Full-time</td>\n",
       "      <td>White</td>\n",
       "      <td>Woman</td>\n",
       "      <td>Straight</td>\n",
       "      <td>3.0</td>\n",
       "      <td>9.0</td>\n",
       "    </tr>\n",
       "    <tr>\n",
       "      <th>1</th>\n",
       "      <td>Early careere coordinator</td>\n",
       "      <td>23,000 per annum</td>\n",
       "      <td>Full-time</td>\n",
       "      <td>Black</td>\n",
       "      <td>Woman</td>\n",
       "      <td>LGBTQ</td>\n",
       "      <td>2.0</td>\n",
       "      <td>2.0</td>\n",
       "    </tr>\n",
       "    <tr>\n",
       "      <th>2</th>\n",
       "      <td>Audience and Digital Development Assistant</td>\n",
       "      <td>£23,000</td>\n",
       "      <td>Full-time</td>\n",
       "      <td>Asian</td>\n",
       "      <td>Woman</td>\n",
       "      <td>Straight</td>\n",
       "      <td>1.0</td>\n",
       "      <td>4.0</td>\n",
       "    </tr>\n",
       "    <tr>\n",
       "      <th>3</th>\n",
       "      <td>Publicity Officer</td>\n",
       "      <td>£28,000</td>\n",
       "      <td>Full-time</td>\n",
       "      <td>White</td>\n",
       "      <td>Woman</td>\n",
       "      <td>LGBTQ</td>\n",
       "      <td>3.0</td>\n",
       "      <td>6.0</td>\n",
       "    </tr>\n",
       "    <tr>\n",
       "      <th>4</th>\n",
       "      <td>Creative art worker</td>\n",
       "      <td>£115 per day</td>\n",
       "      <td>Contract</td>\n",
       "      <td>Asian</td>\n",
       "      <td>Woman</td>\n",
       "      <td>Straight</td>\n",
       "      <td>7.0</td>\n",
       "      <td>10.0</td>\n",
       "    </tr>\n",
       "  </tbody>\n",
       "</table>\n",
       "</div>"
      ],
      "text/plain": [
       "                                     Job Title            Salary  \\\n",
       "0                            Marketing manager              £36k   \n",
       "1                   Early careere coordinator   23,000 per annum   \n",
       "2  Audience and Digital Development Assistant            £23,000   \n",
       "3                            Publicity Officer           £28,000   \n",
       "4                          Creative art worker     £115 per day    \n",
       "\n",
       "  Employment Status Race / Ethnicity Gender Identity Sexual Orientation  \\\n",
       "0         Full-time            White           Woman           Straight   \n",
       "1         Full-time            Black           Woman              LGBTQ   \n",
       "2         Full-time            Asian           Woman           Straight   \n",
       "3         Full-time            White           Woman              LGBTQ   \n",
       "4          Contract            Asian           Woman           Straight   \n",
       "\n",
       "   Years in Publishing  Years of Overall Experience  \n",
       "0                  3.0                          9.0  \n",
       "1                  2.0                          2.0  \n",
       "2                  1.0                          4.0  \n",
       "3                  3.0                          6.0  \n",
       "4                  7.0                         10.0  "
      ]
     },
     "execution_count": 61,
     "metadata": {},
     "output_type": "execute_result"
    }
   ],
   "source": [
    "uk_pub.head()"
   ]
  },
  {
   "cell_type": "code",
   "execution_count": null,
   "metadata": {},
   "outputs": [],
   "source": []
  },
  {
   "cell_type": "code",
   "execution_count": null,
   "metadata": {},
   "outputs": [],
   "source": []
  },
  {
   "cell_type": "code",
   "execution_count": null,
   "metadata": {},
   "outputs": [],
   "source": []
  },
  {
   "cell_type": "code",
   "execution_count": null,
   "metadata": {},
   "outputs": [],
   "source": []
  },
  {
   "cell_type": "markdown",
   "metadata": {},
   "source": [
    "#### Salary Column"
   ]
  },
  {
   "cell_type": "code",
   "execution_count": 62,
   "metadata": {
    "scrolled": false
   },
   "outputs": [
    {
     "data": {
      "text/html": [
       "<div>\n",
       "<style scoped>\n",
       "    .dataframe tbody tr th:only-of-type {\n",
       "        vertical-align: middle;\n",
       "    }\n",
       "\n",
       "    .dataframe tbody tr th {\n",
       "        vertical-align: top;\n",
       "    }\n",
       "\n",
       "    .dataframe thead th {\n",
       "        text-align: right;\n",
       "    }\n",
       "</style>\n",
       "<table border=\"1\" class=\"dataframe\">\n",
       "  <thead>\n",
       "    <tr style=\"text-align: right;\">\n",
       "      <th></th>\n",
       "      <th>Salary</th>\n",
       "    </tr>\n",
       "  </thead>\n",
       "  <tbody>\n",
       "    <tr>\n",
       "      <th>0</th>\n",
       "      <td>£36k</td>\n",
       "    </tr>\n",
       "    <tr>\n",
       "      <th>1</th>\n",
       "      <td>23,000 per annum</td>\n",
       "    </tr>\n",
       "    <tr>\n",
       "      <th>2</th>\n",
       "      <td>£23,000</td>\n",
       "    </tr>\n",
       "  </tbody>\n",
       "</table>\n",
       "</div>"
      ],
      "text/plain": [
       "             Salary\n",
       "0              £36k\n",
       "1  23,000 per annum\n",
       "2           £23,000"
      ]
     },
     "execution_count": 62,
     "metadata": {},
     "output_type": "execute_result"
    }
   ],
   "source": [
    "uk_pub[['Salary']].head(3)"
   ]
  },
  {
   "cell_type": "code",
   "execution_count": 63,
   "metadata": {},
   "outputs": [],
   "source": [
    "# Apply regex expression to extract correct salary values\n",
    "def extract_salary(x):\n",
    "    if re.search(r\"^£\\d+,[0-9]{3}.{0,21}$\", x):\n",
    "        return x.replace(',', '')[1:6]\n",
    "    elif re.search(r\"^£?\\d\\d[kK]\\s?$\", x): \n",
    "        return x[-3:-1] + \"000\"\n",
    "    elif re.search(r\"^\\d+[,.\\s]\\s?0\", x):\n",
    "        return x[:2] + \"000\"\n",
    "    elif re.search(r\"^\\d+[,.\\s]\\s?0{3}\", x):\n",
    "        return x[0:2] + \"000\"\n",
    "    elif re.search(\"^£?\\d{5}0?\", x):\n",
    "        x = x.strip('£')\n",
    "        if '.' in x:\n",
    "            return x[:5]\n",
    "        else:\n",
    "            return x.split(' ')[0]\n",
    "    elif re.search(r\"[kK]$\", x):\n",
    "        if '.' in x:\n",
    "            return x.split('.')[0][-2:] + x.split('.')[1][0] + \"00\"\n",
    "        elif '-' in x:\n",
    "            return x.split('-')[1][:2] + \"000\"\n",
    "        else:\n",
    "            return x[-3:-1] + \"000\"\n",
    "    else:\n",
    "        return x"
   ]
  },
  {
   "cell_type": "code",
   "execution_count": 64,
   "metadata": {},
   "outputs": [],
   "source": [
    "# Map function to each salary element\n",
    "uk_pub['Salary'] = uk_pub['Salary'].map(extract_salary)"
   ]
  },
  {
   "cell_type": "code",
   "execution_count": 65,
   "metadata": {},
   "outputs": [
    {
     "data": {
      "text/html": [
       "<div>\n",
       "<style scoped>\n",
       "    .dataframe tbody tr th:only-of-type {\n",
       "        vertical-align: middle;\n",
       "    }\n",
       "\n",
       "    .dataframe tbody tr th {\n",
       "        vertical-align: top;\n",
       "    }\n",
       "\n",
       "    .dataframe thead th {\n",
       "        text-align: right;\n",
       "    }\n",
       "</style>\n",
       "<table border=\"1\" class=\"dataframe\">\n",
       "  <thead>\n",
       "    <tr style=\"text-align: right;\">\n",
       "      <th></th>\n",
       "      <th>Job Title</th>\n",
       "      <th>Salary</th>\n",
       "      <th>Employment Status</th>\n",
       "      <th>Race / Ethnicity</th>\n",
       "      <th>Gender Identity</th>\n",
       "      <th>Sexual Orientation</th>\n",
       "      <th>Years in Publishing</th>\n",
       "      <th>Years of Overall Experience</th>\n",
       "    </tr>\n",
       "  </thead>\n",
       "  <tbody>\n",
       "    <tr>\n",
       "      <th>0</th>\n",
       "      <td>Marketing manager</td>\n",
       "      <td>36000</td>\n",
       "      <td>Full-time</td>\n",
       "      <td>White</td>\n",
       "      <td>Woman</td>\n",
       "      <td>Straight</td>\n",
       "      <td>3.0</td>\n",
       "      <td>9.0</td>\n",
       "    </tr>\n",
       "    <tr>\n",
       "      <th>1</th>\n",
       "      <td>Early careere coordinator</td>\n",
       "      <td>23000</td>\n",
       "      <td>Full-time</td>\n",
       "      <td>Black</td>\n",
       "      <td>Woman</td>\n",
       "      <td>LGBTQ</td>\n",
       "      <td>2.0</td>\n",
       "      <td>2.0</td>\n",
       "    </tr>\n",
       "    <tr>\n",
       "      <th>2</th>\n",
       "      <td>Audience and Digital Development Assistant</td>\n",
       "      <td>23000</td>\n",
       "      <td>Full-time</td>\n",
       "      <td>Asian</td>\n",
       "      <td>Woman</td>\n",
       "      <td>Straight</td>\n",
       "      <td>1.0</td>\n",
       "      <td>4.0</td>\n",
       "    </tr>\n",
       "    <tr>\n",
       "      <th>3</th>\n",
       "      <td>Publicity Officer</td>\n",
       "      <td>28000</td>\n",
       "      <td>Full-time</td>\n",
       "      <td>White</td>\n",
       "      <td>Woman</td>\n",
       "      <td>LGBTQ</td>\n",
       "      <td>3.0</td>\n",
       "      <td>6.0</td>\n",
       "    </tr>\n",
       "    <tr>\n",
       "      <th>4</th>\n",
       "      <td>Creative art worker</td>\n",
       "      <td>£115 per day</td>\n",
       "      <td>Contract</td>\n",
       "      <td>Asian</td>\n",
       "      <td>Woman</td>\n",
       "      <td>Straight</td>\n",
       "      <td>7.0</td>\n",
       "      <td>10.0</td>\n",
       "    </tr>\n",
       "    <tr>\n",
       "      <th>5</th>\n",
       "      <td>Executive (marketing and operations)</td>\n",
       "      <td>£21k starting, £27k 5 years later</td>\n",
       "      <td>Full-time</td>\n",
       "      <td>White</td>\n",
       "      <td>Woman</td>\n",
       "      <td>Straight</td>\n",
       "      <td>6.0</td>\n",
       "      <td>10.0</td>\n",
       "    </tr>\n",
       "    <tr>\n",
       "      <th>6</th>\n",
       "      <td>Project &amp; Brand Exec</td>\n",
       "      <td>31000</td>\n",
       "      <td>Full-time</td>\n",
       "      <td>White</td>\n",
       "      <td>Woman</td>\n",
       "      <td>Straight</td>\n",
       "      <td>3.0</td>\n",
       "      <td>12.0</td>\n",
       "    </tr>\n",
       "    <tr>\n",
       "      <th>7</th>\n",
       "      <td>Coordinator (Creative Responsibility)</td>\n",
       "      <td>£25,000 entering in Sept 2016, £29,248.44 exit...</td>\n",
       "      <td>Full-time</td>\n",
       "      <td>White</td>\n",
       "      <td>Woman</td>\n",
       "      <td>Straight</td>\n",
       "      <td>3.0</td>\n",
       "      <td>11.0</td>\n",
       "    </tr>\n",
       "    <tr>\n",
       "      <th>8</th>\n",
       "      <td>Corporate responsibility assistant</td>\n",
       "      <td>25500</td>\n",
       "      <td>Full-time</td>\n",
       "      <td>Black</td>\n",
       "      <td>Woman</td>\n",
       "      <td>Straight</td>\n",
       "      <td>1.0</td>\n",
       "      <td>12.0</td>\n",
       "    </tr>\n",
       "    <tr>\n",
       "      <th>9</th>\n",
       "      <td>Press Officer</td>\n",
       "      <td>26600</td>\n",
       "      <td>Full-time</td>\n",
       "      <td>White</td>\n",
       "      <td>Woman</td>\n",
       "      <td>LGBTQ</td>\n",
       "      <td>4.0</td>\n",
       "      <td>4.0</td>\n",
       "    </tr>\n",
       "    <tr>\n",
       "      <th>10</th>\n",
       "      <td>Publicity Manager</td>\n",
       "      <td>33000</td>\n",
       "      <td>Full-time</td>\n",
       "      <td>White</td>\n",
       "      <td>Woman</td>\n",
       "      <td>Straight</td>\n",
       "      <td>5.0</td>\n",
       "      <td>6.0</td>\n",
       "    </tr>\n",
       "    <tr>\n",
       "      <th>11</th>\n",
       "      <td>Sales Admin</td>\n",
       "      <td>23000</td>\n",
       "      <td>Full-time</td>\n",
       "      <td>White</td>\n",
       "      <td>Woman</td>\n",
       "      <td>LGBTQ</td>\n",
       "      <td>1.0</td>\n",
       "      <td>5.0</td>\n",
       "    </tr>\n",
       "    <tr>\n",
       "      <th>12</th>\n",
       "      <td>Marketing Executive</td>\n",
       "      <td>28000</td>\n",
       "      <td>Full-time</td>\n",
       "      <td>White</td>\n",
       "      <td>Woman</td>\n",
       "      <td>Straight</td>\n",
       "      <td>5.0</td>\n",
       "      <td>15.0</td>\n",
       "    </tr>\n",
       "    <tr>\n",
       "      <th>13</th>\n",
       "      <td>Digital Marketing Assistant</td>\n",
       "      <td>18000</td>\n",
       "      <td>Full-time</td>\n",
       "      <td>Asian</td>\n",
       "      <td>Man</td>\n",
       "      <td>LGBTQ</td>\n",
       "      <td>2.0</td>\n",
       "      <td>2.0</td>\n",
       "    </tr>\n",
       "    <tr>\n",
       "      <th>15</th>\n",
       "      <td>Marketing Manager</td>\n",
       "      <td>35300</td>\n",
       "      <td>Full-time</td>\n",
       "      <td>Asian</td>\n",
       "      <td>Woman</td>\n",
       "      <td>Straight</td>\n",
       "      <td>4.0</td>\n",
       "      <td>4.0</td>\n",
       "    </tr>\n",
       "    <tr>\n",
       "      <th>16</th>\n",
       "      <td>Key Account Manager</td>\n",
       "      <td>50000</td>\n",
       "      <td>Full-time</td>\n",
       "      <td>Black</td>\n",
       "      <td>Woman</td>\n",
       "      <td>Straight</td>\n",
       "      <td>2.0</td>\n",
       "      <td>12.0</td>\n",
       "    </tr>\n",
       "    <tr>\n",
       "      <th>17</th>\n",
       "      <td>Marketing Assistant</td>\n",
       "      <td>23500</td>\n",
       "      <td>Full-time</td>\n",
       "      <td>Black</td>\n",
       "      <td>Woman</td>\n",
       "      <td>Straight</td>\n",
       "      <td>2.0</td>\n",
       "      <td>3.0</td>\n",
       "    </tr>\n",
       "    <tr>\n",
       "      <th>18</th>\n",
       "      <td>Agency Assistant</td>\n",
       "      <td>23000</td>\n",
       "      <td>Full-time</td>\n",
       "      <td>White</td>\n",
       "      <td>Woman</td>\n",
       "      <td>Straight</td>\n",
       "      <td>0.0</td>\n",
       "      <td>1.0</td>\n",
       "    </tr>\n",
       "    <tr>\n",
       "      <th>19</th>\n",
       "      <td>Campaigns Manager</td>\n",
       "      <td>32000</td>\n",
       "      <td>Full-time</td>\n",
       "      <td>White</td>\n",
       "      <td>Woman</td>\n",
       "      <td>LGBTQ</td>\n",
       "      <td>8.0</td>\n",
       "      <td>6.0</td>\n",
       "    </tr>\n",
       "    <tr>\n",
       "      <th>20</th>\n",
       "      <td>Business Analyst</td>\n",
       "      <td>42900</td>\n",
       "      <td>Full-time</td>\n",
       "      <td>White</td>\n",
       "      <td>Woman</td>\n",
       "      <td>LGBTQ</td>\n",
       "      <td>6.0</td>\n",
       "      <td>7.0</td>\n",
       "    </tr>\n",
       "  </tbody>\n",
       "</table>\n",
       "</div>"
      ],
      "text/plain": [
       "                                      Job Title  \\\n",
       "0                             Marketing manager   \n",
       "1                    Early careere coordinator    \n",
       "2   Audience and Digital Development Assistant    \n",
       "3                             Publicity Officer   \n",
       "4                           Creative art worker   \n",
       "5          Executive (marketing and operations)   \n",
       "6                          Project & Brand Exec   \n",
       "7         Coordinator (Creative Responsibility)   \n",
       "8           Corporate responsibility assistant    \n",
       "9                                 Press Officer   \n",
       "10                            Publicity Manager   \n",
       "11                                  Sales Admin   \n",
       "12                          Marketing Executive   \n",
       "13                  Digital Marketing Assistant   \n",
       "15                            Marketing Manager   \n",
       "16                          Key Account Manager   \n",
       "17                          Marketing Assistant   \n",
       "18                             Agency Assistant   \n",
       "19                            Campaigns Manager   \n",
       "20                             Business Analyst   \n",
       "\n",
       "                                               Salary Employment Status  \\\n",
       "0                                               36000         Full-time   \n",
       "1                                               23000         Full-time   \n",
       "2                                               23000         Full-time   \n",
       "3                                               28000         Full-time   \n",
       "4                                       £115 per day           Contract   \n",
       "5                  £21k starting, £27k 5 years later          Full-time   \n",
       "6                                               31000         Full-time   \n",
       "7   £25,000 entering in Sept 2016, £29,248.44 exit...         Full-time   \n",
       "8                                               25500         Full-time   \n",
       "9                                               26600         Full-time   \n",
       "10                                              33000         Full-time   \n",
       "11                                              23000         Full-time   \n",
       "12                                              28000         Full-time   \n",
       "13                                              18000         Full-time   \n",
       "15                                              35300         Full-time   \n",
       "16                                              50000         Full-time   \n",
       "17                                              23500         Full-time   \n",
       "18                                              23000         Full-time   \n",
       "19                                              32000         Full-time   \n",
       "20                                              42900         Full-time   \n",
       "\n",
       "   Race / Ethnicity Gender Identity Sexual Orientation  Years in Publishing  \\\n",
       "0             White           Woman           Straight                  3.0   \n",
       "1             Black           Woman              LGBTQ                  2.0   \n",
       "2             Asian           Woman           Straight                  1.0   \n",
       "3             White           Woman              LGBTQ                  3.0   \n",
       "4             Asian           Woman           Straight                  7.0   \n",
       "5             White           Woman           Straight                  6.0   \n",
       "6             White           Woman           Straight                  3.0   \n",
       "7             White           Woman           Straight                  3.0   \n",
       "8             Black           Woman           Straight                  1.0   \n",
       "9             White           Woman              LGBTQ                  4.0   \n",
       "10            White           Woman           Straight                  5.0   \n",
       "11            White           Woman              LGBTQ                  1.0   \n",
       "12            White           Woman           Straight                  5.0   \n",
       "13            Asian             Man              LGBTQ                  2.0   \n",
       "15            Asian           Woman           Straight                  4.0   \n",
       "16            Black           Woman           Straight                  2.0   \n",
       "17            Black           Woman           Straight                  2.0   \n",
       "18            White           Woman           Straight                  0.0   \n",
       "19            White           Woman              LGBTQ                  8.0   \n",
       "20            White           Woman              LGBTQ                  6.0   \n",
       "\n",
       "    Years of Overall Experience  \n",
       "0                           9.0  \n",
       "1                           2.0  \n",
       "2                           4.0  \n",
       "3                           6.0  \n",
       "4                          10.0  \n",
       "5                          10.0  \n",
       "6                          12.0  \n",
       "7                          11.0  \n",
       "8                          12.0  \n",
       "9                           4.0  \n",
       "10                          6.0  \n",
       "11                          5.0  \n",
       "12                         15.0  \n",
       "13                          2.0  \n",
       "15                          4.0  \n",
       "16                         12.0  \n",
       "17                          3.0  \n",
       "18                          1.0  \n",
       "19                          6.0  \n",
       "20                          7.0  "
      ]
     },
     "execution_count": 65,
     "metadata": {},
     "output_type": "execute_result"
    }
   ],
   "source": [
    "uk_pub.head(20)"
   ]
  },
  {
   "cell_type": "code",
   "execution_count": 66,
   "metadata": {},
   "outputs": [],
   "source": [
    "# £115 per day --> (52(week)*5(work days) - 20(days holiday))*115(day rate)\n",
    "uk_pub.loc[uk_pub['Salary'] == '£115 per day ', 'Salary'] = '27600'\n",
    "\n",
    "# # £21k starting, £27k 5 years later \n",
    "uk_pub.loc[uk_pub['Salary'] == '£21k starting, £27k 5 years later ', 'Salary'] = '27000'\n",
    "\n",
    "# £25,000 entering in Sept 2016, £29,248.44 exiting in Sept 2019\n",
    "uk_pub.loc[uk_pub['Salary'] == '£25,000 entering in Sept 2016, £29,248.44 exiting in Sept 2019', 'Salary'] = '29248'\n",
    "\n",
    "# £30,000 (as of 2020; started role in 2016)\n",
    "uk_pub.loc[uk_pub['Salary'] == '£30,000 (as of 2020; started role in 2016)', 'Salary'] = '30000'\n",
    "\n",
    "# 20k starting\n",
    "uk_pub.loc[uk_pub['Salary'] == '20k starting', 'Salary'] = '20000'\n",
    "\n",
    "# 34\n",
    "uk_pub.loc[uk_pub['Salary'] == '34', 'Salary'] = '34000'\n",
    "\n",
    "# 28.50£\n",
    "uk_pub.loc[uk_pub['Salary'] == '28.50£', 'Salary'] = '28500'\n",
    "\n",
    "# £25, 000\n",
    "uk_pub.loc[uk_pub['Salary'] == '£25, 000', 'Salary'] = '25000'\n",
    "\n",
    "# approx £11-13,000 p.a.\n",
    "uk_pub.loc[uk_pub['Salary'] == 'approx £11-13,000 p.a.', 'Salary'] = '13000'\n",
    "\n",
    "# £38.5k (increase to £40k delayed by covid)\n",
    "uk_pub.loc[uk_pub['Salary'] == '£38.5k (increase to £40k delayed by covid)', 'Salary'] = '40000'\n",
    "\n",
    "# 21.5\n",
    "uk_pub.loc[uk_pub['Salary'] == '21.5', 'Salary'] = '21500'\n",
    "\n",
    "# £24K annually \n",
    "uk_pub.loc[uk_pub['Salary'] == '£24K annually ', 'Salary'] = '24000'\n",
    "\n",
    "# £18,000 (£19k after 6-month probation)\n",
    "uk_pub.loc[uk_pub['Salary'] == '£18,000 (£19k after 6-month probation)', 'Salary'] = '19000'\n",
    "\n",
    "# £23k to start rising to £23,500\n",
    "uk_pub.loc[uk_pub['Salary'] == '£23k to start rising to £23,500', 'Salary'] = '23500'\n",
    "\n",
    "# £26 266\n",
    "uk_pub.loc[uk_pub['Salary'] == '£26 266', 'Salary'] = '26266'\n",
    "\n",
    "# 28\n",
    "uk_pub.loc[uk_pub['Salary'] == '28', 'Salary'] = '28000'\n",
    "\n",
    "# £15.5k (2015), £16.9k (2016), £18.9k (2017)\n",
    "uk_pub.loc[uk_pub['Salary'] == '£15.5k (2015), £16.9k (2016), £18.9k (2017)', 'Salary'] = '18900'\n",
    "\n",
    "# £22,000 start, £24,000 2 years on\n",
    "uk_pub.loc[uk_pub['Salary'] == '£22,000 start, £24,000 2 years on', 'Salary'] = '24000'\n",
    "\n",
    "# 31'800\n",
    "uk_pub.loc[uk_pub['Salary'] == \"31'800\", 'Salary'] = '31800'\n",
    "\n",
    "# £38\n",
    "uk_pub.loc[uk_pub['Salary'] == '£38', 'Salary'] = '38000'\n",
    "\n",
    "# £28k pro rata\n",
    "uk_pub.loc[uk_pub['Salary'] == '£28k pro rata', 'Salary'] = '28000'\n",
    "\n",
    "# 34,850 (full time)\n",
    "uk_pub.loc[uk_pub['Salary'] == '34,850 (full time)', 'Salary'] = '34850'\n",
    "\n",
    "# 5k000\n",
    "uk_pub.loc[uk_pub['Salary'] == '5k000', 'Salary'] = '50000'\n",
    "\n",
    "# Started at £21500 but increased to £22500 after a year\n",
    "uk_pub.loc[uk_pub['Salary'] == 'Started at £21500 but increased to £22500 after a year', 'Salary'] = '22500'"
   ]
  },
  {
   "cell_type": "code",
   "execution_count": 67,
   "metadata": {},
   "outputs": [],
   "source": [
    "# Drop rows where people do not make a salary\n",
    "\n",
    "# List of entries that mean no salary\n",
    "no_salary = ['Unpaid with £100/week stipend', '0']\n",
    "\n",
    "# Find indexes of people with no salary\n",
    "ppl_no_salary = uk_pub[uk_pub['Salary'].isin(no_salary)].index\n",
    "\n",
    "# Remove people with no salary \n",
    "uk_pub = uk_pub[~uk_pub.index.isin(ppl_no_salary)]"
   ]
  },
  {
   "cell_type": "code",
   "execution_count": null,
   "metadata": {},
   "outputs": [],
   "source": []
  },
  {
   "cell_type": "code",
   "execution_count": null,
   "metadata": {},
   "outputs": [],
   "source": []
  },
  {
   "cell_type": "code",
   "execution_count": 68,
   "metadata": {},
   "outputs": [
    {
     "data": {
      "text/html": [
       "<div>\n",
       "<style scoped>\n",
       "    .dataframe tbody tr th:only-of-type {\n",
       "        vertical-align: middle;\n",
       "    }\n",
       "\n",
       "    .dataframe tbody tr th {\n",
       "        vertical-align: top;\n",
       "    }\n",
       "\n",
       "    .dataframe thead th {\n",
       "        text-align: right;\n",
       "    }\n",
       "</style>\n",
       "<table border=\"1\" class=\"dataframe\">\n",
       "  <thead>\n",
       "    <tr style=\"text-align: right;\">\n",
       "      <th></th>\n",
       "      <th>Job Title</th>\n",
       "      <th>Salary</th>\n",
       "      <th>Employment Status</th>\n",
       "      <th>Race / Ethnicity</th>\n",
       "      <th>Gender Identity</th>\n",
       "      <th>Sexual Orientation</th>\n",
       "      <th>Years in Publishing</th>\n",
       "      <th>Years of Overall Experience</th>\n",
       "    </tr>\n",
       "  </thead>\n",
       "  <tbody>\n",
       "    <tr>\n",
       "      <th>0</th>\n",
       "      <td>Marketing manager</td>\n",
       "      <td>36000</td>\n",
       "      <td>Full-time</td>\n",
       "      <td>White</td>\n",
       "      <td>Woman</td>\n",
       "      <td>Straight</td>\n",
       "      <td>3.0</td>\n",
       "      <td>9.0</td>\n",
       "    </tr>\n",
       "    <tr>\n",
       "      <th>1</th>\n",
       "      <td>Early careere coordinator</td>\n",
       "      <td>23000</td>\n",
       "      <td>Full-time</td>\n",
       "      <td>Black</td>\n",
       "      <td>Woman</td>\n",
       "      <td>LGBTQ</td>\n",
       "      <td>2.0</td>\n",
       "      <td>2.0</td>\n",
       "    </tr>\n",
       "    <tr>\n",
       "      <th>2</th>\n",
       "      <td>Audience and Digital Development Assistant</td>\n",
       "      <td>23000</td>\n",
       "      <td>Full-time</td>\n",
       "      <td>Asian</td>\n",
       "      <td>Woman</td>\n",
       "      <td>Straight</td>\n",
       "      <td>1.0</td>\n",
       "      <td>4.0</td>\n",
       "    </tr>\n",
       "    <tr>\n",
       "      <th>3</th>\n",
       "      <td>Publicity Officer</td>\n",
       "      <td>28000</td>\n",
       "      <td>Full-time</td>\n",
       "      <td>White</td>\n",
       "      <td>Woman</td>\n",
       "      <td>LGBTQ</td>\n",
       "      <td>3.0</td>\n",
       "      <td>6.0</td>\n",
       "    </tr>\n",
       "    <tr>\n",
       "      <th>4</th>\n",
       "      <td>Creative art worker</td>\n",
       "      <td>27600</td>\n",
       "      <td>Contract</td>\n",
       "      <td>Asian</td>\n",
       "      <td>Woman</td>\n",
       "      <td>Straight</td>\n",
       "      <td>7.0</td>\n",
       "      <td>10.0</td>\n",
       "    </tr>\n",
       "  </tbody>\n",
       "</table>\n",
       "</div>"
      ],
      "text/plain": [
       "                                     Job Title Salary Employment Status  \\\n",
       "0                            Marketing manager  36000         Full-time   \n",
       "1                   Early careere coordinator   23000         Full-time   \n",
       "2  Audience and Digital Development Assistant   23000         Full-time   \n",
       "3                            Publicity Officer  28000         Full-time   \n",
       "4                          Creative art worker  27600          Contract   \n",
       "\n",
       "  Race / Ethnicity Gender Identity Sexual Orientation  Years in Publishing  \\\n",
       "0            White           Woman           Straight                  3.0   \n",
       "1            Black           Woman              LGBTQ                  2.0   \n",
       "2            Asian           Woman           Straight                  1.0   \n",
       "3            White           Woman              LGBTQ                  3.0   \n",
       "4            Asian           Woman           Straight                  7.0   \n",
       "\n",
       "   Years of Overall Experience  \n",
       "0                          9.0  \n",
       "1                          2.0  \n",
       "2                          4.0  \n",
       "3                          6.0  \n",
       "4                         10.0  "
      ]
     },
     "execution_count": 68,
     "metadata": {},
     "output_type": "execute_result"
    }
   ],
   "source": [
    "uk_pub.head()"
   ]
  },
  {
   "cell_type": "code",
   "execution_count": 69,
   "metadata": {},
   "outputs": [
    {
     "name": "stdout",
     "output_type": "stream",
     "text": [
      "<class 'pandas.core.frame.DataFrame'>\n",
      "Int64Index: 1012 entries, 0 to 1020\n",
      "Data columns (total 8 columns):\n",
      " #   Column                       Non-Null Count  Dtype  \n",
      "---  ------                       --------------  -----  \n",
      " 0   Job Title                    1012 non-null   object \n",
      " 1   Salary                       1012 non-null   object \n",
      " 2   Employment Status            1012 non-null   object \n",
      " 3   Race / Ethnicity             1012 non-null   object \n",
      " 4   Gender Identity              1012 non-null   object \n",
      " 5   Sexual Orientation           1012 non-null   object \n",
      " 6   Years in Publishing          1012 non-null   float64\n",
      " 7   Years of Overall Experience  1012 non-null   float64\n",
      "dtypes: float64(2), object(6)\n",
      "memory usage: 71.2+ KB\n"
     ]
    }
   ],
   "source": [
    "uk_pub.info()"
   ]
  },
  {
   "cell_type": "code",
   "execution_count": 70,
   "metadata": {},
   "outputs": [],
   "source": [
    "uk_pub['Salary'] = uk_pub['Salary'].astype('int64')"
   ]
  },
  {
   "cell_type": "markdown",
   "metadata": {},
   "source": [
    "### EDA"
   ]
  },
  {
   "cell_type": "code",
   "execution_count": 71,
   "metadata": {},
   "outputs": [
    {
     "data": {
      "image/png": "[encoded data removed]",
      "text/plain": [
       "<Figure size 432x288 with 1 Axes>"
      ]
     },
     "metadata": {
      "needs_background": "light"
     },
     "output_type": "display_data"
    }
   ],
   "source": [
    "# Checking relatinship between Salary and Years of Overall Experience\n",
    "uk_pub.plot(kind='scatter', x='Years of Overall Experience', y='Salary');"
   ]
  },
  {
   "cell_type": "code",
   "execution_count": 72,
   "metadata": {},
   "outputs": [
    {
     "data": {
      "image/png": "[encoded data removed]",
      "text/plain": [
       "<Figure size 432x288 with 1 Axes>"
      ]
     },
     "metadata": {
      "needs_background": "light"
     },
     "output_type": "display_data"
    }
   ],
   "source": [
    "# Checking relationship between Salary and Years in Publishing\n",
    "uk_pub.plot(kind='scatter', x='Years in Publishing', y='Salary');"
   ]
  },
  {
   "cell_type": "code",
   "execution_count": 73,
   "metadata": {},
   "outputs": [
    {
     "data": {
      "text/html": [
       "<div>\n",
       "<style scoped>\n",
       "    .dataframe tbody tr th:only-of-type {\n",
       "        vertical-align: middle;\n",
       "    }\n",
       "\n",
       "    .dataframe tbody tr th {\n",
       "        vertical-align: top;\n",
       "    }\n",
       "\n",
       "    .dataframe thead th {\n",
       "        text-align: right;\n",
       "    }\n",
       "</style>\n",
       "<table border=\"1\" class=\"dataframe\">\n",
       "  <thead>\n",
       "    <tr style=\"text-align: right;\">\n",
       "      <th></th>\n",
       "      <th>Salary</th>\n",
       "      <th>Years in Publishing</th>\n",
       "      <th>Years of Overall Experience</th>\n",
       "    </tr>\n",
       "  </thead>\n",
       "  <tbody>\n",
       "    <tr>\n",
       "      <th>count</th>\n",
       "      <td>1012.000000</td>\n",
       "      <td>1012.000000</td>\n",
       "      <td>1012.000000</td>\n",
       "    </tr>\n",
       "    <tr>\n",
       "      <th>mean</th>\n",
       "      <td>30328.666008</td>\n",
       "      <td>5.331028</td>\n",
       "      <td>6.867589</td>\n",
       "    </tr>\n",
       "    <tr>\n",
       "      <th>std</th>\n",
       "      <td>8875.749245</td>\n",
       "      <td>4.106653</td>\n",
       "      <td>4.474818</td>\n",
       "    </tr>\n",
       "    <tr>\n",
       "      <th>min</th>\n",
       "      <td>13000.000000</td>\n",
       "      <td>0.000000</td>\n",
       "      <td>0.000000</td>\n",
       "    </tr>\n",
       "    <tr>\n",
       "      <th>25%</th>\n",
       "      <td>25000.000000</td>\n",
       "      <td>3.000000</td>\n",
       "      <td>4.000000</td>\n",
       "    </tr>\n",
       "    <tr>\n",
       "      <th>50%</th>\n",
       "      <td>28000.000000</td>\n",
       "      <td>4.000000</td>\n",
       "      <td>6.000000</td>\n",
       "    </tr>\n",
       "    <tr>\n",
       "      <th>75%</th>\n",
       "      <td>34000.000000</td>\n",
       "      <td>7.000000</td>\n",
       "      <td>9.000000</td>\n",
       "    </tr>\n",
       "    <tr>\n",
       "      <th>max</th>\n",
       "      <td>120000.000000</td>\n",
       "      <td>27.000000</td>\n",
       "      <td>30.000000</td>\n",
       "    </tr>\n",
       "  </tbody>\n",
       "</table>\n",
       "</div>"
      ],
      "text/plain": [
       "              Salary  Years in Publishing  Years of Overall Experience\n",
       "count    1012.000000          1012.000000                  1012.000000\n",
       "mean    30328.666008             5.331028                     6.867589\n",
       "std      8875.749245             4.106653                     4.474818\n",
       "min     13000.000000             0.000000                     0.000000\n",
       "25%     25000.000000             3.000000                     4.000000\n",
       "50%     28000.000000             4.000000                     6.000000\n",
       "75%     34000.000000             7.000000                     9.000000\n",
       "max    120000.000000            27.000000                    30.000000"
      ]
     },
     "execution_count": 73,
     "metadata": {},
     "output_type": "execute_result"
    }
   ],
   "source": [
    "# Descriptive statistics with outlier\n",
    "uk_pub.describe()"
   ]
  },
  {
   "cell_type": "code",
   "execution_count": 74,
   "metadata": {},
   "outputs": [
    {
     "data": {
      "text/html": [
       "<div>\n",
       "<style scoped>\n",
       "    .dataframe tbody tr th:only-of-type {\n",
       "        vertical-align: middle;\n",
       "    }\n",
       "\n",
       "    .dataframe tbody tr th {\n",
       "        vertical-align: top;\n",
       "    }\n",
       "\n",
       "    .dataframe thead th {\n",
       "        text-align: right;\n",
       "    }\n",
       "</style>\n",
       "<table border=\"1\" class=\"dataframe\">\n",
       "  <thead>\n",
       "    <tr style=\"text-align: right;\">\n",
       "      <th></th>\n",
       "      <th>Salary</th>\n",
       "      <th>Years in Publishing</th>\n",
       "      <th>Years of Overall Experience</th>\n",
       "    </tr>\n",
       "  </thead>\n",
       "  <tbody>\n",
       "    <tr>\n",
       "      <th>count</th>\n",
       "      <td>1011.000000</td>\n",
       "      <td>1011.000000</td>\n",
       "      <td>1011.000000</td>\n",
       "    </tr>\n",
       "    <tr>\n",
       "      <th>mean</th>\n",
       "      <td>30239.970326</td>\n",
       "      <td>5.316518</td>\n",
       "      <td>6.868447</td>\n",
       "    </tr>\n",
       "    <tr>\n",
       "      <th>std</th>\n",
       "      <td>8419.484194</td>\n",
       "      <td>4.082650</td>\n",
       "      <td>4.476949</td>\n",
       "    </tr>\n",
       "    <tr>\n",
       "      <th>min</th>\n",
       "      <td>13000.000000</td>\n",
       "      <td>0.000000</td>\n",
       "      <td>0.000000</td>\n",
       "    </tr>\n",
       "    <tr>\n",
       "      <th>25%</th>\n",
       "      <td>25000.000000</td>\n",
       "      <td>3.000000</td>\n",
       "      <td>4.000000</td>\n",
       "    </tr>\n",
       "    <tr>\n",
       "      <th>50%</th>\n",
       "      <td>28000.000000</td>\n",
       "      <td>4.000000</td>\n",
       "      <td>6.000000</td>\n",
       "    </tr>\n",
       "    <tr>\n",
       "      <th>75%</th>\n",
       "      <td>34000.000000</td>\n",
       "      <td>7.000000</td>\n",
       "      <td>9.000000</td>\n",
       "    </tr>\n",
       "    <tr>\n",
       "      <th>max</th>\n",
       "      <td>95000.000000</td>\n",
       "      <td>27.000000</td>\n",
       "      <td>30.000000</td>\n",
       "    </tr>\n",
       "  </tbody>\n",
       "</table>\n",
       "</div>"
      ],
      "text/plain": [
       "             Salary  Years in Publishing  Years of Overall Experience\n",
       "count   1011.000000          1011.000000                  1011.000000\n",
       "mean   30239.970326             5.316518                     6.868447\n",
       "std     8419.484194             4.082650                     4.476949\n",
       "min    13000.000000             0.000000                     0.000000\n",
       "25%    25000.000000             3.000000                     4.000000\n",
       "50%    28000.000000             4.000000                     6.000000\n",
       "75%    34000.000000             7.000000                     9.000000\n",
       "max    95000.000000            27.000000                    30.000000"
      ]
     },
     "execution_count": 74,
     "metadata": {},
     "output_type": "execute_result"
    }
   ],
   "source": [
    "# Descriptive statistics without outlier\n",
    "uk_pub[uk_pub['Salary'] < 100000].describe()"
   ]
  },
  {
   "cell_type": "code",
   "execution_count": 75,
   "metadata": {},
   "outputs": [
    {
     "data": {
      "image/png": "[encoded data removed]",
      "text/plain": [
       "<Figure size 432x288 with 1 Axes>"
      ]
     },
     "metadata": {
      "needs_background": "light"
     },
     "output_type": "display_data"
    }
   ],
   "source": [
    "uk_pub['Gender Identity'].hist();"
   ]
  },
  {
   "cell_type": "code",
   "execution_count": 76,
   "metadata": {},
   "outputs": [
    {
     "data": {
      "image/png": "[encoded data removed]",
      "text/plain": [
       "<Figure size 432x288 with 1 Axes>"
      ]
     },
     "metadata": {
      "needs_background": "light"
     },
     "output_type": "display_data"
    }
   ],
   "source": [
    "uk_pub['Sexual Orientation'].hist();"
   ]
  },
  {
   "cell_type": "code",
   "execution_count": 77,
   "metadata": {
    "scrolled": true
   },
   "outputs": [
    {
     "data": {
      "image/png": "[encoded data removed]",
      "text/plain": [
       "<Figure size 432x288 with 1 Axes>"
      ]
     },
     "metadata": {
      "needs_background": "light"
     },
     "output_type": "display_data"
    }
   ],
   "source": [
    "uk_pub['Race / Ethnicity'].hist();"
   ]
  },
  {
   "cell_type": "code",
   "execution_count": 78,
   "metadata": {},
   "outputs": [
    {
     "data": {
      "image/png": "[encoded data removed]",
      "text/plain": [
       "<Figure size 432x288 with 1 Axes>"
      ]
     },
     "metadata": {
      "needs_background": "light"
     },
     "output_type": "display_data"
    }
   ],
   "source": [
    "sns.histplot(uk_pub['Salary'], kde=True);"
   ]
  },
  {
   "cell_type": "code",
   "execution_count": 79,
   "metadata": {},
   "outputs": [
    {
     "data": {
      "image/png": "[encoded data removed]",
      "text/plain": [
       "<Figure size 432x288 with 2 Axes>"
      ]
     },
     "metadata": {
      "needs_background": "light"
     },
     "output_type": "display_data"
    }
   ],
   "source": [
    "sns.heatmap(uk_pub.corr(), vmin=0, annot=True, linewidths=.5, cmap='coolwarm_r');"
   ]
  },
  {
   "cell_type": "code",
   "execution_count": 80,
   "metadata": {},
   "outputs": [
    {
     "data": {
      "image/png": "[encoded data removed]",
      "text/plain": [
       "<Figure size 432x288 with 1 Axes>"
      ]
     },
     "metadata": {
      "needs_background": "light"
     },
     "output_type": "display_data"
    }
   ],
   "source": [
    "uk_pub.boxplot(column = ['Salary']);"
   ]
  },
  {
   "cell_type": "code",
   "execution_count": 81,
   "metadata": {},
   "outputs": [
    {
     "data": {
      "text/plain": [
       "Index(['Job Title', 'Salary', 'Employment Status', 'Race / Ethnicity',\n",
       "       'Gender Identity', 'Sexual Orientation', 'Years in Publishing',\n",
       "       'Years of Overall Experience'],\n",
       "      dtype='object')"
      ]
     },
     "execution_count": 81,
     "metadata": {},
     "output_type": "execute_result"
    }
   ],
   "source": [
    "uk_pub.columns"
   ]
  },
  {
   "cell_type": "code",
   "execution_count": 141,
   "metadata": {},
   "outputs": [
    {
     "name": "stdout",
     "output_type": "stream",
     "text": [
      "Chart for Employment Status | Total = 4\n"
     ]
    },
    {
     "data": {
      "image/png": "[encoded data removed]",
      "text/plain": [
       "<Figure size 432x288 with 1 Axes>"
      ]
     },
     "metadata": {
      "needs_background": "light"
     },
     "output_type": "display_data"
    },
    {
     "name": "stdout",
     "output_type": "stream",
     "text": [
      "Chart for Race / Ethnicity | Total = 5\n"
     ]
    },
    {
     "data": {
      "image/png": "[encoded data removed]",
      "text/plain": [
       "<Figure size 432x288 with 1 Axes>"
      ]
     },
     "metadata": {
      "needs_background": "light"
     },
     "output_type": "display_data"
    },
    {
     "name": "stdout",
     "output_type": "stream",
     "text": [
      "Chart for Gender Identity | Total = 4\n"
     ]
    },
    {
     "data": {
      "image/png": "[encoded data removed]",
      "text/plain": [
       "<Figure size 432x288 with 1 Axes>"
      ]
     },
     "metadata": {
      "needs_background": "light"
     },
     "output_type": "display_data"
    },
    {
     "name": "stdout",
     "output_type": "stream",
     "text": [
      "Chart for Sexual Orientation | Total = 2\n"
     ]
    },
    {
     "data": {
      "image/png": "[encoded data removed]",
      "text/plain": [
       "<Figure size 432x288 with 1 Axes>"
      ]
     },
     "metadata": {
      "needs_background": "light"
     },
     "output_type": "display_data"
    }
   ],
   "source": [
    "for feature in uk_pub.columns[2:6]:\n",
    "    feature_num = uk_pub[feature].value_counts()\n",
    "    print(f\"Chart for {feature} | Total = {len(feature_num)}\")\n",
    "    chart = sns.barplot(x=feature_num.index, y=feature_num, zorder=2)\n",
    "    chart.set_xticklabels(chart.get_xticklabels())\n",
    "    plt.grid()\n",
    "    plt.show()"
   ]
  },
  {
   "cell_type": "code",
   "execution_count": 83,
   "metadata": {},
   "outputs": [
    {
     "data": {
      "text/html": [
       "<div>\n",
       "<style scoped>\n",
       "    .dataframe tbody tr th:only-of-type {\n",
       "        vertical-align: middle;\n",
       "    }\n",
       "\n",
       "    .dataframe tbody tr th {\n",
       "        vertical-align: top;\n",
       "    }\n",
       "\n",
       "    .dataframe thead th {\n",
       "        text-align: right;\n",
       "    }\n",
       "</style>\n",
       "<table border=\"1\" class=\"dataframe\">\n",
       "  <thead>\n",
       "    <tr style=\"text-align: right;\">\n",
       "      <th></th>\n",
       "      <th>Salary</th>\n",
       "      <th>Years in Publishing</th>\n",
       "      <th>Years of Overall Experience</th>\n",
       "    </tr>\n",
       "    <tr>\n",
       "      <th>Race / Ethnicity</th>\n",
       "      <th></th>\n",
       "      <th></th>\n",
       "      <th></th>\n",
       "    </tr>\n",
       "  </thead>\n",
       "  <tbody>\n",
       "    <tr>\n",
       "      <th>Unknown</th>\n",
       "      <td>34516.666667</td>\n",
       "      <td>7.666667</td>\n",
       "      <td>8.333333</td>\n",
       "    </tr>\n",
       "    <tr>\n",
       "      <th>White</th>\n",
       "      <td>30562.694282</td>\n",
       "      <td>5.465578</td>\n",
       "      <td>6.914819</td>\n",
       "    </tr>\n",
       "    <tr>\n",
       "      <th>Asian</th>\n",
       "      <td>29926.432432</td>\n",
       "      <td>4.729730</td>\n",
       "      <td>6.662162</td>\n",
       "    </tr>\n",
       "    <tr>\n",
       "      <th>Mixed</th>\n",
       "      <td>28669.230769</td>\n",
       "      <td>4.923077</td>\n",
       "      <td>5.923077</td>\n",
       "    </tr>\n",
       "    <tr>\n",
       "      <th>Black</th>\n",
       "      <td>26684.027778</td>\n",
       "      <td>3.416667</td>\n",
       "      <td>6.944444</td>\n",
       "    </tr>\n",
       "  </tbody>\n",
       "</table>\n",
       "</div>"
      ],
      "text/plain": [
       "                        Salary  Years in Publishing  \\\n",
       "Race / Ethnicity                                      \n",
       "Unknown           34516.666667             7.666667   \n",
       "White             30562.694282             5.465578   \n",
       "Asian             29926.432432             4.729730   \n",
       "Mixed             28669.230769             4.923077   \n",
       "Black             26684.027778             3.416667   \n",
       "\n",
       "                  Years of Overall Experience  \n",
       "Race / Ethnicity                               \n",
       "Unknown                              8.333333  \n",
       "White                                6.914819  \n",
       "Asian                                6.662162  \n",
       "Mixed                                5.923077  \n",
       "Black                                6.944444  "
      ]
     },
     "execution_count": 83,
     "metadata": {},
     "output_type": "execute_result"
    }
   ],
   "source": [
    "pd.pivot_table(uk_pub, index='Race / Ethnicity', \n",
    "    values=['Salary', 'Years in Publishing', 'Years of Overall Experience']).sort_values('Salary', ascending=False)\n",
    "\n",
    "# or\n",
    "\n",
    "# uk_pub.groupby('Race / Ethnicity').mean().sort_values('Salary', ascending=False)"
   ]
  },
  {
   "cell_type": "code",
   "execution_count": 84,
   "metadata": {},
   "outputs": [
    {
     "data": {
      "image/png": "[encoded data removed]",
      "text/plain": [
       "<Figure size 432x288 with 1 Axes>"
      ]
     },
     "metadata": {
      "needs_background": "light"
     },
     "output_type": "display_data"
    }
   ],
   "source": [
    "# Plot graph showing mean salary amount for Race / Ethnicity\n",
    "race_salary = pd.pivot_table(uk_pub, index='Race / Ethnicity', values='Salary').sort_values('Salary', ascending=False)\n",
    "sns.barplot(x=race_salary.index, y=\"Salary\", data=race_salary);"
   ]
  },
  {
   "cell_type": "code",
   "execution_count": 85,
   "metadata": {},
   "outputs": [
    {
     "data": {
      "text/html": [
       "<div>\n",
       "<style scoped>\n",
       "    .dataframe tbody tr th:only-of-type {\n",
       "        vertical-align: middle;\n",
       "    }\n",
       "\n",
       "    .dataframe tbody tr th {\n",
       "        vertical-align: top;\n",
       "    }\n",
       "\n",
       "    .dataframe thead th {\n",
       "        text-align: right;\n",
       "    }\n",
       "</style>\n",
       "<table border=\"1\" class=\"dataframe\">\n",
       "  <thead>\n",
       "    <tr style=\"text-align: right;\">\n",
       "      <th></th>\n",
       "      <th>Salary</th>\n",
       "      <th>Years in Publishing</th>\n",
       "      <th>Years of Overall Experience</th>\n",
       "    </tr>\n",
       "    <tr>\n",
       "      <th>Gender Identity</th>\n",
       "      <th></th>\n",
       "      <th></th>\n",
       "      <th></th>\n",
       "    </tr>\n",
       "  </thead>\n",
       "  <tbody>\n",
       "    <tr>\n",
       "      <th>Prefer not to say</th>\n",
       "      <td>39633.333333</td>\n",
       "      <td>8.416667</td>\n",
       "      <td>10.250000</td>\n",
       "    </tr>\n",
       "    <tr>\n",
       "      <th>Man</th>\n",
       "      <td>30748.081818</td>\n",
       "      <td>5.927273</td>\n",
       "      <td>7.363636</td>\n",
       "    </tr>\n",
       "    <tr>\n",
       "      <th>Woman</th>\n",
       "      <td>30152.571914</td>\n",
       "      <td>5.214043</td>\n",
       "      <td>6.756512</td>\n",
       "    </tr>\n",
       "    <tr>\n",
       "      <th>Non-binary</th>\n",
       "      <td>30000.000000</td>\n",
       "      <td>5.428571</td>\n",
       "      <td>7.285714</td>\n",
       "    </tr>\n",
       "  </tbody>\n",
       "</table>\n",
       "</div>"
      ],
      "text/plain": [
       "                         Salary  Years in Publishing  \\\n",
       "Gender Identity                                        \n",
       "Prefer not to say  39633.333333             8.416667   \n",
       "Man                30748.081818             5.927273   \n",
       "Woman              30152.571914             5.214043   \n",
       "Non-binary         30000.000000             5.428571   \n",
       "\n",
       "                   Years of Overall Experience  \n",
       "Gender Identity                                 \n",
       "Prefer not to say                    10.250000  \n",
       "Man                                   7.363636  \n",
       "Woman                                 6.756512  \n",
       "Non-binary                            7.285714  "
      ]
     },
     "execution_count": 85,
     "metadata": {},
     "output_type": "execute_result"
    }
   ],
   "source": [
    "pd.pivot_table(uk_pub, index='Gender Identity', \n",
    "    values=['Salary', 'Years in Publishing', 'Years of Overall Experience']).sort_values('Salary', ascending=False)"
   ]
  },
  {
   "cell_type": "code",
   "execution_count": 86,
   "metadata": {},
   "outputs": [
    {
     "data": {
      "image/png": "[encoded data removed]",
      "text/plain": [
       "<Figure size 432x288 with 1 Axes>"
      ]
     },
     "metadata": {
      "needs_background": "light"
     },
     "output_type": "display_data"
    }
   ],
   "source": [
    "# Plot graph showing mean salary amount for Gender Identity\n",
    "gender_salary = pd.pivot_table(uk_pub, index='Gender Identity', values='Salary').sort_values('Salary', ascending=False)\n",
    "sns.barplot(x=gender_salary.index, y=\"Salary\", data=gender_salary);"
   ]
  },
  {
   "cell_type": "code",
   "execution_count": 87,
   "metadata": {},
   "outputs": [
    {
     "data": {
      "text/html": [
       "<div>\n",
       "<style scoped>\n",
       "    .dataframe tbody tr th:only-of-type {\n",
       "        vertical-align: middle;\n",
       "    }\n",
       "\n",
       "    .dataframe tbody tr th {\n",
       "        vertical-align: top;\n",
       "    }\n",
       "\n",
       "    .dataframe thead th {\n",
       "        text-align: right;\n",
       "    }\n",
       "</style>\n",
       "<table border=\"1\" class=\"dataframe\">\n",
       "  <thead>\n",
       "    <tr style=\"text-align: right;\">\n",
       "      <th></th>\n",
       "      <th>Salary</th>\n",
       "      <th>Years in Publishing</th>\n",
       "      <th>Years of Overall Experience</th>\n",
       "    </tr>\n",
       "    <tr>\n",
       "      <th>Sexual Orientation</th>\n",
       "      <th></th>\n",
       "      <th></th>\n",
       "      <th></th>\n",
       "    </tr>\n",
       "  </thead>\n",
       "  <tbody>\n",
       "    <tr>\n",
       "      <th>Straight</th>\n",
       "      <td>30693.347241</td>\n",
       "      <td>5.502019</td>\n",
       "      <td>7.079408</td>\n",
       "    </tr>\n",
       "    <tr>\n",
       "      <th>LGBTQ</th>\n",
       "      <td>29321.386617</td>\n",
       "      <td>4.858736</td>\n",
       "      <td>6.282528</td>\n",
       "    </tr>\n",
       "  </tbody>\n",
       "</table>\n",
       "</div>"
      ],
      "text/plain": [
       "                          Salary  Years in Publishing  \\\n",
       "Sexual Orientation                                      \n",
       "Straight            30693.347241             5.502019   \n",
       "LGBTQ               29321.386617             4.858736   \n",
       "\n",
       "                    Years of Overall Experience  \n",
       "Sexual Orientation                               \n",
       "Straight                               7.079408  \n",
       "LGBTQ                                  6.282528  "
      ]
     },
     "execution_count": 87,
     "metadata": {},
     "output_type": "execute_result"
    }
   ],
   "source": [
    "pd.pivot_table(uk_pub, index='Sexual Orientation', \n",
    "    values=['Salary', 'Years in Publishing', 'Years of Overall Experience']).sort_values('Salary', ascending=False)"
   ]
  },
  {
   "cell_type": "code",
   "execution_count": 88,
   "metadata": {},
   "outputs": [
    {
     "data": {
      "image/png": "[encoded data removed]",
      "text/plain": [
       "<Figure size 432x288 with 1 Axes>"
      ]
     },
     "metadata": {
      "needs_background": "light"
     },
     "output_type": "display_data"
    }
   ],
   "source": [
    "# Plot graph showing mean salary amount for Sexual Orientation\n",
    "sexori_salary = pd.pivot_table(uk_pub, index='Sexual Orientation', values='Salary').sort_values('Salary', ascending=False)\n",
    "sns.barplot(x=sexori_salary.index, y=\"Salary\", data=sexori_salary);"
   ]
  },
  {
   "cell_type": "code",
   "execution_count": 89,
   "metadata": {},
   "outputs": [
    {
     "data": {
      "text/html": [
       "<div>\n",
       "<style scoped>\n",
       "    .dataframe tbody tr th:only-of-type {\n",
       "        vertical-align: middle;\n",
       "    }\n",
       "\n",
       "    .dataframe tbody tr th {\n",
       "        vertical-align: top;\n",
       "    }\n",
       "\n",
       "    .dataframe thead th {\n",
       "        text-align: right;\n",
       "    }\n",
       "</style>\n",
       "<table border=\"1\" class=\"dataframe\">\n",
       "  <thead>\n",
       "    <tr style=\"text-align: right;\">\n",
       "      <th></th>\n",
       "      <th>Salary</th>\n",
       "    </tr>\n",
       "    <tr>\n",
       "      <th>Years in Publishing</th>\n",
       "      <th></th>\n",
       "    </tr>\n",
       "  </thead>\n",
       "  <tbody>\n",
       "    <tr>\n",
       "      <th>0.0</th>\n",
       "      <td>22436.333333</td>\n",
       "    </tr>\n",
       "    <tr>\n",
       "      <th>1.0</th>\n",
       "      <td>23446.049180</td>\n",
       "    </tr>\n",
       "    <tr>\n",
       "      <th>2.0</th>\n",
       "      <td>25418.247863</td>\n",
       "    </tr>\n",
       "    <tr>\n",
       "      <th>3.0</th>\n",
       "      <td>26261.206667</td>\n",
       "    </tr>\n",
       "    <tr>\n",
       "      <th>4.0</th>\n",
       "      <td>29266.782895</td>\n",
       "    </tr>\n",
       "  </tbody>\n",
       "</table>\n",
       "</div>"
      ],
      "text/plain": [
       "                           Salary\n",
       "Years in Publishing              \n",
       "0.0                  22436.333333\n",
       "1.0                  23446.049180\n",
       "2.0                  25418.247863\n",
       "3.0                  26261.206667\n",
       "4.0                  29266.782895"
      ]
     },
     "execution_count": 89,
     "metadata": {},
     "output_type": "execute_result"
    }
   ],
   "source": [
    "pd.pivot_table(uk_pub, index='Years in Publishing', \n",
    "                       values=['Salary']).sort_index().head()"
   ]
  },
  {
   "cell_type": "code",
   "execution_count": 90,
   "metadata": {},
   "outputs": [
    {
     "data": {
      "image/png": "[encoded data removed]",
      "text/plain": [
       "<Figure size 432x288 with 1 Axes>"
      ]
     },
     "metadata": {
      "needs_background": "light"
     },
     "output_type": "display_data"
    }
   ],
   "source": [
    "# Plot graph showing mean salary amount for Each year or Years in Publishing\n",
    "yip_salary = pd.pivot_table(uk_pub, index='Years in Publishing', values='Salary').sort_values('Salary', ascending=False)\n",
    "sns.lineplot(x=yip_salary.index, y=\"Salary\", data=yip_salary);"
   ]
  },
  {
   "cell_type": "code",
   "execution_count": 91,
   "metadata": {},
   "outputs": [
    {
     "data": {
      "text/html": [
       "<div>\n",
       "<style scoped>\n",
       "    .dataframe tbody tr th:only-of-type {\n",
       "        vertical-align: middle;\n",
       "    }\n",
       "\n",
       "    .dataframe tbody tr th {\n",
       "        vertical-align: top;\n",
       "    }\n",
       "\n",
       "    .dataframe thead th {\n",
       "        text-align: right;\n",
       "    }\n",
       "</style>\n",
       "<table border=\"1\" class=\"dataframe\">\n",
       "  <thead>\n",
       "    <tr style=\"text-align: right;\">\n",
       "      <th></th>\n",
       "      <th>Salary</th>\n",
       "    </tr>\n",
       "    <tr>\n",
       "      <th>Years of Overall Experience</th>\n",
       "      <th></th>\n",
       "    </tr>\n",
       "  </thead>\n",
       "  <tbody>\n",
       "    <tr>\n",
       "      <th>0.0</th>\n",
       "      <td>22055.000000</td>\n",
       "    </tr>\n",
       "    <tr>\n",
       "      <th>1.0</th>\n",
       "      <td>22539.120000</td>\n",
       "    </tr>\n",
       "    <tr>\n",
       "      <th>2.0</th>\n",
       "      <td>23677.777778</td>\n",
       "    </tr>\n",
       "    <tr>\n",
       "      <th>3.0</th>\n",
       "      <td>24713.830508</td>\n",
       "    </tr>\n",
       "    <tr>\n",
       "      <th>4.0</th>\n",
       "      <td>26925.348214</td>\n",
       "    </tr>\n",
       "  </tbody>\n",
       "</table>\n",
       "</div>"
      ],
      "text/plain": [
       "                                   Salary\n",
       "Years of Overall Experience              \n",
       "0.0                          22055.000000\n",
       "1.0                          22539.120000\n",
       "2.0                          23677.777778\n",
       "3.0                          24713.830508\n",
       "4.0                          26925.348214"
      ]
     },
     "execution_count": 91,
     "metadata": {},
     "output_type": "execute_result"
    }
   ],
   "source": [
    "pd.pivot_table(uk_pub, index='Years of Overall Experience', \n",
    "                       values=['Salary']).sort_index().head()"
   ]
  },
  {
   "cell_type": "code",
   "execution_count": 92,
   "metadata": {},
   "outputs": [
    {
     "data": {
      "image/png": "[encoded data removed]",
      "text/plain": [
       "<Figure size 432x288 with 1 Axes>"
      ]
     },
     "metadata": {
      "needs_background": "light"
     },
     "output_type": "display_data"
    }
   ],
   "source": [
    "# Plot graph showing mean salary amount for Each year or Years of Overall Experience\n",
    "yooe_salary = pd.pivot_table(uk_pub, index='Years of Overall Experience', values='Salary').sort_values('Salary', ascending=False)\n",
    "sns.lineplot(x=yooe_salary.index, y=\"Salary\", data=yooe_salary);"
   ]
  },
  {
   "cell_type": "code",
   "execution_count": null,
   "metadata": {},
   "outputs": [],
   "source": []
  },
  {
   "cell_type": "code",
   "execution_count": null,
   "metadata": {},
   "outputs": [],
   "source": []
  },
  {
   "cell_type": "code",
   "execution_count": 93,
   "metadata": {},
   "outputs": [],
   "source": [
    "# Add new feature\n",
    "uk_pub['% of Years in Publishing out of Overall Experience'] = np.where(\n",
    "    uk_pub['Years of Overall Experience']!=0, \n",
    "    round(uk_pub['Years in Publishing']/uk_pub['Years of Overall Experience'], 2), 0)"
   ]
  },
  {
   "cell_type": "code",
   "execution_count": 94,
   "metadata": {},
   "outputs": [
    {
     "data": {
      "text/plain": [
       "0.7612351778656127"
      ]
     },
     "execution_count": 94,
     "metadata": {},
     "output_type": "execute_result"
    }
   ],
   "source": [
    "uk_pub['% of Years in Publishing out of Overall Experience'].mean()"
   ]
  },
  {
   "cell_type": "code",
   "execution_count": 95,
   "metadata": {},
   "outputs": [
    {
     "data": {
      "text/plain": [
       "0.7494282848545638"
      ]
     },
     "execution_count": 95,
     "metadata": {},
     "output_type": "execute_result"
    }
   ],
   "source": [
    "uk_pub[uk_pub['% of Years in Publishing out of Overall Experience']<=1]['% of Years in Publishing out of Overall Experience'].mean()"
   ]
  },
  {
   "cell_type": "code",
   "execution_count": null,
   "metadata": {},
   "outputs": [],
   "source": []
  },
  {
   "cell_type": "code",
   "execution_count": null,
   "metadata": {},
   "outputs": [],
   "source": []
  },
  {
   "cell_type": "code",
   "execution_count": 96,
   "metadata": {},
   "outputs": [
    {
     "data": {
      "image/png": "[encoded data removed]",
      "text/plain": [
       "<Figure size 720x720 with 1 Axes>"
      ]
     },
     "metadata": {
      "needs_background": "light"
     },
     "output_type": "display_data"
    }
   ],
   "source": [
    "# Word Cloud for Job Titles\n",
    "from wordcloud import WordCloud, STOPWORDS, ImageColorGenerator\n",
    "\n",
    "# Set up text\n",
    "text = \" \".join(title for title in uk_pub['Job Title'])\n",
    "\n",
    "# Generate a word cloud image\n",
    "wordcloud = WordCloud(stopwords=STOPWORDS, random_state=21, background_color=\"white\", width=600, height=300)\n",
    "wordcloud.generate(text)\n",
    "\n",
    "# Display the generated image:\n",
    "plt.figure(figsize=[10,10])\n",
    "plt.imshow(wordcloud, interpolation='bilinear')\n",
    "plt.axis(\"off\")\n",
    "plt.show()"
   ]
  },
  {
   "cell_type": "code",
   "execution_count": null,
   "metadata": {},
   "outputs": [],
   "source": []
  },
  {
   "cell_type": "code",
   "execution_count": null,
   "metadata": {},
   "outputs": [],
   "source": []
  },
  {
   "cell_type": "code",
   "execution_count": null,
   "metadata": {},
   "outputs": [],
   "source": []
  },
  {
   "cell_type": "code",
   "execution_count": null,
   "metadata": {},
   "outputs": [],
   "source": []
  },
  {
   "cell_type": "code",
   "execution_count": null,
   "metadata": {},
   "outputs": [],
   "source": []
  },
  {
   "cell_type": "code",
   "execution_count": null,
   "metadata": {},
   "outputs": [],
   "source": []
  },
  {
   "cell_type": "code",
   "execution_count": 136,
   "metadata": {},
   "outputs": [
    {
     "data": {
      "text/html": [
       "<div>\n",
       "<style scoped>\n",
       "    .dataframe tbody tr th:only-of-type {\n",
       "        vertical-align: middle;\n",
       "    }\n",
       "\n",
       "    .dataframe tbody tr th {\n",
       "        vertical-align: top;\n",
       "    }\n",
       "\n",
       "    .dataframe thead th {\n",
       "        text-align: right;\n",
       "    }\n",
       "</style>\n",
       "<table border=\"1\" class=\"dataframe\">\n",
       "  <thead>\n",
       "    <tr style=\"text-align: right;\">\n",
       "      <th></th>\n",
       "      <th>features</th>\n",
       "      <th>vif_Factor</th>\n",
       "    </tr>\n",
       "  </thead>\n",
       "  <tbody>\n",
       "    <tr>\n",
       "      <th>0</th>\n",
       "      <td>Years in Publishing</td>\n",
       "      <td>12.333700</td>\n",
       "    </tr>\n",
       "    <tr>\n",
       "      <th>1</th>\n",
       "      <td>Years of Overall Experience</td>\n",
       "      <td>9.528359</td>\n",
       "    </tr>\n",
       "    <tr>\n",
       "      <th>2</th>\n",
       "      <td>% of Years in Publishing out of Overall Experi...</td>\n",
       "      <td>3.461450</td>\n",
       "    </tr>\n",
       "  </tbody>\n",
       "</table>\n",
       "</div>"
      ],
      "text/plain": [
       "                                            features  vif_Factor\n",
       "0                                Years in Publishing   12.333700\n",
       "1                        Years of Overall Experience    9.528359\n",
       "2  % of Years in Publishing out of Overall Experi...    3.461450"
      ]
     },
     "execution_count": 136,
     "metadata": {},
     "output_type": "execute_result"
    }
   ],
   "source": [
    "### WITHOUT CONSTANT\n",
    "\n",
    "# Need to add a constant to get accurate VIF numbers\n",
    "test_df = uk_pub.iloc[:,6:]\n",
    "\n",
    "#Compute VIF data for each independent variable\n",
    "from statsmodels.stats.outliers_influence import variance_inflation_factor\n",
    "\n",
    "vif = pd.DataFrame()\n",
    "vif[\"features\"] = test_df.columns\n",
    "vif[\"vif_Factor\"] = [variance_inflation_factor(test_df.values, i) for i in range(test_df.shape[1])]\n",
    "vif"
   ]
  },
  {
   "cell_type": "code",
   "execution_count": 139,
   "metadata": {},
   "outputs": [
    {
     "data": {
      "text/html": [
       "<div>\n",
       "<style scoped>\n",
       "    .dataframe tbody tr th:only-of-type {\n",
       "        vertical-align: middle;\n",
       "    }\n",
       "\n",
       "    .dataframe tbody tr th {\n",
       "        vertical-align: top;\n",
       "    }\n",
       "\n",
       "    .dataframe thead th {\n",
       "        text-align: right;\n",
       "    }\n",
       "</style>\n",
       "<table border=\"1\" class=\"dataframe\">\n",
       "  <thead>\n",
       "    <tr style=\"text-align: right;\">\n",
       "      <th></th>\n",
       "      <th>features</th>\n",
       "      <th>vif_Factor</th>\n",
       "    </tr>\n",
       "  </thead>\n",
       "  <tbody>\n",
       "    <tr>\n",
       "      <th>0</th>\n",
       "      <td>Years in Publishing</td>\n",
       "      <td>9.018307</td>\n",
       "    </tr>\n",
       "    <tr>\n",
       "      <th>1</th>\n",
       "      <td>Years of Overall Experience</td>\n",
       "      <td>7.023899</td>\n",
       "    </tr>\n",
       "    <tr>\n",
       "      <th>2</th>\n",
       "      <td>% of Years in Publishing out of Overall Experi...</td>\n",
       "      <td>2.560193</td>\n",
       "    </tr>\n",
       "    <tr>\n",
       "      <th>3</th>\n",
       "      <td>constant</td>\n",
       "      <td>17.413101</td>\n",
       "    </tr>\n",
       "  </tbody>\n",
       "</table>\n",
       "</div>"
      ],
      "text/plain": [
       "                                            features  vif_Factor\n",
       "0                                Years in Publishing    9.018307\n",
       "1                        Years of Overall Experience    7.023899\n",
       "2  % of Years in Publishing out of Overall Experi...    2.560193\n",
       "3                                           constant   17.413101"
      ]
     },
     "execution_count": 139,
     "metadata": {},
     "output_type": "execute_result"
    }
   ],
   "source": [
    "### WITH CONSTANT\n",
    "\n",
    "# Need to add a constant to get accurate VIF numbers\n",
    "test_df = uk_pub.iloc[:,6:]\n",
    "test_df['constant'] = 1\n",
    "\n",
    "\n",
    "#Compute VIF data for each independent variable\n",
    "from statsmodels.stats.outliers_influence import variance_inflation_factor\n",
    "\n",
    "vif = pd.DataFrame()\n",
    "vif[\"features\"] = test_df.columns\n",
    "vif[\"vif_Factor\"] = [variance_inflation_factor(test_df.values, i) for i in range(test_df.shape[1])]\n",
    "vif"
   ]
  },
  {
   "cell_type": "code",
   "execution_count": 131,
   "metadata": {},
   "outputs": [
    {
     "data": {
      "text/html": [
       "<div>\n",
       "<style scoped>\n",
       "    .dataframe tbody tr th:only-of-type {\n",
       "        vertical-align: middle;\n",
       "    }\n",
       "\n",
       "    .dataframe tbody tr th {\n",
       "        vertical-align: top;\n",
       "    }\n",
       "\n",
       "    .dataframe thead th {\n",
       "        text-align: right;\n",
       "    }\n",
       "</style>\n",
       "<table border=\"1\" class=\"dataframe\">\n",
       "  <thead>\n",
       "    <tr style=\"text-align: right;\">\n",
       "      <th></th>\n",
       "      <th>Features</th>\n",
       "      <th>VIF_Factor</th>\n",
       "    </tr>\n",
       "  </thead>\n",
       "  <tbody>\n",
       "    <tr>\n",
       "      <th>0</th>\n",
       "      <td>Years in Publishing</td>\n",
       "      <td>1.290770</td>\n",
       "    </tr>\n",
       "    <tr>\n",
       "      <th>1</th>\n",
       "      <td>% of Years in Publishing out of Overall Experi...</td>\n",
       "      <td>1.290770</td>\n",
       "    </tr>\n",
       "    <tr>\n",
       "      <th>2</th>\n",
       "      <td>constant</td>\n",
       "      <td>7.035176</td>\n",
       "    </tr>\n",
       "  </tbody>\n",
       "</table>\n",
       "</div>"
      ],
      "text/plain": [
       "                                            Features  VIF_Factor\n",
       "0                                Years in Publishing    1.290770\n",
       "1  % of Years in Publishing out of Overall Experi...    1.290770\n",
       "2                                           constant    7.035176"
      ]
     },
     "execution_count": 131,
     "metadata": {},
     "output_type": "execute_result"
    }
   ],
   "source": [
    "### WITH CONSTANT AND 'Years of Overall Experience' Removed\n",
    "\n",
    "# Need to add a constant to get accurate VIF numbers\n",
    "test_df = uk_pub.iloc[:,6:]\n",
    "del test_df['Years of Overall Experience']\n",
    "test_df['constant'] = 1\n",
    "\n",
    "\n",
    "#Compute VIF data for each independent variable\n",
    "from statsmodels.stats.outliers_influence import variance_inflation_factor\n",
    "\n",
    "vif = pd.DataFrame()\n",
    "vif[\"Features\"] = test_df.columns\n",
    "vif[\"VIF_Factor\"] = [variance_inflation_factor(test_df.values, i) for i in range(test_df.shape[1])]\n",
    "vif"
   ]
  },
  {
   "cell_type": "code",
   "execution_count": 134,
   "metadata": {},
   "outputs": [
    {
     "data": {
      "text/html": [
       "<div>\n",
       "<style scoped>\n",
       "    .dataframe tbody tr th:only-of-type {\n",
       "        vertical-align: middle;\n",
       "    }\n",
       "\n",
       "    .dataframe tbody tr th {\n",
       "        vertical-align: top;\n",
       "    }\n",
       "\n",
       "    .dataframe thead th {\n",
       "        text-align: right;\n",
       "    }\n",
       "</style>\n",
       "<table border=\"1\" class=\"dataframe\">\n",
       "  <thead>\n",
       "    <tr style=\"text-align: right;\">\n",
       "      <th></th>\n",
       "      <th>VIF</th>\n",
       "    </tr>\n",
       "  </thead>\n",
       "  <tbody>\n",
       "    <tr>\n",
       "      <th>const</th>\n",
       "      <td>17.413101</td>\n",
       "    </tr>\n",
       "    <tr>\n",
       "      <th>Years in Publishing</th>\n",
       "      <td>9.018307</td>\n",
       "    </tr>\n",
       "    <tr>\n",
       "      <th>Years of Overall Experience</th>\n",
       "      <td>7.023899</td>\n",
       "    </tr>\n",
       "    <tr>\n",
       "      <th>% of Years in Publishing out of Overall Experience</th>\n",
       "      <td>2.560193</td>\n",
       "    </tr>\n",
       "  </tbody>\n",
       "</table>\n",
       "</div>"
      ],
      "text/plain": [
       "                                                          VIF\n",
       "const                                               17.413101\n",
       "Years in Publishing                                  9.018307\n",
       "Years of Overall Experience                          7.023899\n",
       "% of Years in Publishing out of Overall Experience   2.560193"
      ]
     },
     "execution_count": 134,
     "metadata": {},
     "output_type": "execute_result"
    }
   ],
   "source": [
    "### ANOTHER WAY TO ADD CONSTANT USING STATSMODELS\n",
    "from statsmodels.tools.tools import add_constant\n",
    "test_df = uk_pub.iloc[:,6:]\n",
    "# del test_df['Years of Overall Experience']\n",
    "\n",
    "X = add_constant(test_df)\n",
    "\n",
    "pd.DataFrame([variance_inflation_factor(X.values, i) \n",
    "               for i in range(X.shape[1])], \n",
    "               index=X.columns, columns=['VIF'])"
   ]
  },
  {
   "cell_type": "code",
   "execution_count": null,
   "metadata": {},
   "outputs": [],
   "source": [
    "### MAYBE WE SHOULD NOT CREATE THE FEATURE WHICH SHOWS % OF YEARS IN PUBLISHING"
   ]
  },
  {
   "cell_type": "code",
   "execution_count": null,
   "metadata": {},
   "outputs": [],
   "source": [
    "### RUN VIF CHECK AFTER CREATING DUMMY VARIABLES"
   ]
  },
  {
   "cell_type": "code",
   "execution_count": null,
   "metadata": {},
   "outputs": [],
   "source": []
  },
  {
   "cell_type": "code",
   "execution_count": null,
   "metadata": {},
   "outputs": [],
   "source": []
  },
  {
   "cell_type": "code",
   "execution_count": null,
   "metadata": {},
   "outputs": [],
   "source": []
  },
  {
   "cell_type": "code",
   "execution_count": null,
   "metadata": {},
   "outputs": [],
   "source": []
  },
  {
   "cell_type": "code",
   "execution_count": null,
   "metadata": {},
   "outputs": [],
   "source": []
  },
  {
   "cell_type": "code",
   "execution_count": null,
   "metadata": {},
   "outputs": [],
   "source": [
    "# TESTING AND CHECKING"
   ]
  },
  {
   "cell_type": "code",
   "execution_count": null,
   "metadata": {},
   "outputs": [],
   "source": [
    "uk_pub.loc[~uk_pub['Salary'].str.contains('^\\d\\d\\d\\d\\d$') == True]['Salary'].tolist()"
   ]
  },
  {
   "cell_type": "code",
   "execution_count": null,
   "metadata": {
    "scrolled": true
   },
   "outputs": [],
   "source": [
    "len(uk_pub.loc[~uk_pub['Salary'].str.contains('^\\d\\d\\d\\d\\d$') == True]['Salary'].tolist())"
   ]
  },
  {
   "cell_type": "code",
   "execution_count": null,
   "metadata": {},
   "outputs": [],
   "source": [
    "test_re = uk_pub.loc[~uk_pub['Salary'].str.contains('^\\d\\d\\d\\d\\d$') == True]['Salary'].tolist()"
   ]
  },
  {
   "cell_type": "code",
   "execution_count": 97,
   "metadata": {},
   "outputs": [
    {
     "data": {
      "text/html": [
       "<div>\n",
       "<style scoped>\n",
       "    .dataframe tbody tr th:only-of-type {\n",
       "        vertical-align: middle;\n",
       "    }\n",
       "\n",
       "    .dataframe tbody tr th {\n",
       "        vertical-align: top;\n",
       "    }\n",
       "\n",
       "    .dataframe thead th {\n",
       "        text-align: right;\n",
       "    }\n",
       "</style>\n",
       "<table border=\"1\" class=\"dataframe\">\n",
       "  <thead>\n",
       "    <tr style=\"text-align: right;\">\n",
       "      <th></th>\n",
       "      <th>Job Title</th>\n",
       "      <th>Salary</th>\n",
       "      <th>Employment Status</th>\n",
       "      <th>Race / Ethnicity</th>\n",
       "      <th>Gender Identity</th>\n",
       "      <th>Sexual Orientation</th>\n",
       "      <th>Years in Publishing</th>\n",
       "      <th>Years of Overall Experience</th>\n",
       "      <th>% of Years in Publishing out of Overall Experience</th>\n",
       "    </tr>\n",
       "  </thead>\n",
       "  <tbody>\n",
       "    <tr>\n",
       "      <th>955</th>\n",
       "      <td>Publisher</td>\n",
       "      <td>120000</td>\n",
       "      <td>Full-time</td>\n",
       "      <td>White</td>\n",
       "      <td>Woman</td>\n",
       "      <td>Straight</td>\n",
       "      <td>20.0</td>\n",
       "      <td>6.0</td>\n",
       "      <td>3.33</td>\n",
       "    </tr>\n",
       "  </tbody>\n",
       "</table>\n",
       "</div>"
      ],
      "text/plain": [
       "     Job Title  Salary Employment Status Race / Ethnicity Gender Identity  \\\n",
       "955  Publisher  120000         Full-time            White           Woman   \n",
       "\n",
       "    Sexual Orientation  Years in Publishing  Years of Overall Experience  \\\n",
       "955           Straight                 20.0                          6.0   \n",
       "\n",
       "     % of Years in Publishing out of Overall Experience  \n",
       "955                                               3.33   "
      ]
     },
     "execution_count": 97,
     "metadata": {},
     "output_type": "execute_result"
    }
   ],
   "source": [
    "# Salary very high, maybe a mistake\n",
    "uk_pub[uk_pub.index == 955]"
   ]
  },
  {
   "cell_type": "code",
   "execution_count": null,
   "metadata": {},
   "outputs": [],
   "source": []
  }
 ],
 "metadata": {
  "kernelspec": {
   "display_name": "Python 3",
   "language": "python",
   "name": "python3"
  },
  "language_info": {
   "codemirror_mode": {
    "name": "ipython",
    "version": 3
   },
   "file_extension": ".py",
   "mimetype": "text/x-python",
   "name": "python",
   "nbconvert_exporter": "python",
   "pygments_lexer": "ipython3",
   "version": "3.8.5"
  }
 },
 "nbformat": 4,
 "nbformat_minor": 4
}
