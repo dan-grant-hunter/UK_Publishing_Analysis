{
 "cells": [
  {
   "cell_type": "markdown",
   "metadata": {},
   "source": [
    "# Book Publishing"
   ]
  },
  {
   "cell_type": "markdown",
   "metadata": {},
   "source": [
    "Working in publishing is a tough profession. In this analysis, we will analyse the self-reported salaries of people who work at different levels within the publishing industry in the UK. We will see if there are any important patterns that determine a person's salary and also try to develop a model that we can use to predict salary based on a selected set of features."
   ]
  },
  {
   "cell_type": "markdown",
   "metadata": {},
   "source": [
    "## Summary of Findings"
   ]
  },
  {
   "cell_type": "markdown",
   "metadata": {},
   "source": [
    "## About the Data"
   ]
  },
  {
   "cell_type": "markdown",
   "metadata": {},
   "source": [
    "## Imports & Data Reading"
   ]
  },
  {
   "cell_type": "code",
   "execution_count": 1,
   "metadata": {},
   "outputs": [],
   "source": [
    "# Imports\n",
    "import re\n",
    "import pandas as pd\n",
    "import numpy as np\n",
    "import seaborn as sns\n",
    "import matplotlib.pyplot as plt\n",
    "%matplotlib inline"
   ]
  },
  {
   "cell_type": "code",
   "execution_count": 2,
   "metadata": {},
   "outputs": [],
   "source": [
    "# Read data\n",
    "ukpub = pd.read_csv(\"data/Book Publishing Salary Transparency (UK) - Form responses 1.csv\")"
   ]
  },
  {
   "cell_type": "markdown",
   "metadata": {},
   "source": [
    "## Data Checking"
   ]
  },
  {
   "cell_type": "code",
   "execution_count": 3,
   "metadata": {},
   "outputs": [
    {
     "data": {
      "text/html": [
       "<div>\n",
       "<style scoped>\n",
       "    .dataframe tbody tr th:only-of-type {\n",
       "        vertical-align: middle;\n",
       "    }\n",
       "\n",
       "    .dataframe tbody tr th {\n",
       "        vertical-align: top;\n",
       "    }\n",
       "\n",
       "    .dataframe thead th {\n",
       "        text-align: right;\n",
       "    }\n",
       "</style>\n",
       "<table border=\"1\" class=\"dataframe\">\n",
       "  <thead>\n",
       "    <tr style=\"text-align: right;\">\n",
       "      <th></th>\n",
       "      <th>Timestamp</th>\n",
       "      <th>Job Title</th>\n",
       "      <th>Employer</th>\n",
       "      <th>Location</th>\n",
       "      <th>Salary</th>\n",
       "      <th>Employment Status</th>\n",
       "      <th>Race / Ethnicity</th>\n",
       "      <th>Gender Identity</th>\n",
       "      <th>Sexual Orientation</th>\n",
       "      <th>Years in Pubishing</th>\n",
       "      <th>Years of Overall Experience</th>\n",
       "      <th>Additional Compensation</th>\n",
       "      <th>Additional Information</th>\n",
       "      <th>Unnamed: 13</th>\n",
       "      <th>Unnamed: 14</th>\n",
       "    </tr>\n",
       "  </thead>\n",
       "  <tbody>\n",
       "    <tr>\n",
       "      <th>0</th>\n",
       "      <td>17/06/2020 10:42:08</td>\n",
       "      <td>Marketing manager</td>\n",
       "      <td>Penguin Random House</td>\n",
       "      <td>London</td>\n",
       "      <td>£36k</td>\n",
       "      <td>Full-time</td>\n",
       "      <td>White</td>\n",
       "      <td>Woman (cisgender)</td>\n",
       "      <td>Straight</td>\n",
       "      <td>3</td>\n",
       "      <td>9</td>\n",
       "      <td>Annual bonus</td>\n",
       "      <td>NaN</td>\n",
       "      <td>NaN</td>\n",
       "      <td>NaN</td>\n",
       "    </tr>\n",
       "    <tr>\n",
       "      <th>1</th>\n",
       "      <td>17/06/2020 10:45:51</td>\n",
       "      <td>Early careere coordinator</td>\n",
       "      <td>Penguin random house</td>\n",
       "      <td>London</td>\n",
       "      <td>23,000 per annum</td>\n",
       "      <td>Full-time</td>\n",
       "      <td>Black african</td>\n",
       "      <td>Woman (cisgender)</td>\n",
       "      <td>Bisexual</td>\n",
       "      <td>2</td>\n",
       "      <td>2</td>\n",
       "      <td>Can't remember</td>\n",
       "      <td>NaN</td>\n",
       "      <td>NaN</td>\n",
       "      <td>NaN</td>\n",
       "    </tr>\n",
       "    <tr>\n",
       "      <th>2</th>\n",
       "      <td>17/06/2020 10:51:09</td>\n",
       "      <td>Audience and Digital Development Assistant</td>\n",
       "      <td>Penguin random house</td>\n",
       "      <td>London</td>\n",
       "      <td>£23,000</td>\n",
       "      <td>Full-time</td>\n",
       "      <td>British Indian</td>\n",
       "      <td>Woman (cisgender)</td>\n",
       "      <td>Straight</td>\n",
       "      <td>1</td>\n",
       "      <td>4</td>\n",
       "      <td>1% increase after 7 months in line with the re...</td>\n",
       "      <td>I worked in publishing 2016-17. After leaving ...</td>\n",
       "      <td>NaN</td>\n",
       "      <td>NaN</td>\n",
       "    </tr>\n",
       "    <tr>\n",
       "      <th>3</th>\n",
       "      <td>17/06/2020 10:58:25</td>\n",
       "      <td>Publicity Officer</td>\n",
       "      <td>Penguin Random House</td>\n",
       "      <td>80 Strand</td>\n",
       "      <td>£28,000</td>\n",
       "      <td>Full-time</td>\n",
       "      <td>White British</td>\n",
       "      <td>Woman (cisgender)</td>\n",
       "      <td>Pansexual</td>\n",
       "      <td>3</td>\n",
       "      <td>6</td>\n",
       "      <td>Annual bonus of approx £500, all expenses paid...</td>\n",
       "      <td>This role was my first and only role in publis...</td>\n",
       "      <td>NaN</td>\n",
       "      <td>NaN</td>\n",
       "    </tr>\n",
       "    <tr>\n",
       "      <th>4</th>\n",
       "      <td>17/06/2020 11:03:40</td>\n",
       "      <td>Creative art worker</td>\n",
       "      <td>Pan Macmillan Publishing</td>\n",
       "      <td>London</td>\n",
       "      <td>£115 per day</td>\n",
       "      <td>Contract</td>\n",
       "      <td>British Indian</td>\n",
       "      <td>Woman (cisgender)</td>\n",
       "      <td>Straight</td>\n",
       "      <td>7</td>\n",
       "      <td>10</td>\n",
       "      <td>0</td>\n",
       "      <td>I was pregnant</td>\n",
       "      <td>NaN</td>\n",
       "      <td>NaN</td>\n",
       "    </tr>\n",
       "  </tbody>\n",
       "</table>\n",
       "</div>"
      ],
      "text/plain": [
       "             Timestamp                                    Job Title  \\\n",
       "0  17/06/2020 10:42:08                            Marketing manager   \n",
       "1  17/06/2020 10:45:51                   Early careere coordinator    \n",
       "2  17/06/2020 10:51:09  Audience and Digital Development Assistant    \n",
       "3  17/06/2020 10:58:25                            Publicity Officer   \n",
       "4  17/06/2020 11:03:40                          Creative art worker   \n",
       "\n",
       "                    Employer   Location            Salary Employment Status  \\\n",
       "0       Penguin Random House     London              £36k         Full-time   \n",
       "1       Penguin random house     London  23,000 per annum         Full-time   \n",
       "2      Penguin random house      London           £23,000         Full-time   \n",
       "3       Penguin Random House  80 Strand           £28,000         Full-time   \n",
       "4  Pan Macmillan Publishing     London      £115 per day           Contract   \n",
       "\n",
       "  Race / Ethnicity    Gender Identity Sexual Orientation Years in Pubishing  \\\n",
       "0            White  Woman (cisgender)           Straight                  3   \n",
       "1   Black african   Woman (cisgender)           Bisexual                  2   \n",
       "2   British Indian  Woman (cisgender)           Straight                  1   \n",
       "3    White British  Woman (cisgender)          Pansexual                  3   \n",
       "4  British Indian   Woman (cisgender)           Straight                  7   \n",
       "\n",
       "  Years of Overall Experience  \\\n",
       "0                           9   \n",
       "1                           2   \n",
       "2                           4   \n",
       "3                           6   \n",
       "4                          10   \n",
       "\n",
       "                             Additional Compensation  \\\n",
       "0                                       Annual bonus   \n",
       "1                                     Can't remember   \n",
       "2  1% increase after 7 months in line with the re...   \n",
       "3  Annual bonus of approx £500, all expenses paid...   \n",
       "4                                                  0   \n",
       "\n",
       "                              Additional Information Unnamed: 13 Unnamed: 14  \n",
       "0                                                NaN         NaN         NaN  \n",
       "1                                                NaN         NaN         NaN  \n",
       "2  I worked in publishing 2016-17. After leaving ...         NaN         NaN  \n",
       "3  This role was my first and only role in publis...         NaN         NaN  \n",
       "4                                    I was pregnant          NaN         NaN  "
      ]
     },
     "execution_count": 3,
     "metadata": {},
     "output_type": "execute_result"
    }
   ],
   "source": [
    "ukpub.head()"
   ]
  },
  {
   "cell_type": "code",
   "execution_count": 4,
   "metadata": {},
   "outputs": [
    {
     "name": "stdout",
     "output_type": "stream",
     "text": [
      "<class 'pandas.core.frame.DataFrame'>\n",
      "RangeIndex: 1021 entries, 0 to 1020\n",
      "Data columns (total 15 columns):\n",
      " #   Column                       Non-Null Count  Dtype \n",
      "---  ------                       --------------  ----- \n",
      " 0   Timestamp                    1018 non-null   object\n",
      " 1   Job Title                    1020 non-null   object\n",
      " 2   Employer                     1021 non-null   object\n",
      " 3   Location                     975 non-null    object\n",
      " 4   Salary                       1021 non-null   object\n",
      " 5   Employment Status            1021 non-null   object\n",
      " 6   Race / Ethnicity             1011 non-null   object\n",
      " 7   Gender Identity              1020 non-null   object\n",
      " 8   Sexual Orientation           1008 non-null   object\n",
      " 9   Years in Pubishing           1008 non-null   object\n",
      " 10  Years of Overall Experience  986 non-null    object\n",
      " 11  Additional Compensation      900 non-null    object\n",
      " 12  Additional Information       420 non-null    object\n",
      " 13  Unnamed: 13                  7 non-null      object\n",
      " 14  Unnamed: 14                  1 non-null      object\n",
      "dtypes: object(15)\n",
      "memory usage: 119.8+ KB\n"
     ]
    }
   ],
   "source": [
    "ukpub.info()"
   ]
  },
  {
   "cell_type": "markdown",
   "metadata": {},
   "source": [
    "We can see here that the type of all columns is object including our dependent variable (Salary). We will deal with those during data cleaning."
   ]
  },
  {
   "cell_type": "code",
   "execution_count": 5,
   "metadata": {
    "scrolled": true
   },
   "outputs": [
    {
     "data": {
      "text/plain": [
       "(1021, 15)"
      ]
     },
     "execution_count": 5,
     "metadata": {},
     "output_type": "execute_result"
    }
   ],
   "source": [
    "ukpub.shape"
   ]
  },
  {
   "cell_type": "code",
   "execution_count": 6,
   "metadata": {},
   "outputs": [
    {
     "data": {
      "text/plain": [
       "Index(['Timestamp', 'Job Title', 'Employer', 'Location', 'Salary',\n",
       "       'Employment Status', 'Race / Ethnicity', 'Gender Identity',\n",
       "       'Sexual Orientation', 'Years in Pubishing',\n",
       "       'Years of Overall Experience', 'Additional Compensation',\n",
       "       'Additional Information', 'Unnamed: 13', 'Unnamed: 14'],\n",
       "      dtype='object')"
      ]
     },
     "execution_count": 6,
     "metadata": {},
     "output_type": "execute_result"
    }
   ],
   "source": [
    "ukpub.columns"
   ]
  },
  {
   "cell_type": "markdown",
   "metadata": {},
   "source": [
    "## Data Cleaning"
   ]
  },
  {
   "cell_type": "code",
   "execution_count": 7,
   "metadata": {},
   "outputs": [],
   "source": [
    "# Rename misspelling in column name\n",
    "ukpub.rename(columns={'Years in Pubishing':'Years in Publishing'}, inplace=True)"
   ]
  },
  {
   "cell_type": "code",
   "execution_count": 8,
   "metadata": {},
   "outputs": [],
   "source": [
    "# Extract columns that we will be working with\n",
    "cols = ['Job Title', 'Salary', 'Employment Status','Race / Ethnicity', 'Gender Identity',\n",
    "       'Sexual Orientation', 'Years in Publishing']\n",
    "ukpub = ukpub.loc[:, cols]"
   ]
  },
  {
   "cell_type": "code",
   "execution_count": 9,
   "metadata": {
    "scrolled": true
   },
   "outputs": [
    {
     "data": {
      "text/plain": [
       "Job Title               1\n",
       "Salary                  0\n",
       "Employment Status       0\n",
       "Race / Ethnicity       10\n",
       "Gender Identity         1\n",
       "Sexual Orientation     13\n",
       "Years in Publishing    13\n",
       "dtype: int64"
      ]
     },
     "execution_count": 9,
     "metadata": {},
     "output_type": "execute_result"
    }
   ],
   "source": [
    "# Check missing values\n",
    "ukpub.isnull().sum()"
   ]
  },
  {
   "cell_type": "code",
   "execution_count": 10,
   "metadata": {},
   "outputs": [
    {
     "data": {
      "text/plain": [
       "Job Title              0.10\n",
       "Salary                 0.00\n",
       "Employment Status      0.00\n",
       "Race / Ethnicity       0.98\n",
       "Gender Identity        0.10\n",
       "Sexual Orientation     1.27\n",
       "Years in Publishing    1.27\n",
       "dtype: float64"
      ]
     },
     "execution_count": 10,
     "metadata": {},
     "output_type": "execute_result"
    }
   ],
   "source": [
    "# Missing values as a percentage of total data\n",
    "round(ukpub.isnull().sum()/ukpub.shape[0]*100,2)"
   ]
  },
  {
   "cell_type": "code",
   "execution_count": 11,
   "metadata": {
    "scrolled": false
   },
   "outputs": [
    {
     "data": {
      "image/png": "[encoded data removed]",
      "text/plain": [
       "<Figure size 720x288 with 1 Axes>"
      ]
     },
     "metadata": {
      "needs_background": "light"
     },
     "output_type": "display_data"
    }
   ],
   "source": [
    "# Visualise missing data\n",
    "fig, ax = plt.subplots(figsize=(10,4))\n",
    "ax = sns.heatmap(ukpub.isnull(),yticklabels=False,cbar=False,cmap='plasma')"
   ]
  },
  {
   "cell_type": "markdown",
   "metadata": {},
   "source": [
    "That's good. It looks like we do not have much missing data in our dataset."
   ]
  },
  {
   "cell_type": "markdown",
   "metadata": {},
   "source": [
    "#### Years in Publishing Column"
   ]
  },
  {
   "cell_type": "code",
   "execution_count": 12,
   "metadata": {},
   "outputs": [
    {
     "data": {
      "text/plain": [
       "3              150\n",
       "4              141\n",
       "5              126\n",
       "2              118\n",
       "7               75\n",
       "6               67\n",
       "1               61\n",
       "Less than 1     53\n",
       "8               52\n",
       "10              34\n",
       "9               25\n",
       "12              22\n",
       "11              20\n",
       "15              13\n",
       "NaN             13\n",
       "14              12\n",
       "13              10\n",
       "20               8\n",
       "16               5\n",
       "18               4\n",
       "19               3\n",
       "24               2\n",
       "21               2\n",
       "26               1\n",
       "17               1\n",
       "Queer            1\n",
       "25               1\n",
       "27               1\n",
       "Name: Years in Publishing, dtype: int64"
      ]
     },
     "execution_count": 12,
     "metadata": {},
     "output_type": "execute_result"
    }
   ],
   "source": [
    "# Check value counts for years in publishing\n",
    "ukpub['Years in Publishing'].value_counts(dropna=False)"
   ]
  },
  {
   "cell_type": "code",
   "execution_count": 13,
   "metadata": {},
   "outputs": [],
   "source": [
    "# Replace all instances of 'Less than 1' to 0 in 'Years in Publishing' column\n",
    "ukpub.loc[ukpub['Years in Publishing'] == 'Less than 1', 'Years in Publishing'] = 0"
   ]
  },
  {
   "cell_type": "code",
   "execution_count": 14,
   "metadata": {},
   "outputs": [],
   "source": [
    "# Convert 'Years in Publishing' to numeric data type\n",
    "ukpub['Years in Publishing'] = pd.to_numeric(ukpub['Years in Publishing'], errors='coerce')"
   ]
  },
  {
   "cell_type": "code",
   "execution_count": 15,
   "metadata": {},
   "outputs": [
    {
     "data": {
      "image/png": "[encoded data removed]",
      "text/plain": [
       "<Figure size 432x288 with 1 Axes>"
      ]
     },
     "metadata": {
      "needs_background": "light"
     },
     "output_type": "display_data"
    }
   ],
   "source": [
    "# Visualise the distribution of years in publishing\n",
    "ukpub['Years in Publishing'].hist();"
   ]
  },
  {
   "cell_type": "markdown",
   "metadata": {},
   "source": [
    "Here we can see that the values for years in publishing follow a somewhat normal distribution although it appears to be heavily right-skewed."
   ]
  },
  {
   "cell_type": "code",
   "execution_count": 18,
   "metadata": {},
   "outputs": [
    {
     "data": {
      "image/png": "[encoded data removed]",
      "text/plain": [
       "<Figure size 432x288 with 1 Axes>"
      ]
     },
     "metadata": {
      "needs_background": "light"
     },
     "output_type": "display_data"
    }
   ],
   "source": [
    "# Boxplot for years in publishing\n",
    "ukpub.boxplot(column=['Years in Publishing'], vert=False);"
   ]
  },
  {
   "cell_type": "markdown",
   "metadata": {},
   "source": [
    "We can see that we have some outliers towards the top end of the scale. This is not surprising given that the data  for years in publishing is positively skewed, however, we may have to remove some of these outliers before training our model."
   ]
  },
  {
   "cell_type": "code",
   "execution_count": 19,
   "metadata": {},
   "outputs": [
    {
     "data": {
      "text/html": [
       "<div>\n",
       "<style scoped>\n",
       "    .dataframe tbody tr th:only-of-type {\n",
       "        vertical-align: middle;\n",
       "    }\n",
       "\n",
       "    .dataframe tbody tr th {\n",
       "        vertical-align: top;\n",
       "    }\n",
       "\n",
       "    .dataframe thead th {\n",
       "        text-align: right;\n",
       "    }\n",
       "</style>\n",
       "<table border=\"1\" class=\"dataframe\">\n",
       "  <thead>\n",
       "    <tr style=\"text-align: right;\">\n",
       "      <th></th>\n",
       "      <th>Years in Publishing</th>\n",
       "    </tr>\n",
       "  </thead>\n",
       "  <tbody>\n",
       "    <tr>\n",
       "      <th>count</th>\n",
       "      <td>1007.000000</td>\n",
       "    </tr>\n",
       "    <tr>\n",
       "      <th>mean</th>\n",
       "      <td>5.342602</td>\n",
       "    </tr>\n",
       "    <tr>\n",
       "      <th>std</th>\n",
       "      <td>4.129225</td>\n",
       "    </tr>\n",
       "    <tr>\n",
       "      <th>min</th>\n",
       "      <td>0.000000</td>\n",
       "    </tr>\n",
       "    <tr>\n",
       "      <th>25%</th>\n",
       "      <td>3.000000</td>\n",
       "    </tr>\n",
       "    <tr>\n",
       "      <th>50%</th>\n",
       "      <td>4.000000</td>\n",
       "    </tr>\n",
       "    <tr>\n",
       "      <th>75%</th>\n",
       "      <td>7.000000</td>\n",
       "    </tr>\n",
       "    <tr>\n",
       "      <th>max</th>\n",
       "      <td>27.000000</td>\n",
       "    </tr>\n",
       "  </tbody>\n",
       "</table>\n",
       "</div>"
      ],
      "text/plain": [
       "       Years in Publishing\n",
       "count          1007.000000\n",
       "mean              5.342602\n",
       "std               4.129225\n",
       "min               0.000000\n",
       "25%               3.000000\n",
       "50%               4.000000\n",
       "75%               7.000000\n",
       "max              27.000000"
      ]
     },
     "execution_count": 19,
     "metadata": {},
     "output_type": "execute_result"
    }
   ],
   "source": [
    "# Descriptive statistics for years in publishing\n",
    "ukpub[['Years in Publishing']].describe()"
   ]
  },
  {
   "cell_type": "code",
   "execution_count": 20,
   "metadata": {},
   "outputs": [],
   "source": [
    "# Due to the number of outliers we will fill the null values with median instad of mean\n",
    "ukpub['Years in Publishing'].fillna(ukpub['Years in Publishing'].median(), inplace=True)"
   ]
  },
  {
   "cell_type": "markdown",
   "metadata": {},
   "source": [
    "#### Gender Identity Column"
   ]
  },
  {
   "cell_type": "code",
   "execution_count": 21,
   "metadata": {},
   "outputs": [
    {
     "data": {
      "text/plain": [
       "Woman (cisgender)                                                           884\n",
       "Man (cisgender)                                                             110\n",
       "Prefer not to say                                                            14\n",
       "Non-binary                                                                    7\n",
       "Woman (non-binary)                                                            2\n",
       "https://unitetheunion.org/why-join/membership-types/unite-young-members/      1\n",
       "White (Scandinavian immigrant)                                                1\n",
       "Prefer to self-describe                                                       1\n",
       "Name: Gender Identity, dtype: int64"
      ]
     },
     "execution_count": 21,
     "metadata": {},
     "output_type": "execute_result"
    }
   ],
   "source": [
    "# Check value counts of gender identity\n",
    "ukpub['Gender Identity'].value_counts()"
   ]
  },
  {
   "cell_type": "markdown",
   "metadata": {},
   "source": [
    "Here we have a few strange values that we will need to deal with. From the Woman (non-binary) down, it is unclear what these people's Gender Identity is so we will have to filter them out."
   ]
  },
  {
   "cell_type": "code",
   "execution_count": 22,
   "metadata": {},
   "outputs": [],
   "source": [
    "# Filter out those groups which have an unknown gender identity\n",
    "ukpub = ukpub.groupby('Gender Identity').filter(lambda x: len(x) > 5)"
   ]
  },
  {
   "cell_type": "code",
   "execution_count": 24,
   "metadata": {},
   "outputs": [],
   "source": [
    "# Remove '(cisgender)' from 'Woman' and 'Man' to make values easier to read\n",
    "ukpub.loc[ukpub['Gender Identity'] == 'Woman (cisgender)', 'Gender Identity'] = 'Woman'\n",
    "ukpub.loc[ukpub['Gender Identity'] == 'Man (cisgender)', 'Gender Identity'] = 'Man'"
   ]
  },
  {
   "cell_type": "markdown",
   "metadata": {},
   "source": [
    "#### Sexual Orientation Column"
   ]
  },
  {
   "cell_type": "code",
   "execution_count": 26,
   "metadata": {},
   "outputs": [
    {
     "data": {
      "text/plain": [
       "Straight                                          733\n",
       "Bisexual                                          109\n",
       "Prefer not to say                                  53\n",
       "Queer                                              32\n",
       "Gay                                                22\n",
       "Questioning                                        16\n",
       "Lesbian                                            14\n",
       "Pansexual                                          12\n",
       "NaN                                                12\n",
       "Asexual                                             9\n",
       "no labels (not straight but sexuality is fake)      1\n",
       "Demisexual                                          1\n",
       "Asexual/Queer                                       1\n",
       "Name: Sexual Orientation, dtype: int64"
      ]
     },
     "execution_count": 26,
     "metadata": {},
     "output_type": "execute_result"
    }
   ],
   "source": [
    "# Check values for sexual orientation\n",
    "ukpub['Sexual Orientation'].value_counts(dropna=False)"
   ]
  },
  {
   "cell_type": "code",
   "execution_count": 27,
   "metadata": {},
   "outputs": [],
   "source": [
    "# Because straight is by far the most common value, we will fill all null values with straight\n",
    "ukpub['Sexual Orientation'].fillna(ukpub['Sexual Orientation'].mode()[0], inplace=True)"
   ]
  },
  {
   "cell_type": "code",
   "execution_count": 28,
   "metadata": {},
   "outputs": [],
   "source": [
    "# Group all non-straight into a single category to simplify\n",
    "ukpub.loc[ukpub['Sexual Orientation'] != 'Straight', 'Sexual Orientation'] = 'LGBTQ'"
   ]
  },
  {
   "cell_type": "markdown",
   "metadata": {},
   "source": [
    "#### Race/Ethnicity Column"
   ]
  },
  {
   "cell_type": "code",
   "execution_count": 29,
   "metadata": {
    "scrolled": false
   },
   "outputs": [
    {
     "data": {
      "text/plain": [
       "array(['White', 'Black african ', 'British Indian', 'White British',\n",
       "       'British Indian ', 'White British ', 'White Australian',\n",
       "       'Black Caribbean ', 'Pakistani', 'Caucasian ', 'Black British ',\n",
       "       'Black', 'White/Irish', 'Caucasian', 'White ', 'Asian',\n",
       "       'Caucasian / Greek', 'Chinese', 'White, British',\n",
       "       'White (Not British)', 'White/irish', 'White/British',\n",
       "       'British Asian', 'Mixed (White British and British Indian)',\n",
       "       'Mixed', 'Black/African-British', 'White (other)',\n",
       "       'Mixed race - White and East Asian', 'white', 'White European',\n",
       "       'South Asian ', 'White/European', 'South Asian', 'white british',\n",
       "       'Mixed white and asian', 'White british', 'Black British',\n",
       "       'Mixed - White/Asian', 'South-Asian', 'white (other)',\n",
       "       'Mixed (White and Asian)', 'Mixed Afro/Indo Caribbean and White',\n",
       "       'White/Irish ', 'British Asian ', 'South Asian origin',\n",
       "       'British Asian - Indian ', 'Black African ',\n",
       "       'British Asian - Indian', 'White/Britsh',\n",
       "       'Mixed - white and brown', 'White, American', 'White, non-British',\n",
       "       'White (British)', 'Not white', 'Caucasian (Latinx)',\n",
       "       'White/Asian', 'Mixed white/south Asian ', 'White - Irish', nan,\n",
       "       'Mixed Race', 'White (not British)', 'British Asian (South Asian)',\n",
       "       'White, Not British', 'White (European)', 'Mixed - Indian/White',\n",
       "       'White Brit', 'Mixed (British and Asian) ', 'White Other',\n",
       "       'White European (mixed British/French) ',\n",
       "       'Mixed Black Caribbean / White', 'Mixed - Asian and White',\n",
       "       'White European ', 'white ', 'British Bangladeshi ', 'Asian ',\n",
       "       'White Irish', 'Black African', 'White non British',\n",
       "       'white dual nationality', 'Mixed race', 'White/Other', 'BAME',\n",
       "       'White and Black Caribbean', 'White european', 'Mixed/British',\n",
       "       'British-Bangladeshi', 'British (white)', 'Indian ',\n",
       "       'White/British ', 'British Chinese', 'Chinese/White',\n",
       "       'White European (Latvian)', 'Mixed - Black and White',\n",
       "       'White European (non-British)', 'Indian',\n",
       "       'Mixed (White & Black Caribbean)', 'Continental European',\n",
       "       'white European', 'Mixed (SE Asian/white)',\n",
       "       'Bi-racial Asian and white', 'SEA & White', 'Black Caribbean',\n",
       "       'White - British', 'White, not British  ', 'White American ',\n",
       "       'White other', 'White non-British', 'Mixed - White and Asian',\n",
       "       'white British', 'White Birtish', 'White – English/American',\n",
       "       'Mixed - White & Black Caribbean', 'White /Irish', 'White Irish ',\n",
       "       'Mixed white & asian', 'White / British', 'British Insian',\n",
       "       'Mixed - white and Romany ', 'White / Irish ', 'White/ Irish',\n",
       "       'White, other', 'White (Non-British)', 'British',\n",
       "       'White, not British', 'caucasian ', 'White/ British', 'Other',\n",
       "       'British, white', 'white (non-british)', 'white, british',\n",
       "       'Mixed: White/Asian',\n",
       "       'White (not British, from an Western European EU country)',\n",
       "       'White + Christian', 'White / European', 'Mixed white/Asian',\n",
       "       'White britsh', 'White and Asian ', 'Mixed, non-white',\n",
       "       'White (North American)', 'White british ', 'British Pakistani',\n",
       "       'White/Scottish', 'White (Jewish)', 'Pakistani ',\n",
       "       'White / Anglo-Irish', 'mixed - non-white', 'White/Caucasian ',\n",
       "       'White Caucasian', 'Whote', 'White / British ', 'British/Irish',\n",
       "       'Mixed - White and Black Caribbean', '0', 'English',\n",
       "       'black caribbean', 'white/british',\n",
       "       'Mixed race (Black Caribbean/White)', 'Mixed Jewish Heritage',\n",
       "       'South East Asian', 'White, European', 'White Other ',\n",
       "       'White / Other'], dtype=object)"
      ]
     },
     "execution_count": 29,
     "metadata": {},
     "output_type": "execute_result"
    }
   ],
   "source": [
    "# Check unique values for race and ethnicity\n",
    "ukpub['Race / Ethnicity'].unique()"
   ]
  },
  {
   "cell_type": "markdown",
   "metadata": {},
   "source": [
    "It seems like what have a lot of variation in the Race/Ethnicity column. We will have to find a way of reducing down the number of values by accurately grouping people into larger categories."
   ]
  },
  {
   "cell_type": "code",
   "execution_count": 30,
   "metadata": {},
   "outputs": [
    {
     "data": {
      "text/plain": [
       "White British     347\n",
       "White             273\n",
       "White              37\n",
       "White British      30\n",
       "White European     17\n",
       "Name: Race / Ethnicity, dtype: int64"
      ]
     },
     "execution_count": 30,
     "metadata": {},
     "output_type": "execute_result"
    }
   ],
   "source": [
    "# Look at most common entries for race/ethnicity\n",
    "ukpub['Race / Ethnicity'].value_counts().head()"
   ]
  },
  {
   "cell_type": "code",
   "execution_count": 31,
   "metadata": {},
   "outputs": [],
   "source": [
    "# With White British being the most common value here, we will fill all null values with White British\n",
    "ukpub['Race / Ethnicity'].fillna(ukpub['Race / Ethnicity'].mode()[0], inplace=True)"
   ]
  },
  {
   "cell_type": "code",
   "execution_count": 32,
   "metadata": {},
   "outputs": [],
   "source": [
    "# Correct specific values before applying function\n",
    "ukpub.loc[ukpub['Race / Ethnicity'] == 'Not white', 'Race / Ethnicity'] = 'Other'\n",
    "ukpub.loc[ukpub['Race / Ethnicity'] == 'Whote', 'Race / Ethnicity'] = 'White'\n",
    "ukpub.loc[ukpub['Race / Ethnicity'] == 'British Insian', 'Race / Ethnicity'] = 'British Indian'"
   ]
  },
  {
   "cell_type": "code",
   "execution_count": 33,
   "metadata": {},
   "outputs": [],
   "source": [
    "# Function for simplifying race/ethnicity\n",
    "def simplify_race(x):\n",
    "    if 'mixed' in x.lower():\n",
    "        return 'Mixed'\n",
    "    elif 'black' in x.lower() or 'bame' in x.lower():\n",
    "        return 'Black'\n",
    "    elif 'asian' in x.lower() or 'chinese' in x.lower() or 'indian' in x.lower() or \\\n",
    "                                 'pakistani' in x.lower() or 'bangladeshi' in x.lower():\n",
    "        return 'Asian'\n",
    "    elif 'white' in x.lower() or 'caucasian' in x.lower():\n",
    "        return 'White'\n",
    "    else:\n",
    "        return 'Unknown'"
   ]
  },
  {
   "cell_type": "code",
   "execution_count": 34,
   "metadata": {},
   "outputs": [],
   "source": [
    "# Apply function to race/ethnicity column\n",
    "ukpub['Race / Ethnicity'] = ukpub['Race / Ethnicity'].apply(simplify_race)"
   ]
  },
  {
   "cell_type": "code",
   "execution_count": 35,
   "metadata": {},
   "outputs": [
    {
     "data": {
      "text/plain": [
       "5"
      ]
     },
     "execution_count": 35,
     "metadata": {},
     "output_type": "execute_result"
    }
   ],
   "source": [
    "# Check number of unique values\n",
    "ukpub['Race / Ethnicity'].nunique()"
   ]
  },
  {
   "cell_type": "markdown",
   "metadata": {},
   "source": [
    "#### Employment Status Column"
   ]
  },
  {
   "cell_type": "code",
   "execution_count": 36,
   "metadata": {
    "scrolled": false
   },
   "outputs": [
    {
     "data": {
      "text/plain": [
       "array(['Full-time', 'Contract', 'Part-time', 'Parental leave cover',\n",
       "       'Part-Time (32 hours per week)',\n",
       "       'full-time but no contract, paid hourly',\n",
       "       \"I have just left this job but feel it's important for it to be logged\",\n",
       "       'Left position in 2019 due to low salary',\n",
       "       \"Full Time but wasn't permanent - they made anyone who wasn't permanent take unpaid six week breaks before you reached two years and then would hire you again \",\n",
       "       'Rolling temp contract', 'intern', 'Freelance'], dtype=object)"
      ]
     },
     "execution_count": 36,
     "metadata": {},
     "output_type": "execute_result"
    }
   ],
   "source": [
    "# Check unique values for employment status\n",
    "ukpub['Employment Status'].unique()"
   ]
  },
  {
   "cell_type": "markdown",
   "metadata": {},
   "source": [
    "For employment status, we can group indivduals into either part-time, full-time, contract or other."
   ]
  },
  {
   "cell_type": "code",
   "execution_count": 37,
   "metadata": {},
   "outputs": [],
   "source": [
    "# Function for simplifying employment status\n",
    "def simplify_employment_status(x):\n",
    "    if 'part-time' in x.lower():\n",
    "        return 'Part-time'\n",
    "    elif 'full-time' in x.lower():\n",
    "        return 'Full-time'\n",
    "    elif 'contract' in x.lower():\n",
    "        return 'Contract'\n",
    "    else:\n",
    "        return 'Other'"
   ]
  },
  {
   "cell_type": "code",
   "execution_count": 38,
   "metadata": {},
   "outputs": [],
   "source": [
    "# Apply function\n",
    "ukpub['Employment Status'] = ukpub['Employment Status'].apply(simplify_employment_status)"
   ]
  },
  {
   "cell_type": "markdown",
   "metadata": {},
   "source": [
    "#### Salary Column"
   ]
  },
  {
   "cell_type": "code",
   "execution_count": 44,
   "metadata": {
    "scrolled": false
   },
   "outputs": [
    {
     "data": {
      "text/html": [
       "<div>\n",
       "<style scoped>\n",
       "    .dataframe tbody tr th:only-of-type {\n",
       "        vertical-align: middle;\n",
       "    }\n",
       "\n",
       "    .dataframe tbody tr th {\n",
       "        vertical-align: top;\n",
       "    }\n",
       "\n",
       "    .dataframe thead th {\n",
       "        text-align: right;\n",
       "    }\n",
       "</style>\n",
       "<table border=\"1\" class=\"dataframe\">\n",
       "  <thead>\n",
       "    <tr style=\"text-align: right;\">\n",
       "      <th></th>\n",
       "      <th>Salary</th>\n",
       "    </tr>\n",
       "  </thead>\n",
       "  <tbody>\n",
       "    <tr>\n",
       "      <th>0</th>\n",
       "      <td>£36k</td>\n",
       "    </tr>\n",
       "    <tr>\n",
       "      <th>1</th>\n",
       "      <td>23,000 per annum</td>\n",
       "    </tr>\n",
       "    <tr>\n",
       "      <th>2</th>\n",
       "      <td>£23,000</td>\n",
       "    </tr>\n",
       "    <tr>\n",
       "      <th>3</th>\n",
       "      <td>£28,000</td>\n",
       "    </tr>\n",
       "    <tr>\n",
       "      <th>4</th>\n",
       "      <td>£115 per day</td>\n",
       "    </tr>\n",
       "    <tr>\n",
       "      <th>5</th>\n",
       "      <td>£21k starting, £27k 5 years later</td>\n",
       "    </tr>\n",
       "    <tr>\n",
       "      <th>6</th>\n",
       "      <td>31000</td>\n",
       "    </tr>\n",
       "    <tr>\n",
       "      <th>7</th>\n",
       "      <td>£25,000 entering in Sept 2016, £29,248.44 exit...</td>\n",
       "    </tr>\n",
       "    <tr>\n",
       "      <th>8</th>\n",
       "      <td>25.5k</td>\n",
       "    </tr>\n",
       "    <tr>\n",
       "      <th>9</th>\n",
       "      <td>£26,600</td>\n",
       "    </tr>\n",
       "  </tbody>\n",
       "</table>\n",
       "</div>"
      ],
      "text/plain": [
       "                                              Salary\n",
       "0                                               £36k\n",
       "1                                   23,000 per annum\n",
       "2                                            £23,000\n",
       "3                                            £28,000\n",
       "4                                      £115 per day \n",
       "5                 £21k starting, £27k 5 years later \n",
       "6                                              31000\n",
       "7  £25,000 entering in Sept 2016, £29,248.44 exit...\n",
       "8                                              25.5k\n",
       "9                                            £26,600"
      ]
     },
     "execution_count": 44,
     "metadata": {},
     "output_type": "execute_result"
    }
   ],
   "source": [
    "ukpub[['Salary']].head(10)"
   ]
  },
  {
   "cell_type": "markdown",
   "metadata": {},
   "source": [
    "For Salary, we can see that there is a lot of variation in the types of entries that people have made. Some salary entries contain quite a bit of textual information whereas many other entries are given in different formats. We will have to standardise all of these values if we want to do any further analysis. Specifically, we want to extract just the numerical yearly salary for each individual. This will be important when training our model."
   ]
  },
  {
   "cell_type": "markdown",
   "metadata": {},
   "source": [
    "Due to the large number of variation in how people have stated their salaries, I have decided to use regular expressions to attempt to parse out as much of the relevant numerical salary data as possible."
   ]
  },
  {
   "cell_type": "code",
   "execution_count": 46,
   "metadata": {},
   "outputs": [],
   "source": [
    "# Use a variety of regex expressions to extract correct salary values\n",
    "def extract_salary(x):\n",
    "    if re.search(r\"^£\\d+,[0-9]{3}.{0,21}$\", x):\n",
    "        return x.replace(',', '')[1:6]\n",
    "    elif re.search(r\"^£?\\d\\d[kK]\\s?$\", x): \n",
    "        return x[-3:-1] + \"000\"\n",
    "    elif re.search(r\"^\\d+[,.\\s]\\s?0\", x):\n",
    "        return x[:2] + \"000\"\n",
    "    elif re.search(r\"^\\d+[,.\\s]\\s?0{3}\", x):\n",
    "        return x[0:2] + \"000\"\n",
    "    elif re.search(\"^£?\\d{5}0?\", x):\n",
    "        x = x.strip('£')\n",
    "        if '.' in x:\n",
    "            return x[:5]\n",
    "        else:\n",
    "            return x.split(' ')[0]\n",
    "    elif re.search(r\"[kK]$\", x):\n",
    "        if '.' in x:\n",
    "            return x.split('.')[0][-2:] + x.split('.')[1][0] + \"00\"\n",
    "        elif '-' in x:\n",
    "            return x.split('-')[1][:2] + \"000\"\n",
    "        else:\n",
    "            return x[-3:-1] + \"000\"\n",
    "    else:\n",
    "        return x"
   ]
  },
  {
   "cell_type": "code",
   "execution_count": 47,
   "metadata": {},
   "outputs": [],
   "source": [
    "# Map function to each salary element\n",
    "ukpub['Salary'] = ukpub['Salary'].map(extract_salary)"
   ]
  },
  {
   "cell_type": "code",
   "execution_count": 51,
   "metadata": {},
   "outputs": [
    {
     "data": {
      "text/html": [
       "<div>\n",
       "<style scoped>\n",
       "    .dataframe tbody tr th:only-of-type {\n",
       "        vertical-align: middle;\n",
       "    }\n",
       "\n",
       "    .dataframe tbody tr th {\n",
       "        vertical-align: top;\n",
       "    }\n",
       "\n",
       "    .dataframe thead th {\n",
       "        text-align: right;\n",
       "    }\n",
       "</style>\n",
       "<table border=\"1\" class=\"dataframe\">\n",
       "  <thead>\n",
       "    <tr style=\"text-align: right;\">\n",
       "      <th></th>\n",
       "      <th>Salary</th>\n",
       "    </tr>\n",
       "  </thead>\n",
       "  <tbody>\n",
       "    <tr>\n",
       "      <th>0</th>\n",
       "      <td>36000</td>\n",
       "    </tr>\n",
       "    <tr>\n",
       "      <th>1</th>\n",
       "      <td>23000</td>\n",
       "    </tr>\n",
       "    <tr>\n",
       "      <th>2</th>\n",
       "      <td>23000</td>\n",
       "    </tr>\n",
       "    <tr>\n",
       "      <th>3</th>\n",
       "      <td>28000</td>\n",
       "    </tr>\n",
       "    <tr>\n",
       "      <th>4</th>\n",
       "      <td>£115 per day</td>\n",
       "    </tr>\n",
       "    <tr>\n",
       "      <th>5</th>\n",
       "      <td>£21k starting, £27k 5 years later</td>\n",
       "    </tr>\n",
       "    <tr>\n",
       "      <th>6</th>\n",
       "      <td>31000</td>\n",
       "    </tr>\n",
       "    <tr>\n",
       "      <th>7</th>\n",
       "      <td>£25,000 entering in Sept 2016, £29,248.44 exit...</td>\n",
       "    </tr>\n",
       "    <tr>\n",
       "      <th>8</th>\n",
       "      <td>25500</td>\n",
       "    </tr>\n",
       "    <tr>\n",
       "      <th>9</th>\n",
       "      <td>26600</td>\n",
       "    </tr>\n",
       "  </tbody>\n",
       "</table>\n",
       "</div>"
      ],
      "text/plain": [
       "                                              Salary\n",
       "0                                              36000\n",
       "1                                              23000\n",
       "2                                              23000\n",
       "3                                              28000\n",
       "4                                      £115 per day \n",
       "5                 £21k starting, £27k 5 years later \n",
       "6                                              31000\n",
       "7  £25,000 entering in Sept 2016, £29,248.44 exit...\n",
       "8                                              25500\n",
       "9                                              26600"
      ]
     },
     "execution_count": 51,
     "metadata": {},
     "output_type": "execute_result"
    }
   ],
   "source": [
    "# Check some of the salary values\n",
    "ukpub[['Salary']].head(10)"
   ]
  },
  {
   "cell_type": "markdown",
   "metadata": {},
   "source": [
    "It looks like we were able to extract many of the salary values using the regular expressions, but we can still see that there are some salaries that were not successfully extracted. As this is a small dataset, we can manually amend all of the remaining salary values."
   ]
  },
  {
   "cell_type": "code",
   "execution_count": 52,
   "metadata": {},
   "outputs": [],
   "source": [
    "# Correct salary values for those that were not captured by the regex expressions\n",
    "\n",
    "# £115 per day --> (52(week)*5(work days) - 20(days holiday))*115(day rate)\n",
    "ukpub.loc[ukpub['Salary'] == '£115 per day ', 'Salary'] = '27600'\n",
    "\n",
    "# # £21k starting, £27k 5 years later \n",
    "ukpub.loc[ukpub['Salary'] == '£21k starting, £27k 5 years later ', 'Salary'] = '27000'\n",
    "\n",
    "# £25,000 entering in Sept 2016, £29,248.44 exiting in Sept 2019\n",
    "ukpub.loc[ukpub['Salary'] == '£25,000 entering in Sept 2016, £29,248.44 exiting in Sept 2019', 'Salary'] = '29248'\n",
    "\n",
    "# £30,000 (as of 2020; started role in 2016)\n",
    "ukpub.loc[ukpub['Salary'] == '£30,000 (as of 2020; started role in 2016)', 'Salary'] = '30000'\n",
    "\n",
    "# 20k starting\n",
    "ukpub.loc[ukpub['Salary'] == '20k starting', 'Salary'] = '20000'\n",
    "\n",
    "# 34\n",
    "ukpub.loc[ukpub['Salary'] == '34', 'Salary'] = '34000'\n",
    "\n",
    "# 28.50£\n",
    "ukpub.loc[ukpub['Salary'] == '28.50£', 'Salary'] = '28500'\n",
    "\n",
    "# £25, 000\n",
    "ukpub.loc[ukpub['Salary'] == '£25, 000', 'Salary'] = '25000'\n",
    "\n",
    "# approx £11-13,000 p.a.\n",
    "ukpub.loc[ukpub['Salary'] == 'approx £11-13,000 p.a.', 'Salary'] = '13000'\n",
    "\n",
    "# £38.5k (increase to £40k delayed by covid)\n",
    "ukpub.loc[ukpub['Salary'] == '£38.5k (increase to £40k delayed by covid)', 'Salary'] = '40000'\n",
    "\n",
    "# 21.5\n",
    "ukpub.loc[ukpub['Salary'] == '21.5', 'Salary'] = '21500'\n",
    "\n",
    "# £24K annually \n",
    "ukpub.loc[ukpub['Salary'] == '£24K annually ', 'Salary'] = '24000'\n",
    "\n",
    "# £18,000 (£19k after 6-month probation)\n",
    "ukpub.loc[ukpub['Salary'] == '£18,000 (£19k after 6-month probation)', 'Salary'] = '19000'\n",
    "\n",
    "# £23k to start rising to £23,500\n",
    "ukpub.loc[ukpub['Salary'] == '£23k to start rising to £23,500', 'Salary'] = '23500'\n",
    "\n",
    "# £26 266\n",
    "ukpub.loc[ukpub['Salary'] == '£26 266', 'Salary'] = '26266'\n",
    "\n",
    "# 28\n",
    "ukpub.loc[ukpub['Salary'] == '28', 'Salary'] = '28000'\n",
    "\n",
    "# £15.5k (2015), £16.9k (2016), £18.9k (2017)\n",
    "ukpub.loc[ukpub['Salary'] == '£15.5k (2015), £16.9k (2016), £18.9k (2017)', 'Salary'] = '18900'\n",
    "\n",
    "# £22,000 start, £24,000 2 years on\n",
    "ukpub.loc[ukpub['Salary'] == '£22,000 start, £24,000 2 years on', 'Salary'] = '24000'\n",
    "\n",
    "# 31'800\n",
    "ukpub.loc[ukpub['Salary'] == \"31'800\", 'Salary'] = '31800'\n",
    "\n",
    "# £38\n",
    "ukpub.loc[ukpub['Salary'] == '£38', 'Salary'] = '38000'\n",
    "\n",
    "# £28k pro rata\n",
    "ukpub.loc[ukpub['Salary'] == '£28k pro rata', 'Salary'] = '28000'\n",
    "\n",
    "# 34,850 (full time)\n",
    "ukpub.loc[ukpub['Salary'] == '34,850 (full time)', 'Salary'] = '34850'\n",
    "\n",
    "# 5k000\n",
    "ukpub.loc[ukpub['Salary'] == '5k000', 'Salary'] = '50000'\n",
    "\n",
    "# Started at £21500 but increased to £22500 after a year\n",
    "ukpub.loc[ukpub['Salary'] == 'Started at £21500 but increased to £22500 after a year', 'Salary'] = '22500'"
   ]
  },
  {
   "cell_type": "code",
   "execution_count": 53,
   "metadata": {},
   "outputs": [],
   "source": [
    "# Drop rows where people do not make a salary\n",
    "\n",
    "# List of entries that indicate no salary\n",
    "no_salary = ['Unpaid with £100/week stipend', '0']\n",
    "\n",
    "# Find indexes of people with no salary\n",
    "ppl_no_salary = ukpub[ukpub['Salary'].isin(no_salary)].index\n",
    "\n",
    "# Remove people with no salary \n",
    "ukpub = ukpub[~ukpub.index.isin(ppl_no_salary)]"
   ]
  },
  {
   "cell_type": "code",
   "execution_count": 57,
   "metadata": {},
   "outputs": [],
   "source": [
    "# With the salaries now standardised, we can convert them to numeric data type\n",
    "ukpub['Salary'] = ukpub['Salary'].astype('int64')"
   ]
  },
  {
   "cell_type": "code",
   "execution_count": 60,
   "metadata": {},
   "outputs": [
    {
     "data": {
      "text/html": [
       "<div>\n",
       "<style scoped>\n",
       "    .dataframe tbody tr th:only-of-type {\n",
       "        vertical-align: middle;\n",
       "    }\n",
       "\n",
       "    .dataframe tbody tr th {\n",
       "        vertical-align: top;\n",
       "    }\n",
       "\n",
       "    .dataframe thead th {\n",
       "        text-align: right;\n",
       "    }\n",
       "</style>\n",
       "<table border=\"1\" class=\"dataframe\">\n",
       "  <thead>\n",
       "    <tr style=\"text-align: right;\">\n",
       "      <th></th>\n",
       "      <th>Job Title</th>\n",
       "      <th>Salary</th>\n",
       "      <th>Employment Status</th>\n",
       "      <th>Race / Ethnicity</th>\n",
       "      <th>Gender Identity</th>\n",
       "      <th>Sexual Orientation</th>\n",
       "      <th>Years in Publishing</th>\n",
       "    </tr>\n",
       "  </thead>\n",
       "  <tbody>\n",
       "    <tr>\n",
       "      <th>0</th>\n",
       "      <td>Marketing manager</td>\n",
       "      <td>36000</td>\n",
       "      <td>Full-time</td>\n",
       "      <td>White</td>\n",
       "      <td>Woman</td>\n",
       "      <td>Straight</td>\n",
       "      <td>3.0</td>\n",
       "    </tr>\n",
       "    <tr>\n",
       "      <th>1</th>\n",
       "      <td>Early careere coordinator</td>\n",
       "      <td>23000</td>\n",
       "      <td>Full-time</td>\n",
       "      <td>Black</td>\n",
       "      <td>Woman</td>\n",
       "      <td>LGBTQ</td>\n",
       "      <td>2.0</td>\n",
       "    </tr>\n",
       "    <tr>\n",
       "      <th>2</th>\n",
       "      <td>Audience and Digital Development Assistant</td>\n",
       "      <td>23000</td>\n",
       "      <td>Full-time</td>\n",
       "      <td>Asian</td>\n",
       "      <td>Woman</td>\n",
       "      <td>Straight</td>\n",
       "      <td>1.0</td>\n",
       "    </tr>\n",
       "    <tr>\n",
       "      <th>3</th>\n",
       "      <td>Publicity Officer</td>\n",
       "      <td>28000</td>\n",
       "      <td>Full-time</td>\n",
       "      <td>White</td>\n",
       "      <td>Woman</td>\n",
       "      <td>LGBTQ</td>\n",
       "      <td>3.0</td>\n",
       "    </tr>\n",
       "    <tr>\n",
       "      <th>4</th>\n",
       "      <td>Creative art worker</td>\n",
       "      <td>27600</td>\n",
       "      <td>Contract</td>\n",
       "      <td>Asian</td>\n",
       "      <td>Woman</td>\n",
       "      <td>Straight</td>\n",
       "      <td>7.0</td>\n",
       "    </tr>\n",
       "    <tr>\n",
       "      <th>5</th>\n",
       "      <td>Executive (marketing and operations)</td>\n",
       "      <td>27000</td>\n",
       "      <td>Full-time</td>\n",
       "      <td>White</td>\n",
       "      <td>Woman</td>\n",
       "      <td>Straight</td>\n",
       "      <td>6.0</td>\n",
       "    </tr>\n",
       "    <tr>\n",
       "      <th>6</th>\n",
       "      <td>Project &amp; Brand Exec</td>\n",
       "      <td>31000</td>\n",
       "      <td>Full-time</td>\n",
       "      <td>White</td>\n",
       "      <td>Woman</td>\n",
       "      <td>Straight</td>\n",
       "      <td>3.0</td>\n",
       "    </tr>\n",
       "    <tr>\n",
       "      <th>7</th>\n",
       "      <td>Coordinator (Creative Responsibility)</td>\n",
       "      <td>29248</td>\n",
       "      <td>Full-time</td>\n",
       "      <td>White</td>\n",
       "      <td>Woman</td>\n",
       "      <td>Straight</td>\n",
       "      <td>3.0</td>\n",
       "    </tr>\n",
       "    <tr>\n",
       "      <th>8</th>\n",
       "      <td>Corporate responsibility assistant</td>\n",
       "      <td>25500</td>\n",
       "      <td>Full-time</td>\n",
       "      <td>Black</td>\n",
       "      <td>Woman</td>\n",
       "      <td>Straight</td>\n",
       "      <td>1.0</td>\n",
       "    </tr>\n",
       "    <tr>\n",
       "      <th>9</th>\n",
       "      <td>Press Officer</td>\n",
       "      <td>26600</td>\n",
       "      <td>Full-time</td>\n",
       "      <td>White</td>\n",
       "      <td>Woman</td>\n",
       "      <td>LGBTQ</td>\n",
       "      <td>4.0</td>\n",
       "    </tr>\n",
       "  </tbody>\n",
       "</table>\n",
       "</div>"
      ],
      "text/plain": [
       "                                     Job Title  Salary Employment Status  \\\n",
       "0                            Marketing manager   36000         Full-time   \n",
       "1                   Early careere coordinator    23000         Full-time   \n",
       "2  Audience and Digital Development Assistant    23000         Full-time   \n",
       "3                            Publicity Officer   28000         Full-time   \n",
       "4                          Creative art worker   27600          Contract   \n",
       "5         Executive (marketing and operations)   27000         Full-time   \n",
       "6                         Project & Brand Exec   31000         Full-time   \n",
       "7        Coordinator (Creative Responsibility)   29248         Full-time   \n",
       "8          Corporate responsibility assistant    25500         Full-time   \n",
       "9                                Press Officer   26600         Full-time   \n",
       "\n",
       "  Race / Ethnicity Gender Identity Sexual Orientation  Years in Publishing  \n",
       "0            White           Woman           Straight                  3.0  \n",
       "1            Black           Woman              LGBTQ                  2.0  \n",
       "2            Asian           Woman           Straight                  1.0  \n",
       "3            White           Woman              LGBTQ                  3.0  \n",
       "4            Asian           Woman           Straight                  7.0  \n",
       "5            White           Woman           Straight                  6.0  \n",
       "6            White           Woman           Straight                  3.0  \n",
       "7            White           Woman           Straight                  3.0  \n",
       "8            Black           Woman           Straight                  1.0  \n",
       "9            White           Woman              LGBTQ                  4.0  "
      ]
     },
     "execution_count": 60,
     "metadata": {},
     "output_type": "execute_result"
    }
   ],
   "source": [
    "# Check to see what our data now looks like after cleaning\n",
    "ukpub.head(10)"
   ]
  },
  {
   "cell_type": "markdown",
   "metadata": {},
   "source": [
    "Our data looks much cleaner and we can now proceed with the EDA."
   ]
  },
  {
   "cell_type": "markdown",
   "metadata": {},
   "source": [
    "### EDA"
   ]
  },
  {
   "cell_type": "code",
   "execution_count": 61,
   "metadata": {},
   "outputs": [
    {
     "data": {
      "image/png": "[encoded data removed]",
      "text/plain": [
       "<Figure size 432x288 with 1 Axes>"
      ]
     },
     "metadata": {
      "needs_background": "light"
     },
     "output_type": "display_data"
    }
   ],
   "source": [
    "# Checking relationship between salary and years in publishing\n",
    "ukpub.plot(kind='scatter', x='Years in Publishing', y='Salary');"
   ]
  },
  {
   "cell_type": "markdown",
   "metadata": {},
   "source": [
    "We can see here that there does appear to be a relationship between years in publishing and salary however the data looks quite spread out, especially as the years in publishing increases. This could mean that a linear model is not the best model to use for this data. We can also see an outlier with a salary of £120,000 for 20 years in publishing. While this may be a plausible salary value, we will omit this individual when we remove outliers as it may negatively impact the results from our model."
   ]
  },
  {
   "cell_type": "code",
   "execution_count": 70,
   "metadata": {},
   "outputs": [
    {
     "data": {
      "image/png": "[encoded data removed]",
      "text/plain": [
       "<Figure size 720x432 with 1 Axes>"
      ]
     },
     "metadata": {
      "needs_background": "light"
     },
     "output_type": "display_data"
    }
   ],
   "source": [
    "# Visualise distribution of salary\n",
    "plt.figure(figsize=(10, 6))\n",
    "sns.histplot(ukpub['Salary'], kde=True);"
   ]
  },
  {
   "cell_type": "markdown",
   "metadata": {},
   "source": [
    "It appears that salary is somewhat normally distributed but also has positive skew, albeit not as much as years in publishing."
   ]
  },
  {
   "cell_type": "code",
   "execution_count": 72,
   "metadata": {
    "scrolled": true
   },
   "outputs": [
    {
     "data": {
      "image/png": "[encoded data removed]",
      "text/plain": [
       "<Figure size 432x288 with 1 Axes>"
      ]
     },
     "metadata": {
      "needs_background": "light"
     },
     "output_type": "display_data"
    }
   ],
   "source": [
    "# Boxplot for salary\n",
    "ukpub.boxplot(column = ['Salary'], vert=False);"
   ]
  },
  {
   "cell_type": "markdown",
   "metadata": {},
   "source": [
    "As with years in publishing, we also have some outliers at the top end of our dependent variable (salary). "
   ]
  },
  {
   "cell_type": "markdown",
   "metadata": {},
   "source": [
    "We will remove the top and bottom .05% from salary and years in publishing so that the data better reflects the overall distribution."
   ]
  },
  {
   "cell_type": "code",
   "execution_count": 74,
   "metadata": {},
   "outputs": [],
   "source": [
    "# Remove some outliers for salary - removing top .05% and bottom .05%\n",
    "ukpub = ukpub[(ukpub['Salary'] < ukpub['Salary'].quantile(.995)) & \n",
    "                         (ukpub['Salary'] > ukpub['Salary'].quantile(.005))]\n",
    "\n",
    "# Remove some outliers here for years in publishing - removing top .05% and bottom .05%\n",
    "ukpub = ukpub[(ukpub['Years in Publishing'] < ukpub['Years in Publishing'].quantile(.995)) & \n",
    "                         (ukpub['Years in Publishing'] > ukpub['Years in Publishing'].quantile(.005))]"
   ]
  },
  {
   "cell_type": "code",
   "execution_count": 85,
   "metadata": {},
   "outputs": [
    {
     "data": {
      "image/png": "[encoded data removed]",
      "text/plain": [
       "<Figure size 576x504 with 2 Axes>"
      ]
     },
     "metadata": {
      "needs_background": "light"
     },
     "output_type": "display_data"
    }
   ],
   "source": [
    "# Boxplots for salary and years in publishing with outliers removed\n",
    "fig, axes = plt.subplots(2,1, figsize=(8,7))\n",
    "ukpub.boxplot(column = ['Salary'], vert=False, ax=axes[0]);\n",
    "ukpub.boxplot(column = ['Years in Publishing'], vert=False, ax=axes[1]);"
   ]
  },
  {
   "cell_type": "markdown",
   "metadata": {},
   "source": [
    "This looks better. We still have outliers at the top end but because we have eliminated some of the higher values, the data now appears to be slightly better distributed. This will help when fitting the model to the data."
   ]
  },
  {
   "cell_type": "code",
   "execution_count": 92,
   "metadata": {},
   "outputs": [
    {
     "data": {
      "text/html": [
       "<div>\n",
       "<style scoped>\n",
       "    .dataframe tbody tr th:only-of-type {\n",
       "        vertical-align: middle;\n",
       "    }\n",
       "\n",
       "    .dataframe tbody tr th {\n",
       "        vertical-align: top;\n",
       "    }\n",
       "\n",
       "    .dataframe thead th {\n",
       "        text-align: right;\n",
       "    }\n",
       "</style>\n",
       "<table border=\"1\" class=\"dataframe\">\n",
       "  <thead>\n",
       "    <tr style=\"text-align: right;\">\n",
       "      <th></th>\n",
       "      <th>Salary</th>\n",
       "      <th>Years in Publishing</th>\n",
       "    </tr>\n",
       "  </thead>\n",
       "  <tbody>\n",
       "    <tr>\n",
       "      <th>Salary</th>\n",
       "      <td>1.000000</td>\n",
       "      <td>0.593085</td>\n",
       "    </tr>\n",
       "    <tr>\n",
       "      <th>Years in Publishing</th>\n",
       "      <td>0.593085</td>\n",
       "      <td>1.000000</td>\n",
       "    </tr>\n",
       "  </tbody>\n",
       "</table>\n",
       "</div>"
      ],
      "text/plain": [
       "                       Salary  Years in Publishing\n",
       "Salary               1.000000             0.593085\n",
       "Years in Publishing  0.593085             1.000000"
      ]
     },
     "execution_count": 92,
     "metadata": {},
     "output_type": "execute_result"
    }
   ],
   "source": [
    "# Correlation between salary and years in publishing\n",
    "ukpub.corr()"
   ]
  },
  {
   "cell_type": "code",
   "execution_count": 90,
   "metadata": {},
   "outputs": [
    {
     "data": {
      "image/png": "[encoded data removed]",
      "text/plain": [
       "<Figure size 432x288 with 1 Axes>"
      ]
     },
     "metadata": {
      "needs_background": "light"
     },
     "output_type": "display_data"
    }
   ],
   "source": [
    "# Regplot showing the relationship between years in publishing and salary\n",
    "sns.regplot(x='Years in Publishing', y='Salary', data=ukpub);"
   ]
  },
  {
   "cell_type": "markdown",
   "metadata": {},
   "source": [
    "Again, we can see that although there does appear to be a positive relationship, there are a lot of data points that are not captured accurately by the regression line. This could mean that a linear model may not be the best model to explain the relationship between these two variables."
   ]
  },
  {
   "cell_type": "code",
   "execution_count": 93,
   "metadata": {
    "scrolled": false
   },
   "outputs": [
    {
     "name": "stdout",
     "output_type": "stream",
     "text": [
      "Chart for Employment Status | Total = 4\n"
     ]
    },
    {
     "data": {
      "image/png": "[encoded data removed]",
      "text/plain": [
       "<Figure size 432x288 with 1 Axes>"
      ]
     },
     "metadata": {
      "needs_background": "light"
     },
     "output_type": "display_data"
    },
    {
     "name": "stdout",
     "output_type": "stream",
     "text": [
      "Chart for Race / Ethnicity | Total = 5\n"
     ]
    },
    {
     "data": {
      "image/png": "[encoded data removed]",
      "text/plain": [
       "<Figure size 432x288 with 1 Axes>"
      ]
     },
     "metadata": {
      "needs_background": "light"
     },
     "output_type": "display_data"
    },
    {
     "name": "stdout",
     "output_type": "stream",
     "text": [
      "Chart for Gender Identity | Total = 4\n"
     ]
    },
    {
     "data": {
      "image/png": "[encoded data removed]",
      "text/plain": [
       "<Figure size 432x288 with 1 Axes>"
      ]
     },
     "metadata": {
      "needs_background": "light"
     },
     "output_type": "display_data"
    },
    {
     "name": "stdout",
     "output_type": "stream",
     "text": [
      "Chart for Sexual Orientation | Total = 2\n"
     ]
    },
    {
     "data": {
      "image/png": "[encoded data removed]",
      "text/plain": [
       "<Figure size 432x288 with 1 Axes>"
      ]
     },
     "metadata": {
      "needs_background": "light"
     },
     "output_type": "display_data"
    },
    {
     "name": "stdout",
     "output_type": "stream",
     "text": [
      "Chart for Years in Publishing | Total = 19\n"
     ]
    },
    {
     "data": {
      "image/png": "[encoded data removed]",
      "text/plain": [
       "<Figure size 432x288 with 1 Axes>"
      ]
     },
     "metadata": {
      "needs_background": "light"
     },
     "output_type": "display_data"
    }
   ],
   "source": [
    "# Barplots for each of the features\n",
    "for feature in ukpub.columns[2:7]:\n",
    "    feature_num = ukpub[feature].value_counts()\n",
    "    print(f\"Chart for {feature} | Total = {len(feature_num)}\")\n",
    "    chart = sns.barplot(x=feature_num.index, y=feature_num, zorder=2)\n",
    "    chart.set_xticklabels(chart.get_xticklabels())\n",
    "    plt.grid()\n",
    "    plt.show()"
   ]
  },
  {
   "cell_type": "markdown",
   "metadata": {},
   "source": [
    "From these graphs, we can see that the majority of our dataset consists of straight, white women who work full-time and have been working in the publishing industry for between 2-5 years."
   ]
  },
  {
   "cell_type": "code",
   "execution_count": 94,
   "metadata": {},
   "outputs": [
    {
     "data": {
      "text/html": [
       "<div>\n",
       "<style scoped>\n",
       "    .dataframe tbody tr th:only-of-type {\n",
       "        vertical-align: middle;\n",
       "    }\n",
       "\n",
       "    .dataframe tbody tr th {\n",
       "        vertical-align: top;\n",
       "    }\n",
       "\n",
       "    .dataframe thead th {\n",
       "        text-align: right;\n",
       "    }\n",
       "</style>\n",
       "<table border=\"1\" class=\"dataframe\">\n",
       "  <thead>\n",
       "    <tr style=\"text-align: right;\">\n",
       "      <th></th>\n",
       "      <th>Salary</th>\n",
       "      <th>Years in Publishing</th>\n",
       "    </tr>\n",
       "    <tr>\n",
       "      <th>Race / Ethnicity</th>\n",
       "      <th></th>\n",
       "      <th></th>\n",
       "    </tr>\n",
       "  </thead>\n",
       "  <tbody>\n",
       "    <tr>\n",
       "      <th>Unknown</th>\n",
       "      <td>33871.428571</td>\n",
       "      <td>8.285714</td>\n",
       "    </tr>\n",
       "    <tr>\n",
       "      <th>White</th>\n",
       "      <td>30634.086466</td>\n",
       "      <td>5.548872</td>\n",
       "    </tr>\n",
       "    <tr>\n",
       "      <th>Asian</th>\n",
       "      <td>29950.800000</td>\n",
       "      <td>4.700000</td>\n",
       "    </tr>\n",
       "    <tr>\n",
       "      <th>Mixed</th>\n",
       "      <td>29086.111111</td>\n",
       "      <td>5.333333</td>\n",
       "    </tr>\n",
       "    <tr>\n",
       "      <th>Black</th>\n",
       "      <td>26854.411765</td>\n",
       "      <td>3.617647</td>\n",
       "    </tr>\n",
       "  </tbody>\n",
       "</table>\n",
       "</div>"
      ],
      "text/plain": [
       "                        Salary  Years in Publishing\n",
       "Race / Ethnicity                                   \n",
       "Unknown           33871.428571             8.285714\n",
       "White             30634.086466             5.548872\n",
       "Asian             29950.800000             4.700000\n",
       "Mixed             29086.111111             5.333333\n",
       "Black             26854.411765             3.617647"
      ]
     },
     "execution_count": 94,
     "metadata": {},
     "output_type": "execute_result"
    }
   ],
   "source": [
    "# Pivot table for average salary and average years in publishing for race/ethnicity\n",
    "pd.pivot_table(ukpub, index='Race / Ethnicity', \n",
    "    values=['Salary', 'Years in Publishing']).sort_values('Salary', \n",
    "    ascending=False)"
   ]
  },
  {
   "cell_type": "code",
   "execution_count": 95,
   "metadata": {},
   "outputs": [
    {
     "data": {
      "image/png": "[encoded data removed]",
      "text/plain": [
       "<Figure size 432x288 with 1 Axes>"
      ]
     },
     "metadata": {
      "needs_background": "light"
     },
     "output_type": "display_data"
    }
   ],
   "source": [
    "# Plot graph showing mean salary amount for Race / Ethnicity\n",
    "race_salary = pd.pivot_table(ukpub, index='Race / Ethnicity', values='Salary').sort_values('Salary', ascending=False)\n",
    "sns.barplot(x=race_salary.index, y=\"Salary\", data=race_salary);"
   ]
  },
  {
   "cell_type": "markdown",
   "metadata": {},
   "source": [
    "Interestingly, it appears that those whose race and ethnicity is unknown not only earn the highest salary on average but have also spent the most amount of years in publishing on average. This could mean that those in better paid positions who have worked in publishing for longer feel less inclined to share their race or ethnicity but this is just speculation."
   ]
  },
  {
   "cell_type": "code",
   "execution_count": 97,
   "metadata": {},
   "outputs": [
    {
     "data": {
      "text/html": [
       "<div>\n",
       "<style scoped>\n",
       "    .dataframe tbody tr th:only-of-type {\n",
       "        vertical-align: middle;\n",
       "    }\n",
       "\n",
       "    .dataframe tbody tr th {\n",
       "        vertical-align: top;\n",
       "    }\n",
       "\n",
       "    .dataframe thead th {\n",
       "        text-align: right;\n",
       "    }\n",
       "</style>\n",
       "<table border=\"1\" class=\"dataframe\">\n",
       "  <thead>\n",
       "    <tr style=\"text-align: right;\">\n",
       "      <th></th>\n",
       "      <th>Salary</th>\n",
       "      <th>Years in Publishing</th>\n",
       "    </tr>\n",
       "    <tr>\n",
       "      <th>Gender Identity</th>\n",
       "      <th></th>\n",
       "      <th></th>\n",
       "    </tr>\n",
       "  </thead>\n",
       "  <tbody>\n",
       "    <tr>\n",
       "      <th>Man</th>\n",
       "      <td>30597.066038</td>\n",
       "      <td>5.943396</td>\n",
       "    </tr>\n",
       "    <tr>\n",
       "      <th>Prefer not to say</th>\n",
       "      <td>30509.090909</td>\n",
       "      <td>6.909091</td>\n",
       "    </tr>\n",
       "    <tr>\n",
       "      <th>Woman</th>\n",
       "      <td>30390.886724</td>\n",
       "      <td>5.342266</td>\n",
       "    </tr>\n",
       "    <tr>\n",
       "      <th>Non-binary</th>\n",
       "      <td>30000.000000</td>\n",
       "      <td>5.428571</td>\n",
       "    </tr>\n",
       "  </tbody>\n",
       "</table>\n",
       "</div>"
      ],
      "text/plain": [
       "                         Salary  Years in Publishing\n",
       "Gender Identity                                     \n",
       "Man                30597.066038             5.943396\n",
       "Prefer not to say  30509.090909             6.909091\n",
       "Woman              30390.886724             5.342266\n",
       "Non-binary         30000.000000             5.428571"
      ]
     },
     "execution_count": 97,
     "metadata": {},
     "output_type": "execute_result"
    }
   ],
   "source": [
    "# Pivot table for average salary and average years in publishing for gender identity\n",
    "pd.pivot_table(ukpub, index='Gender Identity', \n",
    "    values=['Salary', 'Years in Publishing']).sort_values('Salary', ascending=False)"
   ]
  },
  {
   "cell_type": "code",
   "execution_count": 98,
   "metadata": {},
   "outputs": [
    {
     "data": {
      "image/png": "[encoded data removed]",
      "text/plain": [
       "<Figure size 432x288 with 1 Axes>"
      ]
     },
     "metadata": {
      "needs_background": "light"
     },
     "output_type": "display_data"
    }
   ],
   "source": [
    "# Plot graph showing mean salary amount for Gender Identity\n",
    "gender_salary = pd.pivot_table(ukpub, index='Gender Identity', values='Salary').sort_values('Salary', ascending=False)\n",
    "sns.barplot(x=gender_salary.index, y=\"Salary\", data=gender_salary);"
   ]
  },
  {
   "cell_type": "markdown",
   "metadata": {},
   "source": [
    "Here we can see that on average, all genders earn roughly equal salaries."
   ]
  },
  {
   "cell_type": "code",
   "execution_count": 100,
   "metadata": {},
   "outputs": [
    {
     "data": {
      "text/html": [
       "<div>\n",
       "<style scoped>\n",
       "    .dataframe tbody tr th:only-of-type {\n",
       "        vertical-align: middle;\n",
       "    }\n",
       "\n",
       "    .dataframe tbody tr th {\n",
       "        vertical-align: top;\n",
       "    }\n",
       "\n",
       "    .dataframe thead th {\n",
       "        text-align: right;\n",
       "    }\n",
       "</style>\n",
       "<table border=\"1\" class=\"dataframe\">\n",
       "  <thead>\n",
       "    <tr style=\"text-align: right;\">\n",
       "      <th></th>\n",
       "      <th>Salary</th>\n",
       "      <th>Years in Publishing</th>\n",
       "    </tr>\n",
       "    <tr>\n",
       "      <th>Sexual Orientation</th>\n",
       "      <th></th>\n",
       "      <th></th>\n",
       "    </tr>\n",
       "  </thead>\n",
       "  <tbody>\n",
       "    <tr>\n",
       "      <th>Straight</th>\n",
       "      <td>30692.786629</td>\n",
       "      <td>5.509246</td>\n",
       "    </tr>\n",
       "    <tr>\n",
       "      <th>LGBTQ</th>\n",
       "      <td>29598.256198</td>\n",
       "      <td>5.194215</td>\n",
       "    </tr>\n",
       "  </tbody>\n",
       "</table>\n",
       "</div>"
      ],
      "text/plain": [
       "                          Salary  Years in Publishing\n",
       "Sexual Orientation                                   \n",
       "Straight            30692.786629             5.509246\n",
       "LGBTQ               29598.256198             5.194215"
      ]
     },
     "execution_count": 100,
     "metadata": {},
     "output_type": "execute_result"
    }
   ],
   "source": [
    "# Pivot table for average salary and average years in publishing for sexual orientation\n",
    "pd.pivot_table(ukpub, index='Sexual Orientation', \n",
    "    values=['Salary', 'Years in Publishing']).sort_values('Salary', ascending=False)"
   ]
  },
  {
   "cell_type": "code",
   "execution_count": 101,
   "metadata": {},
   "outputs": [
    {
     "data": {
      "image/png": "[encoded data removed]",
      "text/plain": [
       "<Figure size 432x288 with 1 Axes>"
      ]
     },
     "metadata": {
      "needs_background": "light"
     },
     "output_type": "display_data"
    }
   ],
   "source": [
    "# Plot graph showing mean salary amount for Sexual Orientation\n",
    "sexori_salary = pd.pivot_table(ukpub, index='Sexual Orientation', values='Salary').sort_values('Salary', ascending=False)\n",
    "sns.barplot(x=sexori_salary.index, y=\"Salary\", data=sexori_salary);"
   ]
  },
  {
   "cell_type": "markdown",
   "metadata": {},
   "source": [
    "Similarly, it appears that on average, people of different sexual orientation earn roughly equal salaries."
   ]
  },
  {
   "cell_type": "code",
   "execution_count": 102,
   "metadata": {},
   "outputs": [
    {
     "data": {
      "text/html": [
       "<div>\n",
       "<style scoped>\n",
       "    .dataframe tbody tr th:only-of-type {\n",
       "        vertical-align: middle;\n",
       "    }\n",
       "\n",
       "    .dataframe tbody tr th {\n",
       "        vertical-align: top;\n",
       "    }\n",
       "\n",
       "    .dataframe thead th {\n",
       "        text-align: right;\n",
       "    }\n",
       "</style>\n",
       "<table border=\"1\" class=\"dataframe\">\n",
       "  <thead>\n",
       "    <tr style=\"text-align: right;\">\n",
       "      <th></th>\n",
       "      <th>Salary</th>\n",
       "    </tr>\n",
       "    <tr>\n",
       "      <th>Years in Publishing</th>\n",
       "      <th></th>\n",
       "    </tr>\n",
       "  </thead>\n",
       "  <tbody>\n",
       "    <tr>\n",
       "      <th>1.0</th>\n",
       "      <td>23681.508475</td>\n",
       "    </tr>\n",
       "    <tr>\n",
       "      <th>2.0</th>\n",
       "      <td>25418.247863</td>\n",
       "    </tr>\n",
       "    <tr>\n",
       "      <th>3.0</th>\n",
       "      <td>26261.206667</td>\n",
       "    </tr>\n",
       "    <tr>\n",
       "      <th>4.0</th>\n",
       "      <td>29266.782895</td>\n",
       "    </tr>\n",
       "    <tr>\n",
       "      <th>5.0</th>\n",
       "      <td>30315.476190</td>\n",
       "    </tr>\n",
       "  </tbody>\n",
       "</table>\n",
       "</div>"
      ],
      "text/plain": [
       "                           Salary\n",
       "Years in Publishing              \n",
       "1.0                  23681.508475\n",
       "2.0                  25418.247863\n",
       "3.0                  26261.206667\n",
       "4.0                  29266.782895\n",
       "5.0                  30315.476190"
      ]
     },
     "execution_count": 102,
     "metadata": {},
     "output_type": "execute_result"
    }
   ],
   "source": [
    "# Pivot table for average salary and average years in publishing for sexual orientation\n",
    "pd.pivot_table(ukpub, index='Years in Publishing', \n",
    "                       values=['Salary']).sort_index().head()"
   ]
  },
  {
   "cell_type": "code",
   "execution_count": 103,
   "metadata": {},
   "outputs": [
    {
     "data": {
      "image/png": "[encoded data removed]",
      "text/plain": [
       "<Figure size 432x288 with 1 Axes>"
      ]
     },
     "metadata": {
      "needs_background": "light"
     },
     "output_type": "display_data"
    }
   ],
   "source": [
    "# Plot graph showing mean salary amount for Each year or Years in Publishing\n",
    "yip_salary = pd.pivot_table(ukpub, index='Years in Publishing', values='Salary').sort_values('Salary', ascending=False)\n",
    "sns.lineplot(x=yip_salary.index, y=\"Salary\", data=yip_salary);"
   ]
  },
  {
   "cell_type": "markdown",
   "metadata": {},
   "source": [
    "Here we can see that after around the 15 year mark for years in publishing, the linear relationship starts to break down and becomes more unstable. This is consistent to what we saw in our regression plot earlier. This could mean that there is steady career progression up until around 15 years in the industry at which point people either take a lower paid role or a much higher paid role. However, we also have to remember that there may also be macroeconomic factors, such as financial crises, that may explain this pattern. "
   ]
  },
  {
   "cell_type": "code",
   "execution_count": 104,
   "metadata": {},
   "outputs": [
    {
     "data": {
      "image/png": "[encoded data removed]",
      "text/plain": [
       "<Figure size 720x720 with 1 Axes>"
      ]
     },
     "metadata": {
      "needs_background": "light"
     },
     "output_type": "display_data"
    }
   ],
   "source": [
    "# Word Cloud for Job Titles\n",
    "from wordcloud import WordCloud, STOPWORDS, ImageColorGenerator\n",
    "\n",
    "# Set up text\n",
    "text = \" \".join(title for title in ukpub['Job Title'])\n",
    "\n",
    "# Generate a word cloud image\n",
    "wordcloud = WordCloud(stopwords=STOPWORDS, random_state=21, background_color=\"white\", width=600, height=300)\n",
    "wordcloud.generate(text)\n",
    "\n",
    "# Display the generated image:\n",
    "plt.figure(figsize=[10,10])\n",
    "plt.imshow(wordcloud, interpolation='bilinear')\n",
    "plt.axis(\"off\")\n",
    "plt.show()"
   ]
  },
  {
   "cell_type": "markdown",
   "metadata": {},
   "source": [
    "From the wordcloud of job titles, it appears that people mostly occupy either assistant or senior positions, however, as this is a small dataset, it could just be that this is only reflective of the small sample size."
   ]
  },
  {
   "cell_type": "markdown",
   "metadata": {},
   "source": [
    "### Model Building"
   ]
  },
  {
   "cell_type": "markdown",
   "metadata": {},
   "source": [
    "#### Using sklearn"
   ]
  },
  {
   "cell_type": "code",
   "execution_count": null,
   "metadata": {},
   "outputs": [],
   "source": [
    "# Top 0.05% and bottom 0.05% removed\n",
    "uk_pub_final = uk_pub_outliers.drop(['Job Title'], axis=1)"
   ]
  },
  {
   "cell_type": "code",
   "execution_count": null,
   "metadata": {},
   "outputs": [],
   "source": [
    "# Only top 0.05% removed\n",
    "uk_pub_final2 = uk_pub_outliers2.drop(['Job Title'], axis=1)"
   ]
  },
  {
   "cell_type": "code",
   "execution_count": null,
   "metadata": {},
   "outputs": [],
   "source": [
    "from sklearn.model_selection import train_test_split\n",
    "from sklearn.linear_model import LinearRegression\n",
    "from sklearn.metrics import mean_squared_error, mean_absolute_error\n",
    "import math"
   ]
  },
  {
   "cell_type": "code",
   "execution_count": null,
   "metadata": {},
   "outputs": [],
   "source": [
    "# Simple linear regression\n",
    "X1 = uk_pub_final['Years in Publishing'].values.reshape(-1,1)\n",
    "y1 = uk_pub_final['Salary'].values.reshape(-1,1)\n",
    "\n",
    "X1b = uk_pub_final2['Years in Publishing'].values.reshape(-1,1)\n",
    "y1b = uk_pub_final2['Salary'].values.reshape(-1,1)"
   ]
  },
  {
   "cell_type": "code",
   "execution_count": null,
   "metadata": {},
   "outputs": [],
   "source": [
    "# Create train/test split\n",
    "X_train1, X_test1, y_train1, y_test1 = train_test_split(X1, y1, test_size=0.2, random_state=0)\n",
    "X_train1b, X_test1b, y_train1b, y_test1b = train_test_split(X1b, y1b, test_size=0.2, random_state=0)"
   ]
  },
  {
   "cell_type": "code",
   "execution_count": null,
   "metadata": {},
   "outputs": [],
   "source": [
    "# Create model and fit to the training data\n",
    "reg = LinearRegression()\n",
    "reg.fit(X_train1, y_train1)\n",
    "print(reg.score(X_train1, y_train1))\n",
    "print(reg.coef_)\n",
    "y_hat1 = reg.predict(X_train1)\n",
    "print()\n",
    "regb = LinearRegression()\n",
    "regb.fit(X_train1b, y_train1b)\n",
    "print(regb.score(X_train1b, y_train1b))\n",
    "print(regb.coef_)\n",
    "y_hat1b = regb.predict(X_train1b)"
   ]
  },
  {
   "cell_type": "code",
   "execution_count": null,
   "metadata": {
    "scrolled": false
   },
   "outputs": [],
   "source": [
    "# Plot results for predictions of training data\n",
    "plt.scatter(X_train1, y_train1)\n",
    "plt.plot(X_train1, y_hat1, linewidth=4, color='red')\n",
    "plt.show()"
   ]
  },
  {
   "cell_type": "code",
   "execution_count": null,
   "metadata": {},
   "outputs": [],
   "source": [
    "# Plot results for predictions of training data - uk_pub_final2\n",
    "plt.scatter(X_train1b, y_train1b, color='grey')\n",
    "plt.plot(X_train1b, y_hat1b, linewidth=4, color='green')\n",
    "plt.show()"
   ]
  },
  {
   "cell_type": "code",
   "execution_count": null,
   "metadata": {},
   "outputs": [],
   "source": [
    "# Plot results for predictions of test data\n",
    "y_hat_test1 = reg.predict(X_test1)\n",
    "plt.scatter(X_test1, y_test1)\n",
    "plt.plot(X_test1, y_hat_test1, linewidth=4, color='red')\n",
    "plt.show()"
   ]
  },
  {
   "cell_type": "code",
   "execution_count": null,
   "metadata": {},
   "outputs": [],
   "source": [
    "# Plot results for predictions of test data - uk_pub_final2\n",
    "y_hat_test1b = regb.predict(X_test1b)\n",
    "plt.scatter(X_test1b, y_test1b, color='grey')\n",
    "plt.plot(X_test1b, y_hat_test1b, linewidth=4, color='green')\n",
    "plt.show()"
   ]
  },
  {
   "cell_type": "code",
   "execution_count": null,
   "metadata": {},
   "outputs": [],
   "source": [
    "# Checking the residual errors of the model\n",
    "mae = mean_absolute_error(y_hat_test1, y_test1)\n",
    "rmse = math.sqrt(mean_squared_error(y_hat_test1, y_test1))\n",
    "print(f'MAE: {mae}')\n",
    "print(f'RMSE: {rmse}')"
   ]
  },
  {
   "cell_type": "code",
   "execution_count": null,
   "metadata": {},
   "outputs": [],
   "source": [
    "# Check mean of residuals - May not need this\n",
    "residuals = y_test_1.values-y_hat_test_1\n",
    "mean_residuals = np.mean(residuals)\n",
    "print(\"Mean of Residuals {}\".format(mean_residuals))"
   ]
  },
  {
   "cell_type": "code",
   "execution_count": null,
   "metadata": {},
   "outputs": [],
   "source": [
    "# Plot residual errors - might need to do this on sklearn model - may not need this\n",
    "resid = y_test_1 - y_hat_test_1\n",
    "resid = pd.Series(resid)\n",
    "plt.scatter(y_hat_test_1, resid)\n",
    "plt.hlines(0)"
   ]
  },
  {
   "cell_type": "code",
   "execution_count": null,
   "metadata": {},
   "outputs": [],
   "source": [
    "# Checking the model's normality of residuals (Q-Q Plot) - might not need this\n",
    "from scipy import stats\n",
    "stats.probplot(reg.resid, dist=\"norm\", plot=plt)\n",
    "plt.title(\"Model Residuals Q-Q Plot\")"
   ]
  },
  {
   "cell_type": "code",
   "execution_count": null,
   "metadata": {},
   "outputs": [],
   "source": [
    "# Checking for homoscedasticity\n",
    "sns.scatterplot(y_hat_test_1,residuals)\n",
    "plt.xlabel('y_pred/predicted values')\n",
    "plt.ylabel('Residuals')\n",
    "plt.ylim(-10,10)\n",
    "plt.xlim(0,26)\n",
    "sns.lineplot([0,26],[0,0],color='blue')\n",
    "plt.title('Residuals vs fitted values plot for homoscedasticity check')"
   ]
  },
  {
   "cell_type": "code",
   "execution_count": null,
   "metadata": {},
   "outputs": [],
   "source": [
    "# Check for normality of error terms/residuals\n",
    "sns.distplot(residuals,kde=True)\n",
    "plt.title('Normality of error terms/residuals')"
   ]
  },
  {
   "cell_type": "markdown",
   "metadata": {},
   "source": [
    "#### Using statsmodels"
   ]
  },
  {
   "cell_type": "code",
   "execution_count": null,
   "metadata": {},
   "outputs": [],
   "source": [
    "import statsmodels.api as sm\n",
    "from statsmodels.tools.tools import add_constant"
   ]
  },
  {
   "cell_type": "code",
   "execution_count": null,
   "metadata": {},
   "outputs": [],
   "source": [
    "# Separate independent and dependent variable\n",
    "X1b = uk_pub_final['Years in Publishing']\n",
    "y1b = uk_pub_final['Salary']"
   ]
  },
  {
   "cell_type": "code",
   "execution_count": null,
   "metadata": {},
   "outputs": [],
   "source": [
    "# Add constant\n",
    "X1b = add_constant(X1b)"
   ]
  },
  {
   "cell_type": "code",
   "execution_count": null,
   "metadata": {},
   "outputs": [],
   "source": [
    "# Create train/test split\n",
    "X_train1b, X_test1b, y_train1b, y_test1b = train_test_split(X1b, y1b, test_size=0.2, random_state=0)"
   ]
  },
  {
   "cell_type": "code",
   "execution_count": null,
   "metadata": {},
   "outputs": [],
   "source": [
    "# Create and fit sm model\n",
    "reg_sm1b = sm.OLS(y_train1b, X_train1b).fit()\n",
    "print(reg_sm1b.summary())"
   ]
  },
  {
   "cell_type": "code",
   "execution_count": null,
   "metadata": {},
   "outputs": [],
   "source": [
    "# Multiple Linear Regression\n",
    "from statsmodels.stats.outliers_influence import variance_inflation_factor"
   ]
  },
  {
   "cell_type": "code",
   "execution_count": null,
   "metadata": {},
   "outputs": [],
   "source": [
    "# Separate independent variables from dependent variables\n",
    "X2 = uk_pub_final.drop(['Salary'], axis=1)\n",
    "y2 = uk_pub_final['Salary']"
   ]
  },
  {
   "cell_type": "code",
   "execution_count": null,
   "metadata": {},
   "outputs": [],
   "source": [
    "# Create dummy variables for categorical columns (automatically detects categorical variables)\n",
    "X2 = pd.get_dummies(X2, drop_first=True)\n",
    "\n",
    "# # or you can state explicitly which columns to create dummies from\n",
    "# dummy_cols = ['Employment Status', 'Race / Ethnicity', 'Gender Identity', 'Sexual Orientation']\n",
    "# X2 = pd.get_dummies(X2, columns=dummy_cols, drop_first=True)\n",
    "\n",
    "# Add constant\n",
    "X2 = add_constant(X2)"
   ]
  },
  {
   "cell_type": "code",
   "execution_count": null,
   "metadata": {},
   "outputs": [],
   "source": [
    "# Check VIF for determing if we have multicollinearity amongst the independent variables\n",
    "vif = pd.DataFrame()\n",
    "vif[\"Features\"] = X2.columns\n",
    "vif[\"VIF\"] = [variance_inflation_factor(X2.values, i) for i in range(X2.shape[1])]\n",
    "vif"
   ]
  },
  {
   "cell_type": "code",
   "execution_count": null,
   "metadata": {},
   "outputs": [],
   "source": [
    "# Create train/test split\n",
    "X_train2, X_test2, y_train2, y_test2 = train_test_split(X2, y2, test_size=0.2, random_state=0)"
   ]
  },
  {
   "cell_type": "code",
   "execution_count": null,
   "metadata": {},
   "outputs": [],
   "source": [
    "# Create and fit sm model\n",
    "reg_sm2 = sm.OLS(y_train2, X_train2).fit()\n",
    "print(reg_sm2.summary())"
   ]
  },
  {
   "cell_type": "code",
   "execution_count": null,
   "metadata": {},
   "outputs": [],
   "source": [
    "# Run again removing the features that were not significant\n",
    "not_significant = [\n",
    "    'Employment Status_Full-time',\n",
    "    'Employment Status_Other',\n",
    "    'Race / Ethnicity_Black',\n",
    "    'Race / Ethnicity_Mixed',\n",
    "    'Race / Ethnicity_Unknown',\n",
    "    'Race / Ethnicity_White',\n",
    "    'Gender Identity_Non-binary',\n",
    "    'Gender Identity_Prefer not to say',\n",
    "    'Gender Identity_Woman',\n",
    "    'Sexual Orientation_Straight',\n",
    "]\n",
    "X3 = X2.drop(not_significant, axis=1)\n",
    "y3 = uk_pub_final['Salary']"
   ]
  },
  {
   "cell_type": "code",
   "execution_count": null,
   "metadata": {},
   "outputs": [],
   "source": [
    "# Check VIF for determing if we have multicollinearity amongst the independent variables\n",
    "vif = pd.DataFrame()\n",
    "vif[\"Features\"] = X3.columns\n",
    "vif[\"VIF\"] = [variance_inflation_factor(X3.values, i) for i in range(X3.shape[1])]\n",
    "vif\n",
    "\n",
    "# Or create VIF dataframe like this\n",
    "# pd.DataFrame([variance_inflation_factor(X.values, i) \n",
    "#                for i in range(X.shape[1])], \n",
    "#                index=X.columns, columns=['VIF'])"
   ]
  },
  {
   "cell_type": "code",
   "execution_count": null,
   "metadata": {},
   "outputs": [],
   "source": [
    "# Create train/test split\n",
    "X_train3, X_test3, y_train3, y_test3 = train_test_split(X3, y3, test_size=0.2, random_state=0)"
   ]
  },
  {
   "cell_type": "code",
   "execution_count": null,
   "metadata": {
    "scrolled": false
   },
   "outputs": [],
   "source": [
    "# Create and fit sm model\n",
    "reg_sm3 = sm.OLS(y_train3, X_train3).fit()\n",
    "print(reg_sm3.summary())"
   ]
  },
  {
   "cell_type": "code",
   "execution_count": null,
   "metadata": {},
   "outputs": [],
   "source": [
    "# Checking the model's normality of residuals (Q-Q Plot) - might not need this\n",
    "from scipy import stats\n",
    "stats.probplot(regsm3.resid, dist=\"norm\", plot=plt)\n",
    "plt.title(\"Model Residuals Q-Q Plot\")"
   ]
  },
  {
   "cell_type": "code",
   "execution_count": null,
   "metadata": {},
   "outputs": [],
   "source": [
    "# Create prediction using model and analyse residual error\n",
    "y_hat3 = reg_sm3.predict(X_test3)\n",
    "rmse3 = math.sqrt(mean_squared_error(y_hat3, y_test3))\n",
    "print(f'RMSE: {rmse3}')\n",
    "plt.scatter(y_hat3, y_test3);"
   ]
  },
  {
   "cell_type": "code",
   "execution_count": null,
   "metadata": {},
   "outputs": [],
   "source": [
    "# 5-Fold Cross Validation\n",
    "from sklearn.model_selection import cross_val_score\n",
    "X4 = X3.copy()\n",
    "y4 = y3.copy()"
   ]
  },
  {
   "cell_type": "code",
   "execution_count": null,
   "metadata": {},
   "outputs": [],
   "source": [
    "# Create model and run cross validation\n",
    "reg4 = LinearRegression()\n",
    "scores = cross_val_score(reg4, X4, y4, cv=5, scoring='neg_mean_squared_error')\n",
    "np.mean(np.sqrt(np.abs(scores)))"
   ]
  },
  {
   "cell_type": "code",
   "execution_count": null,
   "metadata": {},
   "outputs": [],
   "source": [
    "# Run cross validation using shuffled sets\n",
    "from sklearn.model_selection import ShuffleSplit\n",
    "cv = ShuffleSplit(n_splits=5, test_size=0.2, random_state=0)\n",
    "scores2 = cross_val_score(reg4, X4, y4, cv=cv, scoring='neg_mean_squared_error')\n",
    "np.mean(np.sqrt(np.abs(scores2)))"
   ]
  },
  {
   "cell_type": "markdown",
   "metadata": {},
   "source": [
    "#### Model write up\n",
    "\n",
    "Multiple regression analysis was used to test if age, BMI, sex (female), smoking status, number of children, and region significantly predicted the cost of insurance premiums. The results of the regression indicated the nine predictors explained 75.1% of the variance (R2= 0.75, F(8,1329)= 298.4, p< 0.01). The predicted insurance premium charge is equal to -12,070 + 256.86(age) + 339.19(bmi) + 131.31(sex_female) + 23,850(smoker_yes) + 474.50(number of children) – 352.96(region_northwest) – 1,035.02(region_southeast) – 960.05(region_soughtwest), where sex_female is coded as 1= female, 0= male; smoker_yes is coded as 1= smoker, 0= non-smoker; region_[location] is coded as 1= in region, 0= not in region. All of the independent variables used in the model were significant predictors of insurance premium charge, except for sex"
   ]
  },
  {
   "cell_type": "code",
   "execution_count": null,
   "metadata": {},
   "outputs": [],
   "source": []
  }
 ],
 "metadata": {
  "kernelspec": {
   "display_name": "Python 3",
   "language": "python",
   "name": "python3"
  },
  "language_info": {
   "codemirror_mode": {
    "name": "ipython",
    "version": 3
   },
   "file_extension": ".py",
   "mimetype": "text/x-python",
   "name": "python",
   "nbconvert_exporter": "python",
   "pygments_lexer": "ipython3",
   "version": "3.8.5"
  }
 },
 "nbformat": 4,
 "nbformat_minor": 4
}
