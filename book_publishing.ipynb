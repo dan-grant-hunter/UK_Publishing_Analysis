{
 "cells": [
  {
   "cell_type": "markdown",
   "metadata": {},
   "source": [
    "# Book Publishing"
   ]
  },
  {
   "cell_type": "code",
   "execution_count": 1,
   "metadata": {},
   "outputs": [],
   "source": [
    "# Imports\n",
    "import pandas as pd\n",
    "import numpy as np\n",
    "import seaborn as sns\n",
    "import matplotlib.pyplot as plt\n",
    "%matplotlib inline"
   ]
  },
  {
   "cell_type": "code",
   "execution_count": 2,
   "metadata": {},
   "outputs": [],
   "source": [
    "# Read data\n",
    "uk_pub = pd.read_csv(\"data/Book Publishing Salary Transparency (UK) - Form responses 1.csv\")\n",
    "pub = pd.read_csv(\"data/#PUBLISHINGPAIDME - Form Responses 1.csv\")"
   ]
  },
  {
   "cell_type": "markdown",
   "metadata": {},
   "source": [
    "## UK Publishing"
   ]
  },
  {
   "cell_type": "markdown",
   "metadata": {},
   "source": [
    "#### Checking Data"
   ]
  },
  {
   "cell_type": "code",
   "execution_count": 4,
   "metadata": {},
   "outputs": [
    {
     "data": {
      "text/html": [
       "<div>\n",
       "<style scoped>\n",
       "    .dataframe tbody tr th:only-of-type {\n",
       "        vertical-align: middle;\n",
       "    }\n",
       "\n",
       "    .dataframe tbody tr th {\n",
       "        vertical-align: top;\n",
       "    }\n",
       "\n",
       "    .dataframe thead th {\n",
       "        text-align: right;\n",
       "    }\n",
       "</style>\n",
       "<table border=\"1\" class=\"dataframe\">\n",
       "  <thead>\n",
       "    <tr style=\"text-align: right;\">\n",
       "      <th></th>\n",
       "      <th>Salary</th>\n",
       "      <th>Employment Status</th>\n",
       "      <th>Race / Ethnicity</th>\n",
       "      <th>Gender Identity</th>\n",
       "      <th>Sexual Orientation</th>\n",
       "      <th>Years in Pubishing</th>\n",
       "      <th>Years of Overall Experience</th>\n",
       "    </tr>\n",
       "  </thead>\n",
       "  <tbody>\n",
       "    <tr>\n",
       "      <th>0</th>\n",
       "      <td>£36k</td>\n",
       "      <td>Full-time</td>\n",
       "      <td>White</td>\n",
       "      <td>Woman (cisgender)</td>\n",
       "      <td>Straight</td>\n",
       "      <td>3</td>\n",
       "      <td>9</td>\n",
       "    </tr>\n",
       "    <tr>\n",
       "      <th>1</th>\n",
       "      <td>23,000 per annum</td>\n",
       "      <td>Full-time</td>\n",
       "      <td>Black african</td>\n",
       "      <td>Woman (cisgender)</td>\n",
       "      <td>Bisexual</td>\n",
       "      <td>2</td>\n",
       "      <td>2</td>\n",
       "    </tr>\n",
       "    <tr>\n",
       "      <th>2</th>\n",
       "      <td>£23,000</td>\n",
       "      <td>Full-time</td>\n",
       "      <td>British Indian</td>\n",
       "      <td>Woman (cisgender)</td>\n",
       "      <td>Straight</td>\n",
       "      <td>1</td>\n",
       "      <td>4</td>\n",
       "    </tr>\n",
       "    <tr>\n",
       "      <th>3</th>\n",
       "      <td>£28,000</td>\n",
       "      <td>Full-time</td>\n",
       "      <td>White British</td>\n",
       "      <td>Woman (cisgender)</td>\n",
       "      <td>Pansexual</td>\n",
       "      <td>3</td>\n",
       "      <td>6</td>\n",
       "    </tr>\n",
       "    <tr>\n",
       "      <th>4</th>\n",
       "      <td>£115 per day</td>\n",
       "      <td>Contract</td>\n",
       "      <td>British Indian</td>\n",
       "      <td>Woman (cisgender)</td>\n",
       "      <td>Straight</td>\n",
       "      <td>7</td>\n",
       "      <td>10</td>\n",
       "    </tr>\n",
       "  </tbody>\n",
       "</table>\n",
       "</div>"
      ],
      "text/plain": [
       "             Salary Employment Status Race / Ethnicity    Gender Identity  \\\n",
       "0              £36k         Full-time            White  Woman (cisgender)   \n",
       "1  23,000 per annum         Full-time   Black african   Woman (cisgender)   \n",
       "2           £23,000         Full-time   British Indian  Woman (cisgender)   \n",
       "3           £28,000         Full-time    White British  Woman (cisgender)   \n",
       "4     £115 per day           Contract  British Indian   Woman (cisgender)   \n",
       "\n",
       "  Sexual Orientation Years in Pubishing Years of Overall Experience  \n",
       "0           Straight                  3                           9  \n",
       "1           Bisexual                  2                           2  \n",
       "2           Straight                  1                           4  \n",
       "3          Pansexual                  3                           6  \n",
       "4           Straight                  7                          10  "
      ]
     },
     "execution_count": 4,
     "metadata": {},
     "output_type": "execute_result"
    }
   ],
   "source": [
    "uk_pub.head()"
   ]
  },
  {
   "cell_type": "code",
   "execution_count": 5,
   "metadata": {},
   "outputs": [
    {
     "name": "stdout",
     "output_type": "stream",
     "text": [
      "<class 'pandas.core.frame.DataFrame'>\n",
      "RangeIndex: 1021 entries, 0 to 1020\n",
      "Data columns (total 7 columns):\n",
      " #   Column                       Non-Null Count  Dtype \n",
      "---  ------                       --------------  ----- \n",
      " 0   Salary                       1021 non-null   object\n",
      " 1   Employment Status            1021 non-null   object\n",
      " 2   Race / Ethnicity             1011 non-null   object\n",
      " 3   Gender Identity              1020 non-null   object\n",
      " 4   Sexual Orientation           1008 non-null   object\n",
      " 5   Years in Pubishing           1008 non-null   object\n",
      " 6   Years of Overall Experience  986 non-null    object\n",
      "dtypes: object(7)\n",
      "memory usage: 56.0+ KB\n"
     ]
    }
   ],
   "source": [
    "uk_pub.info()"
   ]
  },
  {
   "cell_type": "code",
   "execution_count": 6,
   "metadata": {},
   "outputs": [
    {
     "data": {
      "text/plain": [
       "(1021, 7)"
      ]
     },
     "execution_count": 6,
     "metadata": {},
     "output_type": "execute_result"
    }
   ],
   "source": [
    "uk_pub.shape"
   ]
  },
  {
   "cell_type": "markdown",
   "metadata": {},
   "source": [
    "#### Cleaning Data"
   ]
  },
  {
   "cell_type": "code",
   "execution_count": null,
   "metadata": {},
   "outputs": [],
   "source": [
    "# Drop all columns that we will not be working with\n",
    "uk_pub = uk_pub.loc[:, 'Salary':'Years of Overall Experience']"
   ]
  },
  {
   "cell_type": "code",
   "execution_count": 7,
   "metadata": {
    "scrolled": true
   },
   "outputs": [
    {
     "data": {
      "text/plain": [
       "Salary                          0\n",
       "Employment Status               0\n",
       "Race / Ethnicity               10\n",
       "Gender Identity                 1\n",
       "Sexual Orientation             13\n",
       "Years in Pubishing             13\n",
       "Years of Overall Experience    35\n",
       "dtype: int64"
      ]
     },
     "execution_count": 7,
     "metadata": {},
     "output_type": "execute_result"
    }
   ],
   "source": [
    "# Check missing values\n",
    "uk_pub.isnull().sum()"
   ]
  },
  {
   "cell_type": "code",
   "execution_count": null,
   "metadata": {},
   "outputs": [],
   "source": [
    "# Rename misspelling in column name\n",
    "uk_pub.rename(columns={'Years in Pubishing':'Years in Publishing'}, inplace=True)"
   ]
  },
  {
   "cell_type": "code",
   "execution_count": 8,
   "metadata": {},
   "outputs": [
    {
     "data": {
      "image/png": "[encoded data removed]",
      "text/plain": [
       "<Figure size 720x288 with 1 Axes>"
      ]
     },
     "metadata": {
      "needs_background": "light"
     },
     "output_type": "display_data"
    }
   ],
   "source": [
    "# Visualise missing data\n",
    "fig, ax = plt.subplots(figsize=(10,4))\n",
    "ax = sns.heatmap(uk_pub.isnull(),yticklabels=False,cbar=False,cmap='plasma')"
   ]
  },
  {
   "cell_type": "code",
   "execution_count": 10,
   "metadata": {
    "scrolled": true
   },
   "outputs": [
    {
     "data": {
      "text/html": [
       "<div>\n",
       "<style scoped>\n",
       "    .dataframe tbody tr th:only-of-type {\n",
       "        vertical-align: middle;\n",
       "    }\n",
       "\n",
       "    .dataframe tbody tr th {\n",
       "        vertical-align: top;\n",
       "    }\n",
       "\n",
       "    .dataframe thead th {\n",
       "        text-align: right;\n",
       "    }\n",
       "</style>\n",
       "<table border=\"1\" class=\"dataframe\">\n",
       "  <thead>\n",
       "    <tr style=\"text-align: right;\">\n",
       "      <th></th>\n",
       "      <th>Salary</th>\n",
       "      <th>Employment Status</th>\n",
       "      <th>Race / Ethnicity</th>\n",
       "      <th>Gender Identity</th>\n",
       "      <th>Sexual Orientation</th>\n",
       "      <th>Years in Publishing</th>\n",
       "      <th>Years of Overall Experience</th>\n",
       "    </tr>\n",
       "  </thead>\n",
       "  <tbody>\n",
       "    <tr>\n",
       "      <th>0</th>\n",
       "      <td>£36k</td>\n",
       "      <td>Full-time</td>\n",
       "      <td>White</td>\n",
       "      <td>Woman (cisgender)</td>\n",
       "      <td>Straight</td>\n",
       "      <td>3</td>\n",
       "      <td>9</td>\n",
       "    </tr>\n",
       "    <tr>\n",
       "      <th>1</th>\n",
       "      <td>23,000 per annum</td>\n",
       "      <td>Full-time</td>\n",
       "      <td>Black african</td>\n",
       "      <td>Woman (cisgender)</td>\n",
       "      <td>Bisexual</td>\n",
       "      <td>2</td>\n",
       "      <td>2</td>\n",
       "    </tr>\n",
       "    <tr>\n",
       "      <th>2</th>\n",
       "      <td>£23,000</td>\n",
       "      <td>Full-time</td>\n",
       "      <td>British Indian</td>\n",
       "      <td>Woman (cisgender)</td>\n",
       "      <td>Straight</td>\n",
       "      <td>1</td>\n",
       "      <td>4</td>\n",
       "    </tr>\n",
       "    <tr>\n",
       "      <th>3</th>\n",
       "      <td>£28,000</td>\n",
       "      <td>Full-time</td>\n",
       "      <td>White British</td>\n",
       "      <td>Woman (cisgender)</td>\n",
       "      <td>Pansexual</td>\n",
       "      <td>3</td>\n",
       "      <td>6</td>\n",
       "    </tr>\n",
       "    <tr>\n",
       "      <th>4</th>\n",
       "      <td>£115 per day</td>\n",
       "      <td>Contract</td>\n",
       "      <td>British Indian</td>\n",
       "      <td>Woman (cisgender)</td>\n",
       "      <td>Straight</td>\n",
       "      <td>7</td>\n",
       "      <td>10</td>\n",
       "    </tr>\n",
       "  </tbody>\n",
       "</table>\n",
       "</div>"
      ],
      "text/plain": [
       "             Salary Employment Status Race / Ethnicity    Gender Identity  \\\n",
       "0              £36k         Full-time            White  Woman (cisgender)   \n",
       "1  23,000 per annum         Full-time   Black african   Woman (cisgender)   \n",
       "2           £23,000         Full-time   British Indian  Woman (cisgender)   \n",
       "3           £28,000         Full-time    White British  Woman (cisgender)   \n",
       "4     £115 per day           Contract  British Indian   Woman (cisgender)   \n",
       "\n",
       "  Sexual Orientation Years in Publishing Years of Overall Experience  \n",
       "0           Straight                   3                           9  \n",
       "1           Bisexual                   2                           2  \n",
       "2           Straight                   1                           4  \n",
       "3          Pansexual                   3                           6  \n",
       "4           Straight                   7                          10  "
      ]
     },
     "execution_count": 10,
     "metadata": {},
     "output_type": "execute_result"
    }
   ],
   "source": [
    "uk_pub.head()"
   ]
  },
  {
   "cell_type": "markdown",
   "metadata": {},
   "source": [
    "#### Years in Publishing Column"
   ]
  },
  {
   "cell_type": "code",
   "execution_count": 11,
   "metadata": {},
   "outputs": [],
   "source": [
    "# Replace all instances of 'Less than 1' to 0 in 'Years in Publishing' column\n",
    "uk_pub.loc[uk_pub['Years in Publishing'] == 'Less than 1', 'Years in Publishing'] = 0"
   ]
  },
  {
   "cell_type": "code",
   "execution_count": 12,
   "metadata": {},
   "outputs": [],
   "source": [
    "# Convert 'Years in Publishing' to numeric data type\n",
    "uk_pub['Years in Publishing'] = pd.to_numeric(uk_pub['Years in Publishing'], errors='coerce')"
   ]
  },
  {
   "cell_type": "code",
   "execution_count": 31,
   "metadata": {
    "scrolled": false
   },
   "outputs": [
    {
     "data": {
      "text/plain": [
       "4.0     155\n",
       "3.0     150\n",
       "5.0     126\n",
       "2.0     118\n",
       "7.0      75\n",
       "6.0      67\n",
       "1.0      61\n",
       "0.0      53\n",
       "8.0      52\n",
       "10.0     34\n",
       "9.0      25\n",
       "12.0     22\n",
       "11.0     20\n",
       "15.0     13\n",
       "14.0     12\n",
       "13.0     10\n",
       "20.0      8\n",
       "16.0      5\n",
       "18.0      4\n",
       "19.0      3\n",
       "21.0      2\n",
       "24.0      2\n",
       "25.0      1\n",
       "27.0      1\n",
       "26.0      1\n",
       "17.0      1\n",
       "Name: Years in Publishing, dtype: int64"
      ]
     },
     "execution_count": 31,
     "metadata": {},
     "output_type": "execute_result"
    }
   ],
   "source": [
    "# Check value counts for years in publishing\n",
    "uk_pub['Years in Publishing'].value_counts(dropna=False)"
   ]
  },
  {
   "cell_type": "code",
   "execution_count": 20,
   "metadata": {},
   "outputs": [
    {
     "data": {
      "image/png": "[encoded data removed]",
      "text/plain": [
       "<Figure size 432x288 with 1 Axes>"
      ]
     },
     "metadata": {
      "needs_background": "light"
     },
     "output_type": "display_data"
    }
   ],
   "source": [
    "uk_pub['Years in Publishing'].hist();"
   ]
  },
  {
   "cell_type": "code",
   "execution_count": 30,
   "metadata": {},
   "outputs": [
    {
     "data": {
      "image/png": "[encoded data removed]",
      "text/plain": [
       "<Figure size 432x288 with 1 Axes>"
      ]
     },
     "metadata": {
      "needs_background": "light"
     },
     "output_type": "display_data"
    }
   ],
   "source": [
    "uk_pub.boxplot(column=['Years in Publishing']);"
   ]
  },
  {
   "cell_type": "code",
   "execution_count": 26,
   "metadata": {},
   "outputs": [
    {
     "data": {
      "text/html": [
       "<div>\n",
       "<style scoped>\n",
       "    .dataframe tbody tr th:only-of-type {\n",
       "        vertical-align: middle;\n",
       "    }\n",
       "\n",
       "    .dataframe tbody tr th {\n",
       "        vertical-align: top;\n",
       "    }\n",
       "\n",
       "    .dataframe thead th {\n",
       "        text-align: right;\n",
       "    }\n",
       "</style>\n",
       "<table border=\"1\" class=\"dataframe\">\n",
       "  <thead>\n",
       "    <tr style=\"text-align: right;\">\n",
       "      <th></th>\n",
       "      <th>Years in Publishing</th>\n",
       "    </tr>\n",
       "  </thead>\n",
       "  <tbody>\n",
       "    <tr>\n",
       "      <th>count</th>\n",
       "      <td>1007.000000</td>\n",
       "    </tr>\n",
       "    <tr>\n",
       "      <th>mean</th>\n",
       "      <td>5.342602</td>\n",
       "    </tr>\n",
       "    <tr>\n",
       "      <th>std</th>\n",
       "      <td>4.129225</td>\n",
       "    </tr>\n",
       "    <tr>\n",
       "      <th>min</th>\n",
       "      <td>0.000000</td>\n",
       "    </tr>\n",
       "    <tr>\n",
       "      <th>25%</th>\n",
       "      <td>3.000000</td>\n",
       "    </tr>\n",
       "    <tr>\n",
       "      <th>50%</th>\n",
       "      <td>4.000000</td>\n",
       "    </tr>\n",
       "    <tr>\n",
       "      <th>75%</th>\n",
       "      <td>7.000000</td>\n",
       "    </tr>\n",
       "    <tr>\n",
       "      <th>max</th>\n",
       "      <td>27.000000</td>\n",
       "    </tr>\n",
       "  </tbody>\n",
       "</table>\n",
       "</div>"
      ],
      "text/plain": [
       "       Years in Publishing\n",
       "count          1007.000000\n",
       "mean              5.342602\n",
       "std               4.129225\n",
       "min               0.000000\n",
       "25%               3.000000\n",
       "50%               4.000000\n",
       "75%               7.000000\n",
       "max              27.000000"
      ]
     },
     "execution_count": 26,
     "metadata": {},
     "output_type": "execute_result"
    }
   ],
   "source": [
    "uk_pub[['Years in Publishing']].describe()"
   ]
  },
  {
   "cell_type": "code",
   "execution_count": 29,
   "metadata": {},
   "outputs": [],
   "source": [
    "# Due to the number of outliers we will fill the null values with median\n",
    "uk_pub['Years in Publishing'].fillna(uk_pub['Years in Publishing'].median(), inplace=True)"
   ]
  },
  {
   "cell_type": "code",
   "execution_count": null,
   "metadata": {},
   "outputs": [],
   "source": [
    "# Do I need to do anything to deal with the outliers?"
   ]
  },
  {
   "cell_type": "markdown",
   "metadata": {},
   "source": [
    "#### Years of Overall Experience Column"
   ]
  },
  {
   "cell_type": "code",
   "execution_count": 65,
   "metadata": {},
   "outputs": [
    {
     "data": {
      "text/plain": [
       "6.0     132\n",
       "5.0     123\n",
       "3.0     118\n",
       "4.0     112\n",
       "7.0     100\n",
       "10.0     66\n",
       "8.0      65\n",
       "2.0      55\n",
       "12.0     37\n",
       "9.0      35\n",
       "11.0     25\n",
       "1.0      25\n",
       "0.0      21\n",
       "14.0     20\n",
       "15.0     18\n",
       "13.0     15\n",
       "20.0      8\n",
       "19.0      6\n",
       "16.0      6\n",
       "17.0      6\n",
       "21.0      6\n",
       "18.0      4\n",
       "25.0      3\n",
       "23.0      2\n",
       "24.0      2\n",
       "26.0      2\n",
       "30.0      1\n",
       "28.0      1\n",
       "Name: Years of Overall Experience, dtype: int64"
      ]
     },
     "execution_count": 65,
     "metadata": {},
     "output_type": "execute_result"
    }
   ],
   "source": [
    "uk_pub['Years of Overall Experience'].value_counts(dropna=False)"
   ]
  },
  {
   "cell_type": "code",
   "execution_count": 42,
   "metadata": {},
   "outputs": [],
   "source": [
    "# Replace all instances of 'Less than 1' to 0 in 'Years in Publishing' column\n",
    "uk_pub.loc[uk_pub['Years of Overall Experience'] == 'Less than 1', 'Years of Overall Experience'] = 0"
   ]
  },
  {
   "cell_type": "code",
   "execution_count": 57,
   "metadata": {},
   "outputs": [
    {
     "data": {
      "text/html": [
       "<div>\n",
       "<style scoped>\n",
       "    .dataframe tbody tr th:only-of-type {\n",
       "        vertical-align: middle;\n",
       "    }\n",
       "\n",
       "    .dataframe tbody tr th {\n",
       "        vertical-align: top;\n",
       "    }\n",
       "\n",
       "    .dataframe thead th {\n",
       "        text-align: right;\n",
       "    }\n",
       "</style>\n",
       "<table border=\"1\" class=\"dataframe\">\n",
       "  <thead>\n",
       "    <tr style=\"text-align: right;\">\n",
       "      <th></th>\n",
       "      <th>Salary</th>\n",
       "      <th>Employment Status</th>\n",
       "      <th>Race / Ethnicity</th>\n",
       "      <th>Gender Identity</th>\n",
       "      <th>Sexual Orientation</th>\n",
       "      <th>Years in Publishing</th>\n",
       "      <th>Years of Overall Experience</th>\n",
       "    </tr>\n",
       "  </thead>\n",
       "  <tbody>\n",
       "  </tbody>\n",
       "</table>\n",
       "</div>"
      ],
      "text/plain": [
       "Empty DataFrame\n",
       "Columns: [Salary, Employment Status, Race / Ethnicity, Gender Identity, Sexual Orientation, Years in Publishing, Years of Overall Experience]\n",
       "Index: []"
      ]
     },
     "execution_count": 57,
     "metadata": {},
     "output_type": "execute_result"
    }
   ],
   "source": [
    "uk_pub.loc[uk_pub['Years of Overall Experience'] == 'More than 30']"
   ]
  },
  {
   "cell_type": "code",
   "execution_count": 56,
   "metadata": {},
   "outputs": [],
   "source": [
    "# Drop row where data is not numeric\n",
    "uk_pub.drop(uk_pub[uk_pub['Years of Overall Experience']  == 'More than 30'].index, inplace = True)"
   ]
  },
  {
   "cell_type": "code",
   "execution_count": 60,
   "metadata": {},
   "outputs": [],
   "source": [
    "# Convert 'Years in Publishing' to numeric data type\n",
    "uk_pub['Years of Overall Experience'] = pd.to_numeric(uk_pub['Years of Overall Experience'], errors='coerce')"
   ]
  },
  {
   "cell_type": "code",
   "execution_count": 62,
   "metadata": {},
   "outputs": [
    {
     "data": {
      "image/png": "[encoded data removed]",
      "text/plain": [
       "<Figure size 432x288 with 1 Axes>"
      ]
     },
     "metadata": {
      "needs_background": "light"
     },
     "output_type": "display_data"
    }
   ],
   "source": [
    "uk_pub['Years of Overall Experience'].hist();"
   ]
  },
  {
   "cell_type": "code",
   "execution_count": 63,
   "metadata": {},
   "outputs": [
    {
     "data": {
      "image/png": "[encoded data removed]",
      "text/plain": [
       "<Figure size 432x288 with 1 Axes>"
      ]
     },
     "metadata": {
      "needs_background": "light"
     },
     "output_type": "display_data"
    }
   ],
   "source": [
    "uk_pub.boxplot(column=['Years of Overall Experience']);"
   ]
  },
  {
   "cell_type": "code",
   "execution_count": 64,
   "metadata": {},
   "outputs": [],
   "source": [
    "# Due to the number of outliers we will fill the null values with median\n",
    "uk_pub['Years of Overall Experience'].fillna(uk_pub['Years of Overall Experience'].median(), inplace=True)"
   ]
  },
  {
   "cell_type": "code",
   "execution_count": null,
   "metadata": {},
   "outputs": [],
   "source": [
    "# Do I need to do anything to deal with the outliers?"
   ]
  },
  {
   "cell_type": "code",
   "execution_count": null,
   "metadata": {},
   "outputs": [],
   "source": []
  },
  {
   "cell_type": "markdown",
   "metadata": {},
   "source": [
    "#### Gender Identity Column"
   ]
  },
  {
   "cell_type": "code",
   "execution_count": 38,
   "metadata": {},
   "outputs": [
    {
     "data": {
      "text/plain": [
       "Woman (cisgender)    884\n",
       "Man (cisgender)      110\n",
       "Prefer not to say     14\n",
       "Non-binary             7\n",
       "Name: Gender Identity, dtype: int64"
      ]
     },
     "execution_count": 38,
     "metadata": {},
     "output_type": "execute_result"
    }
   ],
   "source": [
    "# Check value counts of Gender Identity\n",
    "uk_pub['Gender Identity'].value_counts()"
   ]
  },
  {
   "cell_type": "code",
   "execution_count": 35,
   "metadata": {},
   "outputs": [],
   "source": [
    "uk_pub = uk_pub.groupby('Gender Identity').filter(lambda x: len(x) > 5)"
   ]
  },
  {
   "cell_type": "code",
   "execution_count": 39,
   "metadata": {},
   "outputs": [],
   "source": [
    "# Remove '(cisgender)' from 'Woman' and 'Man'\n",
    "uk_pub.loc[uk_pub['Gender Identity'] == 'Woman (cisgender)', 'Gender Identity'] = 'Woman'\n",
    "uk_pub.loc[uk_pub['Gender Identity'] == 'Man (cisgender)', 'Gender Identity'] = 'Man'"
   ]
  },
  {
   "cell_type": "code",
   "execution_count": 40,
   "metadata": {},
   "outputs": [
    {
     "data": {
      "text/plain": [
       "Woman                884\n",
       "Man                  110\n",
       "Prefer not to say     14\n",
       "Non-binary             7\n",
       "Name: Gender Identity, dtype: int64"
      ]
     },
     "execution_count": 40,
     "metadata": {},
     "output_type": "execute_result"
    }
   ],
   "source": [
    "# Check value counts of Gender Identity\n",
    "uk_pub['Gender Identity'].value_counts()"
   ]
  },
  {
   "cell_type": "code",
   "execution_count": null,
   "metadata": {},
   "outputs": [],
   "source": [
    "# Need to encode these using pd.get_dummies later on"
   ]
  },
  {
   "cell_type": "markdown",
   "metadata": {},
   "source": [
    "#### Sexual Orientation Column"
   ]
  },
  {
   "cell_type": "code",
   "execution_count": 82,
   "metadata": {},
   "outputs": [
    {
     "data": {
      "text/plain": [
       "Straight    745\n",
       "LGBTQ       269\n",
       "Name: Sexual Orientation, dtype: int64"
      ]
     },
     "execution_count": 82,
     "metadata": {},
     "output_type": "execute_result"
    }
   ],
   "source": [
    "uk_pub['Sexual Orientation'].value_counts(dropna=False)"
   ]
  },
  {
   "cell_type": "code",
   "execution_count": 79,
   "metadata": {},
   "outputs": [],
   "source": [
    "# Fill null values with mode\n",
    "uk_pub['Sexual Orientation'].fillna(uk_pub['Sexual Orientation'].mode()[0], inplace=True)"
   ]
  },
  {
   "cell_type": "code",
   "execution_count": 81,
   "metadata": {},
   "outputs": [],
   "source": [
    "# Group all non-straight into a single category\n",
    "uk_pub.loc[uk_pub['Sexual Orientation'] != 'Straight', 'Sexual Orientation'] = 'LGBTQ'"
   ]
  },
  {
   "cell_type": "markdown",
   "metadata": {},
   "source": [
    "#### Race/Ethnicity Column"
   ]
  },
  {
   "cell_type": "code",
   "execution_count": 84,
   "metadata": {
    "scrolled": false
   },
   "outputs": [
    {
     "data": {
      "text/plain": [
       "array(['White', 'Black african ', 'British Indian', 'White British',\n",
       "       'British Indian ', 'White British ', 'White Australian',\n",
       "       'Black Caribbean ', 'Pakistani', 'Caucasian ', 'Black British ',\n",
       "       'Black', 'White/Irish', 'Caucasian', 'White ', 'Asian',\n",
       "       'Caucasian / Greek', 'Chinese', 'White, British',\n",
       "       'White (Not British)', 'White/irish', 'White/British',\n",
       "       'British Asian', 'Mixed (White British and British Indian)',\n",
       "       'Mixed', 'Black/African-British', 'White (other)',\n",
       "       'Mixed race - White and East Asian', 'white', 'White European',\n",
       "       'South Asian ', 'White/European', 'South Asian', 'white british',\n",
       "       'Mixed white and asian', 'White british', 'Black British',\n",
       "       'Mixed - White/Asian', 'South-Asian', 'white (other)',\n",
       "       'Mixed (White and Asian)', 'Mixed Afro/Indo Caribbean and White',\n",
       "       'White/Irish ', 'British Asian ', 'South Asian origin',\n",
       "       'British Asian - Indian ', 'Black African ',\n",
       "       'British Asian - Indian', 'White/Britsh',\n",
       "       'Mixed - white and brown', 'White, American', 'White, non-British',\n",
       "       'White (British)', 'Not white', 'Caucasian (Latinx)',\n",
       "       'White/Asian', 'Mixed white/south Asian ', 'White - Irish', nan,\n",
       "       'Mixed Race', 'White (not British)', 'British Asian (South Asian)',\n",
       "       'White, Not British', 'White (European)', 'Mixed - Indian/White',\n",
       "       'White Brit', 'Mixed (British and Asian) ', 'White Other',\n",
       "       'White European (mixed British/French) ',\n",
       "       'Mixed Black Caribbean / White', 'Mixed - Asian and White',\n",
       "       'White European ', 'white ', 'British Bangladeshi ', 'Asian ',\n",
       "       'White Irish', 'Black African', 'White non British',\n",
       "       'white dual nationality', 'Mixed race', 'White/Other', 'BAME',\n",
       "       'White and Black Caribbean', 'White european', 'Mixed/British',\n",
       "       'British-Bangladeshi', 'British (white)', 'Indian ',\n",
       "       'White/British ', 'British Chinese', 'Chinese/White',\n",
       "       'White European (Latvian)', 'Mixed - Black and White',\n",
       "       'White European (non-British)', 'Indian',\n",
       "       'Mixed (White & Black Caribbean)', 'Continental European',\n",
       "       'white European', 'Mixed (SE Asian/white)',\n",
       "       'Bi-racial Asian and white', 'SEA & White', 'Black Caribbean',\n",
       "       'White - British', 'White, not British  ', 'White American ',\n",
       "       'White other', 'White non-British', 'Mixed - White and Asian',\n",
       "       'white British', 'White Birtish', 'White – English/American',\n",
       "       'Mixed - White & Black Caribbean', 'White /Irish', 'White Irish ',\n",
       "       'Mixed white & asian', 'White / British', 'British Insian',\n",
       "       'Mixed - white and Romany ', 'White / Irish ', 'White/ Irish',\n",
       "       'White, other', 'White (Non-British)', 'British',\n",
       "       'White, not British', 'caucasian ', 'White/ British', 'Other',\n",
       "       'British, white', 'white (non-british)', 'white, british',\n",
       "       'Mixed: White/Asian',\n",
       "       'White (not British, from an Western European EU country)',\n",
       "       'White + Christian', 'White / European', 'Mixed white/Asian',\n",
       "       'White britsh', 'White and Asian ', 'Mixed, non-white',\n",
       "       'White (North American)', 'White british ', 'British Pakistani',\n",
       "       'White/Scottish', 'White (Jewish)', 'Pakistani ',\n",
       "       'White / Anglo-Irish', 'mixed - non-white', 'White/Caucasian ',\n",
       "       'White Caucasian', 'Whote', 'White / British ', 'British/Irish',\n",
       "       'Mixed - White and Black Caribbean', '0', 'black caribbean',\n",
       "       'white/british', 'Mixed race (Black Caribbean/White)',\n",
       "       'Mixed Jewish Heritage', 'South East Asian', 'White, European',\n",
       "       'White Other ', 'White / Other'], dtype=object)"
      ]
     },
     "execution_count": 84,
     "metadata": {},
     "output_type": "execute_result"
    }
   ],
   "source": [
    "uk_pub['Race / Ethnicity'].unique()"
   ]
  },
  {
   "cell_type": "code",
   "execution_count": 92,
   "metadata": {},
   "outputs": [],
   "source": [
    "# Fill null values with mode\n",
    "uk_pub['Race / Ethnicity'].fillna(uk_pub['Race / Ethnicity'].mode()[0], inplace=True)"
   ]
  },
  {
   "cell_type": "code",
   "execution_count": 161,
   "metadata": {},
   "outputs": [],
   "source": [
    "# Correct values before applying function\n",
    "uk_pub.loc[uk_pub['Race / Ethnicity'] == 'Not white', 'Race / Ethnicity'] = 'Other'\n",
    "uk_pub.loc[uk_pub['Race / Ethnicity'] == 'Whote', 'Race / Ethnicity'] = 'White'\n",
    "uk_pub.loc[uk_pub['Race / Ethnicity'] == 'British Insian', 'Race / Ethnicity'] = 'British Indian'"
   ]
  },
  {
   "cell_type": "code",
   "execution_count": 148,
   "metadata": {},
   "outputs": [
    {
     "data": {
      "text/plain": [
       "32           Chinese\n",
       "77           Chinese\n",
       "252          Chinese\n",
       "462    Chinese/White\n",
       "492          Chinese\n",
       "616          Chinese\n",
       "653          Chinese\n",
       "734          Chinese\n",
       "Name: Race / Ethnicity, dtype: object"
      ]
     },
     "execution_count": 148,
     "metadata": {},
     "output_type": "execute_result"
    }
   ],
   "source": [
    "# Check for matches of specific races\n",
    "uk_pub[uk_pub['Race / Ethnicity'].str.match('Chinese')]['Race / Ethnicity']"
   ]
  },
  {
   "cell_type": "code",
   "execution_count": 165,
   "metadata": {},
   "outputs": [],
   "source": [
    "# Function for simplifying race\n",
    "def simplify_race(x):\n",
    "    if 'mixed' in x.lower():\n",
    "        return 'Mixed'\n",
    "    elif 'black' in x.lower() or 'bame' in x.lower():\n",
    "        return 'Black'\n",
    "    elif 'asian' in x.lower() or 'chinese' in x.lower() or 'indian' in x.lower() or \\\n",
    "                                 'pakistani' in x.lower() or 'bangladeshi' in x.lower():\n",
    "        return 'Asian'\n",
    "    elif 'white' in x.lower():\n",
    "        return 'White'\n",
    "    else:\n",
    "        return 'Other'"
   ]
  },
  {
   "cell_type": "code",
   "execution_count": 169,
   "metadata": {},
   "outputs": [],
   "source": [
    "uk_pub['Race / Ethnicity'] = uk_pub['Race / Ethnicity'].apply(simplify_race)"
   ]
  },
  {
   "cell_type": "code",
   "execution_count": 170,
   "metadata": {},
   "outputs": [
    {
     "data": {
      "text/plain": [
       "5"
      ]
     },
     "execution_count": 170,
     "metadata": {},
     "output_type": "execute_result"
    }
   ],
   "source": [
    "uk_pub['Race / Ethnicity'].nunique()"
   ]
  },
  {
   "cell_type": "code",
   "execution_count": 171,
   "metadata": {},
   "outputs": [
    {
     "data": {
      "text/html": [
       "<div>\n",
       "<style scoped>\n",
       "    .dataframe tbody tr th:only-of-type {\n",
       "        vertical-align: middle;\n",
       "    }\n",
       "\n",
       "    .dataframe tbody tr th {\n",
       "        vertical-align: top;\n",
       "    }\n",
       "\n",
       "    .dataframe thead th {\n",
       "        text-align: right;\n",
       "    }\n",
       "</style>\n",
       "<table border=\"1\" class=\"dataframe\">\n",
       "  <thead>\n",
       "    <tr style=\"text-align: right;\">\n",
       "      <th></th>\n",
       "      <th>Salary</th>\n",
       "      <th>Employment Status</th>\n",
       "      <th>Race / Ethnicity</th>\n",
       "      <th>Gender Identity</th>\n",
       "      <th>Sexual Orientation</th>\n",
       "      <th>Years in Publishing</th>\n",
       "      <th>Years of Overall Experience</th>\n",
       "    </tr>\n",
       "  </thead>\n",
       "  <tbody>\n",
       "    <tr>\n",
       "      <th>0</th>\n",
       "      <td>£36k</td>\n",
       "      <td>Full-time</td>\n",
       "      <td>White</td>\n",
       "      <td>Woman</td>\n",
       "      <td>Straight</td>\n",
       "      <td>3.0</td>\n",
       "      <td>9.0</td>\n",
       "    </tr>\n",
       "    <tr>\n",
       "      <th>1</th>\n",
       "      <td>23,000 per annum</td>\n",
       "      <td>Full-time</td>\n",
       "      <td>Black</td>\n",
       "      <td>Woman</td>\n",
       "      <td>LGBTQ</td>\n",
       "      <td>2.0</td>\n",
       "      <td>2.0</td>\n",
       "    </tr>\n",
       "    <tr>\n",
       "      <th>2</th>\n",
       "      <td>£23,000</td>\n",
       "      <td>Full-time</td>\n",
       "      <td>Asian</td>\n",
       "      <td>Woman</td>\n",
       "      <td>Straight</td>\n",
       "      <td>1.0</td>\n",
       "      <td>4.0</td>\n",
       "    </tr>\n",
       "    <tr>\n",
       "      <th>3</th>\n",
       "      <td>£28,000</td>\n",
       "      <td>Full-time</td>\n",
       "      <td>White</td>\n",
       "      <td>Woman</td>\n",
       "      <td>LGBTQ</td>\n",
       "      <td>3.0</td>\n",
       "      <td>6.0</td>\n",
       "    </tr>\n",
       "    <tr>\n",
       "      <th>4</th>\n",
       "      <td>£115 per day</td>\n",
       "      <td>Contract</td>\n",
       "      <td>Asian</td>\n",
       "      <td>Woman</td>\n",
       "      <td>Straight</td>\n",
       "      <td>7.0</td>\n",
       "      <td>10.0</td>\n",
       "    </tr>\n",
       "  </tbody>\n",
       "</table>\n",
       "</div>"
      ],
      "text/plain": [
       "             Salary Employment Status Race / Ethnicity Gender Identity  \\\n",
       "0              £36k         Full-time            White           Woman   \n",
       "1  23,000 per annum         Full-time            Black           Woman   \n",
       "2           £23,000         Full-time            Asian           Woman   \n",
       "3           £28,000         Full-time            White           Woman   \n",
       "4     £115 per day           Contract            Asian           Woman   \n",
       "\n",
       "  Sexual Orientation  Years in Publishing  Years of Overall Experience  \n",
       "0           Straight                  3.0                          9.0  \n",
       "1              LGBTQ                  2.0                          2.0  \n",
       "2           Straight                  1.0                          4.0  \n",
       "3              LGBTQ                  3.0                          6.0  \n",
       "4           Straight                  7.0                         10.0  "
      ]
     },
     "execution_count": 171,
     "metadata": {},
     "output_type": "execute_result"
    }
   ],
   "source": [
    "uk_pub.head()"
   ]
  },
  {
   "cell_type": "code",
   "execution_count": null,
   "metadata": {},
   "outputs": [],
   "source": []
  },
  {
   "cell_type": "code",
   "execution_count": null,
   "metadata": {},
   "outputs": [],
   "source": []
  },
  {
   "cell_type": "code",
   "execution_count": null,
   "metadata": {},
   "outputs": [],
   "source": []
  },
  {
   "cell_type": "markdown",
   "metadata": {},
   "source": [
    "#### Employment Status Column"
   ]
  },
  {
   "cell_type": "code",
   "execution_count": 178,
   "metadata": {
    "scrolled": false
   },
   "outputs": [
    {
     "data": {
      "text/plain": [
       "array(['Full-time', 'Contract', 'Part-time', 'Other'], dtype=object)"
      ]
     },
     "execution_count": 178,
     "metadata": {},
     "output_type": "execute_result"
    }
   ],
   "source": [
    "uk_pub['Employment Status'].unique()"
   ]
  },
  {
   "cell_type": "code",
   "execution_count": 173,
   "metadata": {},
   "outputs": [],
   "source": [
    "# Function for simplifying employment status\n",
    "def simplify_employment_status(x):\n",
    "    if 'part-time' in x.lower():\n",
    "        return 'Part-time'\n",
    "    elif 'full-time' in x.lower():\n",
    "        return 'Full-time'\n",
    "    elif 'contract' in x.lower():\n",
    "        return 'Contract'\n",
    "    else:\n",
    "        return 'Other'"
   ]
  },
  {
   "cell_type": "code",
   "execution_count": 176,
   "metadata": {},
   "outputs": [],
   "source": [
    "uk_pub['Employment Status'] = uk_pub['Employment Status'].apply(simplify_employment_status)"
   ]
  },
  {
   "cell_type": "code",
   "execution_count": null,
   "metadata": {},
   "outputs": [],
   "source": []
  },
  {
   "cell_type": "code",
   "execution_count": null,
   "metadata": {},
   "outputs": [],
   "source": []
  },
  {
   "cell_type": "code",
   "execution_count": null,
   "metadata": {},
   "outputs": [],
   "source": []
  },
  {
   "cell_type": "code",
   "execution_count": null,
   "metadata": {},
   "outputs": [],
   "source": []
  },
  {
   "cell_type": "code",
   "execution_count": null,
   "metadata": {},
   "outputs": [],
   "source": []
  },
  {
   "cell_type": "markdown",
   "metadata": {},
   "source": [
    "#### Salary Column"
   ]
  },
  {
   "cell_type": "code",
   "execution_count": null,
   "metadata": {},
   "outputs": [],
   "source": []
  },
  {
   "cell_type": "code",
   "execution_count": null,
   "metadata": {},
   "outputs": [],
   "source": []
  },
  {
   "cell_type": "code",
   "execution_count": null,
   "metadata": {},
   "outputs": [],
   "source": []
  },
  {
   "cell_type": "code",
   "execution_count": null,
   "metadata": {},
   "outputs": [],
   "source": []
  },
  {
   "cell_type": "code",
   "execution_count": null,
   "metadata": {},
   "outputs": [],
   "source": []
  },
  {
   "cell_type": "code",
   "execution_count": null,
   "metadata": {},
   "outputs": [],
   "source": []
  },
  {
   "cell_type": "code",
   "execution_count": null,
   "metadata": {},
   "outputs": [],
   "source": []
  },
  {
   "cell_type": "code",
   "execution_count": null,
   "metadata": {},
   "outputs": [],
   "source": []
  }
 ],
 "metadata": {
  "kernelspec": {
   "display_name": "Python 3",
   "language": "python",
   "name": "python3"
  },
  "language_info": {
   "codemirror_mode": {
    "name": "ipython",
    "version": 3
   },
   "file_extension": ".py",
   "mimetype": "text/x-python",
   "name": "python",
   "nbconvert_exporter": "python",
   "pygments_lexer": "ipython3",
   "version": "3.8.5"
  }
 },
 "nbformat": 4,
 "nbformat_minor": 4
}
